{
 "cells": [
  {
   "cell_type": "markdown",
   "id": "d4ce1117",
   "metadata": {},
   "source": [
    "# Сборный проект 2"
   ]
  },
  {
   "cell_type": "markdown",
   "id": "5b898d0d",
   "metadata": {},
   "source": [
    "**Заказчик** этого исследования — компания «Работа с заботой».<br><br>\n",
    "**Цель проекта:**\n",
    "- построить модель, которая сможет предсказать уровень удовлетворённости сотрудника. \n",
    "- построить модель, которая сможет на основе данных заказчика предсказать то, что сотрудник уволится из компании. "
   ]
  },
  {
   "cell_type": "markdown",
   "id": "b088370a",
   "metadata": {},
   "source": [
    "**Описание данных:**<br>\n",
    "для первой модели данные содержат информацию: характеристики сотрудника и уровень удовлетворенности работой.\n",
    "Данные содержатся в 3 csv-файлах: train_job_satisfaction_rate, test_features, test_target_job_satisfaction_rate.<br>\n",
    "Для второй модели присутствует также признак - увольнение сотрудника.\n",
    "Данные содержатся в 3 csv-файлах: train_quit, test_features, test_target_quit.<br>"
   ]
  },
  {
   "cell_type": "markdown",
   "id": "d739f4cb",
   "metadata": {},
   "source": [
    "**План работ:**<br>\n",
    "- загрузить данные\n",
    "- предобработать данные: преобразовать типы, заполнить пропуски, обработать дубликаты.\n",
    "- исследовать общую информацию.\n",
    "- объединить данные и визуализировать информацию.\n",
    "- провести корреляционный анализ.\n",
    "- выбрать лучшую модель предсказания уровня удовлетворенности сотрудника.\n",
    "- добавить предсказанной значение уровня удовлетворенности сотрудника в данные второй задачи.\n",
    "- выбрать лучшую модель, предсказывающую, уволится ли сотрудник."
   ]
  },
  {
   "cell_type": "markdown",
   "id": "3ebe4074",
   "metadata": {},
   "source": [
    "## Предсказание уровня удовлетворённости сотрудника"
   ]
  },
  {
   "cell_type": "code",
   "execution_count": 1,
   "id": "9722b585",
   "metadata": {},
   "outputs": [],
   "source": [
    "!pip install phik -q\n",
    "!pip install shap -q"
   ]
  },
  {
   "cell_type": "code",
   "execution_count": 2,
   "id": "b12e8b61",
   "metadata": {},
   "outputs": [],
   "source": [
    "#импорт библиотек\n",
    "import pandas as pd\n",
    "import matplotlib.pyplot as plt\n",
    "import numpy as np\n",
    "from IPython.display import display\n",
    "import seaborn as sns\n",
    "import phik\n",
    "\n",
    "# загружаем класс pipeline\n",
    "from sklearn.pipeline import Pipeline\n",
    "\n",
    "# загружаем классы для подготовки данных\n",
    "from sklearn.preprocessing import OneHotEncoder, OrdinalEncoder, StandardScaler, MinMaxScaler, RobustScaler, LabelEncoder\n",
    "from sklearn.compose import ColumnTransformer\n",
    "\n",
    "# загружаем класс для работы с пропусками\n",
    "from sklearn.impute import SimpleImputer\n",
    "\n",
    "# загружаем функцию для работы с метриками\n",
    "from sklearn.metrics import make_scorer, roc_auc_score\n",
    "\n",
    "# импортируем класс RandomizedSearchCV\n",
    "from sklearn.model_selection import RandomizedSearchCV\n",
    "\n",
    "# загружаем нужные модели\n",
    "from sklearn.linear_model import LinearRegression, LogisticRegression\n",
    "#from sklearn.tree import DecisionTreeRegressor\n",
    "\n",
    "from sklearn.neighbors import KNeighborsClassifier\n",
    "from sklearn.svm import SVC\n",
    "\n",
    "from warnings import simplefilter\n",
    "\n",
    "import shap\n",
    "\n",
    "from scipy import stats as st"
   ]
  },
  {
   "cell_type": "code",
   "execution_count": 3,
   "id": "28978a25",
   "metadata": {},
   "outputs": [
    {
     "name": "stdout",
     "output_type": "stream",
     "text": [
      "Requirement already satisfied: scikit-learn==0.24.1 in /opt/conda/lib/python3.9/site-packages (0.24.1)\n",
      "Requirement already satisfied: numpy>=1.13.3 in /opt/conda/lib/python3.9/site-packages (from scikit-learn==0.24.1) (1.21.1)\n",
      "Requirement already satisfied: joblib>=0.11 in /opt/conda/lib/python3.9/site-packages (from scikit-learn==0.24.1) (1.1.0)\n",
      "Requirement already satisfied: threadpoolctl>=2.0.0 in /opt/conda/lib/python3.9/site-packages (from scikit-learn==0.24.1) (3.1.0)\n",
      "Requirement already satisfied: scipy>=0.19.1 in /opt/conda/lib/python3.9/site-packages (from scikit-learn==0.24.1) (1.9.1)\n"
     ]
    }
   ],
   "source": [
    "#!pip uninstall scikit-learn\n",
    "!pip install scikit-learn==0.24.1"
   ]
  },
  {
   "cell_type": "code",
   "execution_count": 4,
   "id": "78841278",
   "metadata": {},
   "outputs": [],
   "source": [
    "from sklearn.tree import DecisionTreeRegressor, DecisionTreeClassifier"
   ]
  },
  {
   "cell_type": "code",
   "execution_count": 5,
   "id": "cd979468",
   "metadata": {},
   "outputs": [
    {
     "name": "stdout",
     "output_type": "stream",
     "text": [
      "0.24.1\n"
     ]
    }
   ],
   "source": [
    "import sklearn\n",
    "print(sklearn.__version__)"
   ]
  },
  {
   "cell_type": "code",
   "execution_count": 6,
   "id": "b2d9d649",
   "metadata": {},
   "outputs": [],
   "source": [
    "pd.set_option('chained_assignment', None)\n",
    "\n",
    "# ignore all future warnings\n",
    "simplefilter(action='ignore', category=FutureWarning)"
   ]
  },
  {
   "cell_type": "markdown",
   "id": "907ab37d",
   "metadata": {},
   "source": [
    "### Загрузка данных"
   ]
  },
  {
   "cell_type": "code",
   "execution_count": 7,
   "id": "078d2999",
   "metadata": {},
   "outputs": [],
   "source": [
    "try:\n",
    "    train_job_satisfaction_rate = pd.read_csv('/datasets/train_job_satisfaction_rate.csv')\n",
    "    test_features = pd.read_csv('/datasets/test_features.csv')\n",
    "    test_target_job_satisfaction_rate = pd.read_csv('/datasets/test_target_job_satisfaction_rate.csv')\n",
    "except FileNotFoundError:\n",
    "    print('Файл не найден. Необходимо проверить путь к файлу')\n",
    "except Exception:\n",
    "    print('Файл не загрузился')"
   ]
  },
  {
   "cell_type": "code",
   "execution_count": 8,
   "id": "c1d4aae7",
   "metadata": {},
   "outputs": [
    {
     "data": {
      "text/html": [
       "<div>\n",
       "<style scoped>\n",
       "    .dataframe tbody tr th:only-of-type {\n",
       "        vertical-align: middle;\n",
       "    }\n",
       "\n",
       "    .dataframe tbody tr th {\n",
       "        vertical-align: top;\n",
       "    }\n",
       "\n",
       "    .dataframe thead th {\n",
       "        text-align: right;\n",
       "    }\n",
       "</style>\n",
       "<table border=\"1\" class=\"dataframe\">\n",
       "  <thead>\n",
       "    <tr style=\"text-align: right;\">\n",
       "      <th></th>\n",
       "      <th>id</th>\n",
       "      <th>dept</th>\n",
       "      <th>level</th>\n",
       "      <th>workload</th>\n",
       "      <th>employment_years</th>\n",
       "      <th>last_year_promo</th>\n",
       "      <th>last_year_violations</th>\n",
       "      <th>supervisor_evaluation</th>\n",
       "      <th>salary</th>\n",
       "      <th>job_satisfaction_rate</th>\n",
       "    </tr>\n",
       "  </thead>\n",
       "  <tbody>\n",
       "    <tr>\n",
       "      <th>0</th>\n",
       "      <td>155278</td>\n",
       "      <td>sales</td>\n",
       "      <td>junior</td>\n",
       "      <td>medium</td>\n",
       "      <td>2</td>\n",
       "      <td>no</td>\n",
       "      <td>no</td>\n",
       "      <td>1</td>\n",
       "      <td>24000</td>\n",
       "      <td>0.58</td>\n",
       "    </tr>\n",
       "    <tr>\n",
       "      <th>1</th>\n",
       "      <td>653870</td>\n",
       "      <td>hr</td>\n",
       "      <td>junior</td>\n",
       "      <td>high</td>\n",
       "      <td>2</td>\n",
       "      <td>no</td>\n",
       "      <td>no</td>\n",
       "      <td>5</td>\n",
       "      <td>38400</td>\n",
       "      <td>0.76</td>\n",
       "    </tr>\n",
       "    <tr>\n",
       "      <th>2</th>\n",
       "      <td>184592</td>\n",
       "      <td>sales</td>\n",
       "      <td>junior</td>\n",
       "      <td>low</td>\n",
       "      <td>1</td>\n",
       "      <td>no</td>\n",
       "      <td>no</td>\n",
       "      <td>2</td>\n",
       "      <td>12000</td>\n",
       "      <td>0.11</td>\n",
       "    </tr>\n",
       "    <tr>\n",
       "      <th>3</th>\n",
       "      <td>171431</td>\n",
       "      <td>technology</td>\n",
       "      <td>junior</td>\n",
       "      <td>low</td>\n",
       "      <td>4</td>\n",
       "      <td>no</td>\n",
       "      <td>no</td>\n",
       "      <td>2</td>\n",
       "      <td>18000</td>\n",
       "      <td>0.37</td>\n",
       "    </tr>\n",
       "    <tr>\n",
       "      <th>4</th>\n",
       "      <td>693419</td>\n",
       "      <td>hr</td>\n",
       "      <td>junior</td>\n",
       "      <td>medium</td>\n",
       "      <td>1</td>\n",
       "      <td>no</td>\n",
       "      <td>no</td>\n",
       "      <td>3</td>\n",
       "      <td>22800</td>\n",
       "      <td>0.20</td>\n",
       "    </tr>\n",
       "  </tbody>\n",
       "</table>\n",
       "</div>"
      ],
      "text/plain": [
       "       id        dept   level workload  employment_years last_year_promo  \\\n",
       "0  155278       sales  junior   medium                 2              no   \n",
       "1  653870          hr  junior     high                 2              no   \n",
       "2  184592       sales  junior      low                 1              no   \n",
       "3  171431  technology  junior      low                 4              no   \n",
       "4  693419          hr  junior   medium                 1              no   \n",
       "\n",
       "  last_year_violations  supervisor_evaluation  salary  job_satisfaction_rate  \n",
       "0                   no                      1   24000                   0.58  \n",
       "1                   no                      5   38400                   0.76  \n",
       "2                   no                      2   12000                   0.11  \n",
       "3                   no                      2   18000                   0.37  \n",
       "4                   no                      3   22800                   0.20  "
      ]
     },
     "execution_count": 8,
     "metadata": {},
     "output_type": "execute_result"
    }
   ],
   "source": [
    "train_job_satisfaction_rate.head()"
   ]
  },
  {
   "cell_type": "code",
   "execution_count": 9,
   "id": "f8d1adda",
   "metadata": {},
   "outputs": [
    {
     "name": "stdout",
     "output_type": "stream",
     "text": [
      "<class 'pandas.core.frame.DataFrame'>\n",
      "RangeIndex: 4000 entries, 0 to 3999\n",
      "Data columns (total 10 columns):\n",
      " #   Column                 Non-Null Count  Dtype  \n",
      "---  ------                 --------------  -----  \n",
      " 0   id                     4000 non-null   int64  \n",
      " 1   dept                   3994 non-null   object \n",
      " 2   level                  3996 non-null   object \n",
      " 3   workload               4000 non-null   object \n",
      " 4   employment_years       4000 non-null   int64  \n",
      " 5   last_year_promo        4000 non-null   object \n",
      " 6   last_year_violations   4000 non-null   object \n",
      " 7   supervisor_evaluation  4000 non-null   int64  \n",
      " 8   salary                 4000 non-null   int64  \n",
      " 9   job_satisfaction_rate  4000 non-null   float64\n",
      "dtypes: float64(1), int64(4), object(5)\n",
      "memory usage: 312.6+ KB\n"
     ]
    }
   ],
   "source": [
    "train_job_satisfaction_rate.info()"
   ]
  },
  {
   "cell_type": "code",
   "execution_count": 10,
   "id": "87e01a71",
   "metadata": {},
   "outputs": [
    {
     "data": {
      "text/html": [
       "<div>\n",
       "<style scoped>\n",
       "    .dataframe tbody tr th:only-of-type {\n",
       "        vertical-align: middle;\n",
       "    }\n",
       "\n",
       "    .dataframe tbody tr th {\n",
       "        vertical-align: top;\n",
       "    }\n",
       "\n",
       "    .dataframe thead th {\n",
       "        text-align: right;\n",
       "    }\n",
       "</style>\n",
       "<table border=\"1\" class=\"dataframe\">\n",
       "  <thead>\n",
       "    <tr style=\"text-align: right;\">\n",
       "      <th></th>\n",
       "      <th>id</th>\n",
       "      <th>dept</th>\n",
       "      <th>level</th>\n",
       "      <th>workload</th>\n",
       "      <th>employment_years</th>\n",
       "      <th>last_year_promo</th>\n",
       "      <th>last_year_violations</th>\n",
       "      <th>supervisor_evaluation</th>\n",
       "      <th>salary</th>\n",
       "    </tr>\n",
       "  </thead>\n",
       "  <tbody>\n",
       "    <tr>\n",
       "      <th>0</th>\n",
       "      <td>485046</td>\n",
       "      <td>marketing</td>\n",
       "      <td>junior</td>\n",
       "      <td>medium</td>\n",
       "      <td>2</td>\n",
       "      <td>no</td>\n",
       "      <td>no</td>\n",
       "      <td>5</td>\n",
       "      <td>28800</td>\n",
       "    </tr>\n",
       "    <tr>\n",
       "      <th>1</th>\n",
       "      <td>686555</td>\n",
       "      <td>hr</td>\n",
       "      <td>junior</td>\n",
       "      <td>medium</td>\n",
       "      <td>1</td>\n",
       "      <td>no</td>\n",
       "      <td>no</td>\n",
       "      <td>4</td>\n",
       "      <td>30000</td>\n",
       "    </tr>\n",
       "    <tr>\n",
       "      <th>2</th>\n",
       "      <td>467458</td>\n",
       "      <td>sales</td>\n",
       "      <td>middle</td>\n",
       "      <td>low</td>\n",
       "      <td>5</td>\n",
       "      <td>no</td>\n",
       "      <td>no</td>\n",
       "      <td>4</td>\n",
       "      <td>19200</td>\n",
       "    </tr>\n",
       "    <tr>\n",
       "      <th>3</th>\n",
       "      <td>418655</td>\n",
       "      <td>sales</td>\n",
       "      <td>middle</td>\n",
       "      <td>low</td>\n",
       "      <td>6</td>\n",
       "      <td>no</td>\n",
       "      <td>no</td>\n",
       "      <td>4</td>\n",
       "      <td>19200</td>\n",
       "    </tr>\n",
       "    <tr>\n",
       "      <th>4</th>\n",
       "      <td>789145</td>\n",
       "      <td>hr</td>\n",
       "      <td>middle</td>\n",
       "      <td>medium</td>\n",
       "      <td>5</td>\n",
       "      <td>no</td>\n",
       "      <td>no</td>\n",
       "      <td>5</td>\n",
       "      <td>40800</td>\n",
       "    </tr>\n",
       "  </tbody>\n",
       "</table>\n",
       "</div>"
      ],
      "text/plain": [
       "       id       dept   level workload  employment_years last_year_promo  \\\n",
       "0  485046  marketing  junior   medium                 2              no   \n",
       "1  686555         hr  junior   medium                 1              no   \n",
       "2  467458      sales  middle      low                 5              no   \n",
       "3  418655      sales  middle      low                 6              no   \n",
       "4  789145         hr  middle   medium                 5              no   \n",
       "\n",
       "  last_year_violations  supervisor_evaluation  salary  \n",
       "0                   no                      5   28800  \n",
       "1                   no                      4   30000  \n",
       "2                   no                      4   19200  \n",
       "3                   no                      4   19200  \n",
       "4                   no                      5   40800  "
      ]
     },
     "execution_count": 10,
     "metadata": {},
     "output_type": "execute_result"
    }
   ],
   "source": [
    "test_features.head()"
   ]
  },
  {
   "cell_type": "code",
   "execution_count": 11,
   "id": "5009295d",
   "metadata": {},
   "outputs": [
    {
     "name": "stdout",
     "output_type": "stream",
     "text": [
      "<class 'pandas.core.frame.DataFrame'>\n",
      "RangeIndex: 2000 entries, 0 to 1999\n",
      "Data columns (total 9 columns):\n",
      " #   Column                 Non-Null Count  Dtype \n",
      "---  ------                 --------------  ----- \n",
      " 0   id                     2000 non-null   int64 \n",
      " 1   dept                   1998 non-null   object\n",
      " 2   level                  1999 non-null   object\n",
      " 3   workload               2000 non-null   object\n",
      " 4   employment_years       2000 non-null   int64 \n",
      " 5   last_year_promo        2000 non-null   object\n",
      " 6   last_year_violations   2000 non-null   object\n",
      " 7   supervisor_evaluation  2000 non-null   int64 \n",
      " 8   salary                 2000 non-null   int64 \n",
      "dtypes: int64(4), object(5)\n",
      "memory usage: 140.8+ KB\n"
     ]
    }
   ],
   "source": [
    "test_features.info()"
   ]
  },
  {
   "cell_type": "code",
   "execution_count": 12,
   "id": "270aea65",
   "metadata": {},
   "outputs": [
    {
     "data": {
      "text/html": [
       "<div>\n",
       "<style scoped>\n",
       "    .dataframe tbody tr th:only-of-type {\n",
       "        vertical-align: middle;\n",
       "    }\n",
       "\n",
       "    .dataframe tbody tr th {\n",
       "        vertical-align: top;\n",
       "    }\n",
       "\n",
       "    .dataframe thead th {\n",
       "        text-align: right;\n",
       "    }\n",
       "</style>\n",
       "<table border=\"1\" class=\"dataframe\">\n",
       "  <thead>\n",
       "    <tr style=\"text-align: right;\">\n",
       "      <th></th>\n",
       "      <th>id</th>\n",
       "      <th>job_satisfaction_rate</th>\n",
       "    </tr>\n",
       "  </thead>\n",
       "  <tbody>\n",
       "    <tr>\n",
       "      <th>0</th>\n",
       "      <td>130604</td>\n",
       "      <td>0.74</td>\n",
       "    </tr>\n",
       "    <tr>\n",
       "      <th>1</th>\n",
       "      <td>825977</td>\n",
       "      <td>0.75</td>\n",
       "    </tr>\n",
       "    <tr>\n",
       "      <th>2</th>\n",
       "      <td>418490</td>\n",
       "      <td>0.60</td>\n",
       "    </tr>\n",
       "    <tr>\n",
       "      <th>3</th>\n",
       "      <td>555320</td>\n",
       "      <td>0.72</td>\n",
       "    </tr>\n",
       "    <tr>\n",
       "      <th>4</th>\n",
       "      <td>826430</td>\n",
       "      <td>0.08</td>\n",
       "    </tr>\n",
       "  </tbody>\n",
       "</table>\n",
       "</div>"
      ],
      "text/plain": [
       "       id  job_satisfaction_rate\n",
       "0  130604                   0.74\n",
       "1  825977                   0.75\n",
       "2  418490                   0.60\n",
       "3  555320                   0.72\n",
       "4  826430                   0.08"
      ]
     },
     "execution_count": 12,
     "metadata": {},
     "output_type": "execute_result"
    }
   ],
   "source": [
    "test_target_job_satisfaction_rate.head()"
   ]
  },
  {
   "cell_type": "code",
   "execution_count": 13,
   "id": "f06b0836",
   "metadata": {},
   "outputs": [
    {
     "name": "stdout",
     "output_type": "stream",
     "text": [
      "<class 'pandas.core.frame.DataFrame'>\n",
      "RangeIndex: 2000 entries, 0 to 1999\n",
      "Data columns (total 2 columns):\n",
      " #   Column                 Non-Null Count  Dtype  \n",
      "---  ------                 --------------  -----  \n",
      " 0   id                     2000 non-null   int64  \n",
      " 1   job_satisfaction_rate  2000 non-null   float64\n",
      "dtypes: float64(1), int64(1)\n",
      "memory usage: 31.4 KB\n"
     ]
    }
   ],
   "source": [
    "test_target_job_satisfaction_rate.info()"
   ]
  },
  {
   "cell_type": "markdown",
   "id": "ef33a078",
   "metadata": {},
   "source": [
    "Загрузили данные из трех источников.<br>\n",
    "В таблице **train_job_satisfaction_rate** 4000 строк, есть несколько пропусков в столбцах dept и level. Типы данных соответствуют. Таблица содержит тренировочную выборку - характеристики сотрудников компании. <br>\n",
    "В таблице **test_features** 2000 строк, есть несколько пропусков в столбцах dept и level, типы данных соответствуют. Она хранит входные признаки тестовой выборки.<br>\n",
    "В таблице **test_target_job_satisfaction_rate** 2000 строк, пропусков нет, типы данных соответствуют. Таблица хранит целевой признак тестовой выборки.<br>\n",
    "<br>\n",
    "Данные в таблицах соответсвуют описанию."
   ]
  },
  {
   "cell_type": "markdown",
   "id": "bae7477d",
   "metadata": {},
   "source": [
    "### Предобработка данных"
   ]
  },
  {
   "cell_type": "markdown",
   "id": "a5ebd9b0",
   "metadata": {},
   "source": [
    "**Исследование таблицы train_job_satisfaction_rate**"
   ]
  },
  {
   "cell_type": "code",
   "execution_count": 14,
   "id": "8a466332",
   "metadata": {},
   "outputs": [
    {
     "data": {
      "text/plain": [
       "id                       0\n",
       "dept                     6\n",
       "level                    4\n",
       "workload                 0\n",
       "employment_years         0\n",
       "last_year_promo          0\n",
       "last_year_violations     0\n",
       "supervisor_evaluation    0\n",
       "salary                   0\n",
       "job_satisfaction_rate    0\n",
       "dtype: int64"
      ]
     },
     "execution_count": 14,
     "metadata": {},
     "output_type": "execute_result"
    }
   ],
   "source": [
    "#Проверка на пропуски в данных\n",
    "train_job_satisfaction_rate.isna().sum()"
   ]
  },
  {
   "cell_type": "code",
   "execution_count": 15,
   "id": "5e73c8a9",
   "metadata": {},
   "outputs": [
    {
     "data": {
      "text/plain": [
       "0"
      ]
     },
     "execution_count": 15,
     "metadata": {},
     "output_type": "execute_result"
    }
   ],
   "source": [
    "# проверка на явные дубликаты\n",
    "train_job_satisfaction_rate.duplicated().sum()"
   ]
  },
  {
   "cell_type": "markdown",
   "id": "bda440ee",
   "metadata": {},
   "source": [
    "Есть 6 пропусков в столбце dept, 4 пропуска в столбце level. Явных дубликатов нет.<br>\n",
    "Проверим неявные дубликаты."
   ]
  },
  {
   "cell_type": "code",
   "execution_count": 16,
   "id": "079a918e",
   "metadata": {},
   "outputs": [
    {
     "data": {
      "text/plain": [
       "0"
      ]
     },
     "execution_count": 16,
     "metadata": {},
     "output_type": "execute_result"
    }
   ],
   "source": [
    "train_job_satisfaction_rate['id'].duplicated().sum()"
   ]
  },
  {
   "cell_type": "code",
   "execution_count": 17,
   "id": "508e7b14",
   "metadata": {},
   "outputs": [
    {
     "data": {
      "text/plain": [
       "sales         1512\n",
       "technology     866\n",
       "purchasing     610\n",
       "marketing      550\n",
       "hr             456\n",
       "Name: dept, dtype: int64"
      ]
     },
     "execution_count": 17,
     "metadata": {},
     "output_type": "execute_result"
    }
   ],
   "source": [
    "train_job_satisfaction_rate['dept'].value_counts()"
   ]
  },
  {
   "cell_type": "code",
   "execution_count": 18,
   "id": "77ecb8d0",
   "metadata": {},
   "outputs": [
    {
     "data": {
      "text/plain": [
       "junior    1894\n",
       "middle    1744\n",
       "sinior     358\n",
       "Name: level, dtype: int64"
      ]
     },
     "execution_count": 18,
     "metadata": {},
     "output_type": "execute_result"
    }
   ],
   "source": [
    "train_job_satisfaction_rate['level'].value_counts()"
   ]
  },
  {
   "cell_type": "code",
   "execution_count": 19,
   "id": "54fd2a7b",
   "metadata": {},
   "outputs": [
    {
     "data": {
      "text/plain": [
       "medium    2066\n",
       "low       1200\n",
       "high       734\n",
       "Name: workload, dtype: int64"
      ]
     },
     "execution_count": 19,
     "metadata": {},
     "output_type": "execute_result"
    }
   ],
   "source": [
    "train_job_satisfaction_rate['workload'].value_counts()"
   ]
  },
  {
   "cell_type": "code",
   "execution_count": 20,
   "id": "16b10b0e",
   "metadata": {},
   "outputs": [
    {
     "data": {
      "text/plain": [
       "no     3880\n",
       "yes     120\n",
       "Name: last_year_promo, dtype: int64"
      ]
     },
     "execution_count": 20,
     "metadata": {},
     "output_type": "execute_result"
    }
   ],
   "source": [
    "train_job_satisfaction_rate['last_year_promo'].value_counts()"
   ]
  },
  {
   "cell_type": "code",
   "execution_count": 21,
   "id": "5504b56d",
   "metadata": {},
   "outputs": [
    {
     "data": {
      "text/plain": [
       "no     3441\n",
       "yes     559\n",
       "Name: last_year_violations, dtype: int64"
      ]
     },
     "execution_count": 21,
     "metadata": {},
     "output_type": "execute_result"
    }
   ],
   "source": [
    "train_job_satisfaction_rate['last_year_violations'].value_counts()"
   ]
  },
  {
   "cell_type": "markdown",
   "id": "87e098ca",
   "metadata": {},
   "source": [
    "Неявных дубликатов в таблице train_job_satisfaction_rate тоже не обнаружено."
   ]
  },
  {
   "cell_type": "markdown",
   "id": "622909a7",
   "metadata": {},
   "source": [
    "**Исследование таблицы test_features**"
   ]
  },
  {
   "cell_type": "code",
   "execution_count": 22,
   "id": "f2bbb7b4",
   "metadata": {},
   "outputs": [
    {
     "data": {
      "text/plain": [
       "id                       0\n",
       "dept                     2\n",
       "level                    1\n",
       "workload                 0\n",
       "employment_years         0\n",
       "last_year_promo          0\n",
       "last_year_violations     0\n",
       "supervisor_evaluation    0\n",
       "salary                   0\n",
       "dtype: int64"
      ]
     },
     "execution_count": 22,
     "metadata": {},
     "output_type": "execute_result"
    }
   ],
   "source": [
    "#Проверка на пропуски в данных\n",
    "test_features.isna().sum()"
   ]
  },
  {
   "cell_type": "markdown",
   "id": "25853963",
   "metadata": {},
   "source": [
    "Есть 2 пропуска в столбце dept и 1 в столбце level."
   ]
  },
  {
   "cell_type": "code",
   "execution_count": 23,
   "id": "f9c7bd51",
   "metadata": {},
   "outputs": [
    {
     "data": {
      "text/plain": [
       "0"
      ]
     },
     "execution_count": 23,
     "metadata": {},
     "output_type": "execute_result"
    }
   ],
   "source": [
    "# проверка на явные дубликаты\n",
    "test_features.duplicated().sum()"
   ]
  },
  {
   "cell_type": "markdown",
   "id": "b8b26ccf",
   "metadata": {},
   "source": [
    "Явных дубликатов нет. Проверим на неявные дубликаты."
   ]
  },
  {
   "cell_type": "code",
   "execution_count": 24,
   "id": "265f5207",
   "metadata": {},
   "outputs": [
    {
     "data": {
      "text/plain": [
       "0"
      ]
     },
     "execution_count": 24,
     "metadata": {},
     "output_type": "execute_result"
    }
   ],
   "source": [
    "test_features['id'].duplicated().sum()"
   ]
  },
  {
   "cell_type": "code",
   "execution_count": 25,
   "id": "365d4b1d",
   "metadata": {},
   "outputs": [
    {
     "data": {
      "text/plain": [
       "sales         763\n",
       "technology    455\n",
       "marketing     279\n",
       "purchasing    273\n",
       "hr            227\n",
       "                1\n",
       "Name: dept, dtype: int64"
      ]
     },
     "execution_count": 25,
     "metadata": {},
     "output_type": "execute_result"
    }
   ],
   "source": [
    "test_features['dept'].value_counts()"
   ]
  },
  {
   "cell_type": "markdown",
   "id": "9ea582b4",
   "metadata": {},
   "source": [
    "есть одно незаполненное значение."
   ]
  },
  {
   "cell_type": "code",
   "execution_count": 26,
   "id": "23201c2f",
   "metadata": {},
   "outputs": [
    {
     "data": {
      "text/plain": [
       "junior    974\n",
       "middle    854\n",
       "sinior    171\n",
       "Name: level, dtype: int64"
      ]
     },
     "execution_count": 26,
     "metadata": {},
     "output_type": "execute_result"
    }
   ],
   "source": [
    "test_features['level'].value_counts()"
   ]
  },
  {
   "cell_type": "code",
   "execution_count": 27,
   "id": "83d851cb",
   "metadata": {},
   "outputs": [
    {
     "data": {
      "text/plain": [
       "medium    1043\n",
       "low        593\n",
       "high       363\n",
       "             1\n",
       "Name: workload, dtype: int64"
      ]
     },
     "execution_count": 27,
     "metadata": {},
     "output_type": "execute_result"
    }
   ],
   "source": [
    "test_features['workload'].value_counts()"
   ]
  },
  {
   "cell_type": "markdown",
   "id": "55a79983",
   "metadata": {},
   "source": [
    "Также есть одно незаполненное значение."
   ]
  },
  {
   "cell_type": "code",
   "execution_count": 28,
   "id": "31cc1ff2",
   "metadata": {},
   "outputs": [
    {
     "data": {
      "text/plain": [
       "no     1937\n",
       "yes      63\n",
       "Name: last_year_promo, dtype: int64"
      ]
     },
     "execution_count": 28,
     "metadata": {},
     "output_type": "execute_result"
    }
   ],
   "source": [
    "test_features['last_year_promo'].value_counts()"
   ]
  },
  {
   "cell_type": "code",
   "execution_count": 29,
   "id": "636fd3e9",
   "metadata": {},
   "outputs": [
    {
     "data": {
      "text/plain": [
       "no     1738\n",
       "yes     262\n",
       "Name: last_year_violations, dtype: int64"
      ]
     },
     "execution_count": 29,
     "metadata": {},
     "output_type": "execute_result"
    }
   ],
   "source": [
    "test_features['last_year_violations'].value_counts()"
   ]
  },
  {
   "cell_type": "markdown",
   "id": "192ec64d",
   "metadata": {},
   "source": [
    "Нашли некоторые незаполненные значения в столбцах workload, dept.<br>\n",
    "Явных и неявных дубликатов обнаружено не было. Значения переменных совпадают со значениями в тренировочной выборке."
   ]
  },
  {
   "cell_type": "markdown",
   "id": "3f480ffe",
   "metadata": {},
   "source": [
    "**Исследование таблицы test_target_job_satisfaction_rate**"
   ]
  },
  {
   "cell_type": "code",
   "execution_count": 30,
   "id": "3ea4c847",
   "metadata": {},
   "outputs": [
    {
     "data": {
      "text/plain": [
       "id                       0\n",
       "job_satisfaction_rate    0\n",
       "dtype: int64"
      ]
     },
     "execution_count": 30,
     "metadata": {},
     "output_type": "execute_result"
    }
   ],
   "source": [
    "#Проверка на пропуски в данных\n",
    "test_target_job_satisfaction_rate.isna().sum()"
   ]
  },
  {
   "cell_type": "code",
   "execution_count": 31,
   "id": "5faf0b2f",
   "metadata": {},
   "outputs": [
    {
     "data": {
      "text/plain": [
       "0"
      ]
     },
     "execution_count": 31,
     "metadata": {},
     "output_type": "execute_result"
    }
   ],
   "source": [
    "# проверка на явные дубликаты\n",
    "test_target_job_satisfaction_rate.duplicated().sum()"
   ]
  },
  {
   "cell_type": "code",
   "execution_count": 32,
   "id": "da20ae2c",
   "metadata": {},
   "outputs": [
    {
     "data": {
      "text/plain": [
       "0"
      ]
     },
     "execution_count": 32,
     "metadata": {},
     "output_type": "execute_result"
    }
   ],
   "source": [
    "test_target_job_satisfaction_rate['id'].duplicated().sum()"
   ]
  },
  {
   "cell_type": "markdown",
   "id": "af6ee9ba",
   "metadata": {},
   "source": [
    "В таблице test_target_job_satisfaction_rate нет ни пропусков, ни дубликатов."
   ]
  },
  {
   "cell_type": "markdown",
   "id": "c08a189a",
   "metadata": {},
   "source": [
    "В таблицах были обнаружены некоторые пропуски. Мы их заполним далее - в пайплайне."
   ]
  },
  {
   "cell_type": "markdown",
   "id": "b9fb3914",
   "metadata": {},
   "source": [
    "### Исследовательский анализ данных"
   ]
  },
  {
   "cell_type": "markdown",
   "id": "a42d43b5",
   "metadata": {},
   "source": [
    "#### Анализ количественных признаков"
   ]
  },
  {
   "cell_type": "code",
   "execution_count": 33,
   "id": "909733e3",
   "metadata": {},
   "outputs": [
    {
     "name": "stdout",
     "output_type": "stream",
     "text": [
      "<class 'pandas.core.frame.DataFrame'>\n",
      "RangeIndex: 4000 entries, 0 to 3999\n",
      "Data columns (total 10 columns):\n",
      " #   Column                 Non-Null Count  Dtype  \n",
      "---  ------                 --------------  -----  \n",
      " 0   id                     4000 non-null   int64  \n",
      " 1   dept                   3994 non-null   object \n",
      " 2   level                  3996 non-null   object \n",
      " 3   workload               4000 non-null   object \n",
      " 4   employment_years       4000 non-null   int64  \n",
      " 5   last_year_promo        4000 non-null   object \n",
      " 6   last_year_violations   4000 non-null   object \n",
      " 7   supervisor_evaluation  4000 non-null   int64  \n",
      " 8   salary                 4000 non-null   int64  \n",
      " 9   job_satisfaction_rate  4000 non-null   float64\n",
      "dtypes: float64(1), int64(4), object(5)\n",
      "memory usage: 312.6+ KB\n"
     ]
    }
   ],
   "source": [
    "#Проверка на пропуски в данных\n",
    "train_job_satisfaction_rate.info()"
   ]
  },
  {
   "cell_type": "code",
   "execution_count": 34,
   "id": "b98b3dec",
   "metadata": {},
   "outputs": [
    {
     "data": {
      "image/png": "[encoded data removed]",
      "text/plain": [
       "<Figure size 720x504 with 1 Axes>"
      ]
     },
     "metadata": {
      "needs_background": "light"
     },
     "output_type": "display_data"
    },
    {
     "data": {
      "image/png": "[encoded data removed]",
      "text/plain": [
       "<Figure size 720x504 with 1 Axes>"
      ]
     },
     "metadata": {
      "needs_background": "light"
     },
     "output_type": "display_data"
    }
   ],
   "source": [
    "train_job_satisfaction_rate.plot(y='salary',title='Ежемесячная зарплата сотрудника', kind='hist' ,bins=50, figsize = (10,7), legend = False)\n",
    "plt.ylabel(\"Частота\");\n",
    "train_job_satisfaction_rate.plot(y='salary', kind='box' , figsize = (10,7), legend = False);"
   ]
  },
  {
   "cell_type": "code",
   "execution_count": 35,
   "id": "481aaddc",
   "metadata": {},
   "outputs": [
    {
     "data": {
      "text/html": [
       "<div>\n",
       "<style scoped>\n",
       "    .dataframe tbody tr th:only-of-type {\n",
       "        vertical-align: middle;\n",
       "    }\n",
       "\n",
       "    .dataframe tbody tr th {\n",
       "        vertical-align: top;\n",
       "    }\n",
       "\n",
       "    .dataframe thead th {\n",
       "        text-align: right;\n",
       "    }\n",
       "</style>\n",
       "<table border=\"1\" class=\"dataframe\">\n",
       "  <thead>\n",
       "    <tr style=\"text-align: right;\">\n",
       "      <th></th>\n",
       "      <th>id</th>\n",
       "      <th>employment_years</th>\n",
       "      <th>supervisor_evaluation</th>\n",
       "      <th>salary</th>\n",
       "      <th>job_satisfaction_rate</th>\n",
       "    </tr>\n",
       "  </thead>\n",
       "  <tbody>\n",
       "    <tr>\n",
       "      <th>count</th>\n",
       "      <td>4000.000000</td>\n",
       "      <td>4000.000000</td>\n",
       "      <td>4000.000000</td>\n",
       "      <td>4000.000000</td>\n",
       "      <td>4000.000000</td>\n",
       "    </tr>\n",
       "    <tr>\n",
       "      <th>mean</th>\n",
       "      <td>544957.621000</td>\n",
       "      <td>3.718500</td>\n",
       "      <td>3.476500</td>\n",
       "      <td>33926.700000</td>\n",
       "      <td>0.533995</td>\n",
       "    </tr>\n",
       "    <tr>\n",
       "      <th>std</th>\n",
       "      <td>257883.104622</td>\n",
       "      <td>2.542513</td>\n",
       "      <td>1.008812</td>\n",
       "      <td>14900.703838</td>\n",
       "      <td>0.225327</td>\n",
       "    </tr>\n",
       "    <tr>\n",
       "      <th>min</th>\n",
       "      <td>100954.000000</td>\n",
       "      <td>1.000000</td>\n",
       "      <td>1.000000</td>\n",
       "      <td>12000.000000</td>\n",
       "      <td>0.030000</td>\n",
       "    </tr>\n",
       "    <tr>\n",
       "      <th>25%</th>\n",
       "      <td>322836.750000</td>\n",
       "      <td>2.000000</td>\n",
       "      <td>3.000000</td>\n",
       "      <td>22800.000000</td>\n",
       "      <td>0.360000</td>\n",
       "    </tr>\n",
       "    <tr>\n",
       "      <th>50%</th>\n",
       "      <td>534082.500000</td>\n",
       "      <td>3.000000</td>\n",
       "      <td>4.000000</td>\n",
       "      <td>30000.000000</td>\n",
       "      <td>0.560000</td>\n",
       "    </tr>\n",
       "    <tr>\n",
       "      <th>75%</th>\n",
       "      <td>771446.000000</td>\n",
       "      <td>6.000000</td>\n",
       "      <td>4.000000</td>\n",
       "      <td>43200.000000</td>\n",
       "      <td>0.710000</td>\n",
       "    </tr>\n",
       "    <tr>\n",
       "      <th>max</th>\n",
       "      <td>999521.000000</td>\n",
       "      <td>10.000000</td>\n",
       "      <td>5.000000</td>\n",
       "      <td>98400.000000</td>\n",
       "      <td>1.000000</td>\n",
       "    </tr>\n",
       "  </tbody>\n",
       "</table>\n",
       "</div>"
      ],
      "text/plain": [
       "                  id  employment_years  supervisor_evaluation        salary  \\\n",
       "count    4000.000000       4000.000000            4000.000000   4000.000000   \n",
       "mean   544957.621000          3.718500               3.476500  33926.700000   \n",
       "std    257883.104622          2.542513               1.008812  14900.703838   \n",
       "min    100954.000000          1.000000               1.000000  12000.000000   \n",
       "25%    322836.750000          2.000000               3.000000  22800.000000   \n",
       "50%    534082.500000          3.000000               4.000000  30000.000000   \n",
       "75%    771446.000000          6.000000               4.000000  43200.000000   \n",
       "max    999521.000000         10.000000               5.000000  98400.000000   \n",
       "\n",
       "       job_satisfaction_rate  \n",
       "count            4000.000000  \n",
       "mean                0.533995  \n",
       "std                 0.225327  \n",
       "min                 0.030000  \n",
       "25%                 0.360000  \n",
       "50%                 0.560000  \n",
       "75%                 0.710000  \n",
       "max                 1.000000  "
      ]
     },
     "execution_count": 35,
     "metadata": {},
     "output_type": "execute_result"
    }
   ],
   "source": [
    "train_job_satisfaction_rate.describe()"
   ]
  },
  {
   "cell_type": "markdown",
   "id": "cada668c",
   "metadata": {},
   "source": [
    "Распределение признака Ежемесячная зарплата не очень похоже на нормальное. Есть некоторые всплески и скос влево.<br>\n",
    "В среднем зарплата сотрудника составляет 33927.<br>\n",
    "Разброс довольно большой, но в основном зарплата составляет от 22800 до 43200 кг.<br>\n",
    "Есть выбросы, но сильных аномалий нет, зарплата - в пределах нормы."
   ]
  },
  {
   "cell_type": "code",
   "execution_count": 36,
   "id": "3d8187ac",
   "metadata": {},
   "outputs": [
    {
     "data": {
      "image/png": "[encoded data removed]",
      "text/plain": [
       "<Figure size 720x504 with 1 Axes>"
      ]
     },
     "metadata": {
      "needs_background": "light"
     },
     "output_type": "display_data"
    },
    {
     "data": {
      "image/png": "[encoded data removed]",
      "text/plain": [
       "<Figure size 720x504 with 1 Axes>"
      ]
     },
     "metadata": {
      "needs_background": "light"
     },
     "output_type": "display_data"
    }
   ],
   "source": [
    "train_job_satisfaction_rate.plot(y='job_satisfaction_rate',title='Уровень удовлетворенности сотрудника', kind='hist' ,bins=50, figsize = (10,7), legend = False)\n",
    "plt.ylabel(\"Частота\");\n",
    "train_job_satisfaction_rate.plot(y='job_satisfaction_rate', kind='box' , figsize = (10,7), legend = False);"
   ]
  },
  {
   "cell_type": "markdown",
   "id": "19ea345d",
   "metadata": {},
   "source": [
    "Выбросов нет, распределение немного похоже на нормальное.<br>\n",
    "Среднее значение уровня удовлетворенности: 0.53. Колеблется в основном от 0.36 до 0.71."
   ]
  },
  {
   "cell_type": "markdown",
   "id": "7d4cdc8a",
   "metadata": {},
   "source": [
    "#### Анализ категориальных переменных"
   ]
  },
  {
   "cell_type": "code",
   "execution_count": 37,
   "id": "0f1da59a",
   "metadata": {},
   "outputs": [
    {
     "data": {
      "image/png": "[encoded data removed]",
      "text/plain": [
       "<Figure size 720x288 with 1 Axes>"
      ]
     },
     "metadata": {
      "needs_background": "light"
     },
     "output_type": "display_data"
    }
   ],
   "source": [
    "train_job_satisfaction_rate.pivot_table(index = 'dept', aggfunc = 'count')['id'].sort_values().plot(y='dept',title='Департамент', kind='barh' , figsize = (10,4), legend = False)\n",
    "plt.ylabel(\"Департамент\");\n",
    "plt.xlabel(\"Количество сотрудников\");"
   ]
  },
  {
   "cell_type": "markdown",
   "id": "9c78ead3",
   "metadata": {},
   "source": [
    "Есть 5 департаментов. Больше всего сотрудников в sales, меньше всего в hr."
   ]
  },
  {
   "cell_type": "code",
   "execution_count": 38,
   "id": "03e21eec",
   "metadata": {},
   "outputs": [
    {
     "data": {
      "image/png": "[encoded data removed]",
      "text/plain": [
       "<Figure size 720x288 with 1 Axes>"
      ]
     },
     "metadata": {
      "needs_background": "light"
     },
     "output_type": "display_data"
    }
   ],
   "source": [
    "train_job_satisfaction_rate.pivot_table(index = 'level', aggfunc = 'count')['id'].sort_values().plot(y='level',title='Должность', kind='barh' , figsize = (10,4), legend = False)\n",
    "plt.ylabel(\"Должность\");\n",
    "plt.xlabel(\"Количество сотрудников\");"
   ]
  },
  {
   "cell_type": "markdown",
   "id": "7d12f678",
   "metadata": {},
   "source": [
    "Примерно равное количество сотрудников на уровнях junior, middle. и значительно меньшее количество сотрудников на позиции sinior."
   ]
  },
  {
   "cell_type": "code",
   "execution_count": 39,
   "id": "cf804fb9",
   "metadata": {},
   "outputs": [
    {
     "data": {
      "image/png": "[encoded data removed]",
      "text/plain": [
       "<Figure size 720x288 with 1 Axes>"
      ]
     },
     "metadata": {
      "needs_background": "light"
     },
     "output_type": "display_data"
    }
   ],
   "source": [
    "train_job_satisfaction_rate.pivot_table(index = 'workload', aggfunc = 'count')['id'].sort_values().plot(y='workload',title='Загруженность сотрудника', kind='barh' , figsize = (10,4), legend = False)\n",
    "plt.ylabel(\"Загруженность\");\n",
    "plt.xlabel(\"Количество сотрудников\");"
   ]
  },
  {
   "cell_type": "code",
   "execution_count": 40,
   "id": "ae901130",
   "metadata": {},
   "outputs": [
    {
     "data": {
      "image/png": "[encoded data removed]",
      "text/plain": [
       "<Figure size 720x288 with 1 Axes>"
      ]
     },
     "metadata": {
      "needs_background": "light"
     },
     "output_type": "display_data"
    }
   ],
   "source": [
    "train_job_satisfaction_rate.pivot_table(index = 'employment_years', aggfunc = 'count')['id'].sort_values().plot(y='employment_years',title='Количество отработанных лет', kind='barh' , figsize = (10,4), legend = False)\n",
    "plt.ylabel(\"Лет\");\n",
    "plt.xlabel(\"Количество сотрудников\");"
   ]
  },
  {
   "cell_type": "markdown",
   "id": "3e317cf0",
   "metadata": {},
   "source": [
    "Больше всего в компании новичков."
   ]
  },
  {
   "cell_type": "code",
   "execution_count": 41,
   "id": "0ffa0731",
   "metadata": {},
   "outputs": [
    {
     "data": {
      "image/png": "[encoded data removed]",
      "text/plain": [
       "<Figure size 720x288 with 1 Axes>"
      ]
     },
     "metadata": {
      "needs_background": "light"
     },
     "output_type": "display_data"
    }
   ],
   "source": [
    "train_job_satisfaction_rate.pivot_table(index = 'last_year_promo', aggfunc = 'count')['id'].sort_values().plot(y='last_year_promo',title='Повышение за последний год', kind='barh' , figsize = (10,4), legend = False)\n",
    "plt.ylabel(\"Повышение\");\n",
    "plt.xlabel(\"Количество сотрудников\");"
   ]
  },
  {
   "cell_type": "markdown",
   "id": "91efc7d7",
   "metadata": {},
   "source": [
    "У совсем малой доли сотрудников было повышение зарплаты за последний год."
   ]
  },
  {
   "cell_type": "code",
   "execution_count": 42,
   "id": "79c6bf56",
   "metadata": {},
   "outputs": [
    {
     "data": {
      "image/png": "[encoded data removed]",
      "text/plain": [
       "<Figure size 720x288 with 1 Axes>"
      ]
     },
     "metadata": {
      "needs_background": "light"
     },
     "output_type": "display_data"
    }
   ],
   "source": [
    "train_job_satisfaction_rate.pivot_table(index = 'last_year_violations', aggfunc = 'count')['id'].sort_values().plot(y='last_year_violations',title='Нарушение сотрудником договора за последний год', kind='barh' , figsize = (10,4), legend = False)\n",
    "plt.ylabel(\"Нарушение\");\n",
    "plt.xlabel(\"Количество сотрудников\");"
   ]
  },
  {
   "cell_type": "code",
   "execution_count": 43,
   "id": "fab8c4be",
   "metadata": {},
   "outputs": [
    {
     "data": {
      "image/png": "[encoded data removed]",
      "text/plain": [
       "<Figure size 720x288 with 1 Axes>"
      ]
     },
     "metadata": {
      "needs_background": "light"
     },
     "output_type": "display_data"
    }
   ],
   "source": [
    "train_job_satisfaction_rate.pivot_table(index = 'supervisor_evaluation', aggfunc = 'count')['id'].sort_values().plot(y='supervisor_evaluation',title='Оценка качества работы сотрудника', kind='barh' , figsize = (10,4), legend = False)\n",
    "plt.ylabel(\"Оценка\");\n",
    "plt.xlabel(\"Количество сотрудников\");"
   ]
  },
  {
   "cell_type": "markdown",
   "id": "835d1fe3",
   "metadata": {},
   "source": [
    "Большинство сотрудников работают хорошо. Оценка руководства по шкале от 1 до 5."
   ]
  },
  {
   "cell_type": "markdown",
   "id": "5ab39289",
   "metadata": {},
   "source": [
    "**Проанализировали признаки**:\n",
    "- целевой признак Уровень удовлетворенности сотрудника: средняя удовлетворенность оценивается в 0.53, выбросов нет.\n",
    "- количественные признаки: аномальных значений не обнаружено.\n",
    "- категориальные признаки: проанализировали и просмотрели возможные значения.<br>\n",
    "\n",
    "Необходимо масштабировать количественные признаки и закодировать категориальные для использования их в модели. А также проследить, нет ли взаимосвязи между признаками и наблюдается ли линейная взаимосвязь с целевым признаком."
   ]
  },
  {
   "cell_type": "code",
   "execution_count": 44,
   "id": "897a44db",
   "metadata": {},
   "outputs": [
    {
     "data": {
      "text/html": [
       "<div>\n",
       "<style scoped>\n",
       "    .dataframe tbody tr th:only-of-type {\n",
       "        vertical-align: middle;\n",
       "    }\n",
       "\n",
       "    .dataframe tbody tr th {\n",
       "        vertical-align: top;\n",
       "    }\n",
       "\n",
       "    .dataframe thead th {\n",
       "        text-align: right;\n",
       "    }\n",
       "</style>\n",
       "<table border=\"1\" class=\"dataframe\">\n",
       "  <thead>\n",
       "    <tr style=\"text-align: right;\">\n",
       "      <th></th>\n",
       "      <th>id</th>\n",
       "      <th>dept</th>\n",
       "      <th>level</th>\n",
       "      <th>workload</th>\n",
       "      <th>employment_years</th>\n",
       "      <th>last_year_promo</th>\n",
       "      <th>last_year_violations</th>\n",
       "      <th>supervisor_evaluation</th>\n",
       "      <th>salary</th>\n",
       "      <th>job_satisfaction_rate</th>\n",
       "    </tr>\n",
       "  </thead>\n",
       "  <tbody>\n",
       "    <tr>\n",
       "      <th>id</th>\n",
       "      <td>1.000000</td>\n",
       "      <td>0.060172</td>\n",
       "      <td>0.000000</td>\n",
       "      <td>0.059274</td>\n",
       "      <td>0.047183</td>\n",
       "      <td>0.024593</td>\n",
       "      <td>0.000000</td>\n",
       "      <td>0.033387</td>\n",
       "      <td>0.000000</td>\n",
       "      <td>0.000000</td>\n",
       "    </tr>\n",
       "    <tr>\n",
       "      <th>dept</th>\n",
       "      <td>0.060172</td>\n",
       "      <td>1.000000</td>\n",
       "      <td>0.000000</td>\n",
       "      <td>0.016509</td>\n",
       "      <td>0.037853</td>\n",
       "      <td>0.000000</td>\n",
       "      <td>0.000000</td>\n",
       "      <td>0.105495</td>\n",
       "      <td>0.282265</td>\n",
       "      <td>0.082086</td>\n",
       "    </tr>\n",
       "    <tr>\n",
       "      <th>level</th>\n",
       "      <td>0.000000</td>\n",
       "      <td>0.000000</td>\n",
       "      <td>1.000000</td>\n",
       "      <td>0.419114</td>\n",
       "      <td>0.682773</td>\n",
       "      <td>0.101613</td>\n",
       "      <td>0.000000</td>\n",
       "      <td>0.000000</td>\n",
       "      <td>0.717630</td>\n",
       "      <td>0.080620</td>\n",
       "    </tr>\n",
       "    <tr>\n",
       "      <th>workload</th>\n",
       "      <td>0.059274</td>\n",
       "      <td>0.016509</td>\n",
       "      <td>0.419114</td>\n",
       "      <td>1.000000</td>\n",
       "      <td>0.181941</td>\n",
       "      <td>0.058663</td>\n",
       "      <td>0.000000</td>\n",
       "      <td>0.037023</td>\n",
       "      <td>0.788820</td>\n",
       "      <td>0.056128</td>\n",
       "    </tr>\n",
       "    <tr>\n",
       "      <th>employment_years</th>\n",
       "      <td>0.047183</td>\n",
       "      <td>0.037853</td>\n",
       "      <td>0.682773</td>\n",
       "      <td>0.181941</td>\n",
       "      <td>1.000000</td>\n",
       "      <td>0.183579</td>\n",
       "      <td>0.056808</td>\n",
       "      <td>0.000000</td>\n",
       "      <td>0.483419</td>\n",
       "      <td>0.325603</td>\n",
       "    </tr>\n",
       "    <tr>\n",
       "      <th>last_year_promo</th>\n",
       "      <td>0.024593</td>\n",
       "      <td>0.000000</td>\n",
       "      <td>0.101613</td>\n",
       "      <td>0.058663</td>\n",
       "      <td>0.183579</td>\n",
       "      <td>1.000000</td>\n",
       "      <td>0.000000</td>\n",
       "      <td>0.013681</td>\n",
       "      <td>0.215025</td>\n",
       "      <td>0.190803</td>\n",
       "    </tr>\n",
       "    <tr>\n",
       "      <th>last_year_violations</th>\n",
       "      <td>0.000000</td>\n",
       "      <td>0.000000</td>\n",
       "      <td>0.000000</td>\n",
       "      <td>0.000000</td>\n",
       "      <td>0.056808</td>\n",
       "      <td>0.000000</td>\n",
       "      <td>1.000000</td>\n",
       "      <td>0.182042</td>\n",
       "      <td>0.010078</td>\n",
       "      <td>0.560348</td>\n",
       "    </tr>\n",
       "    <tr>\n",
       "      <th>supervisor_evaluation</th>\n",
       "      <td>0.033387</td>\n",
       "      <td>0.105495</td>\n",
       "      <td>0.000000</td>\n",
       "      <td>0.037023</td>\n",
       "      <td>0.000000</td>\n",
       "      <td>0.013681</td>\n",
       "      <td>0.182042</td>\n",
       "      <td>1.000000</td>\n",
       "      <td>0.000000</td>\n",
       "      <td>0.764364</td>\n",
       "    </tr>\n",
       "    <tr>\n",
       "      <th>salary</th>\n",
       "      <td>0.000000</td>\n",
       "      <td>0.282265</td>\n",
       "      <td>0.717630</td>\n",
       "      <td>0.788820</td>\n",
       "      <td>0.483419</td>\n",
       "      <td>0.215025</td>\n",
       "      <td>0.010078</td>\n",
       "      <td>0.000000</td>\n",
       "      <td>1.000000</td>\n",
       "      <td>0.165830</td>\n",
       "    </tr>\n",
       "    <tr>\n",
       "      <th>job_satisfaction_rate</th>\n",
       "      <td>0.000000</td>\n",
       "      <td>0.082086</td>\n",
       "      <td>0.080620</td>\n",
       "      <td>0.056128</td>\n",
       "      <td>0.325603</td>\n",
       "      <td>0.190803</td>\n",
       "      <td>0.560348</td>\n",
       "      <td>0.764364</td>\n",
       "      <td>0.165830</td>\n",
       "      <td>1.000000</td>\n",
       "    </tr>\n",
       "  </tbody>\n",
       "</table>\n",
       "</div>"
      ],
      "text/plain": [
       "                             id      dept     level  workload  \\\n",
       "id                     1.000000  0.060172  0.000000  0.059274   \n",
       "dept                   0.060172  1.000000  0.000000  0.016509   \n",
       "level                  0.000000  0.000000  1.000000  0.419114   \n",
       "workload               0.059274  0.016509  0.419114  1.000000   \n",
       "employment_years       0.047183  0.037853  0.682773  0.181941   \n",
       "last_year_promo        0.024593  0.000000  0.101613  0.058663   \n",
       "last_year_violations   0.000000  0.000000  0.000000  0.000000   \n",
       "supervisor_evaluation  0.033387  0.105495  0.000000  0.037023   \n",
       "salary                 0.000000  0.282265  0.717630  0.788820   \n",
       "job_satisfaction_rate  0.000000  0.082086  0.080620  0.056128   \n",
       "\n",
       "                       employment_years  last_year_promo  \\\n",
       "id                             0.047183         0.024593   \n",
       "dept                           0.037853         0.000000   \n",
       "level                          0.682773         0.101613   \n",
       "workload                       0.181941         0.058663   \n",
       "employment_years               1.000000         0.183579   \n",
       "last_year_promo                0.183579         1.000000   \n",
       "last_year_violations           0.056808         0.000000   \n",
       "supervisor_evaluation          0.000000         0.013681   \n",
       "salary                         0.483419         0.215025   \n",
       "job_satisfaction_rate          0.325603         0.190803   \n",
       "\n",
       "                       last_year_violations  supervisor_evaluation    salary  \\\n",
       "id                                 0.000000               0.033387  0.000000   \n",
       "dept                               0.000000               0.105495  0.282265   \n",
       "level                              0.000000               0.000000  0.717630   \n",
       "workload                           0.000000               0.037023  0.788820   \n",
       "employment_years                   0.056808               0.000000  0.483419   \n",
       "last_year_promo                    0.000000               0.013681  0.215025   \n",
       "last_year_violations               1.000000               0.182042  0.010078   \n",
       "supervisor_evaluation              0.182042               1.000000  0.000000   \n",
       "salary                             0.010078               0.000000  1.000000   \n",
       "job_satisfaction_rate              0.560348               0.764364  0.165830   \n",
       "\n",
       "                       job_satisfaction_rate  \n",
       "id                                  0.000000  \n",
       "dept                                0.082086  \n",
       "level                               0.080620  \n",
       "workload                            0.056128  \n",
       "employment_years                    0.325603  \n",
       "last_year_promo                     0.190803  \n",
       "last_year_violations                0.560348  \n",
       "supervisor_evaluation               0.764364  \n",
       "salary                              0.165830  \n",
       "job_satisfaction_rate               1.000000  "
      ]
     },
     "execution_count": 44,
     "metadata": {},
     "output_type": "execute_result"
    }
   ],
   "source": [
    "train_job_satisfaction_rate.phik_matrix(interval_cols = ['id', 'salary', 'job_satisfaction_rate'])"
   ]
  },
  {
   "cell_type": "code",
   "execution_count": 45,
   "id": "5bd102e6",
   "metadata": {},
   "outputs": [
    {
     "data": {
      "image/png": "[encoded data removed]",
      "text/plain": [
       "<Figure size 1080x648 with 2 Axes>"
      ]
     },
     "metadata": {
      "needs_background": "light"
     },
     "output_type": "display_data"
    }
   ],
   "source": [
    "fig, ax = plt.subplots(figsize=(15,9));\n",
    "sns.heatmap(train_job_satisfaction_rate.phik_matrix(interval_cols = ['id', 'salary', 'job_satisfaction_rate']), annot=True, cmap='cividis', ax = ax);"
   ]
  },
  {
   "cell_type": "markdown",
   "id": "443578a4",
   "metadata": {},
   "source": [
    "Видим связь целевого признака Уровень удовлетворенности сотрудника и его оценкой начальства.<br>\n",
    "Наблюдаются связи между признаками: зарплаты и должности/загрузки сотрудника; уровня сотрудника и количества отработанных лет.<br>\n",
    "Мультиколлинеарности не обнаружено."
   ]
  },
  {
   "cell_type": "markdown",
   "id": "a4da47e0",
   "metadata": {},
   "source": [
    "### Подготовка данных"
   ]
  },
  {
   "cell_type": "code",
   "execution_count": 46,
   "id": "3d2c4f8f",
   "metadata": {},
   "outputs": [],
   "source": [
    "RANDOM_STATE = 42"
   ]
  },
  {
   "cell_type": "code",
   "execution_count": 47,
   "id": "57331f6e",
   "metadata": {},
   "outputs": [],
   "source": [
    "train_job_satisfaction_rate = train_job_satisfaction_rate.set_index('id')\n",
    "test_features = test_features.set_index('id')\n",
    "test_target_job_satisfaction_rate = test_target_job_satisfaction_rate.set_index('id')"
   ]
  },
  {
   "cell_type": "code",
   "execution_count": 48,
   "id": "fafc643c",
   "metadata": {},
   "outputs": [
    {
     "data": {
      "text/plain": [
       "((4000, 8), (2000, 8), (4000,), (2000,))"
      ]
     },
     "execution_count": 48,
     "metadata": {},
     "output_type": "execute_result"
    }
   ],
   "source": [
    "X_train = train_job_satisfaction_rate.drop(['job_satisfaction_rate'], axis=1)\n",
    "y_train = train_job_satisfaction_rate['job_satisfaction_rate']\n",
    "test = test_features.merge(test_target_job_satisfaction_rate, on = 'id')\n",
    "X_test = test.drop(['job_satisfaction_rate'], axis=1)\n",
    "y_test = test['job_satisfaction_rate']\n",
    "X_train.shape, X_test.shape, y_train.shape, y_test.shape"
   ]
  },
  {
   "cell_type": "code",
   "execution_count": 49,
   "id": "57150529",
   "metadata": {},
   "outputs": [],
   "source": [
    "# создаём списки с названиями признаков\n",
    "ohe_columns = ['dept', 'last_year_promo', 'last_year_violations']\n",
    "ord_columns = ['level', 'workload']\n",
    "num_columns = ['salary', 'employment_years', 'supervisor_evaluation']"
   ]
  },
  {
   "cell_type": "code",
   "execution_count": 50,
   "id": "e9ea4f4b",
   "metadata": {},
   "outputs": [],
   "source": [
    "# создаём пайплайн для подготовки признаков из списка ohe_columns: заполнение пропусков и OHE-кодирование\n",
    "# SimpleImputer + OHE\n",
    "ohe_pipe = Pipeline(\n",
    "    [('simpleImputer_ohe', SimpleImputer(missing_values=np.nan, strategy='most_frequent')),\n",
    "     ('ohe', OneHotEncoder(handle_unknown='ignore', sparse=False))#drop='first',\n",
    "    ]\n",
    "    )\n",
    "\n",
    "# создаём пайплайн для подготовки признаков из списка ord_columns: заполнение пропусков и Ordinal-кодирование\n",
    "# SimpleImputer + OE\n",
    "ord_pipe = Pipeline(\n",
    "    [('simpleImputer_before_ord', SimpleImputer(missing_values=np.nan, strategy='most_frequent')),\n",
    "     ('ord',  OrdinalEncoder(categories=[\n",
    "                    ['junior', 'middle', 'sinior'], \n",
    "                    ['low', 'medium', 'high'],\n",
    "                ], handle_unknown='use_encoded_value', unknown_value=np.nan\n",
    "            )\n",
    "        ),\n",
    "     ('simpleImputer_after_ord', SimpleImputer(missing_values=np.nan, strategy='most_frequent'))\n",
    "    ]\n",
    ")"
   ]
  },
  {
   "cell_type": "code",
   "execution_count": 51,
   "id": "91054ce1",
   "metadata": {},
   "outputs": [],
   "source": [
    "# создаём общий пайплайн для подготовки данных\n",
    "data_preprocessor = ColumnTransformer(\n",
    "    [('ohe', ohe_pipe, ohe_columns),\n",
    "     ('ord', ord_pipe, ord_columns),\n",
    "     ('num', StandardScaler(), num_columns)\n",
    "    ], \n",
    "    remainder='passthrough'\n",
    ")"
   ]
  },
  {
   "cell_type": "markdown",
   "id": "7770de35",
   "metadata": {},
   "source": [
    "### Обучение моделей"
   ]
  },
  {
   "cell_type": "code",
   "execution_count": 52,
   "id": "424526be",
   "metadata": {},
   "outputs": [],
   "source": [
    "# создаём функцию для расчёта точности предсказаний каждого класса\n",
    "def SMAPE(y_true, y_pred):\n",
    "    error = np.abs(y_true-y_pred)\n",
    "    scale = (np.abs(y_pred)+np.abs(y_true))/2\n",
    "    metric = np.mean(error/scale)*100\n",
    "    return metric"
   ]
  },
  {
   "cell_type": "code",
   "execution_count": 53,
   "id": "dbf9cb2d",
   "metadata": {},
   "outputs": [
    {
     "name": "stdout",
     "output_type": "stream",
     "text": [
      "Лучшая модель и её параметры:\n",
      "\n",
      " Pipeline(steps=[('preprocessor',\n",
      "                 ColumnTransformer(remainder='passthrough',\n",
      "                                   transformers=[('ohe',\n",
      "                                                  Pipeline(steps=[('simpleImputer_ohe',\n",
      "                                                                   SimpleImputer(strategy='most_frequent')),\n",
      "                                                                  ('ohe',\n",
      "                                                                   OneHotEncoder(handle_unknown='ignore',\n",
      "                                                                                 sparse=False))]),\n",
      "                                                  ['dept', 'last_year_promo',\n",
      "                                                   'last_year_violations']),\n",
      "                                                 ('ord',\n",
      "                                                  Pipeline(steps=[('simpleImputer_before_ord',\n",
      "                                                                   SimpleImputer...\n",
      "                                                                                               'medium',\n",
      "                                                                                               'high']],\n",
      "                                                                                  handle_unknown='use_encoded_value',\n",
      "                                                                                  unknown_value=nan)),\n",
      "                                                                  ('simpleImputer_after_ord',\n",
      "                                                                   SimpleImputer(strategy='most_frequent'))]),\n",
      "                                                  ['level', 'workload']),\n",
      "                                                 ('num', StandardScaler(),\n",
      "                                                  ['salary', 'employment_years',\n",
      "                                                   'supervisor_evaluation'])])),\n",
      "                ('models',\n",
      "                 DecisionTreeRegressor(max_depth=18, min_samples_leaf=6,\n",
      "                                       min_samples_split=11,\n",
      "                                       random_state=42))])\n",
      "Метрика лучшей модели на тренировочной выборке: -14.902735811702428\n",
      "Метрика SMAPE на тестовой выборке: 13.864250300282283\n"
     ]
    }
   ],
   "source": [
    "# создаём итоговый пайплайн: подготовка данных и модель\n",
    "pipe_final = Pipeline([\n",
    "    ('preprocessor', data_preprocessor),\n",
    "    ('models', LinearRegression())\n",
    "])\n",
    "\n",
    "param_grid = [\n",
    "    # словарь для модели DecisionTreeRegressor()\n",
    "    {\n",
    "        'models': [DecisionTreeRegressor(random_state=RANDOM_STATE)],\n",
    "        'models__min_samples_leaf': range(2,20),\n",
    "        'models__min_samples_split': range(2,20),\n",
    "        'models__max_depth': range(2,20),\n",
    "        #'models__max_features': range(2,20),\n",
    "        'preprocessor__num': [StandardScaler(), MinMaxScaler(), 'passthrough']  \n",
    "    },\n",
    "    \n",
    "    # словарь для модели LinearRegression()\n",
    "    {\n",
    "        'models': [LinearRegression(\n",
    "                   \n",
    "                  )],\n",
    "        'preprocessor__num': [StandardScaler(), MinMaxScaler(), 'passthrough']  \n",
    "    },\n",
    "    \n",
    "    \n",
    "]\n",
    "scorer = make_scorer(SMAPE, greater_is_better = False)\n",
    "randomized_search = RandomizedSearchCV(\n",
    "    pipe_final, \n",
    "    param_grid, \n",
    "    cv=5,\n",
    "    scoring= scorer,\n",
    "    random_state=RANDOM_STATE,\n",
    "    n_jobs=-1\n",
    ")\n",
    "randomized_search.fit(X_train, y_train)\n",
    "\n",
    "print('Лучшая модель и её параметры:\\n\\n', randomized_search.best_estimator_)\n",
    "print ('Метрика лучшей модели на тренировочной выборке:', randomized_search.best_score_)\n",
    "\n",
    "# проверьте работу модели на тестовой выборке\n",
    "# рассчитайте прогноз на тестовых данных\n",
    "pred = randomized_search.predict(X_test)\n",
    "print(f'Метрика SMAPE на тестовой выборке: {SMAPE(y_test, pred)}')"
   ]
  },
  {
   "cell_type": "markdown",
   "id": "54d10cd7",
   "metadata": {},
   "source": [
    "### Промежуточные выводы"
   ]
  },
  {
   "cell_type": "markdown",
   "id": "156a5341",
   "metadata": {},
   "source": [
    "К данным применили методы масштабирования(StandardScaler(), MinMaxScaler()) и кодирования(OneHotEncoder, OrdinalEncoder).<br>\n",
    "Применяли модели:<br>\n",
    "    - DecisionTreeRegressor с параметрами max_depth, min_samples_leaf, min_samples_split<br>\n",
    "    - LinearRegression<br>\n",
    "Использовали RandomizedSearchCV для подбора гиперпараметров моделей.<br>\n",
    "<br>\n",
    "Качество оценивали собственной метрикой SMAPE («симметричное среднее абсолютное процентное отклонение»)<br>"
   ]
  },
  {
   "cell_type": "markdown",
   "id": "f8d32230",
   "metadata": {},
   "source": [
    "Наилучшей оказалась модель **дерево решений** с параметрами:<br>\n",
    "max_depth=18, min_samples_leaf=6, min_samples_split=11<br>\n",
    "На тестовой выборке она показывает результат 13.86"
   ]
  },
  {
   "cell_type": "markdown",
   "id": "74ed33f2",
   "metadata": {},
   "source": [
    "## Предсказание увольнения сотрудника из компании"
   ]
  },
  {
   "cell_type": "markdown",
   "id": "ec96a3f8",
   "metadata": {},
   "source": [
    "### Загрузка данных"
   ]
  },
  {
   "cell_type": "code",
   "execution_count": 54,
   "id": "33f2f30f",
   "metadata": {},
   "outputs": [],
   "source": [
    "try:\n",
    "    train_quit = pd.read_csv('/datasets/train_quit.csv')\n",
    "    test_target_quit = pd.read_csv('/datasets/test_target_quit.csv')\n",
    "except FileNotFoundError:\n",
    "    print('Файл не найден. Необходимо проверить путь к файлу')\n",
    "except Exception:\n",
    "    print('Файл не загрузился')"
   ]
  },
  {
   "cell_type": "code",
   "execution_count": 55,
   "id": "63445895",
   "metadata": {},
   "outputs": [
    {
     "data": {
      "text/html": [
       "<div>\n",
       "<style scoped>\n",
       "    .dataframe tbody tr th:only-of-type {\n",
       "        vertical-align: middle;\n",
       "    }\n",
       "\n",
       "    .dataframe tbody tr th {\n",
       "        vertical-align: top;\n",
       "    }\n",
       "\n",
       "    .dataframe thead th {\n",
       "        text-align: right;\n",
       "    }\n",
       "</style>\n",
       "<table border=\"1\" class=\"dataframe\">\n",
       "  <thead>\n",
       "    <tr style=\"text-align: right;\">\n",
       "      <th></th>\n",
       "      <th>id</th>\n",
       "      <th>dept</th>\n",
       "      <th>level</th>\n",
       "      <th>workload</th>\n",
       "      <th>employment_years</th>\n",
       "      <th>last_year_promo</th>\n",
       "      <th>last_year_violations</th>\n",
       "      <th>supervisor_evaluation</th>\n",
       "      <th>salary</th>\n",
       "      <th>quit</th>\n",
       "    </tr>\n",
       "  </thead>\n",
       "  <tbody>\n",
       "    <tr>\n",
       "      <th>0</th>\n",
       "      <td>723290</td>\n",
       "      <td>sales</td>\n",
       "      <td>middle</td>\n",
       "      <td>high</td>\n",
       "      <td>2</td>\n",
       "      <td>no</td>\n",
       "      <td>no</td>\n",
       "      <td>4</td>\n",
       "      <td>54000</td>\n",
       "      <td>no</td>\n",
       "    </tr>\n",
       "    <tr>\n",
       "      <th>1</th>\n",
       "      <td>814010</td>\n",
       "      <td>sales</td>\n",
       "      <td>junior</td>\n",
       "      <td>medium</td>\n",
       "      <td>2</td>\n",
       "      <td>no</td>\n",
       "      <td>no</td>\n",
       "      <td>4</td>\n",
       "      <td>27600</td>\n",
       "      <td>no</td>\n",
       "    </tr>\n",
       "    <tr>\n",
       "      <th>2</th>\n",
       "      <td>155091</td>\n",
       "      <td>purchasing</td>\n",
       "      <td>middle</td>\n",
       "      <td>medium</td>\n",
       "      <td>5</td>\n",
       "      <td>no</td>\n",
       "      <td>no</td>\n",
       "      <td>1</td>\n",
       "      <td>37200</td>\n",
       "      <td>no</td>\n",
       "    </tr>\n",
       "    <tr>\n",
       "      <th>3</th>\n",
       "      <td>257132</td>\n",
       "      <td>sales</td>\n",
       "      <td>junior</td>\n",
       "      <td>medium</td>\n",
       "      <td>2</td>\n",
       "      <td>no</td>\n",
       "      <td>yes</td>\n",
       "      <td>3</td>\n",
       "      <td>24000</td>\n",
       "      <td>yes</td>\n",
       "    </tr>\n",
       "    <tr>\n",
       "      <th>4</th>\n",
       "      <td>910140</td>\n",
       "      <td>marketing</td>\n",
       "      <td>junior</td>\n",
       "      <td>medium</td>\n",
       "      <td>2</td>\n",
       "      <td>no</td>\n",
       "      <td>no</td>\n",
       "      <td>5</td>\n",
       "      <td>25200</td>\n",
       "      <td>no</td>\n",
       "    </tr>\n",
       "  </tbody>\n",
       "</table>\n",
       "</div>"
      ],
      "text/plain": [
       "       id        dept   level workload  employment_years last_year_promo  \\\n",
       "0  723290       sales  middle     high                 2              no   \n",
       "1  814010       sales  junior   medium                 2              no   \n",
       "2  155091  purchasing  middle   medium                 5              no   \n",
       "3  257132       sales  junior   medium                 2              no   \n",
       "4  910140   marketing  junior   medium                 2              no   \n",
       "\n",
       "  last_year_violations  supervisor_evaluation  salary quit  \n",
       "0                   no                      4   54000   no  \n",
       "1                   no                      4   27600   no  \n",
       "2                   no                      1   37200   no  \n",
       "3                  yes                      3   24000  yes  \n",
       "4                   no                      5   25200   no  "
      ]
     },
     "execution_count": 55,
     "metadata": {},
     "output_type": "execute_result"
    }
   ],
   "source": [
    "train_quit.head()"
   ]
  },
  {
   "cell_type": "code",
   "execution_count": 56,
   "id": "30e24c55",
   "metadata": {},
   "outputs": [
    {
     "name": "stdout",
     "output_type": "stream",
     "text": [
      "<class 'pandas.core.frame.DataFrame'>\n",
      "RangeIndex: 4000 entries, 0 to 3999\n",
      "Data columns (total 10 columns):\n",
      " #   Column                 Non-Null Count  Dtype \n",
      "---  ------                 --------------  ----- \n",
      " 0   id                     4000 non-null   int64 \n",
      " 1   dept                   4000 non-null   object\n",
      " 2   level                  4000 non-null   object\n",
      " 3   workload               4000 non-null   object\n",
      " 4   employment_years       4000 non-null   int64 \n",
      " 5   last_year_promo        4000 non-null   object\n",
      " 6   last_year_violations   4000 non-null   object\n",
      " 7   supervisor_evaluation  4000 non-null   int64 \n",
      " 8   salary                 4000 non-null   int64 \n",
      " 9   quit                   4000 non-null   object\n",
      "dtypes: int64(4), object(6)\n",
      "memory usage: 312.6+ KB\n"
     ]
    }
   ],
   "source": [
    "train_quit.info()"
   ]
  },
  {
   "cell_type": "code",
   "execution_count": 57,
   "id": "45e90613",
   "metadata": {},
   "outputs": [
    {
     "data": {
      "text/html": [
       "<div>\n",
       "<style scoped>\n",
       "    .dataframe tbody tr th:only-of-type {\n",
       "        vertical-align: middle;\n",
       "    }\n",
       "\n",
       "    .dataframe tbody tr th {\n",
       "        vertical-align: top;\n",
       "    }\n",
       "\n",
       "    .dataframe thead th {\n",
       "        text-align: right;\n",
       "    }\n",
       "</style>\n",
       "<table border=\"1\" class=\"dataframe\">\n",
       "  <thead>\n",
       "    <tr style=\"text-align: right;\">\n",
       "      <th></th>\n",
       "      <th>id</th>\n",
       "      <th>quit</th>\n",
       "    </tr>\n",
       "  </thead>\n",
       "  <tbody>\n",
       "    <tr>\n",
       "      <th>0</th>\n",
       "      <td>999029</td>\n",
       "      <td>yes</td>\n",
       "    </tr>\n",
       "    <tr>\n",
       "      <th>1</th>\n",
       "      <td>372846</td>\n",
       "      <td>no</td>\n",
       "    </tr>\n",
       "    <tr>\n",
       "      <th>2</th>\n",
       "      <td>726767</td>\n",
       "      <td>no</td>\n",
       "    </tr>\n",
       "    <tr>\n",
       "      <th>3</th>\n",
       "      <td>490105</td>\n",
       "      <td>no</td>\n",
       "    </tr>\n",
       "    <tr>\n",
       "      <th>4</th>\n",
       "      <td>416898</td>\n",
       "      <td>yes</td>\n",
       "    </tr>\n",
       "  </tbody>\n",
       "</table>\n",
       "</div>"
      ],
      "text/plain": [
       "       id quit\n",
       "0  999029  yes\n",
       "1  372846   no\n",
       "2  726767   no\n",
       "3  490105   no\n",
       "4  416898  yes"
      ]
     },
     "execution_count": 57,
     "metadata": {},
     "output_type": "execute_result"
    }
   ],
   "source": [
    "test_target_quit.head()"
   ]
  },
  {
   "cell_type": "code",
   "execution_count": 58,
   "id": "dd260a78",
   "metadata": {},
   "outputs": [
    {
     "name": "stdout",
     "output_type": "stream",
     "text": [
      "<class 'pandas.core.frame.DataFrame'>\n",
      "RangeIndex: 2000 entries, 0 to 1999\n",
      "Data columns (total 2 columns):\n",
      " #   Column  Non-Null Count  Dtype \n",
      "---  ------  --------------  ----- \n",
      " 0   id      2000 non-null   int64 \n",
      " 1   quit    2000 non-null   object\n",
      "dtypes: int64(1), object(1)\n",
      "memory usage: 31.4+ KB\n"
     ]
    }
   ],
   "source": [
    "test_target_quit.info()"
   ]
  },
  {
   "cell_type": "markdown",
   "id": "14725481",
   "metadata": {},
   "source": [
    "Загрузили данные из двух источников.<br>\n",
    "В таблице **train_quit** 4000 строк, пропусков нет. Типы данных соответствуют. Таблица содержит тренировочную выборку - характеристики сотрудников компании. <br>\n",
    "В таблице **test_target_quit** 2000 строк, пропусков нет, типы данных соответствуют. Таблица хранит целевой признак тестовой выборки.<br>\n",
    "<br>\n",
    "Данные в таблицах соответсвуют описанию.<br>\n",
    "Тестовой выборкой является уже загруженная test_features."
   ]
  },
  {
   "cell_type": "markdown",
   "id": "edef5b66",
   "metadata": {},
   "source": [
    "### Предобработка данных"
   ]
  },
  {
   "cell_type": "code",
   "execution_count": 59,
   "id": "76175335",
   "metadata": {},
   "outputs": [
    {
     "data": {
      "text/plain": [
       "id                       0\n",
       "dept                     0\n",
       "level                    0\n",
       "workload                 0\n",
       "employment_years         0\n",
       "last_year_promo          0\n",
       "last_year_violations     0\n",
       "supervisor_evaluation    0\n",
       "salary                   0\n",
       "quit                     0\n",
       "dtype: int64"
      ]
     },
     "execution_count": 59,
     "metadata": {},
     "output_type": "execute_result"
    }
   ],
   "source": [
    "#Проверка на пропуски в данных\n",
    "train_quit.isna().sum()"
   ]
  },
  {
   "cell_type": "code",
   "execution_count": 60,
   "id": "b33bdee2",
   "metadata": {},
   "outputs": [
    {
     "data": {
      "text/plain": [
       "0"
      ]
     },
     "execution_count": 60,
     "metadata": {},
     "output_type": "execute_result"
    }
   ],
   "source": [
    "# проверка на явные дубликаты\n",
    "train_quit.duplicated().sum()"
   ]
  },
  {
   "cell_type": "code",
   "execution_count": 61,
   "id": "7ff425fe",
   "metadata": {},
   "outputs": [
    {
     "data": {
      "text/plain": [
       "0"
      ]
     },
     "execution_count": 61,
     "metadata": {},
     "output_type": "execute_result"
    }
   ],
   "source": [
    "train_quit['id'].duplicated().sum()"
   ]
  },
  {
   "cell_type": "code",
   "execution_count": 62,
   "id": "43721209",
   "metadata": {},
   "outputs": [
    {
     "data": {
      "text/plain": [
       "sales         1438\n",
       "technology     928\n",
       "purchasing     588\n",
       "marketing      582\n",
       "hr             464\n",
       "Name: dept, dtype: int64"
      ]
     },
     "execution_count": 62,
     "metadata": {},
     "output_type": "execute_result"
    }
   ],
   "source": [
    "train_quit['dept'].value_counts()"
   ]
  },
  {
   "cell_type": "code",
   "execution_count": 63,
   "id": "abc2ec8d",
   "metadata": {},
   "outputs": [
    {
     "data": {
      "text/plain": [
       "junior    1949\n",
       "middle    1694\n",
       "sinior     357\n",
       "Name: level, dtype: int64"
      ]
     },
     "execution_count": 63,
     "metadata": {},
     "output_type": "execute_result"
    }
   ],
   "source": [
    "train_quit['level'].value_counts()"
   ]
  },
  {
   "cell_type": "code",
   "execution_count": 64,
   "id": "45b3ab72",
   "metadata": {},
   "outputs": [
    {
     "data": {
      "text/plain": [
       "medium    2118\n",
       "low       1208\n",
       "high       674\n",
       "Name: workload, dtype: int64"
      ]
     },
     "execution_count": 64,
     "metadata": {},
     "output_type": "execute_result"
    }
   ],
   "source": [
    "train_quit['workload'].value_counts()"
   ]
  },
  {
   "cell_type": "code",
   "execution_count": 65,
   "id": "b3e98c79",
   "metadata": {},
   "outputs": [
    {
     "data": {
      "text/plain": [
       "no     3887\n",
       "yes     113\n",
       "Name: last_year_promo, dtype: int64"
      ]
     },
     "execution_count": 65,
     "metadata": {},
     "output_type": "execute_result"
    }
   ],
   "source": [
    "train_quit['last_year_promo'].value_counts()"
   ]
  },
  {
   "cell_type": "code",
   "execution_count": 66,
   "id": "4430f669",
   "metadata": {},
   "outputs": [
    {
     "data": {
      "text/plain": [
       "no     3455\n",
       "yes     545\n",
       "Name: last_year_violations, dtype: int64"
      ]
     },
     "execution_count": 66,
     "metadata": {},
     "output_type": "execute_result"
    }
   ],
   "source": [
    "train_quit['last_year_violations'].value_counts()"
   ]
  },
  {
   "cell_type": "code",
   "execution_count": 67,
   "id": "024b4d9c",
   "metadata": {},
   "outputs": [
    {
     "data": {
      "text/plain": [
       "no     2872\n",
       "yes    1128\n",
       "Name: quit, dtype: int64"
      ]
     },
     "execution_count": 67,
     "metadata": {},
     "output_type": "execute_result"
    }
   ],
   "source": [
    "train_quit['quit'].value_counts()"
   ]
  },
  {
   "cell_type": "code",
   "execution_count": 68,
   "id": "418de952",
   "metadata": {},
   "outputs": [
    {
     "data": {
      "text/plain": [
       "no     1436\n",
       "yes     564\n",
       "Name: quit, dtype: int64"
      ]
     },
     "execution_count": 68,
     "metadata": {},
     "output_type": "execute_result"
    }
   ],
   "source": [
    "test_target_quit['quit'].value_counts()"
   ]
  },
  {
   "cell_type": "markdown",
   "id": "e876a768",
   "metadata": {},
   "source": [
    "В новых загруженных данных структура и значения сходны с данными, используемыми в первой задаче. Пропусков нет и добавился столбец quit. Наблюдается дисбаланс классов."
   ]
  },
  {
   "cell_type": "markdown",
   "id": "93309494",
   "metadata": {},
   "source": [
    "### Исследовательский анализ данных"
   ]
  },
  {
   "cell_type": "markdown",
   "id": "91476e12",
   "metadata": {},
   "source": [
    "#### Анализ данных"
   ]
  },
  {
   "cell_type": "code",
   "execution_count": 69,
   "id": "fb4306e1",
   "metadata": {},
   "outputs": [
    {
     "data": {
      "text/html": [
       "<div>\n",
       "<style scoped>\n",
       "    .dataframe tbody tr th:only-of-type {\n",
       "        vertical-align: middle;\n",
       "    }\n",
       "\n",
       "    .dataframe tbody tr th {\n",
       "        vertical-align: top;\n",
       "    }\n",
       "\n",
       "    .dataframe thead th {\n",
       "        text-align: right;\n",
       "    }\n",
       "</style>\n",
       "<table border=\"1\" class=\"dataframe\">\n",
       "  <thead>\n",
       "    <tr style=\"text-align: right;\">\n",
       "      <th></th>\n",
       "      <th>id</th>\n",
       "      <th>employment_years</th>\n",
       "      <th>supervisor_evaluation</th>\n",
       "      <th>salary</th>\n",
       "    </tr>\n",
       "  </thead>\n",
       "  <tbody>\n",
       "    <tr>\n",
       "      <th>count</th>\n",
       "      <td>4000.000000</td>\n",
       "      <td>4000.000000</td>\n",
       "      <td>4000.000000</td>\n",
       "      <td>4000.000000</td>\n",
       "    </tr>\n",
       "    <tr>\n",
       "      <th>mean</th>\n",
       "      <td>552099.283750</td>\n",
       "      <td>3.701500</td>\n",
       "      <td>3.474750</td>\n",
       "      <td>33805.800000</td>\n",
       "    </tr>\n",
       "    <tr>\n",
       "      <th>std</th>\n",
       "      <td>260158.031387</td>\n",
       "      <td>2.541852</td>\n",
       "      <td>1.004049</td>\n",
       "      <td>15152.415163</td>\n",
       "    </tr>\n",
       "    <tr>\n",
       "      <th>min</th>\n",
       "      <td>100222.000000</td>\n",
       "      <td>1.000000</td>\n",
       "      <td>1.000000</td>\n",
       "      <td>12000.000000</td>\n",
       "    </tr>\n",
       "    <tr>\n",
       "      <th>25%</th>\n",
       "      <td>327785.750000</td>\n",
       "      <td>2.000000</td>\n",
       "      <td>3.000000</td>\n",
       "      <td>22800.000000</td>\n",
       "    </tr>\n",
       "    <tr>\n",
       "      <th>50%</th>\n",
       "      <td>546673.000000</td>\n",
       "      <td>3.000000</td>\n",
       "      <td>4.000000</td>\n",
       "      <td>30000.000000</td>\n",
       "    </tr>\n",
       "    <tr>\n",
       "      <th>75%</th>\n",
       "      <td>781497.750000</td>\n",
       "      <td>6.000000</td>\n",
       "      <td>4.000000</td>\n",
       "      <td>43200.000000</td>\n",
       "    </tr>\n",
       "    <tr>\n",
       "      <th>max</th>\n",
       "      <td>999915.000000</td>\n",
       "      <td>10.000000</td>\n",
       "      <td>5.000000</td>\n",
       "      <td>96000.000000</td>\n",
       "    </tr>\n",
       "  </tbody>\n",
       "</table>\n",
       "</div>"
      ],
      "text/plain": [
       "                  id  employment_years  supervisor_evaluation        salary\n",
       "count    4000.000000       4000.000000            4000.000000   4000.000000\n",
       "mean   552099.283750          3.701500               3.474750  33805.800000\n",
       "std    260158.031387          2.541852               1.004049  15152.415163\n",
       "min    100222.000000          1.000000               1.000000  12000.000000\n",
       "25%    327785.750000          2.000000               3.000000  22800.000000\n",
       "50%    546673.000000          3.000000               4.000000  30000.000000\n",
       "75%    781497.750000          6.000000               4.000000  43200.000000\n",
       "max    999915.000000         10.000000               5.000000  96000.000000"
      ]
     },
     "execution_count": 69,
     "metadata": {},
     "output_type": "execute_result"
    }
   ],
   "source": [
    "train_quit.describe()"
   ]
  },
  {
   "cell_type": "code",
   "execution_count": 70,
   "id": "effa0045",
   "metadata": {},
   "outputs": [
    {
     "data": {
      "text/html": [
       "<div>\n",
       "<style scoped>\n",
       "    .dataframe tbody tr th:only-of-type {\n",
       "        vertical-align: middle;\n",
       "    }\n",
       "\n",
       "    .dataframe tbody tr th {\n",
       "        vertical-align: top;\n",
       "    }\n",
       "\n",
       "    .dataframe thead th {\n",
       "        text-align: right;\n",
       "    }\n",
       "</style>\n",
       "<table border=\"1\" class=\"dataframe\">\n",
       "  <thead>\n",
       "    <tr style=\"text-align: right;\">\n",
       "      <th></th>\n",
       "      <th>employment_years</th>\n",
       "      <th>supervisor_evaluation</th>\n",
       "      <th>salary</th>\n",
       "      <th>job_satisfaction_rate</th>\n",
       "    </tr>\n",
       "  </thead>\n",
       "  <tbody>\n",
       "    <tr>\n",
       "      <th>count</th>\n",
       "      <td>4000.000000</td>\n",
       "      <td>4000.000000</td>\n",
       "      <td>4000.000000</td>\n",
       "      <td>4000.000000</td>\n",
       "    </tr>\n",
       "    <tr>\n",
       "      <th>mean</th>\n",
       "      <td>3.718500</td>\n",
       "      <td>3.476500</td>\n",
       "      <td>33926.700000</td>\n",
       "      <td>0.533995</td>\n",
       "    </tr>\n",
       "    <tr>\n",
       "      <th>std</th>\n",
       "      <td>2.542513</td>\n",
       "      <td>1.008812</td>\n",
       "      <td>14900.703838</td>\n",
       "      <td>0.225327</td>\n",
       "    </tr>\n",
       "    <tr>\n",
       "      <th>min</th>\n",
       "      <td>1.000000</td>\n",
       "      <td>1.000000</td>\n",
       "      <td>12000.000000</td>\n",
       "      <td>0.030000</td>\n",
       "    </tr>\n",
       "    <tr>\n",
       "      <th>25%</th>\n",
       "      <td>2.000000</td>\n",
       "      <td>3.000000</td>\n",
       "      <td>22800.000000</td>\n",
       "      <td>0.360000</td>\n",
       "    </tr>\n",
       "    <tr>\n",
       "      <th>50%</th>\n",
       "      <td>3.000000</td>\n",
       "      <td>4.000000</td>\n",
       "      <td>30000.000000</td>\n",
       "      <td>0.560000</td>\n",
       "    </tr>\n",
       "    <tr>\n",
       "      <th>75%</th>\n",
       "      <td>6.000000</td>\n",
       "      <td>4.000000</td>\n",
       "      <td>43200.000000</td>\n",
       "      <td>0.710000</td>\n",
       "    </tr>\n",
       "    <tr>\n",
       "      <th>max</th>\n",
       "      <td>10.000000</td>\n",
       "      <td>5.000000</td>\n",
       "      <td>98400.000000</td>\n",
       "      <td>1.000000</td>\n",
       "    </tr>\n",
       "  </tbody>\n",
       "</table>\n",
       "</div>"
      ],
      "text/plain": [
       "       employment_years  supervisor_evaluation        salary  \\\n",
       "count       4000.000000            4000.000000   4000.000000   \n",
       "mean           3.718500               3.476500  33926.700000   \n",
       "std            2.542513               1.008812  14900.703838   \n",
       "min            1.000000               1.000000  12000.000000   \n",
       "25%            2.000000               3.000000  22800.000000   \n",
       "50%            3.000000               4.000000  30000.000000   \n",
       "75%            6.000000               4.000000  43200.000000   \n",
       "max           10.000000               5.000000  98400.000000   \n",
       "\n",
       "       job_satisfaction_rate  \n",
       "count            4000.000000  \n",
       "mean                0.533995  \n",
       "std                 0.225327  \n",
       "min                 0.030000  \n",
       "25%                 0.360000  \n",
       "50%                 0.560000  \n",
       "75%                 0.710000  \n",
       "max                 1.000000  "
      ]
     },
     "execution_count": 70,
     "metadata": {},
     "output_type": "execute_result"
    }
   ],
   "source": [
    "train_job_satisfaction_rate.describe()"
   ]
  },
  {
   "cell_type": "code",
   "execution_count": 71,
   "id": "0ca1f660",
   "metadata": {},
   "outputs": [
    {
     "data": {
      "image/png": "[encoded data removed]",
      "text/plain": [
       "<Figure size 720x504 with 1 Axes>"
      ]
     },
     "metadata": {
      "needs_background": "light"
     },
     "output_type": "display_data"
    },
    {
     "data": {
      "image/png": "[encoded data removed]",
      "text/plain": [
       "<Figure size 720x504 with 1 Axes>"
      ]
     },
     "metadata": {
      "needs_background": "light"
     },
     "output_type": "display_data"
    }
   ],
   "source": [
    "train_quit.plot(y='salary',title='Ежемесячная зарплата сотрудника', kind='hist' ,bins=50, figsize = (10,7), legend = False)\n",
    "plt.ylabel(\"Частота\");\n",
    "train_quit.plot(y='salary', kind='box' , figsize = (10,7), legend = False);"
   ]
  },
  {
   "cell_type": "markdown",
   "id": "ad12ca36",
   "metadata": {},
   "source": [
    "В целом описательные статистики тренировочной выборки похожи на train_job_satisfaction_rate. Немного отличается по значениям salary, но по графику распределения похожи."
   ]
  },
  {
   "cell_type": "markdown",
   "id": "bb115245",
   "metadata": {},
   "source": [
    "#### Характеристики уволившегося сотрудника"
   ]
  },
  {
   "cell_type": "code",
   "execution_count": 72,
   "id": "f3f17cda",
   "metadata": {},
   "outputs": [],
   "source": [
    "train_quit_yes = train_quit.query('quit == \"yes\"')"
   ]
  },
  {
   "cell_type": "code",
   "execution_count": 73,
   "id": "794fa237",
   "metadata": {},
   "outputs": [
    {
     "data": {
      "image/png": "[encoded data removed]",
      "text/plain": [
       "<Figure size 720x288 with 1 Axes>"
      ]
     },
     "metadata": {
      "needs_background": "light"
     },
     "output_type": "display_data"
    }
   ],
   "source": [
    "df_dept = train_quit_yes.pivot_table(index = 'dept', aggfunc = 'count')['id'].sort_values()\n",
    "df_dept.plot(y='dept',title='Количество уволившихся сотрудников по департаментам', kind='barh' , figsize = (10,4), legend = False)\n",
    "plt.ylabel(\"Департамент\");\n",
    "plt.xlabel(\"Количество сотрудников\");\n",
    "for i, v in enumerate(df_dept):\n",
    "    plt.text(v + 0.2, i, str(v), color='black', va='center')"
   ]
  },
  {
   "cell_type": "code",
   "execution_count": 74,
   "id": "1c7e1c1f",
   "metadata": {},
   "outputs": [
    {
     "data": {
      "text/html": [
       "<div>\n",
       "<style scoped>\n",
       "    .dataframe tbody tr th:only-of-type {\n",
       "        vertical-align: middle;\n",
       "    }\n",
       "\n",
       "    .dataframe tbody tr th {\n",
       "        vertical-align: top;\n",
       "    }\n",
       "\n",
       "    .dataframe thead th {\n",
       "        text-align: right;\n",
       "    }\n",
       "</style>\n",
       "<table border=\"1\" class=\"dataframe\">\n",
       "  <thead>\n",
       "    <tr style=\"text-align: right;\">\n",
       "      <th>quit</th>\n",
       "      <th>no</th>\n",
       "      <th>yes</th>\n",
       "      <th>part</th>\n",
       "    </tr>\n",
       "    <tr>\n",
       "      <th>dept</th>\n",
       "      <th></th>\n",
       "      <th></th>\n",
       "      <th></th>\n",
       "    </tr>\n",
       "  </thead>\n",
       "  <tbody>\n",
       "    <tr>\n",
       "      <th>hr</th>\n",
       "      <td>348</td>\n",
       "      <td>116</td>\n",
       "      <td>0.25</td>\n",
       "    </tr>\n",
       "    <tr>\n",
       "      <th>marketing</th>\n",
       "      <td>419</td>\n",
       "      <td>163</td>\n",
       "      <td>0.28</td>\n",
       "    </tr>\n",
       "    <tr>\n",
       "      <th>purchasing</th>\n",
       "      <td>422</td>\n",
       "      <td>166</td>\n",
       "      <td>0.28</td>\n",
       "    </tr>\n",
       "    <tr>\n",
       "      <th>sales</th>\n",
       "      <td>1031</td>\n",
       "      <td>407</td>\n",
       "      <td>0.28</td>\n",
       "    </tr>\n",
       "    <tr>\n",
       "      <th>technology</th>\n",
       "      <td>652</td>\n",
       "      <td>276</td>\n",
       "      <td>0.30</td>\n",
       "    </tr>\n",
       "  </tbody>\n",
       "</table>\n",
       "</div>"
      ],
      "text/plain": [
       "quit          no  yes  part\n",
       "dept                       \n",
       "hr           348  116  0.25\n",
       "marketing    419  163  0.28\n",
       "purchasing   422  166  0.28\n",
       "sales       1031  407  0.28\n",
       "technology   652  276  0.30"
      ]
     },
     "metadata": {},
     "output_type": "display_data"
    }
   ],
   "source": [
    "df_dept_part = train_quit.pivot_table(index = ['dept'], columns = 'quit', aggfunc = 'count')['id']\n",
    "df_dept_part['part'] = round(df_dept_part['yes']/(df_dept_part['yes'] + df_dept_part['no']),2)\n",
    "display(df_dept_part)"
   ]
  },
  {
   "cell_type": "code",
   "execution_count": 75,
   "id": "22a37de1",
   "metadata": {},
   "outputs": [
    {
     "data": {
      "image/png": "[encoded data removed]",
      "text/plain": [
       "<Figure size 720x288 with 1 Axes>"
      ]
     },
     "metadata": {
      "needs_background": "light"
     },
     "output_type": "display_data"
    }
   ],
   "source": [
    "df_dept_part.plot(y=['part'],title='Доля уволившихся сотрудников по департаментам', kind='barh' , figsize = (10,4), legend = False)\n",
    "for i, v in enumerate(df_dept_part['part']):\n",
    "    plt.text(v+0.001 , i, v, color='black', va='center')"
   ]
  },
  {
   "cell_type": "markdown",
   "id": "8edc110e",
   "metadata": {},
   "source": [
    "Больше всего увольняется сотрудников из отдела sales, но если посмотреть на долю уволившихся сотрудников, то больше всего она в technology: 0.3.<br>\n",
    "Меньше всего увольнений в hr, доля составляет 0.25."
   ]
  },
  {
   "cell_type": "code",
   "execution_count": 76,
   "id": "f9ad8ae4",
   "metadata": {},
   "outputs": [
    {
     "data": {
      "image/png": "[encoded data removed]",
      "text/plain": [
       "<Figure size 720x288 with 1 Axes>"
      ]
     },
     "metadata": {
      "needs_background": "light"
     },
     "output_type": "display_data"
    }
   ],
   "source": [
    "df_level = train_quit_yes.pivot_table(index = 'level', aggfunc = 'count')['id'].sort_values()\n",
    "df_level.plot(y='level',title='Количество уволившихся сотрудников по должностям', kind='barh' , figsize = (10,4), legend = False)\n",
    "plt.ylabel(\"Должность\");\n",
    "plt.xlabel(\"Количество сотрудников\");\n",
    "for i, v in enumerate(df_level):\n",
    "    plt.text(v + 0.2, i, str(v), color='black', va='center')"
   ]
  },
  {
   "cell_type": "code",
   "execution_count": 77,
   "id": "b6038c04",
   "metadata": {},
   "outputs": [
    {
     "data": {
      "text/html": [
       "<div>\n",
       "<style scoped>\n",
       "    .dataframe tbody tr th:only-of-type {\n",
       "        vertical-align: middle;\n",
       "    }\n",
       "\n",
       "    .dataframe tbody tr th {\n",
       "        vertical-align: top;\n",
       "    }\n",
       "\n",
       "    .dataframe thead th {\n",
       "        text-align: right;\n",
       "    }\n",
       "</style>\n",
       "<table border=\"1\" class=\"dataframe\">\n",
       "  <thead>\n",
       "    <tr style=\"text-align: right;\">\n",
       "      <th>quit</th>\n",
       "      <th>no</th>\n",
       "      <th>yes</th>\n",
       "      <th>part</th>\n",
       "    </tr>\n",
       "    <tr>\n",
       "      <th>level</th>\n",
       "      <th></th>\n",
       "      <th></th>\n",
       "      <th></th>\n",
       "    </tr>\n",
       "  </thead>\n",
       "  <tbody>\n",
       "    <tr>\n",
       "      <th>sinior</th>\n",
       "      <td>340</td>\n",
       "      <td>17</td>\n",
       "      <td>0.05</td>\n",
       "    </tr>\n",
       "    <tr>\n",
       "      <th>middle</th>\n",
       "      <td>1586</td>\n",
       "      <td>108</td>\n",
       "      <td>0.06</td>\n",
       "    </tr>\n",
       "    <tr>\n",
       "      <th>junior</th>\n",
       "      <td>946</td>\n",
       "      <td>1003</td>\n",
       "      <td>0.51</td>\n",
       "    </tr>\n",
       "  </tbody>\n",
       "</table>\n",
       "</div>"
      ],
      "text/plain": [
       "quit      no   yes  part\n",
       "level                   \n",
       "sinior   340    17  0.05\n",
       "middle  1586   108  0.06\n",
       "junior   946  1003  0.51"
      ]
     },
     "metadata": {},
     "output_type": "display_data"
    }
   ],
   "source": [
    "df_level_part = train_quit.pivot_table(index = ['level'], columns = 'quit', aggfunc = 'count')['id']\n",
    "df_level_part['part'] = round(df_level_part['yes']/(df_level_part['yes'] + df_level_part['no']),2)\n",
    "df_level_part = df_level_part.sort_values(by='part')\n",
    "display(df_level_part)"
   ]
  },
  {
   "cell_type": "code",
   "execution_count": 78,
   "id": "803ca6a8",
   "metadata": {},
   "outputs": [
    {
     "data": {
      "image/png": "[encoded data removed]",
      "text/plain": [
       "<Figure size 720x288 with 1 Axes>"
      ]
     },
     "metadata": {
      "needs_background": "light"
     },
     "output_type": "display_data"
    }
   ],
   "source": [
    "df_level_part.plot(y=['part'],title='Доля уволившихся сотрудников по должностям', kind='barh' , figsize = (10,4), legend = False)\n",
    "for i, v in enumerate(df_level_part['part']):\n",
    "    plt.text(v+0.001 , i, v, color='black', va='center')"
   ]
  },
  {
   "cell_type": "markdown",
   "id": "1c9788e2",
   "metadata": {},
   "source": [
    "Больше всего сотрудников увольняется с уровнем junior - половина сотрудников уровня junior увольняется. Доля увольняющихся middle и sinior гораздо меньше и сотсавляет 0.06/0.05 соответственно."
   ]
  },
  {
   "cell_type": "code",
   "execution_count": 79,
   "id": "a743aede",
   "metadata": {},
   "outputs": [
    {
     "data": {
      "image/png": "[encoded data removed]",
      "text/plain": [
       "<Figure size 720x288 with 1 Axes>"
      ]
     },
     "metadata": {
      "needs_background": "light"
     },
     "output_type": "display_data"
    }
   ],
   "source": [
    "df_workload = train_quit_yes.pivot_table(index = 'workload', aggfunc = 'count')['id'].sort_values()\n",
    "df_workload.plot(y='workload',title='Количество уволившихся сотрудников по уровню загруженности', kind='barh' , figsize = (10,4), legend = False)\n",
    "plt.ylabel(\"Уровень загруженности\");\n",
    "plt.xlabel(\"Количество сотрудников\");\n",
    "for i, v in enumerate(df_workload):\n",
    "    plt.text(v + 0.2, i, str(v), color='black', va='center')"
   ]
  },
  {
   "cell_type": "code",
   "execution_count": 80,
   "id": "f84a1a68",
   "metadata": {},
   "outputs": [
    {
     "data": {
      "text/html": [
       "<div>\n",
       "<style scoped>\n",
       "    .dataframe tbody tr th:only-of-type {\n",
       "        vertical-align: middle;\n",
       "    }\n",
       "\n",
       "    .dataframe tbody tr th {\n",
       "        vertical-align: top;\n",
       "    }\n",
       "\n",
       "    .dataframe thead th {\n",
       "        text-align: right;\n",
       "    }\n",
       "</style>\n",
       "<table border=\"1\" class=\"dataframe\">\n",
       "  <thead>\n",
       "    <tr style=\"text-align: right;\">\n",
       "      <th>quit</th>\n",
       "      <th>no</th>\n",
       "      <th>yes</th>\n",
       "      <th>part</th>\n",
       "    </tr>\n",
       "    <tr>\n",
       "      <th>workload</th>\n",
       "      <th></th>\n",
       "      <th></th>\n",
       "      <th></th>\n",
       "    </tr>\n",
       "  </thead>\n",
       "  <tbody>\n",
       "    <tr>\n",
       "      <th>high</th>\n",
       "      <td>553</td>\n",
       "      <td>121</td>\n",
       "      <td>0.18</td>\n",
       "    </tr>\n",
       "    <tr>\n",
       "      <th>medium</th>\n",
       "      <td>1630</td>\n",
       "      <td>488</td>\n",
       "      <td>0.23</td>\n",
       "    </tr>\n",
       "    <tr>\n",
       "      <th>low</th>\n",
       "      <td>689</td>\n",
       "      <td>519</td>\n",
       "      <td>0.43</td>\n",
       "    </tr>\n",
       "  </tbody>\n",
       "</table>\n",
       "</div>"
      ],
      "text/plain": [
       "quit        no  yes  part\n",
       "workload                 \n",
       "high       553  121  0.18\n",
       "medium    1630  488  0.23\n",
       "low        689  519  0.43"
      ]
     },
     "metadata": {},
     "output_type": "display_data"
    }
   ],
   "source": [
    "df_workload_part = train_quit.pivot_table(index = ['workload'], columns = 'quit', aggfunc = 'count')['id']\n",
    "df_workload_part['part'] = round(df_workload_part['yes']/(df_workload_part['yes'] + df_workload_part['no']),2)\n",
    "df_workload_part = df_workload_part.sort_values(by='part')\n",
    "display(df_workload_part)"
   ]
  },
  {
   "cell_type": "code",
   "execution_count": 81,
   "id": "9fa3e752",
   "metadata": {},
   "outputs": [
    {
     "data": {
      "image/png": "[encoded data removed]",
      "text/plain": [
       "<Figure size 720x288 with 1 Axes>"
      ]
     },
     "metadata": {
      "needs_background": "light"
     },
     "output_type": "display_data"
    }
   ],
   "source": [
    "df_workload_part.plot(y=['part'],title='Доля уволившихся сотрудников по уровню загрузки', kind='barh' , figsize = (10,4), legend = False)\n",
    "for i, v in enumerate(df_workload_part['part']):\n",
    "    plt.text(v+0.001 , i, v, color='black', va='center')"
   ]
  },
  {
   "cell_type": "markdown",
   "id": "3099d03f",
   "metadata": {},
   "source": [
    "Интересно, что больше всего сотрудников увольняется с уровнем загрузки low, а сильно загруженные сотрудники остаются. Доля уволившихся сотрудников по уровням low, medium, high составляет 0.43, 0.23, 0.18 соответственно."
   ]
  },
  {
   "cell_type": "code",
   "execution_count": 82,
   "id": "86f19ceb",
   "metadata": {},
   "outputs": [
    {
     "data": {
      "text/plain": [
       "22800.0"
      ]
     },
     "execution_count": 82,
     "metadata": {},
     "output_type": "execute_result"
    }
   ],
   "source": [
    "train_quit_yes['salary'].median()"
   ]
  },
  {
   "cell_type": "code",
   "execution_count": 83,
   "id": "ba3860ca",
   "metadata": {},
   "outputs": [
    {
     "data": {
      "text/plain": [
       "30000.0"
      ]
     },
     "execution_count": 83,
     "metadata": {},
     "output_type": "execute_result"
    }
   ],
   "source": [
    "train_quit['salary'].median()"
   ]
  },
  {
   "cell_type": "code",
   "execution_count": 84,
   "id": "a9f260bd",
   "metadata": {},
   "outputs": [
    {
     "data": {
      "text/plain": [
       "23885.106382978724"
      ]
     },
     "execution_count": 84,
     "metadata": {},
     "output_type": "execute_result"
    }
   ],
   "source": [
    "train_quit_yes['salary'].mean()"
   ]
  },
  {
   "cell_type": "code",
   "execution_count": 85,
   "id": "8f708197",
   "metadata": {},
   "outputs": [
    {
     "data": {
      "text/plain": [
       "33805.8"
      ]
     },
     "execution_count": 85,
     "metadata": {},
     "output_type": "execute_result"
    }
   ],
   "source": [
    "train_quit['salary'].mean()"
   ]
  },
  {
   "cell_type": "markdown",
   "id": "33a1a637",
   "metadata": {},
   "source": [
    "уровень зарплаты уволившихся и оставшихся сотрудников существенно различается: у уволившихся сотрудников средняя зарплата гораздо меньше."
   ]
  },
  {
   "cell_type": "markdown",
   "id": "21cfb293",
   "metadata": {},
   "source": [
    "#### Зависимость увольнения от уровня удовлетворенности сотрудника"
   ]
  },
  {
   "cell_type": "code",
   "execution_count": 86,
   "id": "814f5f65",
   "metadata": {},
   "outputs": [],
   "source": [
    "test_plot = test_target_quit.merge(test_target_job_satisfaction_rate, on = 'id', how = 'inner')"
   ]
  },
  {
   "cell_type": "code",
   "execution_count": 87,
   "id": "88e48473",
   "metadata": {},
   "outputs": [
    {
     "name": "stdout",
     "output_type": "stream",
     "text": [
      "<class 'pandas.core.frame.DataFrame'>\n",
      "Int64Index: 2000 entries, 0 to 1999\n",
      "Data columns (total 3 columns):\n",
      " #   Column                 Non-Null Count  Dtype  \n",
      "---  ------                 --------------  -----  \n",
      " 0   id                     2000 non-null   int64  \n",
      " 1   quit                   2000 non-null   object \n",
      " 2   job_satisfaction_rate  2000 non-null   float64\n",
      "dtypes: float64(1), int64(1), object(1)\n",
      "memory usage: 62.5+ KB\n"
     ]
    }
   ],
   "source": [
    "test_plot.info()"
   ]
  },
  {
   "cell_type": "markdown",
   "id": "82fd5b62",
   "metadata": {},
   "source": [
    "Объединили две тестовые выборки с целевым признаком, чтобы оценить, как влияет уровень удовлетворенности на увольнение."
   ]
  },
  {
   "cell_type": "code",
   "execution_count": 88,
   "id": "cb4ba4e9",
   "metadata": {},
   "outputs": [],
   "source": [
    "test_plot_yes = test_plot.query('quit==\"yes\"')\n",
    "test_plot_no = test_plot.query('quit==\"no\"')"
   ]
  },
  {
   "cell_type": "code",
   "execution_count": 89,
   "id": "be479bd4",
   "metadata": {},
   "outputs": [
    {
     "data": {
      "image/png": "[encoded data removed]",
      "text/plain": [
       "<Figure size 432x288 with 1 Axes>"
      ]
     },
     "metadata": {
      "needs_background": "light"
     },
     "output_type": "display_data"
    }
   ],
   "source": [
    "plt.hist(test_plot_yes['job_satisfaction_rate'], alpha = 0.5, bins=50,  label = 'Уровень удовлетворенности уволенных сотрудников')\n",
    "plt.hist(test_plot_no['job_satisfaction_rate'], alpha = 0.5, bins=50,  label = 'Уровень удовлетворенности оставшихся сотрудников');\n",
    "plt.legend(loc='upper right');"
   ]
  },
  {
   "cell_type": "code",
   "execution_count": 90,
   "id": "21f9aaba",
   "metadata": {},
   "outputs": [
    {
     "data": {
      "text/html": [
       "<div>\n",
       "<style scoped>\n",
       "    .dataframe tbody tr th:only-of-type {\n",
       "        vertical-align: middle;\n",
       "    }\n",
       "\n",
       "    .dataframe tbody tr th {\n",
       "        vertical-align: top;\n",
       "    }\n",
       "\n",
       "    .dataframe thead th {\n",
       "        text-align: right;\n",
       "    }\n",
       "</style>\n",
       "<table border=\"1\" class=\"dataframe\">\n",
       "  <thead>\n",
       "    <tr style=\"text-align: right;\">\n",
       "      <th></th>\n",
       "      <th>id</th>\n",
       "      <th>job_satisfaction_rate</th>\n",
       "    </tr>\n",
       "  </thead>\n",
       "  <tbody>\n",
       "    <tr>\n",
       "      <th>count</th>\n",
       "      <td>564.000000</td>\n",
       "      <td>564.000000</td>\n",
       "    </tr>\n",
       "    <tr>\n",
       "      <th>mean</th>\n",
       "      <td>563164.792553</td>\n",
       "      <td>0.387713</td>\n",
       "    </tr>\n",
       "    <tr>\n",
       "      <th>std</th>\n",
       "      <td>251523.775926</td>\n",
       "      <td>0.185784</td>\n",
       "    </tr>\n",
       "    <tr>\n",
       "      <th>min</th>\n",
       "      <td>103221.000000</td>\n",
       "      <td>0.040000</td>\n",
       "    </tr>\n",
       "    <tr>\n",
       "      <th>25%</th>\n",
       "      <td>358969.500000</td>\n",
       "      <td>0.240000</td>\n",
       "    </tr>\n",
       "    <tr>\n",
       "      <th>50%</th>\n",
       "      <td>554657.000000</td>\n",
       "      <td>0.370000</td>\n",
       "    </tr>\n",
       "    <tr>\n",
       "      <th>75%</th>\n",
       "      <td>781640.250000</td>\n",
       "      <td>0.492500</td>\n",
       "    </tr>\n",
       "    <tr>\n",
       "      <th>max</th>\n",
       "      <td>999029.000000</td>\n",
       "      <td>0.970000</td>\n",
       "    </tr>\n",
       "  </tbody>\n",
       "</table>\n",
       "</div>"
      ],
      "text/plain": [
       "                  id  job_satisfaction_rate\n",
       "count     564.000000             564.000000\n",
       "mean   563164.792553               0.387713\n",
       "std    251523.775926               0.185784\n",
       "min    103221.000000               0.040000\n",
       "25%    358969.500000               0.240000\n",
       "50%    554657.000000               0.370000\n",
       "75%    781640.250000               0.492500\n",
       "max    999029.000000               0.970000"
      ]
     },
     "execution_count": 90,
     "metadata": {},
     "output_type": "execute_result"
    }
   ],
   "source": [
    "test_plot_yes.describe()"
   ]
  },
  {
   "cell_type": "code",
   "execution_count": 91,
   "id": "1f5a3527",
   "metadata": {},
   "outputs": [
    {
     "data": {
      "text/html": [
       "<div>\n",
       "<style scoped>\n",
       "    .dataframe tbody tr th:only-of-type {\n",
       "        vertical-align: middle;\n",
       "    }\n",
       "\n",
       "    .dataframe tbody tr th {\n",
       "        vertical-align: top;\n",
       "    }\n",
       "\n",
       "    .dataframe thead th {\n",
       "        text-align: right;\n",
       "    }\n",
       "</style>\n",
       "<table border=\"1\" class=\"dataframe\">\n",
       "  <thead>\n",
       "    <tr style=\"text-align: right;\">\n",
       "      <th></th>\n",
       "      <th>id</th>\n",
       "      <th>job_satisfaction_rate</th>\n",
       "    </tr>\n",
       "  </thead>\n",
       "  <tbody>\n",
       "    <tr>\n",
       "      <th>count</th>\n",
       "      <td>1436.000000</td>\n",
       "      <td>1436.000000</td>\n",
       "    </tr>\n",
       "    <tr>\n",
       "      <th>mean</th>\n",
       "      <td>548680.699164</td>\n",
       "      <td>0.612040</td>\n",
       "    </tr>\n",
       "    <tr>\n",
       "      <th>std</th>\n",
       "      <td>254730.637881</td>\n",
       "      <td>0.199367</td>\n",
       "    </tr>\n",
       "    <tr>\n",
       "      <th>min</th>\n",
       "      <td>100298.000000</td>\n",
       "      <td>0.030000</td>\n",
       "    </tr>\n",
       "    <tr>\n",
       "      <th>25%</th>\n",
       "      <td>327477.750000</td>\n",
       "      <td>0.500000</td>\n",
       "    </tr>\n",
       "    <tr>\n",
       "      <th>50%</th>\n",
       "      <td>546372.000000</td>\n",
       "      <td>0.660000</td>\n",
       "    </tr>\n",
       "    <tr>\n",
       "      <th>75%</th>\n",
       "      <td>761578.500000</td>\n",
       "      <td>0.760000</td>\n",
       "    </tr>\n",
       "    <tr>\n",
       "      <th>max</th>\n",
       "      <td>998900.000000</td>\n",
       "      <td>1.000000</td>\n",
       "    </tr>\n",
       "  </tbody>\n",
       "</table>\n",
       "</div>"
      ],
      "text/plain": [
       "                  id  job_satisfaction_rate\n",
       "count    1436.000000            1436.000000\n",
       "mean   548680.699164               0.612040\n",
       "std    254730.637881               0.199367\n",
       "min    100298.000000               0.030000\n",
       "25%    327477.750000               0.500000\n",
       "50%    546372.000000               0.660000\n",
       "75%    761578.500000               0.760000\n",
       "max    998900.000000               1.000000"
      ]
     },
     "execution_count": 91,
     "metadata": {},
     "output_type": "execute_result"
    }
   ],
   "source": [
    "test_plot_no.describe()"
   ]
  },
  {
   "cell_type": "markdown",
   "id": "bd105905",
   "metadata": {},
   "source": [
    "Среднее значение уровня удовлетворенности у оставшихся сотрудников значительно выше, чем у уволившихся. Это видно и по распределению уровня у оставшихся сотрудников. Оно скошено вправо."
   ]
  },
  {
   "cell_type": "markdown",
   "id": "f5565b5c",
   "metadata": {},
   "source": [
    "Проверим гипотезу:<br>\n",
    "Нулевая гипотеза: среднее значение уровня удовлетворенности работой ушедших сотрудников равно среднему значению уровня удовлетворенности оставшихся сотрудников<br>\n",
    "Альтернативная гипотеза: среднее значение уровня удовлетворенности работой оставшихся сотрудников больше среднего уровня удовлетворенности работой ушедших сотрудников<br>\n",
    "У нас две независимые выборки, в связи с этим используем *ttest_ind*"
   ]
  },
  {
   "cell_type": "code",
   "execution_count": 92,
   "id": "f79755d0",
   "metadata": {},
   "outputs": [
    {
     "name": "stdout",
     "output_type": "stream",
     "text": [
      "p-значение:  6.1556103325868406e-105\n",
      "Отвергаем нулевую гипотезу\n"
     ]
    }
   ],
   "source": [
    "alpha = 0.01\n",
    "results = st.ttest_ind(test_plot_no['job_satisfaction_rate'], test_plot_yes['job_satisfaction_rate'], alternative = 'greater')\n",
    "print('p-значение: ',results.pvalue)\n",
    "if results.pvalue < alpha:\n",
    "    print('Отвергаем нулевую гипотезу')\n",
    "else:\n",
    "    print('Не получилось отвергнуть нулевую гипотезу')"
   ]
  },
  {
   "cell_type": "markdown",
   "id": "f6652999",
   "metadata": {},
   "source": [
    "p-value достаточно мало. <br>\n",
    "Нулевая гипотеза о том, что среднее значение уровня удовлетворенности работой ушедших и оставшихся сотрудников равны, отвергнута.<br>\n",
    "Есть основания утверждать, что среднее значение уровня удовлетворенности работой оставшихся сотрудников больше."
   ]
  },
  {
   "cell_type": "markdown",
   "id": "df826f06",
   "metadata": {},
   "source": [
    "#### Добавление нового входного признака"
   ]
  },
  {
   "cell_type": "code",
   "execution_count": 93,
   "id": "2b930740",
   "metadata": {},
   "outputs": [
    {
     "data": {
      "text/html": [
       "<div>\n",
       "<style scoped>\n",
       "    .dataframe tbody tr th:only-of-type {\n",
       "        vertical-align: middle;\n",
       "    }\n",
       "\n",
       "    .dataframe tbody tr th {\n",
       "        vertical-align: top;\n",
       "    }\n",
       "\n",
       "    .dataframe thead th {\n",
       "        text-align: right;\n",
       "    }\n",
       "</style>\n",
       "<table border=\"1\" class=\"dataframe\">\n",
       "  <thead>\n",
       "    <tr style=\"text-align: right;\">\n",
       "      <th></th>\n",
       "      <th>id</th>\n",
       "      <th>dept</th>\n",
       "      <th>level</th>\n",
       "      <th>workload</th>\n",
       "      <th>employment_years</th>\n",
       "      <th>last_year_promo</th>\n",
       "      <th>last_year_violations</th>\n",
       "      <th>supervisor_evaluation</th>\n",
       "      <th>salary</th>\n",
       "      <th>quit</th>\n",
       "    </tr>\n",
       "  </thead>\n",
       "  <tbody>\n",
       "    <tr>\n",
       "      <th>0</th>\n",
       "      <td>723290</td>\n",
       "      <td>sales</td>\n",
       "      <td>middle</td>\n",
       "      <td>high</td>\n",
       "      <td>2</td>\n",
       "      <td>no</td>\n",
       "      <td>no</td>\n",
       "      <td>4</td>\n",
       "      <td>54000</td>\n",
       "      <td>no</td>\n",
       "    </tr>\n",
       "    <tr>\n",
       "      <th>1</th>\n",
       "      <td>814010</td>\n",
       "      <td>sales</td>\n",
       "      <td>junior</td>\n",
       "      <td>medium</td>\n",
       "      <td>2</td>\n",
       "      <td>no</td>\n",
       "      <td>no</td>\n",
       "      <td>4</td>\n",
       "      <td>27600</td>\n",
       "      <td>no</td>\n",
       "    </tr>\n",
       "    <tr>\n",
       "      <th>2</th>\n",
       "      <td>155091</td>\n",
       "      <td>purchasing</td>\n",
       "      <td>middle</td>\n",
       "      <td>medium</td>\n",
       "      <td>5</td>\n",
       "      <td>no</td>\n",
       "      <td>no</td>\n",
       "      <td>1</td>\n",
       "      <td>37200</td>\n",
       "      <td>no</td>\n",
       "    </tr>\n",
       "    <tr>\n",
       "      <th>3</th>\n",
       "      <td>257132</td>\n",
       "      <td>sales</td>\n",
       "      <td>junior</td>\n",
       "      <td>medium</td>\n",
       "      <td>2</td>\n",
       "      <td>no</td>\n",
       "      <td>yes</td>\n",
       "      <td>3</td>\n",
       "      <td>24000</td>\n",
       "      <td>yes</td>\n",
       "    </tr>\n",
       "    <tr>\n",
       "      <th>4</th>\n",
       "      <td>910140</td>\n",
       "      <td>marketing</td>\n",
       "      <td>junior</td>\n",
       "      <td>medium</td>\n",
       "      <td>2</td>\n",
       "      <td>no</td>\n",
       "      <td>no</td>\n",
       "      <td>5</td>\n",
       "      <td>25200</td>\n",
       "      <td>no</td>\n",
       "    </tr>\n",
       "  </tbody>\n",
       "</table>\n",
       "</div>"
      ],
      "text/plain": [
       "       id        dept   level workload  employment_years last_year_promo  \\\n",
       "0  723290       sales  middle     high                 2              no   \n",
       "1  814010       sales  junior   medium                 2              no   \n",
       "2  155091  purchasing  middle   medium                 5              no   \n",
       "3  257132       sales  junior   medium                 2              no   \n",
       "4  910140   marketing  junior   medium                 2              no   \n",
       "\n",
       "  last_year_violations  supervisor_evaluation  salary quit  \n",
       "0                   no                      4   54000   no  \n",
       "1                   no                      4   27600   no  \n",
       "2                   no                      1   37200   no  \n",
       "3                  yes                      3   24000  yes  \n",
       "4                   no                      5   25200   no  "
      ]
     },
     "execution_count": 93,
     "metadata": {},
     "output_type": "execute_result"
    }
   ],
   "source": [
    "train_quit.head()"
   ]
  },
  {
   "cell_type": "code",
   "execution_count": 94,
   "id": "208ba3a6",
   "metadata": {},
   "outputs": [],
   "source": [
    "train_quit= train_quit.set_index('id')\n"
   ]
  },
  {
   "cell_type": "code",
   "execution_count": 95,
   "id": "1393bdb5",
   "metadata": {},
   "outputs": [],
   "source": [
    "test_target_quit= test_target_quit.set_index('id')"
   ]
  },
  {
   "cell_type": "markdown",
   "id": "13d31741",
   "metadata": {},
   "source": [
    "Добавим в тренировочную выборку результат предсказания уровня удовлетворенности сотрудника, полученный с помощью лучше модели."
   ]
  },
  {
   "cell_type": "code",
   "execution_count": 96,
   "id": "9123754e",
   "metadata": {},
   "outputs": [],
   "source": [
    "train_quit['job_satisfaction_rate'] = randomized_search.best_estimator_.predict(train_quit.drop(['quit'], axis = 1))"
   ]
  },
  {
   "cell_type": "markdown",
   "id": "912fd1df",
   "metadata": {},
   "source": [
    "Также добавим смоделированный признак уровень удовлетворенности сотрудника в тестовую выборку."
   ]
  },
  {
   "cell_type": "code",
   "execution_count": 97,
   "id": "322cfff8",
   "metadata": {},
   "outputs": [],
   "source": [
    "test_features['job_satisfaction_rate'] = randomized_search.best_estimator_.predict(test_features)"
   ]
  },
  {
   "cell_type": "code",
   "execution_count": 98,
   "id": "35d12e1e",
   "metadata": {},
   "outputs": [
    {
     "data": {
      "text/html": [
       "<div>\n",
       "<style scoped>\n",
       "    .dataframe tbody tr th:only-of-type {\n",
       "        vertical-align: middle;\n",
       "    }\n",
       "\n",
       "    .dataframe tbody tr th {\n",
       "        vertical-align: top;\n",
       "    }\n",
       "\n",
       "    .dataframe thead th {\n",
       "        text-align: right;\n",
       "    }\n",
       "</style>\n",
       "<table border=\"1\" class=\"dataframe\">\n",
       "  <thead>\n",
       "    <tr style=\"text-align: right;\">\n",
       "      <th></th>\n",
       "      <th>dept</th>\n",
       "      <th>level</th>\n",
       "      <th>workload</th>\n",
       "      <th>employment_years</th>\n",
       "      <th>last_year_promo</th>\n",
       "      <th>last_year_violations</th>\n",
       "      <th>supervisor_evaluation</th>\n",
       "      <th>salary</th>\n",
       "      <th>job_satisfaction_rate</th>\n",
       "    </tr>\n",
       "    <tr>\n",
       "      <th>id</th>\n",
       "      <th></th>\n",
       "      <th></th>\n",
       "      <th></th>\n",
       "      <th></th>\n",
       "      <th></th>\n",
       "      <th></th>\n",
       "      <th></th>\n",
       "      <th></th>\n",
       "      <th></th>\n",
       "    </tr>\n",
       "  </thead>\n",
       "  <tbody>\n",
       "    <tr>\n",
       "      <th>485046</th>\n",
       "      <td>marketing</td>\n",
       "      <td>junior</td>\n",
       "      <td>medium</td>\n",
       "      <td>2</td>\n",
       "      <td>no</td>\n",
       "      <td>no</td>\n",
       "      <td>5</td>\n",
       "      <td>28800</td>\n",
       "      <td>0.868571</td>\n",
       "    </tr>\n",
       "    <tr>\n",
       "      <th>686555</th>\n",
       "      <td>hr</td>\n",
       "      <td>junior</td>\n",
       "      <td>medium</td>\n",
       "      <td>1</td>\n",
       "      <td>no</td>\n",
       "      <td>no</td>\n",
       "      <td>4</td>\n",
       "      <td>30000</td>\n",
       "      <td>0.676667</td>\n",
       "    </tr>\n",
       "    <tr>\n",
       "      <th>467458</th>\n",
       "      <td>sales</td>\n",
       "      <td>middle</td>\n",
       "      <td>low</td>\n",
       "      <td>5</td>\n",
       "      <td>no</td>\n",
       "      <td>no</td>\n",
       "      <td>4</td>\n",
       "      <td>19200</td>\n",
       "      <td>0.680000</td>\n",
       "    </tr>\n",
       "    <tr>\n",
       "      <th>418655</th>\n",
       "      <td>sales</td>\n",
       "      <td>middle</td>\n",
       "      <td>low</td>\n",
       "      <td>6</td>\n",
       "      <td>no</td>\n",
       "      <td>no</td>\n",
       "      <td>4</td>\n",
       "      <td>19200</td>\n",
       "      <td>0.686250</td>\n",
       "    </tr>\n",
       "    <tr>\n",
       "      <th>789145</th>\n",
       "      <td>hr</td>\n",
       "      <td>middle</td>\n",
       "      <td>medium</td>\n",
       "      <td>5</td>\n",
       "      <td>no</td>\n",
       "      <td>no</td>\n",
       "      <td>5</td>\n",
       "      <td>40800</td>\n",
       "      <td>0.786667</td>\n",
       "    </tr>\n",
       "  </tbody>\n",
       "</table>\n",
       "</div>"
      ],
      "text/plain": [
       "             dept   level workload  employment_years last_year_promo  \\\n",
       "id                                                                     \n",
       "485046  marketing  junior   medium                 2              no   \n",
       "686555         hr  junior   medium                 1              no   \n",
       "467458      sales  middle      low                 5              no   \n",
       "418655      sales  middle      low                 6              no   \n",
       "789145         hr  middle   medium                 5              no   \n",
       "\n",
       "       last_year_violations  supervisor_evaluation  salary  \\\n",
       "id                                                           \n",
       "485046                   no                      5   28800   \n",
       "686555                   no                      4   30000   \n",
       "467458                   no                      4   19200   \n",
       "418655                   no                      4   19200   \n",
       "789145                   no                      5   40800   \n",
       "\n",
       "        job_satisfaction_rate  \n",
       "id                             \n",
       "485046               0.868571  \n",
       "686555               0.676667  \n",
       "467458               0.680000  \n",
       "418655               0.686250  \n",
       "789145               0.786667  "
      ]
     },
     "execution_count": 98,
     "metadata": {},
     "output_type": "execute_result"
    }
   ],
   "source": [
    "test_features.head()"
   ]
  },
  {
   "cell_type": "markdown",
   "id": "1bce9da4",
   "metadata": {},
   "source": [
    "#### Подготовка данных"
   ]
  },
  {
   "cell_type": "code",
   "execution_count": 99,
   "id": "bdd270b8",
   "metadata": {},
   "outputs": [
    {
     "data": {
      "text/plain": [
       "((4000, 9), (2000, 9), (4000,), (2000,))"
      ]
     },
     "execution_count": 99,
     "metadata": {},
     "output_type": "execute_result"
    }
   ],
   "source": [
    "X_train = train_quit.drop(['quit'], axis=1)\n",
    "y_train = train_quit['quit']\n",
    "test = test_features.merge(test_target_quit, on = 'id')\n",
    "X_test = test.drop(['quit'], axis=1)\n",
    "y_test = test['quit']\n",
    "X_train.shape, X_test.shape, y_train.shape, y_test.shape"
   ]
  },
  {
   "cell_type": "code",
   "execution_count": 100,
   "id": "d512a1a3",
   "metadata": {},
   "outputs": [],
   "source": [
    "# создаём списки с названиями признаков\n",
    "ohe_columns = ['dept', 'last_year_promo', 'last_year_violations']\n",
    "ord_columns = ['level', 'workload']\n",
    "num_columns = ['salary', 'employment_years', 'supervisor_evaluation', 'job_satisfaction_rate']"
   ]
  },
  {
   "cell_type": "code",
   "execution_count": 101,
   "id": "d66b9171",
   "metadata": {},
   "outputs": [],
   "source": [
    "# создаём пайплайн для подготовки признаков из списка ohe_columns: заполнение пропусков и OHE-кодирование\n",
    "# SimpleImputer + OHE\n",
    "ohe_pipe = Pipeline(\n",
    "    [('simpleImputer_ohe', SimpleImputer(missing_values=np.nan, strategy='most_frequent')),\n",
    "     ('ohe', OneHotEncoder(handle_unknown='ignore', sparse=False))#drop='first',\n",
    "    ]\n",
    "    )\n",
    "\n",
    "# создаём пайплайн для подготовки признаков из списка ord_columns: заполнение пропусков и Ordinal-кодирование\n",
    "# SimpleImputer + OE\n",
    "ord_pipe = Pipeline(\n",
    "    [('simpleImputer_before_ord', SimpleImputer(missing_values=np.nan, strategy='most_frequent')),\n",
    "     ('ord',  OrdinalEncoder(categories=[\n",
    "                    ['junior', 'middle', 'sinior'], \n",
    "                    ['low', 'medium', 'high'],\n",
    "                ], handle_unknown='use_encoded_value', unknown_value=np.nan\n",
    "            )\n",
    "        ),\n",
    "     ('simpleImputer_after_ord', SimpleImputer(missing_values=np.nan, strategy='most_frequent'))\n",
    "    ]\n",
    ")"
   ]
  },
  {
   "cell_type": "code",
   "execution_count": 102,
   "id": "42721b5c",
   "metadata": {},
   "outputs": [],
   "source": [
    "# создаём общий пайплайн для подготовки данных\n",
    "data_preprocessor = ColumnTransformer(\n",
    "    [('ohe', ohe_pipe, ohe_columns),\n",
    "     ('ord', ord_pipe, ord_columns),\n",
    "     ('num', StandardScaler(), num_columns)\n",
    "    ], \n",
    "    remainder='passthrough'\n",
    ")"
   ]
  },
  {
   "cell_type": "code",
   "execution_count": 103,
   "id": "b247d0eb",
   "metadata": {},
   "outputs": [],
   "source": [
    "label_encoder = LabelEncoder()\n",
    "label_encoder.fit(y_train)\n",
    "\n",
    "y_train = label_encoder.transform(y_train)\n",
    "y_test = label_encoder.transform(y_test)"
   ]
  },
  {
   "cell_type": "code",
   "execution_count": 104,
   "id": "3f5c4e8e",
   "metadata": {},
   "outputs": [
    {
     "name": "stdout",
     "output_type": "stream",
     "text": [
      "['no' 'yes']\n"
     ]
    }
   ],
   "source": [
    "print(label_encoder.classes_)"
   ]
  },
  {
   "cell_type": "markdown",
   "id": "11c68173",
   "metadata": {},
   "source": [
    "Для подготовки данных написали пайплайн.<br>\n",
    "Также закодировали целевой признак: присвоили значение 0, если сотрудник не уволился, иначе: 1."
   ]
  },
  {
   "cell_type": "code",
   "execution_count": 105,
   "id": "35aa82f2",
   "metadata": {},
   "outputs": [
    {
     "name": "stdout",
     "output_type": "stream",
     "text": [
      "[0 0 0 ... 1 0 1]\n"
     ]
    }
   ],
   "source": [
    "print(y_train)"
   ]
  },
  {
   "cell_type": "markdown",
   "id": "693d90fc",
   "metadata": {},
   "source": [
    "#### Обучение модели"
   ]
  },
  {
   "cell_type": "code",
   "execution_count": 106,
   "id": "ef3435e2",
   "metadata": {},
   "outputs": [
    {
     "name": "stdout",
     "output_type": "stream",
     "text": [
      "Лучшая модель и её параметры:\n",
      "\n",
      " Pipeline(steps=[('preprocessor',\n",
      "                 ColumnTransformer(remainder='passthrough',\n",
      "                                   transformers=[('ohe',\n",
      "                                                  Pipeline(steps=[('simpleImputer_ohe',\n",
      "                                                                   SimpleImputer(strategy='most_frequent')),\n",
      "                                                                  ('ohe',\n",
      "                                                                   OneHotEncoder(handle_unknown='ignore',\n",
      "                                                                                 sparse=False))]),\n",
      "                                                  ['dept', 'last_year_promo',\n",
      "                                                   'last_year_violations']),\n",
      "                                                 ('ord',\n",
      "                                                  Pipeline(steps=[('simpleImputer_before_ord',\n",
      "                                                                   SimpleImputer...\n",
      "                                                                                               'sinior'],\n",
      "                                                                                              ['low',\n",
      "                                                                                               'medium',\n",
      "                                                                                               'high']],\n",
      "                                                                                  handle_unknown='use_encoded_value',\n",
      "                                                                                  unknown_value=nan)),\n",
      "                                                                  ('simpleImputer_after_ord',\n",
      "                                                                   SimpleImputer(strategy='most_frequent'))]),\n",
      "                                                  ['level', 'workload']),\n",
      "                                                 ('num', MinMaxScaler(),\n",
      "                                                  ['salary', 'employment_years',\n",
      "                                                   'supervisor_evaluation',\n",
      "                                                   'job_satisfaction_rate'])])),\n",
      "                ('models',\n",
      "                 SVC(kernel='poly', probability=True, random_state=42))])\n",
      "Метрика лучшей модели на тренировочной выборке: 0.929925125554559\n",
      "Метрика ROC-AUC на тестовой выборке: 0.9219493915328236\n"
     ]
    }
   ],
   "source": [
    "# создаём итоговый пайплайн: подготовка данных и модель\n",
    "pipe_final = Pipeline([\n",
    "    ('preprocessor', data_preprocessor),\n",
    "    ('models', DecisionTreeClassifier(random_state=RANDOM_STATE))\n",
    "])\n",
    "\n",
    "param_grid = [\n",
    "    # словарь для модели DecisionTreeClassifier()\n",
    "    {\n",
    "        'models': [DecisionTreeClassifier(random_state=RANDOM_STATE)],\n",
    "        'models__max_depth': range(2,5),\n",
    "        'models__max_features': range(2,5),\n",
    "        'preprocessor__num': [StandardScaler(), MinMaxScaler(), 'passthrough']  \n",
    "    },\n",
    "    \n",
    "    # словарь для модели KNeighborsClassifier() \n",
    "    {\n",
    "        'models': [KNeighborsClassifier()],\n",
    "        'models__n_neighbors': range(2,5),\n",
    "        'preprocessor__num': [StandardScaler(), MinMaxScaler(), 'passthrough']   \n",
    "    },\n",
    "\n",
    "    # словарь для модели LogisticRegression()\n",
    "    {\n",
    "        'models': [LogisticRegression(\n",
    "            random_state=RANDOM_STATE, \n",
    "            solver='liblinear', \n",
    "            penalty='l1'\n",
    "        )],\n",
    "        'models__C': range(1,5),\n",
    "        'preprocessor__num': [StandardScaler(), MinMaxScaler(), 'passthrough']  \n",
    "    },\n",
    "    \n",
    "    # словарь для модели SVC()\n",
    "    {\n",
    "        'models': [SVC(\n",
    "            random_state=RANDOM_STATE, probability= True\n",
    "        )],\n",
    "        'models__kernel': ['rbf', 'sigmoid', 'poly'],\n",
    "        'preprocessor__num': [StandardScaler(), MinMaxScaler(), 'passthrough']  \n",
    "    }\n",
    "]\n",
    "\n",
    "randomized_search = RandomizedSearchCV(\n",
    "    pipe_final, \n",
    "    param_grid, \n",
    "    cv=5,\n",
    "    scoring='roc_auc',\n",
    "    random_state=RANDOM_STATE,\n",
    "    n_jobs=-1\n",
    ")\n",
    "randomized_search.fit(X_train, y_train)\n",
    "\n",
    "print('Лучшая модель и её параметры:\\n\\n', randomized_search.best_estimator_)\n",
    "print ('Метрика лучшей модели на тренировочной выборке:', randomized_search.best_score_)\n",
    "\n",
    "# проверьте работу модели на тестовой выборке\n",
    "# рассчитайте прогноз на тестовых данных\n",
    "pred = randomized_search.predict_proba(X_test)\n",
    "pred_one = pred[:,1]\n",
    "print(f'Метрика ROC-AUC на тестовой выборке: {roc_auc_score(y_test, pred_one)}')"
   ]
  },
  {
   "cell_type": "code",
   "execution_count": 107,
   "id": "87535ca5",
   "metadata": {},
   "outputs": [
    {
     "data": {
      "text/html": [
       "<div>\n",
       "<style scoped>\n",
       "    .dataframe tbody tr th:only-of-type {\n",
       "        vertical-align: middle;\n",
       "    }\n",
       "\n",
       "    .dataframe tbody tr th {\n",
       "        vertical-align: top;\n",
       "    }\n",
       "\n",
       "    .dataframe thead th {\n",
       "        text-align: right;\n",
       "    }\n",
       "</style>\n",
       "<table border=\"1\" class=\"dataframe\">\n",
       "  <thead>\n",
       "    <tr style=\"text-align: right;\">\n",
       "      <th></th>\n",
       "      <th>rank_test_score</th>\n",
       "      <th>param_models</th>\n",
       "      <th>mean_test_score</th>\n",
       "      <th>params</th>\n",
       "    </tr>\n",
       "  </thead>\n",
       "  <tbody>\n",
       "    <tr>\n",
       "      <th>5</th>\n",
       "      <td>1</td>\n",
       "      <td>SVC(kernel='poly', probability=True, random_state=42)</td>\n",
       "      <td>0.929925</td>\n",
       "      <td>{'preprocessor__num': MinMaxScaler(), 'models__kernel': 'poly', 'models': SVC(kernel='poly', probability=True, random_state=42)}</td>\n",
       "    </tr>\n",
       "    <tr>\n",
       "      <th>8</th>\n",
       "      <td>2</td>\n",
       "      <td>LogisticRegression(penalty='l1', random_state=42, solver='liblinear')</td>\n",
       "      <td>0.917263</td>\n",
       "      <td>{'preprocessor__num': StandardScaler(), 'models__C': 4, 'models': LogisticRegression(penalty='l1', random_state=42, solver='liblinear')}</td>\n",
       "    </tr>\n",
       "    <tr>\n",
       "      <th>4</th>\n",
       "      <td>3</td>\n",
       "      <td>KNeighborsClassifier()</td>\n",
       "      <td>0.912272</td>\n",
       "      <td>{'preprocessor__num': MinMaxScaler(), 'models__n_neighbors': 4, 'models': KNeighborsClassifier()}</td>\n",
       "    </tr>\n",
       "    <tr>\n",
       "      <th>2</th>\n",
       "      <td>4</td>\n",
       "      <td>KNeighborsClassifier()</td>\n",
       "      <td>0.900974</td>\n",
       "      <td>{'preprocessor__num': StandardScaler(), 'models__n_neighbors': 3, 'models': KNeighborsClassifier()}</td>\n",
       "    </tr>\n",
       "    <tr>\n",
       "      <th>7</th>\n",
       "      <td>5</td>\n",
       "      <td>KNeighborsClassifier()</td>\n",
       "      <td>0.897184</td>\n",
       "      <td>{'preprocessor__num': MinMaxScaler(), 'models__n_neighbors': 3, 'models': KNeighborsClassifier()}</td>\n",
       "    </tr>\n",
       "    <tr>\n",
       "      <th>6</th>\n",
       "      <td>6</td>\n",
       "      <td>KNeighborsClassifier()</td>\n",
       "      <td>0.878595</td>\n",
       "      <td>{'preprocessor__num': StandardScaler(), 'models__n_neighbors': 2, 'models': KNeighborsClassifier()}</td>\n",
       "    </tr>\n",
       "    <tr>\n",
       "      <th>3</th>\n",
       "      <td>7</td>\n",
       "      <td>DecisionTreeClassifier(random_state=42)</td>\n",
       "      <td>0.814372</td>\n",
       "      <td>{'preprocessor__num': MinMaxScaler(), 'models__max_features': 3, 'models__max_depth': 3, 'models': DecisionTreeClassifier(random_state=42)}</td>\n",
       "    </tr>\n",
       "    <tr>\n",
       "      <th>9</th>\n",
       "      <td>7</td>\n",
       "      <td>DecisionTreeClassifier(random_state=42)</td>\n",
       "      <td>0.814372</td>\n",
       "      <td>{'preprocessor__num': StandardScaler(), 'models__max_features': 3, 'models__max_depth': 3, 'models': DecisionTreeClassifier(random_state=42)}</td>\n",
       "    </tr>\n",
       "    <tr>\n",
       "      <th>1</th>\n",
       "      <td>9</td>\n",
       "      <td>DecisionTreeClassifier(random_state=42)</td>\n",
       "      <td>0.792466</td>\n",
       "      <td>{'preprocessor__num': 'passthrough', 'models__max_features': 3, 'models__max_depth': 2, 'models': DecisionTreeClassifier(random_state=42)}</td>\n",
       "    </tr>\n",
       "    <tr>\n",
       "      <th>0</th>\n",
       "      <td>10</td>\n",
       "      <td>DecisionTreeClassifier(random_state=42)</td>\n",
       "      <td>0.790714</td>\n",
       "      <td>{'preprocessor__num': StandardScaler(), 'models__max_features': 2, 'models__max_depth': 2, 'models': DecisionTreeClassifier(random_state=42)}</td>\n",
       "    </tr>\n",
       "  </tbody>\n",
       "</table>\n",
       "</div>"
      ],
      "text/plain": [
       "   rank_test_score  \\\n",
       "5                1   \n",
       "8                2   \n",
       "4                3   \n",
       "2                4   \n",
       "7                5   \n",
       "6                6   \n",
       "3                7   \n",
       "9                7   \n",
       "1                9   \n",
       "0               10   \n",
       "\n",
       "                                                            param_models  \\\n",
       "5                  SVC(kernel='poly', probability=True, random_state=42)   \n",
       "8  LogisticRegression(penalty='l1', random_state=42, solver='liblinear')   \n",
       "4                                                 KNeighborsClassifier()   \n",
       "2                                                 KNeighborsClassifier()   \n",
       "7                                                 KNeighborsClassifier()   \n",
       "6                                                 KNeighborsClassifier()   \n",
       "3                                DecisionTreeClassifier(random_state=42)   \n",
       "9                                DecisionTreeClassifier(random_state=42)   \n",
       "1                                DecisionTreeClassifier(random_state=42)   \n",
       "0                                DecisionTreeClassifier(random_state=42)   \n",
       "\n",
       "   mean_test_score  \\\n",
       "5         0.929925   \n",
       "8         0.917263   \n",
       "4         0.912272   \n",
       "2         0.900974   \n",
       "7         0.897184   \n",
       "6         0.878595   \n",
       "3         0.814372   \n",
       "9         0.814372   \n",
       "1         0.792466   \n",
       "0         0.790714   \n",
       "\n",
       "                                                                                                                                          params  \n",
       "5               {'preprocessor__num': MinMaxScaler(), 'models__kernel': 'poly', 'models': SVC(kernel='poly', probability=True, random_state=42)}  \n",
       "8       {'preprocessor__num': StandardScaler(), 'models__C': 4, 'models': LogisticRegression(penalty='l1', random_state=42, solver='liblinear')}  \n",
       "4                                              {'preprocessor__num': MinMaxScaler(), 'models__n_neighbors': 4, 'models': KNeighborsClassifier()}  \n",
       "2                                            {'preprocessor__num': StandardScaler(), 'models__n_neighbors': 3, 'models': KNeighborsClassifier()}  \n",
       "7                                              {'preprocessor__num': MinMaxScaler(), 'models__n_neighbors': 3, 'models': KNeighborsClassifier()}  \n",
       "6                                            {'preprocessor__num': StandardScaler(), 'models__n_neighbors': 2, 'models': KNeighborsClassifier()}  \n",
       "3    {'preprocessor__num': MinMaxScaler(), 'models__max_features': 3, 'models__max_depth': 3, 'models': DecisionTreeClassifier(random_state=42)}  \n",
       "9  {'preprocessor__num': StandardScaler(), 'models__max_features': 3, 'models__max_depth': 3, 'models': DecisionTreeClassifier(random_state=42)}  \n",
       "1     {'preprocessor__num': 'passthrough', 'models__max_features': 3, 'models__max_depth': 2, 'models': DecisionTreeClassifier(random_state=42)}  \n",
       "0  {'preprocessor__num': StandardScaler(), 'models__max_features': 2, 'models__max_depth': 2, 'models': DecisionTreeClassifier(random_state=42)}  "
      ]
     },
     "metadata": {},
     "output_type": "display_data"
    }
   ],
   "source": [
    "pd.set_option('display.max_colwidth', None)\n",
    "result = pd.DataFrame(randomized_search.cv_results_)\n",
    "display(result[\n",
    "    ['rank_test_score', 'param_models', 'mean_test_score','params']\n",
    "].sort_values('rank_test_score'));"
   ]
  },
  {
   "cell_type": "markdown",
   "id": "117fe20a",
   "metadata": {},
   "source": [
    "К данным применили методы масштабирования(StandardScaler(), MinMaxScaler()) и кодирования(OneHotEncoder, OrdinalEncoder).<br>\n",
    "Применяли модели:<br>\n",
    "    - KNeighborsClassifier с параметром n_neighbors<br>\n",
    "    - DecisionTreeClassifier с параметрами max_depth, max_features<br>\n",
    "    - LogisticRegression с параметром C<br>\n",
    "    - SVC с параметром kernel<br>\n",
    "Использовали RandomizedSearchCV для подбора гиперпараметров моделей.<br>\n",
    "<br>\n",
    "Качество оценивали метрикой ROC_AUC.<br>\n"
   ]
  },
  {
   "cell_type": "markdown",
   "id": "01122d0f",
   "metadata": {},
   "source": [
    "Наилучшей оказалась модель **SVC** с полиномиальным ядром, равным 4 и методом масштабирования MinMaxScaler().<br>\n",
    "Метрика roc_auc составила 0.92."
   ]
  },
  {
   "cell_type": "code",
   "execution_count": 108,
   "id": "ee1b3144",
   "metadata": {},
   "outputs": [],
   "source": [
    "feature_names = randomized_search.best_estimator_.named_steps['preprocessor'].transformers_[0][1].named_steps['ohe'].get_feature_names().tolist()+ ord_columns+num_columns"
   ]
  },
  {
   "cell_type": "code",
   "execution_count": 109,
   "id": "f2fb0a8a",
   "metadata": {},
   "outputs": [
    {
     "name": "stdout",
     "output_type": "stream",
     "text": [
      "['x0_hr', 'x0_marketing', 'x0_purchasing', 'x0_sales', 'x0_technology', 'x1_no', 'x1_yes', 'x2_no', 'x2_yes', 'level', 'workload', 'salary', 'employment_years', 'supervisor_evaluation', 'job_satisfaction_rate']\n"
     ]
    }
   ],
   "source": [
    "print(feature_names)"
   ]
  },
  {
   "cell_type": "code",
   "execution_count": 110,
   "id": "4a07fb89",
   "metadata": {},
   "outputs": [],
   "source": [
    "data_preprocessor.fit(X_train, y_train)\n",
    "X_train_p = pd.DataFrame(data_preprocessor.transform(X_train), columns = feature_names)\n",
    "# выводим предсказанные значения тренировочной выборки\n",
    "X_test_p = pd.DataFrame(data_preprocessor.transform(X_test), columns = feature_names)"
   ]
  },
  {
   "cell_type": "code",
   "execution_count": 111,
   "id": "761b7eca",
   "metadata": {},
   "outputs": [],
   "source": [
    "explainer = shap.Explainer(randomized_search.best_estimator_.named_steps['models'].decision_function, X_test_p)\n",
    "#shap_values = explainer(X_test_p)\n",
    "\n",
    "#shap.plots.beeswarm(shap_values) "
   ]
  },
  {
   "cell_type": "code",
   "execution_count": 112,
   "id": "4bd7d4ed",
   "metadata": {},
   "outputs": [
    {
     "name": "stderr",
     "output_type": "stream",
     "text": [
      "PermutationExplainer explainer: 2001it [21:58,  1.51it/s]                          \n"
     ]
    },
    {
     "data": {
      "image/png": "[encoded data removed]",
      "text/plain": [
       "<Figure size 576x396 with 2 Axes>"
      ]
     },
     "metadata": {
      "needs_background": "light"
     },
     "output_type": "display_data"
    }
   ],
   "source": [
    "#shap_values = explainer(X_test_p)\n",
    "\n",
    "#shap.plots.beeswarm(shap_values) "
   ]
  },
  {
   "cell_type": "code",
   "execution_count": 113,
   "id": "c4e87d5d",
   "metadata": {},
   "outputs": [
    {
     "data": {
      "image/png": "[encoded data removed]",
      "text/plain": [
       "<Figure size 576x540 with 1 Axes>"
      ]
     },
     "metadata": {
      "needs_background": "light"
     },
     "output_type": "display_data"
    }
   ],
   "source": [
    "#shap.summary_plot(shap_values, plot_type=\"bar\") \n"
   ]
  },
  {
   "cell_type": "markdown",
   "id": "fe2e9f43",
   "metadata": {},
   "source": [
    "Чем дольше сотрудник отработал в компании, тем меньше его вероятность уволиться.<br>\n",
    "Чем выше его удовлетворенность работой и выше зарплата, тем меньше вероятность уволиться.<br>\n",
    "Сотрудники уровня junior увольняются чаще."
   ]
  },
  {
   "cell_type": "markdown",
   "id": "e138fd88",
   "metadata": {},
   "source": [
    "##  Общие выводы"
   ]
  },
  {
   "cell_type": "markdown",
   "id": "6fee2f98",
   "metadata": {},
   "source": [
    "### Общий анализ данных:<br>\n",
    "Были изучены данные, предоставленные компанией \"Работа с заботой\".<br>\n",
    "Данные содержат характеристики сотрудников.<br>\n",
    "Целью исследования было:\n",
    "- построить модель, которая сможет предсказать уровень удовлетворённости сотрудника. \n",
    "- построить модель, которая сможет на основе данных заказчика предсказать то, что сотрудник уволится из компании. \n",
    "\n",
    "### Предобработка данных:\n",
    "В данных о характеристиках сотрудников не было обнаружено дубликатов.<br>\n",
    "Было обнаружено несколько строк.<br>\n",
    "Всего получилось 4000 строк в тренировочной выборке и 2000 строк в тестовой.\n",
    "\n",
    "\n",
    "### Исследовательский анализ:\n",
    "Проанализировали признаки:\n",
    "Аномальных значений не увидели.\n",
    "Необходимо масштабировать количественные признаки и закодировать категориальные для использования их в модели. А также проследить, нет ли взаимосвязи между признаками и наблюдается ли линейная взаимосвязь с целевым признаком.\n",
    "\n",
    "### Корреляционный анализ:\n",
    "Видим связь целевого признака Уровень удовлетворенности сотрудника и его оценкой начальства.<br>\n",
    "Наблюдаются связи между признаками: зарплаты и должности/загрузки сотрудника; уровня сотрудника и количества отработанных лет.<br>\n",
    "Мультиколлинеарности не обнаружено.\n",
    "\n",
    "### Обучение модели:\n",
    "К данным применили методы масштабирования(StandardScaler(), MinMaxScaler()) и кодирования(OneHotEncoder, OrdinalEncoder).<br>\n",
    "Применяли модели:<br>\n",
    "    - DecisionTreeRegressor с параметрами max_depth, min_samples_leaf, min_samples_split<br>\n",
    "    - LinearRegression<br>\n",
    "Использовали RandomizedSearchCV для подбора гиперпараметров моделей.<br>\n",
    "<br>\n",
    "Качество оценивали собственной метрикой SMAPE («симметричное среднее абсолютное процентное отклонение»)<br>\n",
    "Наилучшей оказалась модель **дерево решений** с параметрами:<br>\n",
    "max_depth=18, min_samples_leaf=6, min_samples_split=11<br>\n",
    "На тестовой выборке она показывает результат 13.86\n",
    " \n",
    "### Загрузка данных\n",
    "Загрузили новые данные с целевым признаком - увольнение сотрудника.\n",
    "\n",
    "### Портрет уволившегося сотрудника:\n",
    "- Больше всего увольняется сотрудников из отдела sales, но если посмотреть на долю уволившихся сотрудников, то больше всего она в technology: 0.3.<br>\n",
    "Меньше всего увольнений в hr, доля составляет 0.25.\n",
    "- Больше всего сотрудников увольняется с уровнем junior - половина сотрудников уровня junior увольняется. Доля увольняющихся middle и sinior гораздо меньше и сотсавляет 0.06/0.05 соответственно.\n",
    "- Интересно, что больше всего сотрудников увольняется с уровнем загрузки low, а сильно загруженные сотрудники остаются. Доля уволившихся сотрудников по уровням low, medium, high составляет 0.43, 0.23, 0.18 соответственно.\n",
    "- уровень зарплаты уволившихся и оставшихся сотрудников существенно различается: у уволившихся сотрудников средняя зарплата гораздо меньше.\n",
    "\n",
    "### Зависимость увольнения от уровня удовлетворенности сотрудника:\n",
    "Среднее значение уровня удовлетворенности у оставшихся сотрудников значительно выше, чем у уволившихся. Это видно и по распределению уровня у оставшихся сотрудников. Оно скошено вправо.\n",
    "\n",
    "### Построение второй модели.\n",
    "К данным применили методы масштабирования(StandardScaler(), MinMaxScaler()) и кодирования(OneHotEncoder, OrdinalEncoder).<br>\n",
    "Применяли модели:<br>\n",
    "    - KNeighborsClassifier с параметром n_neighbors<br>\n",
    "    - DecisionTreeClassifier с параметрами max_depth, max_features<br>\n",
    "    - LogisticRegression с параметром C<br>\n",
    "    - SVC с параметром kernel<br>\n",
    "Использовали RandomizedSearchCV для подбора гиперпараметров моделей.<br>\n",
    "<br>\n",
    "Качество оценивали метрикой ROC_AUC.<br>\n",
    "\n",
    "Наилучшей оказалась модель SVC с полиномиальным ядром, равным 4 и методом масштабирования MinMaxScaler().\n",
    "Метрика roc_auc составила 0.92.\n",
    "\n",
    "### Рекомендации для бизнеса:\n",
    "Целью построения моделей является снизить финансовые убытки и уменьшить отток сотрудников.<br>\n",
    "На увольнение сотрудников влияет уровень удовлетворенности работы сотрудником. Важно отслеживать данный показатель, чтобы избежать увольнений.<br>\n",
    "Чем дольше сотрудник работает в компании, тем меньше его вероятность уволиться.<br>\n",
    "В ходе анализа было выявлено, что уходит большое количество специалистов уровня junior. Чаще легче перейти в другую компанию для быстрого роста. В связи с этим необходимо продумать программы привлечения и мониторинг удовлетворенности сотрудниками для избежания текучки кадров.<br>\n",
    "Также специалисты с низкой зарплатой чаще увольняются. Необходимо проверить систему пересмотра зарплаты.<br>\n",
    "Следует учесть, что на уровень удовлетворенности влияет оценка начальства.\n"
   ]
  },
  {
   "cell_type": "code",
   "execution_count": null,
   "id": "038e8b22",
   "metadata": {},
   "outputs": [],
   "source": []
  }
 ],
 "metadata": {
  "ExecuteTimeLog": [
   {
    "duration": 845,
    "start_time": "2024-03-29T20:42:21.384Z"
   },
   {
    "duration": 76,
    "start_time": "2024-03-29T20:44:35.532Z"
   },
   {
    "duration": 126,
    "start_time": "2024-03-29T20:45:10.958Z"
   },
   {
    "duration": 15,
    "start_time": "2024-03-29T20:45:26.337Z"
   },
   {
    "duration": 13,
    "start_time": "2024-03-29T20:45:42.812Z"
   },
   {
    "duration": 102,
    "start_time": "2024-03-29T20:46:32.572Z"
   },
   {
    "duration": 28,
    "start_time": "2024-03-29T20:46:53.565Z"
   },
   {
    "duration": 11,
    "start_time": "2024-03-29T20:47:09.854Z"
   },
   {
    "duration": 78,
    "start_time": "2024-03-29T20:47:51.215Z"
   },
   {
    "duration": 7,
    "start_time": "2024-03-29T20:48:04.230Z"
   },
   {
    "duration": 10,
    "start_time": "2024-03-29T20:48:13.538Z"
   },
   {
    "duration": 71,
    "start_time": "2024-03-29T20:48:53.475Z"
   },
   {
    "duration": 11,
    "start_time": "2024-03-29T20:49:23.581Z"
   },
   {
    "duration": 12,
    "start_time": "2024-03-29T20:49:35.357Z"
   },
   {
    "duration": 15,
    "start_time": "2024-03-29T20:50:05.366Z"
   },
   {
    "duration": 12,
    "start_time": "2024-03-29T20:50:16.433Z"
   },
   {
    "duration": 7,
    "start_time": "2024-03-29T20:50:56.970Z"
   },
   {
    "duration": 10,
    "start_time": "2024-03-29T21:50:46.010Z"
   },
   {
    "duration": 11,
    "start_time": "2024-03-29T21:51:09.364Z"
   },
   {
    "duration": 9,
    "start_time": "2024-03-29T21:51:28.505Z"
   },
   {
    "duration": 5,
    "start_time": "2024-03-29T21:53:08.345Z"
   },
   {
    "duration": 6,
    "start_time": "2024-03-29T21:53:48.830Z"
   },
   {
    "duration": 6,
    "start_time": "2024-03-29T21:54:15.546Z"
   },
   {
    "duration": 5,
    "start_time": "2024-03-29T21:54:25.580Z"
   },
   {
    "duration": 6,
    "start_time": "2024-03-29T21:54:44.732Z"
   },
   {
    "duration": 6,
    "start_time": "2024-03-29T21:55:03.239Z"
   },
   {
    "duration": 6,
    "start_time": "2024-03-29T21:57:46.875Z"
   },
   {
    "duration": 7,
    "start_time": "2024-03-29T21:58:40.638Z"
   },
   {
    "duration": 5,
    "start_time": "2024-03-29T21:59:48.649Z"
   },
   {
    "duration": 6,
    "start_time": "2024-03-29T22:00:07.777Z"
   },
   {
    "duration": 5,
    "start_time": "2024-03-29T22:02:04.821Z"
   },
   {
    "duration": 6,
    "start_time": "2024-03-29T22:02:30.318Z"
   },
   {
    "duration": 5,
    "start_time": "2024-03-29T22:03:29.711Z"
   },
   {
    "duration": 5,
    "start_time": "2024-03-29T22:03:57.875Z"
   },
   {
    "duration": 7,
    "start_time": "2024-03-29T22:07:22.467Z"
   },
   {
    "duration": 6,
    "start_time": "2024-03-29T22:07:38.749Z"
   },
   {
    "duration": 4,
    "start_time": "2024-03-29T22:08:02.513Z"
   },
   {
    "duration": 11,
    "start_time": "2024-03-29T22:12:27.006Z"
   },
   {
    "duration": 10,
    "start_time": "2024-03-29T22:13:57.528Z"
   },
   {
    "duration": 332,
    "start_time": "2024-03-29T22:14:12.380Z"
   },
   {
    "duration": 393,
    "start_time": "2024-03-29T22:14:55.589Z"
   },
   {
    "duration": 298,
    "start_time": "2024-03-29T22:15:41.366Z"
   },
   {
    "duration": 23,
    "start_time": "2024-03-29T22:16:51.716Z"
   },
   {
    "duration": 298,
    "start_time": "2024-03-29T22:21:37.511Z"
   },
   {
    "duration": 308,
    "start_time": "2024-03-29T22:22:20.011Z"
   },
   {
    "duration": 870,
    "start_time": "2024-03-30T20:34:29.552Z"
   },
   {
    "duration": 226,
    "start_time": "2024-03-30T20:34:30.424Z"
   },
   {
    "duration": 15,
    "start_time": "2024-03-30T20:34:30.652Z"
   },
   {
    "duration": 93,
    "start_time": "2024-03-30T20:34:30.669Z"
   },
   {
    "duration": 55,
    "start_time": "2024-03-30T20:34:30.764Z"
   },
   {
    "duration": 54,
    "start_time": "2024-03-30T20:34:30.820Z"
   },
   {
    "duration": 47,
    "start_time": "2024-03-30T20:34:30.875Z"
   },
   {
    "duration": 26,
    "start_time": "2024-03-30T20:34:30.923Z"
   },
   {
    "duration": 47,
    "start_time": "2024-03-30T20:34:30.951Z"
   },
   {
    "duration": 46,
    "start_time": "2024-03-30T20:34:31.001Z"
   },
   {
    "duration": 54,
    "start_time": "2024-03-30T20:34:31.048Z"
   },
   {
    "duration": 37,
    "start_time": "2024-03-30T20:34:31.104Z"
   },
   {
    "duration": 33,
    "start_time": "2024-03-30T20:34:31.142Z"
   },
   {
    "duration": 38,
    "start_time": "2024-03-30T20:34:31.176Z"
   },
   {
    "duration": 30,
    "start_time": "2024-03-30T20:34:31.215Z"
   },
   {
    "duration": 43,
    "start_time": "2024-03-30T20:34:31.247Z"
   },
   {
    "duration": 43,
    "start_time": "2024-03-30T20:34:31.291Z"
   },
   {
    "duration": 29,
    "start_time": "2024-03-30T20:34:31.336Z"
   },
   {
    "duration": 17,
    "start_time": "2024-03-30T20:34:31.367Z"
   },
   {
    "duration": 43,
    "start_time": "2024-03-30T20:34:31.385Z"
   },
   {
    "duration": 10,
    "start_time": "2024-03-30T20:34:31.430Z"
   },
   {
    "duration": 19,
    "start_time": "2024-03-30T20:34:31.442Z"
   },
   {
    "duration": 38,
    "start_time": "2024-03-30T20:34:31.462Z"
   },
   {
    "duration": 25,
    "start_time": "2024-03-30T20:34:31.502Z"
   },
   {
    "duration": 42,
    "start_time": "2024-03-30T20:34:31.528Z"
   },
   {
    "duration": 26,
    "start_time": "2024-03-30T20:34:31.572Z"
   },
   {
    "duration": 54,
    "start_time": "2024-03-30T20:34:31.600Z"
   },
   {
    "duration": 25,
    "start_time": "2024-03-30T20:34:31.657Z"
   },
   {
    "duration": 378,
    "start_time": "2024-03-30T20:34:31.684Z"
   },
   {
    "duration": 33,
    "start_time": "2024-03-30T20:34:32.064Z"
   },
   {
    "duration": 326,
    "start_time": "2024-03-30T20:34:32.098Z"
   },
   {
    "duration": 198,
    "start_time": "2024-03-30T20:34:37.425Z"
   },
   {
    "duration": 124,
    "start_time": "2024-03-30T20:36:47.390Z"
   },
   {
    "duration": 140,
    "start_time": "2024-03-30T20:39:24.681Z"
   },
   {
    "duration": 150,
    "start_time": "2024-03-30T20:40:54.251Z"
   },
   {
    "duration": 138,
    "start_time": "2024-03-30T20:41:07.061Z"
   },
   {
    "duration": 136,
    "start_time": "2024-03-30T20:44:22.534Z"
   },
   {
    "duration": 148,
    "start_time": "2024-03-30T20:46:53.830Z"
   },
   {
    "duration": 135,
    "start_time": "2024-03-30T20:48:43.873Z"
   },
   {
    "duration": 3351,
    "start_time": "2024-03-30T20:58:26.143Z"
   },
   {
    "duration": 597,
    "start_time": "2024-03-30T20:58:54.570Z"
   },
   {
    "duration": 301,
    "start_time": "2024-03-30T20:59:07.214Z"
   },
   {
    "duration": 1236,
    "start_time": "2024-03-30T21:00:37.698Z"
   },
   {
    "duration": 3,
    "start_time": "2024-03-30T21:14:36.083Z"
   },
   {
    "duration": 105,
    "start_time": "2024-03-30T21:17:42.251Z"
   },
   {
    "duration": 9,
    "start_time": "2024-03-30T21:18:07.195Z"
   },
   {
    "duration": 11,
    "start_time": "2024-03-30T21:18:31.231Z"
   },
   {
    "duration": 4,
    "start_time": "2024-03-30T21:18:48.299Z"
   },
   {
    "duration": 10,
    "start_time": "2024-03-30T21:19:02.717Z"
   },
   {
    "duration": 9,
    "start_time": "2024-03-30T21:22:19.010Z"
   },
   {
    "duration": 6,
    "start_time": "2024-03-30T21:23:05.091Z"
   },
   {
    "duration": 7,
    "start_time": "2024-03-30T21:23:18.473Z"
   },
   {
    "duration": 20,
    "start_time": "2024-03-30T21:23:20.452Z"
   },
   {
    "duration": 5,
    "start_time": "2024-03-30T21:24:56.020Z"
   },
   {
    "duration": 7,
    "start_time": "2024-03-30T21:25:22.650Z"
   },
   {
    "duration": 3,
    "start_time": "2024-03-30T21:29:01.742Z"
   },
   {
    "duration": 11,
    "start_time": "2024-03-30T21:33:20.922Z"
   },
   {
    "duration": 289,
    "start_time": "2024-03-30T21:34:40.302Z"
   },
   {
    "duration": 4,
    "start_time": "2024-03-30T21:34:48.073Z"
   },
   {
    "duration": 4,
    "start_time": "2024-03-30T21:35:27.187Z"
   },
   {
    "duration": 72,
    "start_time": "2024-03-30T21:36:08.253Z"
   },
   {
    "duration": 3,
    "start_time": "2024-03-30T21:37:29.251Z"
   },
   {
    "duration": 44,
    "start_time": "2024-03-30T21:39:56.705Z"
   },
   {
    "duration": 5,
    "start_time": "2024-03-30T21:42:53.144Z"
   },
   {
    "duration": 4,
    "start_time": "2024-03-30T21:42:59.594Z"
   },
   {
    "duration": 55,
    "start_time": "2024-03-30T21:43:04.609Z"
   },
   {
    "duration": 6,
    "start_time": "2024-03-30T21:44:58.724Z"
   },
   {
    "duration": 6,
    "start_time": "2024-03-30T21:45:00.475Z"
   },
   {
    "duration": 4,
    "start_time": "2024-03-30T21:45:10.992Z"
   },
   {
    "duration": 5,
    "start_time": "2024-03-30T21:45:12.442Z"
   },
   {
    "duration": 4,
    "start_time": "2024-03-30T21:45:14.575Z"
   },
   {
    "duration": 6559,
    "start_time": "2024-03-30T21:46:58.817Z"
   },
   {
    "duration": 50,
    "start_time": "2024-03-30T21:47:08.749Z"
   },
   {
    "duration": 9,
    "start_time": "2024-03-30T21:48:27.477Z"
   },
   {
    "duration": 9,
    "start_time": "2024-03-30T21:51:31.005Z"
   },
   {
    "duration": 10,
    "start_time": "2024-03-30T21:51:38.920Z"
   },
   {
    "duration": 12,
    "start_time": "2024-03-30T21:51:46.653Z"
   },
   {
    "duration": 6,
    "start_time": "2024-03-30T21:51:59.050Z"
   },
   {
    "duration": 12,
    "start_time": "2024-03-30T22:01:57.473Z"
   },
   {
    "duration": 19,
    "start_time": "2024-03-30T22:02:43.358Z"
   },
   {
    "duration": 13,
    "start_time": "2024-03-30T22:03:21.386Z"
   },
   {
    "duration": 17,
    "start_time": "2024-03-30T22:03:27.600Z"
   },
   {
    "duration": 13,
    "start_time": "2024-03-30T22:04:07.212Z"
   },
   {
    "duration": 4,
    "start_time": "2024-03-30T22:05:07.644Z"
   },
   {
    "duration": 13,
    "start_time": "2024-03-30T22:05:27.911Z"
   },
   {
    "duration": 5461,
    "start_time": "2024-03-30T22:06:33.801Z"
   },
   {
    "duration": 17,
    "start_time": "2024-03-30T22:06:44.432Z"
   },
   {
    "duration": 4,
    "start_time": "2024-03-30T22:08:34.925Z"
   },
   {
    "duration": 51,
    "start_time": "2024-03-30T22:09:02.552Z"
   },
   {
    "duration": 5,
    "start_time": "2024-03-30T22:12:37.137Z"
   },
   {
    "duration": 5363,
    "start_time": "2024-03-30T22:12:37.145Z"
   },
   {
    "duration": 5411,
    "start_time": "2024-03-30T22:13:02.971Z"
   },
   {
    "duration": 3,
    "start_time": "2024-03-30T22:13:14.969Z"
   },
   {
    "duration": 5849,
    "start_time": "2024-03-30T22:15:25.829Z"
   },
   {
    "duration": 4,
    "start_time": "2024-03-30T22:15:57.571Z"
   },
   {
    "duration": 1223,
    "start_time": "2024-03-30T22:16:26.754Z"
   },
   {
    "duration": 1298,
    "start_time": "2024-03-30T22:17:03.808Z"
   },
   {
    "duration": 1660,
    "start_time": "2024-03-30T22:17:12.361Z"
   },
   {
    "duration": 55,
    "start_time": "2024-03-30T22:17:36.316Z"
   },
   {
    "duration": 1643,
    "start_time": "2024-03-30T22:18:01.380Z"
   },
   {
    "duration": 3016,
    "start_time": "2024-03-30T22:18:38.432Z"
   },
   {
    "duration": 4,
    "start_time": "2024-03-30T22:18:44.386Z"
   },
   {
    "duration": 18,
    "start_time": "2024-03-30T22:18:54.006Z"
   },
   {
    "duration": 4,
    "start_time": "2024-03-30T22:21:47.988Z"
   },
   {
    "duration": 11,
    "start_time": "2024-03-30T22:21:56.265Z"
   },
   {
    "duration": 10980,
    "start_time": "2024-03-31T20:55:35.117Z"
   },
   {
    "duration": 1635,
    "start_time": "2024-03-31T20:55:52.800Z"
   },
   {
    "duration": 13,
    "start_time": "2024-03-31T20:55:57.925Z"
   },
   {
    "duration": 209,
    "start_time": "2024-03-31T20:56:41.879Z"
   },
   {
    "duration": 16,
    "start_time": "2024-03-31T20:56:42.142Z"
   },
   {
    "duration": 14,
    "start_time": "2024-03-31T20:56:43.669Z"
   },
   {
    "duration": 11,
    "start_time": "2024-03-31T20:56:43.782Z"
   },
   {
    "duration": 16,
    "start_time": "2024-03-31T20:56:44.992Z"
   },
   {
    "duration": 34,
    "start_time": "2024-03-31T20:56:45.011Z"
   },
   {
    "duration": 24,
    "start_time": "2024-03-31T20:56:45.047Z"
   },
   {
    "duration": 7,
    "start_time": "2024-03-31T20:56:46.168Z"
   },
   {
    "duration": 8,
    "start_time": "2024-03-31T20:56:46.450Z"
   },
   {
    "duration": 5,
    "start_time": "2024-03-31T20:56:46.857Z"
   },
   {
    "duration": 6,
    "start_time": "2024-03-31T20:56:47.049Z"
   },
   {
    "duration": 5,
    "start_time": "2024-03-31T20:56:47.259Z"
   },
   {
    "duration": 6,
    "start_time": "2024-03-31T20:56:47.449Z"
   },
   {
    "duration": 6,
    "start_time": "2024-03-31T20:56:47.670Z"
   },
   {
    "duration": 9,
    "start_time": "2024-03-31T20:56:48.082Z"
   },
   {
    "duration": 9,
    "start_time": "2024-03-31T20:56:49.698Z"
   },
   {
    "duration": 7,
    "start_time": "2024-03-31T20:56:50.529Z"
   },
   {
    "duration": 4,
    "start_time": "2024-03-31T20:56:51.469Z"
   },
   {
    "duration": 12,
    "start_time": "2024-03-31T20:56:51.980Z"
   },
   {
    "duration": 6,
    "start_time": "2024-03-31T20:56:52.801Z"
   },
   {
    "duration": 6,
    "start_time": "2024-03-31T20:56:53.710Z"
   },
   {
    "duration": 6,
    "start_time": "2024-03-31T20:56:54.429Z"
   },
   {
    "duration": 6,
    "start_time": "2024-03-31T20:56:55.029Z"
   },
   {
    "duration": 6,
    "start_time": "2024-03-31T20:56:57.449Z"
   },
   {
    "duration": 6,
    "start_time": "2024-03-31T20:56:57.497Z"
   },
   {
    "duration": 4,
    "start_time": "2024-03-31T20:56:57.922Z"
   },
   {
    "duration": 14,
    "start_time": "2024-03-31T20:57:01.419Z"
   },
   {
    "duration": 362,
    "start_time": "2024-03-31T20:57:02.729Z"
   },
   {
    "duration": 28,
    "start_time": "2024-03-31T20:57:03.094Z"
   },
   {
    "duration": 462,
    "start_time": "2024-03-31T20:57:03.843Z"
   },
   {
    "duration": 164,
    "start_time": "2024-03-31T20:57:04.457Z"
   },
   {
    "duration": 148,
    "start_time": "2024-03-31T20:57:05.083Z"
   },
   {
    "duration": 151,
    "start_time": "2024-03-31T20:57:05.811Z"
   },
   {
    "duration": 189,
    "start_time": "2024-03-31T20:57:05.965Z"
   },
   {
    "duration": 149,
    "start_time": "2024-03-31T20:57:06.298Z"
   },
   {
    "duration": 137,
    "start_time": "2024-03-31T20:57:06.603Z"
   },
   {
    "duration": 146,
    "start_time": "2024-03-31T20:57:06.921Z"
   },
   {
    "duration": 306,
    "start_time": "2024-03-31T20:57:07.761Z"
   },
   {
    "duration": 1383,
    "start_time": "2024-03-31T20:57:08.069Z"
   },
   {
    "duration": 3,
    "start_time": "2024-03-31T20:57:09.454Z"
   },
   {
    "duration": 13,
    "start_time": "2024-03-31T20:57:09.458Z"
   },
   {
    "duration": 6,
    "start_time": "2024-03-31T20:57:09.473Z"
   },
   {
    "duration": 4,
    "start_time": "2024-03-31T20:57:09.480Z"
   },
   {
    "duration": 123,
    "start_time": "2024-03-31T20:57:09.538Z"
   },
   {
    "duration": 11,
    "start_time": "2024-03-31T20:57:09.777Z"
   },
   {
    "duration": 12,
    "start_time": "2024-03-31T20:57:11.810Z"
   },
   {
    "duration": 12,
    "start_time": "2024-03-31T20:57:34.365Z"
   },
   {
    "duration": 20,
    "start_time": "2024-03-31T20:58:08.774Z"
   },
   {
    "duration": 3,
    "start_time": "2024-03-31T21:03:25.398Z"
   },
   {
    "duration": 5,
    "start_time": "2024-03-31T21:10:39.281Z"
   },
   {
    "duration": 4,
    "start_time": "2024-03-31T21:14:26.875Z"
   },
   {
    "duration": 3,
    "start_time": "2024-03-31T21:14:34.144Z"
   },
   {
    "duration": 3,
    "start_time": "2024-03-31T21:14:47.263Z"
   },
   {
    "duration": 18,
    "start_time": "2024-03-31T21:15:06.163Z"
   },
   {
    "duration": 5,
    "start_time": "2024-03-31T21:16:12.216Z"
   },
   {
    "duration": 3,
    "start_time": "2024-03-31T21:16:14.142Z"
   },
   {
    "duration": 12,
    "start_time": "2024-03-31T21:16:19.752Z"
   },
   {
    "duration": 4,
    "start_time": "2024-03-31T21:25:58.933Z"
   },
   {
    "duration": 2557,
    "start_time": "2024-03-31T21:26:56.050Z"
   },
   {
    "duration": 5,
    "start_time": "2024-03-31T21:27:07.538Z"
   },
   {
    "duration": 2562,
    "start_time": "2024-03-31T21:27:14.607Z"
   },
   {
    "duration": 3,
    "start_time": "2024-03-31T21:27:20.327Z"
   },
   {
    "duration": 4,
    "start_time": "2024-03-31T21:27:28.904Z"
   },
   {
    "duration": 3,
    "start_time": "2024-03-31T21:27:31.254Z"
   },
   {
    "duration": 56,
    "start_time": "2024-03-31T21:27:35.384Z"
   },
   {
    "duration": 4,
    "start_time": "2024-03-31T21:27:48.777Z"
   },
   {
    "duration": 19,
    "start_time": "2024-03-31T21:27:52.906Z"
   },
   {
    "duration": 12,
    "start_time": "2024-03-31T21:29:05.169Z"
   },
   {
    "duration": 17,
    "start_time": "2024-03-31T21:30:10.937Z"
   },
   {
    "duration": 12,
    "start_time": "2024-03-31T21:31:59.904Z"
   },
   {
    "duration": 2712,
    "start_time": "2024-03-31T21:32:14.194Z"
   },
   {
    "duration": 3047,
    "start_time": "2024-03-31T21:32:58.137Z"
   },
   {
    "duration": 2991,
    "start_time": "2024-03-31T21:33:35.897Z"
   },
   {
    "duration": 3222,
    "start_time": "2024-03-31T21:38:31.763Z"
   },
   {
    "duration": 3134,
    "start_time": "2024-03-31T21:39:33.674Z"
   },
   {
    "duration": 3021,
    "start_time": "2024-03-31T21:41:37.188Z"
   },
   {
    "duration": 13,
    "start_time": "2024-03-31T21:44:29.435Z"
   },
   {
    "duration": 3,
    "start_time": "2024-03-31T21:44:32.255Z"
   },
   {
    "duration": 3,
    "start_time": "2024-03-31T21:44:33.337Z"
   },
   {
    "duration": 7,
    "start_time": "2024-03-31T21:44:34.787Z"
   },
   {
    "duration": 3,
    "start_time": "2024-03-31T21:44:45.465Z"
   },
   {
    "duration": 3,
    "start_time": "2024-03-31T21:44:48.460Z"
   },
   {
    "duration": 3023,
    "start_time": "2024-03-31T21:44:51.586Z"
   },
   {
    "duration": 3088,
    "start_time": "2024-03-31T21:45:07.317Z"
   },
   {
    "duration": 1952,
    "start_time": "2024-03-31T21:46:06.797Z"
   },
   {
    "duration": 2081,
    "start_time": "2024-03-31T21:46:55.737Z"
   },
   {
    "duration": 2252,
    "start_time": "2024-03-31T21:47:27.849Z"
   },
   {
    "duration": 2250,
    "start_time": "2024-03-31T21:47:54.454Z"
   },
   {
    "duration": 2153,
    "start_time": "2024-03-31T21:48:16.138Z"
   },
   {
    "duration": 2067,
    "start_time": "2024-03-31T21:50:38.146Z"
   },
   {
    "duration": 21,
    "start_time": "2024-03-31T21:52:09.837Z"
   },
   {
    "duration": 2018,
    "start_time": "2024-03-31T21:54:54.497Z"
   },
   {
    "duration": 2008,
    "start_time": "2024-03-31T21:55:36.731Z"
   },
   {
    "duration": 12,
    "start_time": "2024-03-31T22:00:33.045Z"
   },
   {
    "duration": 8,
    "start_time": "2024-03-31T22:00:48.390Z"
   },
   {
    "duration": 2149,
    "start_time": "2024-03-31T22:01:41.005Z"
   },
   {
    "duration": 1939,
    "start_time": "2024-03-31T22:03:07.220Z"
   },
   {
    "duration": 1909,
    "start_time": "2024-03-31T22:03:23.537Z"
   },
   {
    "duration": 22,
    "start_time": "2024-03-31T22:04:53.261Z"
   },
   {
    "duration": 1989,
    "start_time": "2024-03-31T22:07:31.771Z"
   },
   {
    "duration": 4,
    "start_time": "2024-03-31T22:08:19.970Z"
   },
   {
    "duration": 146,
    "start_time": "2024-03-31T22:19:49.798Z"
   },
   {
    "duration": 12,
    "start_time": "2024-03-31T22:20:05.297Z"
   },
   {
    "duration": 15,
    "start_time": "2024-03-31T22:20:30.150Z"
   },
   {
    "duration": 7,
    "start_time": "2024-03-31T22:21:41.133Z"
   },
   {
    "duration": 12,
    "start_time": "2024-03-31T22:21:50.158Z"
   },
   {
    "duration": 7,
    "start_time": "2024-03-31T22:27:17.372Z"
   },
   {
    "duration": 11,
    "start_time": "2024-03-31T22:27:53.648Z"
   },
   {
    "duration": 19,
    "start_time": "2024-03-31T22:28:57.392Z"
   },
   {
    "duration": 16,
    "start_time": "2024-03-31T22:29:08.584Z"
   },
   {
    "duration": 17,
    "start_time": "2024-03-31T22:31:23.965Z"
   },
   {
    "duration": 4,
    "start_time": "2024-03-31T22:32:18.254Z"
   },
   {
    "duration": 16,
    "start_time": "2024-03-31T22:32:20.294Z"
   },
   {
    "duration": 23,
    "start_time": "2024-03-31T22:32:26.882Z"
   },
   {
    "duration": 11,
    "start_time": "2024-03-31T22:33:38.806Z"
   },
   {
    "duration": 12,
    "start_time": "2024-03-31T22:33:50.597Z"
   },
   {
    "duration": 17,
    "start_time": "2024-03-31T22:34:39.745Z"
   },
   {
    "duration": 12,
    "start_time": "2024-03-31T22:35:07.497Z"
   },
   {
    "duration": 3840,
    "start_time": "2024-04-01T20:37:25.896Z"
   },
   {
    "duration": 1897,
    "start_time": "2024-04-01T20:37:29.739Z"
   },
   {
    "duration": 2879,
    "start_time": "2024-04-01T20:37:31.638Z"
   },
   {
    "duration": 12,
    "start_time": "2024-04-01T20:37:34.520Z"
   },
   {
    "duration": 27,
    "start_time": "2024-04-01T20:37:34.534Z"
   },
   {
    "duration": 11,
    "start_time": "2024-04-01T20:37:34.562Z"
   },
   {
    "duration": 249,
    "start_time": "2024-04-01T20:37:34.575Z"
   },
   {
    "duration": 23,
    "start_time": "2024-04-01T20:37:34.825Z"
   },
   {
    "duration": 17,
    "start_time": "2024-04-01T20:37:34.850Z"
   },
   {
    "duration": 13,
    "start_time": "2024-04-01T20:37:34.870Z"
   },
   {
    "duration": 21,
    "start_time": "2024-04-01T20:37:34.885Z"
   },
   {
    "duration": 7,
    "start_time": "2024-04-01T20:37:34.909Z"
   },
   {
    "duration": 19,
    "start_time": "2024-04-01T20:37:34.918Z"
   },
   {
    "duration": 11,
    "start_time": "2024-04-01T20:37:34.939Z"
   },
   {
    "duration": 10,
    "start_time": "2024-04-01T20:37:34.952Z"
   },
   {
    "duration": 21,
    "start_time": "2024-04-01T20:37:34.964Z"
   },
   {
    "duration": 24,
    "start_time": "2024-04-01T20:37:34.986Z"
   },
   {
    "duration": 7,
    "start_time": "2024-04-01T20:37:35.012Z"
   },
   {
    "duration": 10,
    "start_time": "2024-04-01T20:37:35.021Z"
   },
   {
    "duration": 9,
    "start_time": "2024-04-01T20:37:35.033Z"
   },
   {
    "duration": 9,
    "start_time": "2024-04-01T20:37:35.043Z"
   },
   {
    "duration": 56,
    "start_time": "2024-04-01T20:37:35.054Z"
   },
   {
    "duration": 11,
    "start_time": "2024-04-01T20:37:35.113Z"
   },
   {
    "duration": 5,
    "start_time": "2024-04-01T20:37:35.125Z"
   },
   {
    "duration": 11,
    "start_time": "2024-04-01T20:37:35.132Z"
   },
   {
    "duration": 8,
    "start_time": "2024-04-01T20:37:35.145Z"
   },
   {
    "duration": 10,
    "start_time": "2024-04-01T20:37:35.155Z"
   },
   {
    "duration": 21,
    "start_time": "2024-04-01T20:37:35.169Z"
   },
   {
    "duration": 17,
    "start_time": "2024-04-01T20:37:35.191Z"
   },
   {
    "duration": 11,
    "start_time": "2024-04-01T20:37:35.210Z"
   },
   {
    "duration": 13,
    "start_time": "2024-04-01T20:37:35.223Z"
   },
   {
    "duration": 14,
    "start_time": "2024-04-01T20:37:35.237Z"
   },
   {
    "duration": 22,
    "start_time": "2024-04-01T20:37:35.253Z"
   },
   {
    "duration": 383,
    "start_time": "2024-04-01T20:37:35.277Z"
   },
   {
    "duration": 38,
    "start_time": "2024-04-01T20:37:35.662Z"
   },
   {
    "duration": 476,
    "start_time": "2024-04-01T20:37:35.702Z"
   },
   {
    "duration": 170,
    "start_time": "2024-04-01T20:37:36.182Z"
   },
   {
    "duration": 168,
    "start_time": "2024-04-01T20:37:36.354Z"
   },
   {
    "duration": 185,
    "start_time": "2024-04-01T20:37:36.525Z"
   },
   {
    "duration": 212,
    "start_time": "2024-04-01T20:37:36.712Z"
   },
   {
    "duration": 193,
    "start_time": "2024-04-01T20:37:36.925Z"
   },
   {
    "duration": 169,
    "start_time": "2024-04-01T20:37:37.120Z"
   },
   {
    "duration": 173,
    "start_time": "2024-04-01T20:37:37.291Z"
   },
   {
    "duration": 337,
    "start_time": "2024-04-01T20:37:37.466Z"
   },
   {
    "duration": 1483,
    "start_time": "2024-04-01T20:37:37.805Z"
   },
   {
    "duration": 4,
    "start_time": "2024-04-01T20:37:39.291Z"
   },
   {
    "duration": 32,
    "start_time": "2024-04-01T20:37:39.297Z"
   },
   {
    "duration": 19,
    "start_time": "2024-04-01T20:37:39.331Z"
   },
   {
    "duration": 4,
    "start_time": "2024-04-01T20:37:39.352Z"
   },
   {
    "duration": 93,
    "start_time": "2024-04-01T20:37:39.357Z"
   },
   {
    "duration": 12,
    "start_time": "2024-04-01T20:37:39.451Z"
   },
   {
    "duration": 15,
    "start_time": "2024-04-01T20:37:39.465Z"
   },
   {
    "duration": 713,
    "start_time": "2024-04-01T20:37:39.481Z"
   },
   {
    "duration": 0,
    "start_time": "2024-04-01T20:37:40.196Z"
   },
   {
    "duration": 0,
    "start_time": "2024-04-01T20:37:40.197Z"
   },
   {
    "duration": 0,
    "start_time": "2024-04-01T20:37:40.198Z"
   },
   {
    "duration": 0,
    "start_time": "2024-04-01T20:37:40.199Z"
   },
   {
    "duration": 0,
    "start_time": "2024-04-01T20:37:40.206Z"
   },
   {
    "duration": 0,
    "start_time": "2024-04-01T20:37:40.208Z"
   },
   {
    "duration": 0,
    "start_time": "2024-04-01T20:37:40.210Z"
   },
   {
    "duration": 0,
    "start_time": "2024-04-01T20:37:40.211Z"
   },
   {
    "duration": 487,
    "start_time": "2024-04-01T20:38:39.270Z"
   },
   {
    "duration": 17,
    "start_time": "2024-04-01T20:39:26.603Z"
   },
   {
    "duration": 3,
    "start_time": "2024-04-01T20:39:28.829Z"
   },
   {
    "duration": 6,
    "start_time": "2024-04-01T20:39:31.858Z"
   },
   {
    "duration": 3,
    "start_time": "2024-04-01T20:39:35.627Z"
   },
   {
    "duration": 4,
    "start_time": "2024-04-01T20:39:38.171Z"
   },
   {
    "duration": 574,
    "start_time": "2024-04-01T20:39:42.158Z"
   },
   {
    "duration": 3,
    "start_time": "2024-04-01T20:40:04.987Z"
   },
   {
    "duration": 2971,
    "start_time": "2024-04-01T20:40:12.688Z"
   },
   {
    "duration": 4,
    "start_time": "2024-04-01T20:40:18.376Z"
   },
   {
    "duration": 530,
    "start_time": "2024-04-01T20:40:28.874Z"
   },
   {
    "duration": 543,
    "start_time": "2024-04-01T20:42:24.652Z"
   },
   {
    "duration": 481,
    "start_time": "2024-04-01T20:45:06.723Z"
   },
   {
    "duration": 130,
    "start_time": "2024-04-01T20:49:51.688Z"
   },
   {
    "duration": 2621,
    "start_time": "2024-04-01T20:49:59.201Z"
   },
   {
    "duration": 4,
    "start_time": "2024-04-01T20:50:04.317Z"
   },
   {
    "duration": 5,
    "start_time": "2024-04-01T20:50:13.732Z"
   },
   {
    "duration": 3,
    "start_time": "2024-04-01T20:50:15.278Z"
   },
   {
    "duration": 4,
    "start_time": "2024-04-01T20:50:17.929Z"
   },
   {
    "duration": 487,
    "start_time": "2024-04-01T20:50:21.221Z"
   },
   {
    "duration": 2704,
    "start_time": "2024-04-01T21:22:52.699Z"
   },
   {
    "duration": 5,
    "start_time": "2024-04-01T21:22:55.406Z"
   },
   {
    "duration": 2696,
    "start_time": "2024-04-01T21:22:55.413Z"
   },
   {
    "duration": 3,
    "start_time": "2024-04-01T21:22:58.112Z"
   },
   {
    "duration": 7,
    "start_time": "2024-04-01T21:22:58.117Z"
   },
   {
    "duration": 6,
    "start_time": "2024-04-01T21:22:58.125Z"
   },
   {
    "duration": 87,
    "start_time": "2024-04-01T21:22:58.132Z"
   },
   {
    "duration": 13,
    "start_time": "2024-04-01T21:22:58.221Z"
   },
   {
    "duration": 17,
    "start_time": "2024-04-01T21:22:58.236Z"
   },
   {
    "duration": 13,
    "start_time": "2024-04-01T21:22:58.256Z"
   },
   {
    "duration": 30,
    "start_time": "2024-04-01T21:22:58.271Z"
   },
   {
    "duration": 9,
    "start_time": "2024-04-01T21:22:58.303Z"
   },
   {
    "duration": 12,
    "start_time": "2024-04-01T21:22:58.314Z"
   },
   {
    "duration": 10,
    "start_time": "2024-04-01T21:22:58.328Z"
   },
   {
    "duration": 13,
    "start_time": "2024-04-01T21:22:58.341Z"
   },
   {
    "duration": 29,
    "start_time": "2024-04-01T21:22:58.356Z"
   },
   {
    "duration": 9,
    "start_time": "2024-04-01T21:22:58.387Z"
   },
   {
    "duration": 8,
    "start_time": "2024-04-01T21:22:58.398Z"
   },
   {
    "duration": 19,
    "start_time": "2024-04-01T21:22:58.408Z"
   },
   {
    "duration": 8,
    "start_time": "2024-04-01T21:22:58.429Z"
   },
   {
    "duration": 9,
    "start_time": "2024-04-01T21:22:58.439Z"
   },
   {
    "duration": 36,
    "start_time": "2024-04-01T21:22:58.450Z"
   },
   {
    "duration": 7,
    "start_time": "2024-04-01T21:22:58.488Z"
   },
   {
    "duration": 6,
    "start_time": "2024-04-01T21:22:58.497Z"
   },
   {
    "duration": 7,
    "start_time": "2024-04-01T21:22:58.506Z"
   },
   {
    "duration": 8,
    "start_time": "2024-04-01T21:22:58.515Z"
   },
   {
    "duration": 6,
    "start_time": "2024-04-01T21:22:58.524Z"
   },
   {
    "duration": 51,
    "start_time": "2024-04-01T21:22:58.534Z"
   },
   {
    "duration": 6,
    "start_time": "2024-04-01T21:22:58.587Z"
   },
   {
    "duration": 9,
    "start_time": "2024-04-01T21:22:58.595Z"
   },
   {
    "duration": 9,
    "start_time": "2024-04-01T21:22:58.606Z"
   },
   {
    "duration": 6,
    "start_time": "2024-04-01T21:22:58.617Z"
   },
   {
    "duration": 16,
    "start_time": "2024-04-01T21:22:58.625Z"
   },
   {
    "duration": 462,
    "start_time": "2024-04-01T21:22:58.681Z"
   },
   {
    "duration": 45,
    "start_time": "2024-04-01T21:22:59.145Z"
   },
   {
    "duration": 365,
    "start_time": "2024-04-01T21:22:59.193Z"
   },
   {
    "duration": 184,
    "start_time": "2024-04-01T21:22:59.561Z"
   },
   {
    "duration": 175,
    "start_time": "2024-04-01T21:22:59.747Z"
   },
   {
    "duration": 180,
    "start_time": "2024-04-01T21:22:59.924Z"
   },
   {
    "duration": 188,
    "start_time": "2024-04-01T21:23:00.107Z"
   },
   {
    "duration": 160,
    "start_time": "2024-04-01T21:23:00.299Z"
   },
   {
    "duration": 229,
    "start_time": "2024-04-01T21:23:00.461Z"
   },
   {
    "duration": 315,
    "start_time": "2024-04-01T21:23:00.692Z"
   },
   {
    "duration": 345,
    "start_time": "2024-04-01T21:23:01.009Z"
   },
   {
    "duration": 1542,
    "start_time": "2024-04-01T21:23:01.356Z"
   },
   {
    "duration": 3,
    "start_time": "2024-04-01T21:23:06.937Z"
   },
   {
    "duration": 8,
    "start_time": "2024-04-01T21:23:08.509Z"
   },
   {
    "duration": 17,
    "start_time": "2024-04-01T21:23:09.721Z"
   },
   {
    "duration": 3,
    "start_time": "2024-04-01T21:23:12.732Z"
   },
   {
    "duration": 5,
    "start_time": "2024-04-01T21:23:14.502Z"
   },
   {
    "duration": 4,
    "start_time": "2024-04-01T21:23:17.672Z"
   },
   {
    "duration": 3,
    "start_time": "2024-04-01T21:23:22.747Z"
   },
   {
    "duration": 646,
    "start_time": "2024-04-01T21:23:33.606Z"
   },
   {
    "duration": 11,
    "start_time": "2024-04-01T21:25:16.024Z"
   },
   {
    "duration": 9,
    "start_time": "2024-04-01T21:25:24.249Z"
   },
   {
    "duration": 6,
    "start_time": "2024-04-01T21:25:30.841Z"
   },
   {
    "duration": 15,
    "start_time": "2024-04-01T21:25:36.314Z"
   },
   {
    "duration": 529,
    "start_time": "2024-04-01T21:27:12.556Z"
   },
   {
    "duration": 525,
    "start_time": "2024-04-01T21:29:35.370Z"
   },
   {
    "duration": 2710,
    "start_time": "2024-04-01T21:32:21.286Z"
   },
   {
    "duration": 4,
    "start_time": "2024-04-01T21:32:26.458Z"
   },
   {
    "duration": 6,
    "start_time": "2024-04-01T21:34:21.417Z"
   },
   {
    "duration": 4,
    "start_time": "2024-04-01T21:34:23.195Z"
   },
   {
    "duration": 4,
    "start_time": "2024-04-01T21:34:27.459Z"
   },
   {
    "duration": 9,
    "start_time": "2024-04-01T21:36:44.884Z"
   },
   {
    "duration": 32,
    "start_time": "2024-04-01T21:37:02.697Z"
   },
   {
    "duration": 3,
    "start_time": "2024-04-01T21:41:11.950Z"
   },
   {
    "duration": 31,
    "start_time": "2024-04-01T21:41:17.490Z"
   },
   {
    "duration": 5,
    "start_time": "2024-04-01T21:42:38.798Z"
   },
   {
    "duration": 3,
    "start_time": "2024-04-01T21:42:44.435Z"
   },
   {
    "duration": 3,
    "start_time": "2024-04-01T21:42:49.455Z"
   },
   {
    "duration": 43,
    "start_time": "2024-04-01T21:42:51.089Z"
   },
   {
    "duration": 7,
    "start_time": "2024-04-01T21:43:04.439Z"
   },
   {
    "duration": 3,
    "start_time": "2024-04-01T21:43:05.663Z"
   },
   {
    "duration": 4,
    "start_time": "2024-04-01T21:43:09.196Z"
   },
   {
    "duration": 29,
    "start_time": "2024-04-01T21:43:10.313Z"
   },
   {
    "duration": 1761,
    "start_time": "2024-04-01T21:43:13.905Z"
   },
   {
    "duration": 3,
    "start_time": "2024-04-01T21:43:51.409Z"
   },
   {
    "duration": 1497,
    "start_time": "2024-04-01T21:43:55.795Z"
   },
   {
    "duration": 1491,
    "start_time": "2024-04-01T21:44:29.171Z"
   },
   {
    "duration": 1524,
    "start_time": "2024-04-01T21:45:08.806Z"
   },
   {
    "duration": 4,
    "start_time": "2024-04-01T21:46:38.229Z"
   },
   {
    "duration": 4,
    "start_time": "2024-04-01T21:46:40.563Z"
   },
   {
    "duration": 475,
    "start_time": "2024-04-01T21:46:44.271Z"
   },
   {
    "duration": 37,
    "start_time": "2024-04-01T21:47:19.067Z"
   },
   {
    "duration": 6,
    "start_time": "2024-04-01T21:47:31.883Z"
   },
   {
    "duration": 30,
    "start_time": "2024-04-01T21:47:36.479Z"
   },
   {
    "duration": 5,
    "start_time": "2024-04-01T21:47:45.268Z"
   },
   {
    "duration": 3,
    "start_time": "2024-04-01T21:47:46.328Z"
   },
   {
    "duration": 3,
    "start_time": "2024-04-01T21:47:48.531Z"
   },
   {
    "duration": 28,
    "start_time": "2024-04-01T21:47:49.587Z"
   },
   {
    "duration": 12,
    "start_time": "2024-04-01T21:48:13.358Z"
   },
   {
    "duration": 4,
    "start_time": "2024-04-01T21:49:58.945Z"
   },
   {
    "duration": 3,
    "start_time": "2024-04-01T21:50:00.146Z"
   },
   {
    "duration": 3,
    "start_time": "2024-04-01T21:50:02.987Z"
   },
   {
    "duration": 1506,
    "start_time": "2024-04-01T21:50:06.650Z"
   },
   {
    "duration": 4,
    "start_time": "2024-04-01T21:50:24.328Z"
   },
   {
    "duration": 3,
    "start_time": "2024-04-01T21:50:26.051Z"
   },
   {
    "duration": 3,
    "start_time": "2024-04-01T21:50:29.906Z"
   },
   {
    "duration": 36,
    "start_time": "2024-04-01T21:50:31.758Z"
   },
   {
    "duration": 1484,
    "start_time": "2024-04-01T21:50:34.884Z"
   },
   {
    "duration": 43,
    "start_time": "2024-04-01T21:53:00.501Z"
   },
   {
    "duration": 27,
    "start_time": "2024-04-01T21:53:11.247Z"
   },
   {
    "duration": 8,
    "start_time": "2024-04-01T21:53:18.087Z"
   },
   {
    "duration": 15,
    "start_time": "2024-04-01T21:53:59.116Z"
   },
   {
    "duration": 6,
    "start_time": "2024-04-01T21:54:05.304Z"
   },
   {
    "duration": 1527,
    "start_time": "2024-04-01T21:55:11.839Z"
   },
   {
    "duration": 1819,
    "start_time": "2024-04-01T21:56:27.370Z"
   },
   {
    "duration": 2669,
    "start_time": "2024-04-01T22:00:08.420Z"
   },
   {
    "duration": 6,
    "start_time": "2024-04-01T22:00:11.092Z"
   },
   {
    "duration": 2677,
    "start_time": "2024-04-01T22:00:11.099Z"
   },
   {
    "duration": 4,
    "start_time": "2024-04-01T22:00:13.779Z"
   },
   {
    "duration": 6,
    "start_time": "2024-04-01T22:00:13.784Z"
   },
   {
    "duration": 4,
    "start_time": "2024-04-01T22:00:13.791Z"
   },
   {
    "duration": 77,
    "start_time": "2024-04-01T22:00:13.796Z"
   },
   {
    "duration": 15,
    "start_time": "2024-04-01T22:00:13.876Z"
   },
   {
    "duration": 15,
    "start_time": "2024-04-01T22:00:13.893Z"
   },
   {
    "duration": 13,
    "start_time": "2024-04-01T22:00:13.910Z"
   },
   {
    "duration": 11,
    "start_time": "2024-04-01T22:00:13.924Z"
   },
   {
    "duration": 8,
    "start_time": "2024-04-01T22:00:13.937Z"
   },
   {
    "duration": 38,
    "start_time": "2024-04-01T22:00:13.946Z"
   },
   {
    "duration": 14,
    "start_time": "2024-04-01T22:00:13.986Z"
   },
   {
    "duration": 8,
    "start_time": "2024-04-01T22:00:14.001Z"
   },
   {
    "duration": 6,
    "start_time": "2024-04-01T22:00:14.011Z"
   },
   {
    "duration": 11,
    "start_time": "2024-04-01T22:00:14.018Z"
   },
   {
    "duration": 11,
    "start_time": "2024-04-01T22:00:14.030Z"
   },
   {
    "duration": 5,
    "start_time": "2024-04-01T22:00:14.043Z"
   },
   {
    "duration": 5,
    "start_time": "2024-04-01T22:00:14.050Z"
   },
   {
    "duration": 7,
    "start_time": "2024-04-01T22:00:14.083Z"
   },
   {
    "duration": 10,
    "start_time": "2024-04-01T22:00:14.092Z"
   },
   {
    "duration": 7,
    "start_time": "2024-04-01T22:00:14.103Z"
   },
   {
    "duration": 5,
    "start_time": "2024-04-01T22:00:14.111Z"
   },
   {
    "duration": 10,
    "start_time": "2024-04-01T22:00:14.117Z"
   },
   {
    "duration": 10,
    "start_time": "2024-04-01T22:00:14.129Z"
   },
   {
    "duration": 7,
    "start_time": "2024-04-01T22:00:14.141Z"
   },
   {
    "duration": 5,
    "start_time": "2024-04-01T22:00:14.186Z"
   },
   {
    "duration": 13,
    "start_time": "2024-04-01T22:00:14.193Z"
   },
   {
    "duration": 22,
    "start_time": "2024-04-01T22:00:14.208Z"
   },
   {
    "duration": 7,
    "start_time": "2024-04-01T22:00:14.232Z"
   },
   {
    "duration": 5,
    "start_time": "2024-04-01T22:00:14.241Z"
   },
   {
    "duration": 25,
    "start_time": "2024-04-01T22:00:14.248Z"
   },
   {
    "duration": 451,
    "start_time": "2024-04-01T22:00:14.274Z"
   },
   {
    "duration": 24,
    "start_time": "2024-04-01T22:00:14.727Z"
   },
   {
    "duration": 396,
    "start_time": "2024-04-01T22:00:14.752Z"
   },
   {
    "duration": 160,
    "start_time": "2024-04-01T22:00:15.150Z"
   },
   {
    "duration": 147,
    "start_time": "2024-04-01T22:00:15.312Z"
   },
   {
    "duration": 148,
    "start_time": "2024-04-01T22:00:15.461Z"
   },
   {
    "duration": 171,
    "start_time": "2024-04-01T22:00:15.611Z"
   },
   {
    "duration": 147,
    "start_time": "2024-04-01T22:00:15.783Z"
   },
   {
    "duration": 147,
    "start_time": "2024-04-01T22:00:15.932Z"
   },
   {
    "duration": 190,
    "start_time": "2024-04-01T22:00:16.081Z"
   },
   {
    "duration": 329,
    "start_time": "2024-04-01T22:00:16.273Z"
   },
   {
    "duration": 1285,
    "start_time": "2024-04-01T22:00:16.604Z"
   },
   {
    "duration": 3,
    "start_time": "2024-04-01T22:00:17.890Z"
   },
   {
    "duration": 10,
    "start_time": "2024-04-01T22:00:17.895Z"
   },
   {
    "duration": 11,
    "start_time": "2024-04-01T22:00:17.907Z"
   },
   {
    "duration": 2,
    "start_time": "2024-04-01T22:00:17.920Z"
   },
   {
    "duration": 4,
    "start_time": "2024-04-01T22:00:17.924Z"
   },
   {
    "duration": 5,
    "start_time": "2024-04-01T22:00:17.930Z"
   },
   {
    "duration": 46,
    "start_time": "2024-04-01T22:00:17.936Z"
   },
   {
    "duration": 1967,
    "start_time": "2024-04-01T22:00:21.302Z"
   },
   {
    "duration": 146,
    "start_time": "2024-04-01T22:01:35.851Z"
   },
   {
    "duration": 10,
    "start_time": "2024-04-01T22:01:37.154Z"
   },
   {
    "duration": 12,
    "start_time": "2024-04-01T22:01:38.483Z"
   },
   {
    "duration": 7,
    "start_time": "2024-04-01T22:01:39.202Z"
   },
   {
    "duration": 12,
    "start_time": "2024-04-01T22:01:40.860Z"
   },
   {
    "duration": 8,
    "start_time": "2024-04-01T22:01:42.900Z"
   },
   {
    "duration": 8,
    "start_time": "2024-04-01T22:01:44.390Z"
   },
   {
    "duration": 4,
    "start_time": "2024-04-01T22:01:47.030Z"
   },
   {
    "duration": 33,
    "start_time": "2024-04-01T22:01:48.241Z"
   },
   {
    "duration": 17,
    "start_time": "2024-04-01T22:02:11.800Z"
   },
   {
    "duration": 26,
    "start_time": "2024-04-01T22:02:29.077Z"
   },
   {
    "duration": 5,
    "start_time": "2024-04-01T22:03:42.626Z"
   },
   {
    "duration": 4,
    "start_time": "2024-04-01T22:04:03.321Z"
   },
   {
    "duration": 4,
    "start_time": "2024-04-01T22:04:06.504Z"
   },
   {
    "duration": 11,
    "start_time": "2024-04-01T22:04:31.238Z"
   },
   {
    "duration": 11,
    "start_time": "2024-04-01T22:04:39.742Z"
   },
   {
    "duration": 10,
    "start_time": "2024-04-01T22:05:19.805Z"
   },
   {
    "duration": 5,
    "start_time": "2024-04-01T22:05:42.651Z"
   },
   {
    "duration": 4,
    "start_time": "2024-04-01T22:05:43.532Z"
   },
   {
    "duration": 10,
    "start_time": "2024-04-01T22:05:54.546Z"
   },
   {
    "duration": 10,
    "start_time": "2024-04-01T22:06:06.033Z"
   },
   {
    "duration": 918,
    "start_time": "2024-04-01T22:08:11.485Z"
   },
   {
    "duration": 11,
    "start_time": "2024-04-01T22:08:52.693Z"
   },
   {
    "duration": 63,
    "start_time": "2024-04-01T22:09:18.574Z"
   },
   {
    "duration": 5,
    "start_time": "2024-04-01T22:09:59.537Z"
   },
   {
    "duration": 6,
    "start_time": "2024-04-01T22:10:38.266Z"
   },
   {
    "duration": 6,
    "start_time": "2024-04-01T22:11:34.666Z"
   },
   {
    "duration": 6,
    "start_time": "2024-04-01T22:11:49.123Z"
   },
   {
    "duration": 6,
    "start_time": "2024-04-01T22:12:02.341Z"
   },
   {
    "duration": 7,
    "start_time": "2024-04-01T22:12:41.891Z"
   },
   {
    "duration": 7,
    "start_time": "2024-04-01T22:13:26.485Z"
   },
   {
    "duration": 6,
    "start_time": "2024-04-01T22:14:04.789Z"
   },
   {
    "duration": 22,
    "start_time": "2024-04-01T22:18:58.384Z"
   },
   {
    "duration": 21,
    "start_time": "2024-04-01T22:19:36.801Z"
   },
   {
    "duration": 318,
    "start_time": "2024-04-01T22:21:38.907Z"
   },
   {
    "duration": 79,
    "start_time": "2024-04-01T22:28:19.119Z"
   },
   {
    "duration": 24,
    "start_time": "2024-04-01T22:28:28.239Z"
   },
   {
    "duration": 9,
    "start_time": "2024-04-01T22:29:59.464Z"
   },
   {
    "duration": 173,
    "start_time": "2024-04-01T22:31:32.364Z"
   },
   {
    "duration": 155,
    "start_time": "2024-04-01T22:32:03.434Z"
   },
   {
    "duration": 14,
    "start_time": "2024-04-01T22:32:14.321Z"
   },
   {
    "duration": 14,
    "start_time": "2024-04-01T22:32:24.661Z"
   },
   {
    "duration": 19,
    "start_time": "2024-04-01T22:33:00.241Z"
   },
   {
    "duration": 994,
    "start_time": "2024-04-01T22:34:50.963Z"
   },
   {
    "duration": 30,
    "start_time": "2024-04-01T22:35:47.797Z"
   },
   {
    "duration": 20,
    "start_time": "2024-04-01T22:36:14.041Z"
   },
   {
    "duration": 166,
    "start_time": "2024-04-01T22:36:34.011Z"
   },
   {
    "duration": 161,
    "start_time": "2024-04-01T22:36:44.915Z"
   },
   {
    "duration": 153,
    "start_time": "2024-04-01T22:37:30.667Z"
   },
   {
    "duration": 144,
    "start_time": "2024-04-01T22:40:35.779Z"
   },
   {
    "duration": 131,
    "start_time": "2024-04-01T22:42:54.940Z"
   },
   {
    "duration": 6,
    "start_time": "2024-04-01T22:45:05.395Z"
   },
   {
    "duration": 6,
    "start_time": "2024-04-01T22:45:18.095Z"
   },
   {
    "duration": 6,
    "start_time": "2024-04-01T22:46:24.242Z"
   },
   {
    "duration": 5,
    "start_time": "2024-04-01T22:46:35.300Z"
   },
   {
    "duration": 10,
    "start_time": "2024-04-01T22:49:37.266Z"
   },
   {
    "duration": 8,
    "start_time": "2024-04-01T22:50:56.902Z"
   },
   {
    "duration": 7,
    "start_time": "2024-04-01T22:51:35.950Z"
   },
   {
    "duration": 11,
    "start_time": "2024-04-01T22:52:01.891Z"
   },
   {
    "duration": 11,
    "start_time": "2024-04-01T22:52:26.065Z"
   },
   {
    "duration": 14,
    "start_time": "2024-04-01T22:52:37.594Z"
   },
   {
    "duration": 10,
    "start_time": "2024-04-01T22:55:46.942Z"
   },
   {
    "duration": 108,
    "start_time": "2024-04-01T22:56:22.064Z"
   },
   {
    "duration": 1167,
    "start_time": "2024-04-01T22:58:12.589Z"
   },
   {
    "duration": 439,
    "start_time": "2024-04-01T22:58:25.267Z"
   },
   {
    "duration": 541,
    "start_time": "2024-04-01T22:59:15.633Z"
   },
   {
    "duration": 433,
    "start_time": "2024-04-01T22:59:43.891Z"
   },
   {
    "duration": 18,
    "start_time": "2024-04-01T23:00:22.189Z"
   },
   {
    "duration": 22,
    "start_time": "2024-04-01T23:00:31.913Z"
   },
   {
    "duration": 449,
    "start_time": "2024-04-01T23:05:47.927Z"
   },
   {
    "duration": 453,
    "start_time": "2024-04-01T23:06:15.955Z"
   },
   {
    "duration": 553,
    "start_time": "2024-04-01T23:06:26.584Z"
   },
   {
    "duration": 442,
    "start_time": "2024-04-01T23:07:04.399Z"
   },
   {
    "duration": 435,
    "start_time": "2024-04-01T23:07:39.156Z"
   },
   {
    "duration": 203,
    "start_time": "2024-04-01T23:08:12.512Z"
   },
   {
    "duration": 266,
    "start_time": "2024-04-01T23:09:21.429Z"
   },
   {
    "duration": 280,
    "start_time": "2024-04-01T23:10:03.925Z"
   },
   {
    "duration": 407,
    "start_time": "2024-04-01T23:10:10.477Z"
   },
   {
    "duration": 3458,
    "start_time": "2024-04-02T19:49:42.564Z"
   },
   {
    "duration": 1568,
    "start_time": "2024-04-02T19:49:46.025Z"
   },
   {
    "duration": 2485,
    "start_time": "2024-04-02T19:49:47.595Z"
   },
   {
    "duration": 11,
    "start_time": "2024-04-02T19:49:50.083Z"
   },
   {
    "duration": 11,
    "start_time": "2024-04-02T19:49:50.096Z"
   },
   {
    "duration": 10,
    "start_time": "2024-04-02T19:49:50.109Z"
   },
   {
    "duration": 230,
    "start_time": "2024-04-02T19:49:50.120Z"
   },
   {
    "duration": 20,
    "start_time": "2024-04-02T19:49:50.352Z"
   },
   {
    "duration": 14,
    "start_time": "2024-04-02T19:49:50.373Z"
   },
   {
    "duration": 24,
    "start_time": "2024-04-02T19:49:50.390Z"
   },
   {
    "duration": 26,
    "start_time": "2024-04-02T19:49:50.417Z"
   },
   {
    "duration": 34,
    "start_time": "2024-04-02T19:49:50.445Z"
   },
   {
    "duration": 15,
    "start_time": "2024-04-02T19:49:50.480Z"
   },
   {
    "duration": 20,
    "start_time": "2024-04-02T19:49:50.496Z"
   },
   {
    "duration": 7,
    "start_time": "2024-04-02T19:49:50.517Z"
   },
   {
    "duration": 34,
    "start_time": "2024-04-02T19:49:50.525Z"
   },
   {
    "duration": 19,
    "start_time": "2024-04-02T19:49:50.561Z"
   },
   {
    "duration": 17,
    "start_time": "2024-04-02T19:49:50.581Z"
   },
   {
    "duration": 8,
    "start_time": "2024-04-02T19:49:50.600Z"
   },
   {
    "duration": 21,
    "start_time": "2024-04-02T19:49:50.609Z"
   },
   {
    "duration": 8,
    "start_time": "2024-04-02T19:49:50.631Z"
   },
   {
    "duration": 16,
    "start_time": "2024-04-02T19:49:50.641Z"
   },
   {
    "duration": 7,
    "start_time": "2024-04-02T19:49:50.658Z"
   },
   {
    "duration": 4,
    "start_time": "2024-04-02T19:49:50.667Z"
   },
   {
    "duration": 10,
    "start_time": "2024-04-02T19:49:50.673Z"
   },
   {
    "duration": 10,
    "start_time": "2024-04-02T19:49:50.684Z"
   },
   {
    "duration": 9,
    "start_time": "2024-04-02T19:49:50.696Z"
   },
   {
    "duration": 10,
    "start_time": "2024-04-02T19:49:50.709Z"
   },
   {
    "duration": 27,
    "start_time": "2024-04-02T19:49:50.720Z"
   },
   {
    "duration": 10,
    "start_time": "2024-04-02T19:49:50.749Z"
   },
   {
    "duration": 13,
    "start_time": "2024-04-02T19:49:50.760Z"
   },
   {
    "duration": 10,
    "start_time": "2024-04-02T19:49:50.775Z"
   },
   {
    "duration": 15,
    "start_time": "2024-04-02T19:49:50.787Z"
   },
   {
    "duration": 342,
    "start_time": "2024-04-02T19:49:50.804Z"
   },
   {
    "duration": 23,
    "start_time": "2024-04-02T19:49:51.148Z"
   },
   {
    "duration": 423,
    "start_time": "2024-04-02T19:49:51.182Z"
   },
   {
    "duration": 159,
    "start_time": "2024-04-02T19:49:51.606Z"
   },
   {
    "duration": 150,
    "start_time": "2024-04-02T19:49:51.767Z"
   },
   {
    "duration": 151,
    "start_time": "2024-04-02T19:49:51.919Z"
   },
   {
    "duration": 167,
    "start_time": "2024-04-02T19:49:52.072Z"
   },
   {
    "duration": 149,
    "start_time": "2024-04-02T19:49:52.240Z"
   },
   {
    "duration": 156,
    "start_time": "2024-04-02T19:49:52.390Z"
   },
   {
    "duration": 160,
    "start_time": "2024-04-02T19:49:52.549Z"
   },
   {
    "duration": 317,
    "start_time": "2024-04-02T19:49:52.710Z"
   },
   {
    "duration": 1336,
    "start_time": "2024-04-02T19:49:53.029Z"
   },
   {
    "duration": 3,
    "start_time": "2024-04-02T19:49:54.366Z"
   },
   {
    "duration": 10,
    "start_time": "2024-04-02T19:49:54.371Z"
   },
   {
    "duration": 27,
    "start_time": "2024-04-02T19:49:54.383Z"
   },
   {
    "duration": 3,
    "start_time": "2024-04-02T19:49:54.412Z"
   },
   {
    "duration": 14,
    "start_time": "2024-04-02T19:49:54.417Z"
   },
   {
    "duration": 9,
    "start_time": "2024-04-02T19:49:54.433Z"
   },
   {
    "duration": 7,
    "start_time": "2024-04-02T19:49:54.444Z"
   },
   {
    "duration": 1788,
    "start_time": "2024-04-02T19:49:54.453Z"
   },
   {
    "duration": 142,
    "start_time": "2024-04-02T19:49:56.243Z"
   },
   {
    "duration": 11,
    "start_time": "2024-04-02T19:49:56.387Z"
   },
   {
    "duration": 13,
    "start_time": "2024-04-02T19:49:56.399Z"
   },
   {
    "duration": 6,
    "start_time": "2024-04-02T19:49:56.414Z"
   },
   {
    "duration": 10,
    "start_time": "2024-04-02T19:49:56.422Z"
   },
   {
    "duration": 6,
    "start_time": "2024-04-02T19:49:56.434Z"
   },
   {
    "duration": 7,
    "start_time": "2024-04-02T19:49:56.442Z"
   },
   {
    "duration": 36,
    "start_time": "2024-04-02T19:49:56.450Z"
   },
   {
    "duration": 8,
    "start_time": "2024-04-02T19:49:56.487Z"
   },
   {
    "duration": 7,
    "start_time": "2024-04-02T19:49:56.496Z"
   },
   {
    "duration": 12,
    "start_time": "2024-04-02T19:49:56.505Z"
   },
   {
    "duration": 8,
    "start_time": "2024-04-02T19:49:56.518Z"
   },
   {
    "duration": 11,
    "start_time": "2024-04-02T19:49:56.528Z"
   },
   {
    "duration": 6,
    "start_time": "2024-04-02T19:49:56.541Z"
   },
   {
    "duration": 35,
    "start_time": "2024-04-02T19:49:56.548Z"
   },
   {
    "duration": 19,
    "start_time": "2024-04-02T19:49:56.584Z"
   },
   {
    "duration": 19,
    "start_time": "2024-04-02T19:49:56.604Z"
   },
   {
    "duration": 416,
    "start_time": "2024-04-02T19:49:56.625Z"
   },
   {
    "duration": 6,
    "start_time": "2024-04-02T19:49:57.043Z"
   },
   {
    "duration": 164,
    "start_time": "2024-04-02T19:49:57.051Z"
   },
   {
    "duration": 169,
    "start_time": "2024-04-02T19:49:57.216Z"
   },
   {
    "duration": 144,
    "start_time": "2024-04-02T19:49:57.387Z"
   },
   {
    "duration": 143,
    "start_time": "2024-04-02T19:49:57.533Z"
   },
   {
    "duration": 5,
    "start_time": "2024-04-02T19:49:57.681Z"
   },
   {
    "duration": 14,
    "start_time": "2024-04-02T19:49:57.687Z"
   },
   {
    "duration": 13,
    "start_time": "2024-04-02T19:49:57.703Z"
   },
   {
    "duration": 5,
    "start_time": "2024-04-02T19:49:57.718Z"
   },
   {
    "duration": 9,
    "start_time": "2024-04-02T19:49:57.725Z"
   },
   {
    "duration": 10,
    "start_time": "2024-04-02T19:49:57.739Z"
   },
   {
    "duration": 308,
    "start_time": "2024-04-02T19:49:57.751Z"
   },
   {
    "duration": 24,
    "start_time": "2024-04-02T19:49:58.060Z"
   },
   {
    "duration": 26,
    "start_time": "2024-04-02T19:49:58.086Z"
   },
   {
    "duration": 37,
    "start_time": "2024-04-02T20:24:32.223Z"
   },
   {
    "duration": 125,
    "start_time": "2024-04-02T20:25:10.158Z"
   },
   {
    "duration": 15,
    "start_time": "2024-04-02T20:25:44.729Z"
   },
   {
    "duration": 4,
    "start_time": "2024-04-02T20:26:46.778Z"
   },
   {
    "duration": 10,
    "start_time": "2024-04-02T20:26:49.456Z"
   },
   {
    "duration": 22,
    "start_time": "2024-04-02T20:27:42.326Z"
   },
   {
    "duration": 21,
    "start_time": "2024-04-02T20:28:39.612Z"
   },
   {
    "duration": 17,
    "start_time": "2024-04-02T20:28:42.515Z"
   },
   {
    "duration": 10,
    "start_time": "2024-04-02T20:29:35.333Z"
   },
   {
    "duration": 3,
    "start_time": "2024-04-02T20:30:18.335Z"
   },
   {
    "duration": 16,
    "start_time": "2024-04-02T20:30:24.518Z"
   },
   {
    "duration": 11,
    "start_time": "2024-04-02T20:30:38.624Z"
   },
   {
    "duration": 8,
    "start_time": "2024-04-02T20:31:18.344Z"
   },
   {
    "duration": 12,
    "start_time": "2024-04-02T20:31:40.667Z"
   },
   {
    "duration": 9,
    "start_time": "2024-04-02T20:31:53.160Z"
   },
   {
    "duration": 10,
    "start_time": "2024-04-02T20:32:19.329Z"
   },
   {
    "duration": 4,
    "start_time": "2024-04-02T20:48:11.420Z"
   },
   {
    "duration": 14,
    "start_time": "2024-04-02T20:49:23.712Z"
   },
   {
    "duration": 3,
    "start_time": "2024-04-02T20:50:08.543Z"
   },
   {
    "duration": 6,
    "start_time": "2024-04-02T20:50:39.985Z"
   },
   {
    "duration": 4,
    "start_time": "2024-04-02T20:50:58.037Z"
   },
   {
    "duration": 4,
    "start_time": "2024-04-02T20:54:38.272Z"
   },
   {
    "duration": 3,
    "start_time": "2024-04-02T20:54:58.858Z"
   },
   {
    "duration": 12,
    "start_time": "2024-04-02T20:56:30.613Z"
   },
   {
    "duration": 4,
    "start_time": "2024-04-02T20:56:43.546Z"
   },
   {
    "duration": 15,
    "start_time": "2024-04-02T20:58:28.464Z"
   },
   {
    "duration": 3,
    "start_time": "2024-04-02T20:58:57.220Z"
   },
   {
    "duration": 5,
    "start_time": "2024-04-02T20:59:57.798Z"
   },
   {
    "duration": 8669,
    "start_time": "2024-04-02T21:00:06.914Z"
   },
   {
    "duration": 6,
    "start_time": "2024-04-02T21:00:53.120Z"
   },
   {
    "duration": 9059,
    "start_time": "2024-04-02T21:00:56.886Z"
   },
   {
    "duration": 22,
    "start_time": "2024-04-02T21:01:50.929Z"
   },
   {
    "duration": 13,
    "start_time": "2024-04-02T21:07:54.280Z"
   },
   {
    "duration": 6683,
    "start_time": "2024-04-02T21:08:07.542Z"
   },
   {
    "duration": 513,
    "start_time": "2024-04-02T21:08:16.556Z"
   },
   {
    "duration": 41,
    "start_time": "2024-04-02T21:08:57.456Z"
   },
   {
    "duration": 16,
    "start_time": "2024-04-02T21:10:06.016Z"
   },
   {
    "duration": 11,
    "start_time": "2024-04-02T21:10:40.527Z"
   },
   {
    "duration": 41,
    "start_time": "2024-04-02T21:11:39.235Z"
   },
   {
    "duration": 10,
    "start_time": "2024-04-02T21:11:44.084Z"
   },
   {
    "duration": 14,
    "start_time": "2024-04-02T21:11:53.329Z"
   },
   {
    "duration": 3,
    "start_time": "2024-04-02T21:12:58.049Z"
   },
   {
    "duration": 4,
    "start_time": "2024-04-02T21:13:19.143Z"
   },
   {
    "duration": 50,
    "start_time": "2024-04-02T21:13:33.493Z"
   },
   {
    "duration": 12,
    "start_time": "2024-04-02T21:13:40.389Z"
   },
   {
    "duration": 14,
    "start_time": "2024-04-02T21:13:59.444Z"
   },
   {
    "duration": 3,
    "start_time": "2024-04-02T21:47:00.734Z"
   },
   {
    "duration": 7,
    "start_time": "2024-04-02T21:49:26.077Z"
   },
   {
    "duration": 20,
    "start_time": "2024-04-02T21:49:43.870Z"
   },
   {
    "duration": 8497,
    "start_time": "2024-04-02T21:50:00.016Z"
   },
   {
    "duration": 13,
    "start_time": "2024-04-02T21:50:42.020Z"
   },
   {
    "duration": 13,
    "start_time": "2024-04-02T21:50:57.380Z"
   },
   {
    "duration": 14,
    "start_time": "2024-04-02T21:51:32.557Z"
   },
   {
    "duration": 0,
    "start_time": "2024-04-02T21:57:09.341Z"
   },
   {
    "duration": 5,
    "start_time": "2024-04-02T21:57:25.291Z"
   },
   {
    "duration": 1645921,
    "start_time": "2024-04-02T21:57:27.885Z"
   },
   {
    "duration": 153,
    "start_time": "2024-04-02T22:25:02.324Z"
   },
   {
    "duration": 12,
    "start_time": "2024-04-02T22:26:05.528Z"
   },
   {
    "duration": 11,
    "start_time": "2024-04-02T22:27:04.275Z"
   },
   {
    "duration": 140,
    "start_time": "2024-04-02T22:27:50.267Z"
   },
   {
    "duration": 151,
    "start_time": "2024-04-02T22:28:02.278Z"
   },
   {
    "duration": 2603,
    "start_time": "2024-04-02T22:28:50.772Z"
   },
   {
    "duration": 157,
    "start_time": "2024-04-02T22:28:56.100Z"
   },
   {
    "duration": 342,
    "start_time": "2024-04-02T22:29:35.523Z"
   },
   {
    "duration": 144,
    "start_time": "2024-04-02T22:30:26.721Z"
   },
   {
    "duration": 138,
    "start_time": "2024-04-02T22:31:25.974Z"
   },
   {
    "duration": 154,
    "start_time": "2024-04-02T22:34:07.797Z"
   },
   {
    "duration": 152,
    "start_time": "2024-04-02T22:36:24.363Z"
   },
   {
    "duration": 18,
    "start_time": "2024-04-02T22:39:05.431Z"
   },
   {
    "duration": 16,
    "start_time": "2024-04-02T22:39:43.272Z"
   },
   {
    "duration": 1269,
    "start_time": "2024-04-02T22:42:15.335Z"
   },
   {
    "duration": 472,
    "start_time": "2024-04-02T22:44:28.973Z"
   },
   {
    "duration": 6912,
    "start_time": "2024-04-03T11:06:22.699Z"
   },
   {
    "duration": 1921,
    "start_time": "2024-04-03T11:06:29.614Z"
   },
   {
    "duration": 2288,
    "start_time": "2024-04-03T11:06:31.536Z"
   },
   {
    "duration": 3,
    "start_time": "2024-04-03T11:06:33.827Z"
   },
   {
    "duration": 20,
    "start_time": "2024-04-03T11:06:33.831Z"
   },
   {
    "duration": 12,
    "start_time": "2024-04-03T11:06:33.853Z"
   },
   {
    "duration": 220,
    "start_time": "2024-04-03T11:06:33.867Z"
   },
   {
    "duration": 16,
    "start_time": "2024-04-03T11:06:34.089Z"
   },
   {
    "duration": 12,
    "start_time": "2024-04-03T11:06:34.106Z"
   },
   {
    "duration": 9,
    "start_time": "2024-04-03T11:06:34.120Z"
   },
   {
    "duration": 13,
    "start_time": "2024-04-03T11:06:34.130Z"
   },
   {
    "duration": 12,
    "start_time": "2024-04-03T11:06:34.144Z"
   },
   {
    "duration": 9,
    "start_time": "2024-04-03T11:06:34.158Z"
   },
   {
    "duration": 15,
    "start_time": "2024-04-03T11:06:34.169Z"
   },
   {
    "duration": 9,
    "start_time": "2024-04-03T11:06:34.186Z"
   },
   {
    "duration": 5,
    "start_time": "2024-04-03T11:06:34.196Z"
   },
   {
    "duration": 6,
    "start_time": "2024-04-03T11:06:34.203Z"
   },
   {
    "duration": 7,
    "start_time": "2024-04-03T11:06:34.210Z"
   },
   {
    "duration": 6,
    "start_time": "2024-04-03T11:06:34.218Z"
   },
   {
    "duration": 5,
    "start_time": "2024-04-03T11:06:34.245Z"
   },
   {
    "duration": 6,
    "start_time": "2024-04-03T11:06:34.251Z"
   },
   {
    "duration": 6,
    "start_time": "2024-04-03T11:06:34.258Z"
   },
   {
    "duration": 6,
    "start_time": "2024-04-03T11:06:34.266Z"
   },
   {
    "duration": 4,
    "start_time": "2024-04-03T11:06:34.274Z"
   },
   {
    "duration": 7,
    "start_time": "2024-04-03T11:06:34.280Z"
   },
   {
    "duration": 13,
    "start_time": "2024-04-03T11:06:34.289Z"
   },
   {
    "duration": 6,
    "start_time": "2024-04-03T11:06:34.304Z"
   },
   {
    "duration": 5,
    "start_time": "2024-04-03T11:06:34.346Z"
   },
   {
    "duration": 18,
    "start_time": "2024-04-03T11:06:34.353Z"
   },
   {
    "duration": 14,
    "start_time": "2024-04-03T11:06:34.373Z"
   },
   {
    "duration": 8,
    "start_time": "2024-04-03T11:06:34.389Z"
   },
   {
    "duration": 5,
    "start_time": "2024-04-03T11:06:34.398Z"
   },
   {
    "duration": 14,
    "start_time": "2024-04-03T11:06:34.404Z"
   },
   {
    "duration": 304,
    "start_time": "2024-04-03T11:06:34.420Z"
   },
   {
    "duration": 34,
    "start_time": "2024-04-03T11:06:34.726Z"
   },
   {
    "duration": 294,
    "start_time": "2024-04-03T11:06:34.762Z"
   },
   {
    "duration": 140,
    "start_time": "2024-04-03T11:06:35.058Z"
   },
   {
    "duration": 230,
    "start_time": "2024-04-03T11:06:35.200Z"
   },
   {
    "duration": 144,
    "start_time": "2024-04-03T11:06:35.432Z"
   },
   {
    "duration": 147,
    "start_time": "2024-04-03T11:06:35.578Z"
   },
   {
    "duration": 134,
    "start_time": "2024-04-03T11:06:35.727Z"
   },
   {
    "duration": 119,
    "start_time": "2024-04-03T11:06:35.862Z"
   },
   {
    "duration": 211,
    "start_time": "2024-04-03T11:06:35.983Z"
   },
   {
    "duration": 344,
    "start_time": "2024-04-03T11:06:36.195Z"
   },
   {
    "duration": 1294,
    "start_time": "2024-04-03T11:06:36.540Z"
   },
   {
    "duration": 3,
    "start_time": "2024-04-03T11:06:37.836Z"
   },
   {
    "duration": 6,
    "start_time": "2024-04-03T11:06:37.840Z"
   },
   {
    "duration": 20,
    "start_time": "2024-04-03T11:06:37.848Z"
   },
   {
    "duration": 3,
    "start_time": "2024-04-03T11:06:37.870Z"
   },
   {
    "duration": 12,
    "start_time": "2024-04-03T11:06:37.875Z"
   },
   {
    "duration": 22,
    "start_time": "2024-04-03T11:06:37.888Z"
   },
   {
    "duration": 27,
    "start_time": "2024-04-03T11:06:37.912Z"
   },
   {
    "duration": 1649,
    "start_time": "2024-04-03T11:06:37.942Z"
   },
   {
    "duration": 148,
    "start_time": "2024-04-03T11:06:39.592Z"
   },
   {
    "duration": 12,
    "start_time": "2024-04-03T11:06:39.741Z"
   },
   {
    "duration": 13,
    "start_time": "2024-04-03T11:06:39.754Z"
   },
   {
    "duration": 7,
    "start_time": "2024-04-03T11:06:39.768Z"
   },
   {
    "duration": 11,
    "start_time": "2024-04-03T11:06:39.776Z"
   },
   {
    "duration": 11,
    "start_time": "2024-04-03T11:06:39.788Z"
   },
   {
    "duration": 7,
    "start_time": "2024-04-03T11:06:39.800Z"
   },
   {
    "duration": 4,
    "start_time": "2024-04-03T11:06:39.809Z"
   },
   {
    "duration": 32,
    "start_time": "2024-04-03T11:06:39.814Z"
   },
   {
    "duration": 10,
    "start_time": "2024-04-03T11:06:39.848Z"
   },
   {
    "duration": 10,
    "start_time": "2024-04-03T11:06:39.859Z"
   },
   {
    "duration": 8,
    "start_time": "2024-04-03T11:06:39.870Z"
   },
   {
    "duration": 5,
    "start_time": "2024-04-03T11:06:39.879Z"
   },
   {
    "duration": 9,
    "start_time": "2024-04-03T11:06:39.885Z"
   },
   {
    "duration": 11,
    "start_time": "2024-04-03T11:06:39.896Z"
   },
   {
    "duration": 38,
    "start_time": "2024-04-03T11:06:39.908Z"
   },
   {
    "duration": 17,
    "start_time": "2024-04-03T11:06:39.948Z"
   },
   {
    "duration": 313,
    "start_time": "2024-04-03T11:06:39.966Z"
   },
   {
    "duration": 6,
    "start_time": "2024-04-03T11:06:40.280Z"
   },
   {
    "duration": 154,
    "start_time": "2024-04-03T11:06:40.288Z"
   },
   {
    "duration": 152,
    "start_time": "2024-04-03T11:06:40.444Z"
   },
   {
    "duration": 221,
    "start_time": "2024-04-03T11:06:40.598Z"
   },
   {
    "duration": 127,
    "start_time": "2024-04-03T11:06:40.821Z"
   },
   {
    "duration": 4,
    "start_time": "2024-04-03T11:06:40.950Z"
   },
   {
    "duration": 29,
    "start_time": "2024-04-03T11:06:40.955Z"
   },
   {
    "duration": 8,
    "start_time": "2024-04-03T11:06:40.985Z"
   },
   {
    "duration": 13,
    "start_time": "2024-04-03T11:06:40.994Z"
   },
   {
    "duration": 17,
    "start_time": "2024-04-03T11:06:41.009Z"
   },
   {
    "duration": 10,
    "start_time": "2024-04-03T11:06:41.032Z"
   },
   {
    "duration": 262,
    "start_time": "2024-04-03T11:06:41.044Z"
   },
   {
    "duration": 14,
    "start_time": "2024-04-03T11:06:41.307Z"
   },
   {
    "duration": 29,
    "start_time": "2024-04-03T11:06:41.322Z"
   },
   {
    "duration": 8,
    "start_time": "2024-04-03T11:06:41.352Z"
   },
   {
    "duration": 8,
    "start_time": "2024-04-03T11:06:41.361Z"
   },
   {
    "duration": 7,
    "start_time": "2024-04-03T11:06:41.370Z"
   },
   {
    "duration": 20,
    "start_time": "2024-04-03T11:06:41.379Z"
   },
   {
    "duration": 12,
    "start_time": "2024-04-03T11:06:41.401Z"
   },
   {
    "duration": 9,
    "start_time": "2024-04-03T11:06:41.415Z"
   },
   {
    "duration": 26,
    "start_time": "2024-04-03T11:06:41.425Z"
   },
   {
    "duration": 3,
    "start_time": "2024-04-03T11:06:41.453Z"
   },
   {
    "duration": 9,
    "start_time": "2024-04-03T11:06:41.457Z"
   },
   {
    "duration": 17,
    "start_time": "2024-04-03T11:06:41.467Z"
   },
   {
    "duration": 6,
    "start_time": "2024-04-03T11:06:41.485Z"
   },
   {
    "duration": 8,
    "start_time": "2024-04-03T11:06:41.492Z"
   },
   {
    "duration": 4,
    "start_time": "2024-04-03T11:06:41.502Z"
   },
   {
    "duration": 7886,
    "start_time": "2024-04-03T11:06:41.507Z"
   },
   {
    "duration": 22,
    "start_time": "2024-04-03T11:06:49.394Z"
   },
   {
    "duration": 10,
    "start_time": "2024-04-03T11:06:49.418Z"
   },
   {
    "duration": 5,
    "start_time": "2024-04-03T11:06:49.430Z"
   },
   {
    "duration": 51,
    "start_time": "2024-04-03T11:06:49.445Z"
   },
   {
    "duration": 4,
    "start_time": "2024-04-03T11:06:49.498Z"
   },
   {
    "duration": 1349499,
    "start_time": "2024-04-03T11:06:49.504Z"
   },
   {
    "duration": 393,
    "start_time": "2024-04-03T11:29:19.004Z"
   },
   {
    "duration": 50,
    "start_time": "2024-04-03T12:17:12.516Z"
   },
   {
    "duration": 7537,
    "start_time": "2024-04-04T20:43:59.340Z"
   },
   {
    "duration": 2101,
    "start_time": "2024-04-04T20:44:06.879Z"
   },
   {
    "duration": 2302,
    "start_time": "2024-04-04T20:44:08.981Z"
   },
   {
    "duration": 3,
    "start_time": "2024-04-04T20:44:11.285Z"
   },
   {
    "duration": 28,
    "start_time": "2024-04-04T20:44:11.289Z"
   },
   {
    "duration": 2,
    "start_time": "2024-04-04T20:44:17.663Z"
   },
   {
    "duration": 73,
    "start_time": "2024-04-04T20:44:48.437Z"
   },
   {
    "duration": 170,
    "start_time": "2024-04-04T20:46:02.954Z"
   },
   {
    "duration": 35,
    "start_time": "2024-04-04T20:46:31.509Z"
   },
   {
    "duration": 34,
    "start_time": "2024-04-04T20:47:36.526Z"
   },
   {
    "duration": 5,
    "start_time": "2024-04-04T20:47:52.907Z"
   },
   {
    "duration": 259,
    "start_time": "2024-04-04T20:48:01.020Z"
   },
   {
    "duration": 194,
    "start_time": "2024-04-04T20:49:52.424Z"
   },
   {
    "duration": 4877,
    "start_time": "2024-04-04T20:51:46.299Z"
   },
   {
    "duration": 6,
    "start_time": "2024-04-04T20:51:51.178Z"
   },
   {
    "duration": 2429,
    "start_time": "2024-04-04T20:51:51.185Z"
   },
   {
    "duration": 3,
    "start_time": "2024-04-04T20:51:53.617Z"
   },
   {
    "duration": 32,
    "start_time": "2024-04-04T20:51:53.622Z"
   },
   {
    "duration": 7,
    "start_time": "2024-04-04T20:51:53.656Z"
   },
   {
    "duration": 85,
    "start_time": "2024-04-04T20:51:53.664Z"
   },
   {
    "duration": 15,
    "start_time": "2024-04-04T20:51:53.750Z"
   },
   {
    "duration": 15,
    "start_time": "2024-04-04T20:51:53.767Z"
   },
   {
    "duration": 24,
    "start_time": "2024-04-04T20:51:53.785Z"
   },
   {
    "duration": 9,
    "start_time": "2024-04-04T20:51:53.811Z"
   },
   {
    "duration": 21,
    "start_time": "2024-04-04T20:51:53.821Z"
   },
   {
    "duration": 42,
    "start_time": "2024-04-04T20:51:53.844Z"
   },
   {
    "duration": 12,
    "start_time": "2024-04-04T20:51:53.887Z"
   },
   {
    "duration": 22,
    "start_time": "2024-04-04T20:51:53.900Z"
   },
   {
    "duration": 4,
    "start_time": "2024-04-04T20:51:53.923Z"
   },
   {
    "duration": 12,
    "start_time": "2024-04-04T20:51:53.928Z"
   },
   {
    "duration": 26,
    "start_time": "2024-04-04T20:51:53.941Z"
   },
   {
    "duration": 8,
    "start_time": "2024-04-04T20:51:53.969Z"
   },
   {
    "duration": 7,
    "start_time": "2024-04-04T20:51:53.978Z"
   },
   {
    "duration": 11,
    "start_time": "2024-04-04T20:51:53.986Z"
   },
   {
    "duration": 11,
    "start_time": "2024-04-04T20:51:54.002Z"
   },
   {
    "duration": 57,
    "start_time": "2024-04-04T20:51:54.015Z"
   },
   {
    "duration": 5,
    "start_time": "2024-04-04T20:51:54.073Z"
   },
   {
    "duration": 9,
    "start_time": "2024-04-04T20:51:54.080Z"
   },
   {
    "duration": 10,
    "start_time": "2024-04-04T20:51:54.090Z"
   },
   {
    "duration": 11,
    "start_time": "2024-04-04T20:51:54.102Z"
   },
   {
    "duration": 11,
    "start_time": "2024-04-04T20:51:54.116Z"
   },
   {
    "duration": 30,
    "start_time": "2024-04-04T20:51:54.129Z"
   },
   {
    "duration": 8,
    "start_time": "2024-04-04T20:51:54.160Z"
   },
   {
    "duration": 7,
    "start_time": "2024-04-04T20:51:54.169Z"
   },
   {
    "duration": 8,
    "start_time": "2024-04-04T20:51:54.178Z"
   },
   {
    "duration": 16,
    "start_time": "2024-04-04T20:51:54.187Z"
   },
   {
    "duration": 328,
    "start_time": "2024-04-04T20:51:54.205Z"
   },
   {
    "duration": 23,
    "start_time": "2024-04-04T20:51:54.535Z"
   },
   {
    "duration": 304,
    "start_time": "2024-04-04T20:51:54.559Z"
   },
   {
    "duration": 267,
    "start_time": "2024-04-04T20:51:54.864Z"
   },
   {
    "duration": 124,
    "start_time": "2024-04-04T20:51:55.133Z"
   },
   {
    "duration": 148,
    "start_time": "2024-04-04T20:51:55.259Z"
   },
   {
    "duration": 148,
    "start_time": "2024-04-04T20:51:55.409Z"
   },
   {
    "duration": 141,
    "start_time": "2024-04-04T20:51:55.559Z"
   },
   {
    "duration": 125,
    "start_time": "2024-04-04T20:51:55.706Z"
   },
   {
    "duration": 135,
    "start_time": "2024-04-04T20:51:55.832Z"
   },
   {
    "duration": 277,
    "start_time": "2024-04-04T20:51:55.969Z"
   },
   {
    "duration": 1135,
    "start_time": "2024-04-04T20:51:56.247Z"
   },
   {
    "duration": 3,
    "start_time": "2024-04-04T20:51:57.384Z"
   },
   {
    "duration": 40,
    "start_time": "2024-04-04T20:51:57.388Z"
   },
   {
    "duration": 24,
    "start_time": "2024-04-04T20:51:57.430Z"
   },
   {
    "duration": 31,
    "start_time": "2024-04-04T20:51:57.456Z"
   },
   {
    "duration": 25,
    "start_time": "2024-04-04T20:51:57.489Z"
   },
   {
    "duration": 30,
    "start_time": "2024-04-04T20:51:57.515Z"
   },
   {
    "duration": 14,
    "start_time": "2024-04-04T20:51:57.546Z"
   },
   {
    "duration": 1581,
    "start_time": "2024-04-04T20:51:57.562Z"
   },
   {
    "duration": 56,
    "start_time": "2024-04-04T20:51:59.145Z"
   },
   {
    "duration": 15,
    "start_time": "2024-04-04T20:51:59.203Z"
   },
   {
    "duration": 15,
    "start_time": "2024-04-04T20:51:59.220Z"
   },
   {
    "duration": 12,
    "start_time": "2024-04-04T20:51:59.237Z"
   },
   {
    "duration": 59,
    "start_time": "2024-04-04T20:51:59.250Z"
   },
   {
    "duration": 17,
    "start_time": "2024-04-04T20:51:59.310Z"
   },
   {
    "duration": 12,
    "start_time": "2024-04-04T20:51:59.329Z"
   },
   {
    "duration": 14,
    "start_time": "2024-04-04T20:51:59.342Z"
   },
   {
    "duration": 22,
    "start_time": "2024-04-04T20:51:59.358Z"
   },
   {
    "duration": 23,
    "start_time": "2024-04-04T20:51:59.381Z"
   },
   {
    "duration": 18,
    "start_time": "2024-04-04T20:51:59.407Z"
   },
   {
    "duration": 15,
    "start_time": "2024-04-04T20:51:59.427Z"
   },
   {
    "duration": 10,
    "start_time": "2024-04-04T20:51:59.443Z"
   },
   {
    "duration": 7,
    "start_time": "2024-04-04T20:51:59.455Z"
   },
   {
    "duration": 6,
    "start_time": "2024-04-04T20:51:59.464Z"
   },
   {
    "duration": 34,
    "start_time": "2024-04-04T20:51:59.473Z"
   },
   {
    "duration": 16,
    "start_time": "2024-04-04T20:51:59.518Z"
   },
   {
    "duration": 282,
    "start_time": "2024-04-04T20:51:59.536Z"
   },
   {
    "duration": 5,
    "start_time": "2024-04-04T20:51:59.820Z"
   },
   {
    "duration": 142,
    "start_time": "2024-04-04T20:52:05.282Z"
   },
   {
    "duration": 239,
    "start_time": "2024-04-04T20:59:48.110Z"
   },
   {
    "duration": 138,
    "start_time": "2024-04-04T21:01:19.860Z"
   },
   {
    "duration": 130,
    "start_time": "2024-04-04T21:02:33.750Z"
   },
   {
    "duration": 144,
    "start_time": "2024-04-04T21:03:05.197Z"
   },
   {
    "duration": 140,
    "start_time": "2024-04-04T21:03:25.084Z"
   },
   {
    "duration": 152,
    "start_time": "2024-04-04T21:04:03.363Z"
   },
   {
    "duration": 142,
    "start_time": "2024-04-04T21:04:32.586Z"
   },
   {
    "duration": 142,
    "start_time": "2024-04-04T21:04:44.773Z"
   },
   {
    "duration": 151,
    "start_time": "2024-04-04T21:06:08.821Z"
   },
   {
    "duration": 136,
    "start_time": "2024-04-04T21:07:29.471Z"
   },
   {
    "duration": 11,
    "start_time": "2024-04-04T21:08:15.907Z"
   },
   {
    "duration": 13,
    "start_time": "2024-04-04T21:08:32.980Z"
   },
   {
    "duration": 1387,
    "start_time": "2024-04-04T21:09:09.211Z"
   },
   {
    "duration": 17,
    "start_time": "2024-04-04T21:09:51.315Z"
   },
   {
    "duration": 16,
    "start_time": "2024-04-04T21:10:00.019Z"
   },
   {
    "duration": 13,
    "start_time": "2024-04-04T21:10:17.939Z"
   },
   {
    "duration": 20,
    "start_time": "2024-04-04T21:11:13.168Z"
   },
   {
    "duration": 18,
    "start_time": "2024-04-04T21:11:36.202Z"
   },
   {
    "duration": 6,
    "start_time": "2024-04-04T21:12:19.190Z"
   },
   {
    "duration": 13,
    "start_time": "2024-04-04T21:14:26.777Z"
   },
   {
    "duration": 18,
    "start_time": "2024-04-04T21:15:10.667Z"
   },
   {
    "duration": 117,
    "start_time": "2024-04-04T21:15:33.658Z"
   },
   {
    "duration": 116,
    "start_time": "2024-04-04T21:16:07.234Z"
   },
   {
    "duration": 122,
    "start_time": "2024-04-04T21:17:07.615Z"
   },
   {
    "duration": 129,
    "start_time": "2024-04-04T21:17:24.653Z"
   },
   {
    "duration": 23,
    "start_time": "2024-04-04T21:22:19.693Z"
   },
   {
    "duration": 137,
    "start_time": "2024-04-04T21:23:13.011Z"
   },
   {
    "duration": 122,
    "start_time": "2024-04-04T21:23:47.853Z"
   },
   {
    "duration": 119,
    "start_time": "2024-04-04T21:24:35.817Z"
   },
   {
    "duration": 20,
    "start_time": "2024-04-04T21:25:01.776Z"
   },
   {
    "duration": 268,
    "start_time": "2024-04-04T21:25:04.082Z"
   },
   {
    "duration": 130,
    "start_time": "2024-04-04T21:25:19.994Z"
   },
   {
    "duration": 20,
    "start_time": "2024-04-04T21:25:32.248Z"
   },
   {
    "duration": 23,
    "start_time": "2024-04-04T21:26:05.497Z"
   },
   {
    "duration": 18,
    "start_time": "2024-04-04T21:26:15.238Z"
   },
   {
    "duration": 123,
    "start_time": "2024-04-04T21:26:18.050Z"
   },
   {
    "duration": 135,
    "start_time": "2024-04-04T21:27:32.534Z"
   },
   {
    "duration": 134,
    "start_time": "2024-04-04T21:27:52.462Z"
   },
   {
    "duration": 130,
    "start_time": "2024-04-04T21:28:01.779Z"
   },
   {
    "duration": 122,
    "start_time": "2024-04-04T21:28:07.223Z"
   },
   {
    "duration": 135,
    "start_time": "2024-04-04T21:28:23.285Z"
   },
   {
    "duration": 125,
    "start_time": "2024-04-04T21:28:29.531Z"
   },
   {
    "duration": 21,
    "start_time": "2024-04-04T21:30:27.868Z"
   },
   {
    "duration": 21,
    "start_time": "2024-04-04T21:30:56.995Z"
   },
   {
    "duration": 20,
    "start_time": "2024-04-04T21:31:17.058Z"
   },
   {
    "duration": 145,
    "start_time": "2024-04-04T21:32:30.070Z"
   },
   {
    "duration": 115,
    "start_time": "2024-04-04T21:33:10.858Z"
   },
   {
    "duration": 137,
    "start_time": "2024-04-04T21:33:32.348Z"
   },
   {
    "duration": 17,
    "start_time": "2024-04-04T21:33:40.281Z"
   },
   {
    "duration": 113,
    "start_time": "2024-04-04T21:35:07.898Z"
   },
   {
    "duration": 117,
    "start_time": "2024-04-04T21:35:31.849Z"
   },
   {
    "duration": 10,
    "start_time": "2024-04-04T21:35:46.605Z"
   },
   {
    "duration": 110,
    "start_time": "2024-04-04T21:35:55.722Z"
   },
   {
    "duration": 119,
    "start_time": "2024-04-04T21:36:08.696Z"
   },
   {
    "duration": 119,
    "start_time": "2024-04-04T21:37:08.396Z"
   },
   {
    "duration": 266,
    "start_time": "2024-04-04T21:40:11.383Z"
   },
   {
    "duration": 18,
    "start_time": "2024-04-04T21:41:07.832Z"
   },
   {
    "duration": 133,
    "start_time": "2024-04-04T21:41:24.103Z"
   },
   {
    "duration": 106,
    "start_time": "2024-04-04T21:42:53.556Z"
   },
   {
    "duration": 10,
    "start_time": "2024-04-04T21:43:25.060Z"
   },
   {
    "duration": 102,
    "start_time": "2024-04-04T21:43:32.968Z"
   },
   {
    "duration": 10,
    "start_time": "2024-04-04T21:43:51.230Z"
   },
   {
    "duration": 112,
    "start_time": "2024-04-04T21:44:00.194Z"
   },
   {
    "duration": 111,
    "start_time": "2024-04-04T21:44:07.117Z"
   },
   {
    "duration": 18,
    "start_time": "2024-04-04T21:44:52.798Z"
   },
   {
    "duration": 129,
    "start_time": "2024-04-04T21:45:03.430Z"
   },
   {
    "duration": 19,
    "start_time": "2024-04-04T21:45:37.878Z"
   },
   {
    "duration": 108,
    "start_time": "2024-04-04T21:45:41.217Z"
   },
   {
    "duration": 4497,
    "start_time": "2024-04-04T21:53:36.934Z"
   },
   {
    "duration": 6,
    "start_time": "2024-04-04T21:53:41.433Z"
   },
   {
    "duration": 2257,
    "start_time": "2024-04-04T21:53:41.440Z"
   },
   {
    "duration": 5,
    "start_time": "2024-04-04T21:53:43.698Z"
   },
   {
    "duration": 7,
    "start_time": "2024-04-04T21:53:43.705Z"
   },
   {
    "duration": 25,
    "start_time": "2024-04-04T21:53:43.713Z"
   },
   {
    "duration": 92,
    "start_time": "2024-04-04T21:53:43.740Z"
   },
   {
    "duration": 11,
    "start_time": "2024-04-04T21:53:43.834Z"
   },
   {
    "duration": 12,
    "start_time": "2024-04-04T21:53:43.846Z"
   },
   {
    "duration": 14,
    "start_time": "2024-04-04T21:53:43.859Z"
   },
   {
    "duration": 27,
    "start_time": "2024-04-04T21:53:43.874Z"
   },
   {
    "duration": 11,
    "start_time": "2024-04-04T21:53:43.903Z"
   },
   {
    "duration": 40,
    "start_time": "2024-04-04T21:53:43.915Z"
   },
   {
    "duration": 11,
    "start_time": "2024-04-04T21:53:43.958Z"
   },
   {
    "duration": 14,
    "start_time": "2024-04-04T21:53:43.970Z"
   },
   {
    "duration": 13,
    "start_time": "2024-04-04T21:53:43.985Z"
   },
   {
    "duration": 11,
    "start_time": "2024-04-04T21:53:44.000Z"
   },
   {
    "duration": 20,
    "start_time": "2024-04-04T21:53:44.013Z"
   },
   {
    "duration": 20,
    "start_time": "2024-04-04T21:53:44.035Z"
   },
   {
    "duration": 22,
    "start_time": "2024-04-04T21:53:44.056Z"
   },
   {
    "duration": 8,
    "start_time": "2024-04-04T21:53:44.080Z"
   },
   {
    "duration": 29,
    "start_time": "2024-04-04T21:53:44.090Z"
   },
   {
    "duration": 20,
    "start_time": "2024-04-04T21:53:44.120Z"
   },
   {
    "duration": 17,
    "start_time": "2024-04-04T21:53:44.142Z"
   },
   {
    "duration": 17,
    "start_time": "2024-04-04T21:53:44.160Z"
   },
   {
    "duration": 18,
    "start_time": "2024-04-04T21:53:44.179Z"
   },
   {
    "duration": 14,
    "start_time": "2024-04-04T21:53:44.199Z"
   },
   {
    "duration": 21,
    "start_time": "2024-04-04T21:53:44.214Z"
   },
   {
    "duration": 19,
    "start_time": "2024-04-04T21:53:44.237Z"
   },
   {
    "duration": 6,
    "start_time": "2024-04-04T21:53:44.258Z"
   },
   {
    "duration": 20,
    "start_time": "2024-04-04T21:53:44.266Z"
   },
   {
    "duration": 23,
    "start_time": "2024-04-04T21:53:44.288Z"
   },
   {
    "duration": 17,
    "start_time": "2024-04-04T21:53:44.312Z"
   },
   {
    "duration": 314,
    "start_time": "2024-04-04T21:53:44.330Z"
   },
   {
    "duration": 21,
    "start_time": "2024-04-04T21:53:44.646Z"
   },
   {
    "duration": 290,
    "start_time": "2024-04-04T21:53:44.668Z"
   },
   {
    "duration": 138,
    "start_time": "2024-04-04T21:53:44.960Z"
   },
   {
    "duration": 123,
    "start_time": "2024-04-04T21:53:45.099Z"
   },
   {
    "duration": 288,
    "start_time": "2024-04-04T21:53:45.223Z"
   },
   {
    "duration": 151,
    "start_time": "2024-04-04T21:53:45.512Z"
   },
   {
    "duration": 135,
    "start_time": "2024-04-04T21:53:45.667Z"
   },
   {
    "duration": 122,
    "start_time": "2024-04-04T21:53:45.804Z"
   },
   {
    "duration": 126,
    "start_time": "2024-04-04T21:53:45.927Z"
   },
   {
    "duration": 258,
    "start_time": "2024-04-04T21:53:46.055Z"
   },
   {
    "duration": 1171,
    "start_time": "2024-04-04T21:53:46.315Z"
   },
   {
    "duration": 3,
    "start_time": "2024-04-04T21:53:47.488Z"
   },
   {
    "duration": 7,
    "start_time": "2024-04-04T21:53:47.492Z"
   },
   {
    "duration": 12,
    "start_time": "2024-04-04T21:53:47.501Z"
   },
   {
    "duration": 3,
    "start_time": "2024-04-04T21:53:47.514Z"
   },
   {
    "duration": 6,
    "start_time": "2024-04-04T21:53:47.519Z"
   },
   {
    "duration": 14,
    "start_time": "2024-04-04T21:53:47.527Z"
   },
   {
    "duration": 7,
    "start_time": "2024-04-04T21:53:47.542Z"
   },
   {
    "duration": 1520,
    "start_time": "2024-04-04T21:53:47.550Z"
   },
   {
    "duration": 51,
    "start_time": "2024-04-04T21:53:49.071Z"
   },
   {
    "duration": 10,
    "start_time": "2024-04-04T21:53:49.123Z"
   },
   {
    "duration": 26,
    "start_time": "2024-04-04T21:53:49.134Z"
   },
   {
    "duration": 19,
    "start_time": "2024-04-04T21:53:49.162Z"
   },
   {
    "duration": 11,
    "start_time": "2024-04-04T21:53:49.183Z"
   },
   {
    "duration": 10,
    "start_time": "2024-04-04T21:53:49.195Z"
   },
   {
    "duration": 8,
    "start_time": "2024-04-04T21:53:49.207Z"
   },
   {
    "duration": 3,
    "start_time": "2024-04-04T21:53:49.217Z"
   },
   {
    "duration": 11,
    "start_time": "2024-04-04T21:53:49.222Z"
   },
   {
    "duration": 14,
    "start_time": "2024-04-04T21:53:49.235Z"
   },
   {
    "duration": 9,
    "start_time": "2024-04-04T21:53:49.250Z"
   },
   {
    "duration": 21,
    "start_time": "2024-04-04T21:53:49.261Z"
   },
   {
    "duration": 24,
    "start_time": "2024-04-04T21:53:49.283Z"
   },
   {
    "duration": 10,
    "start_time": "2024-04-04T21:53:49.308Z"
   },
   {
    "duration": 24,
    "start_time": "2024-04-04T21:53:49.319Z"
   },
   {
    "duration": 42,
    "start_time": "2024-04-04T21:53:49.344Z"
   },
   {
    "duration": 21,
    "start_time": "2024-04-04T21:53:49.388Z"
   },
   {
    "duration": 268,
    "start_time": "2024-04-04T21:53:49.411Z"
   },
   {
    "duration": 15,
    "start_time": "2024-04-04T21:53:49.680Z"
   },
   {
    "duration": 152,
    "start_time": "2024-04-04T21:53:49.697Z"
   },
   {
    "duration": 16,
    "start_time": "2024-04-04T21:53:49.851Z"
   },
   {
    "duration": 133,
    "start_time": "2024-04-04T21:53:49.869Z"
   },
   {
    "duration": 122,
    "start_time": "2024-04-04T21:53:50.004Z"
   },
   {
    "duration": 17,
    "start_time": "2024-04-04T21:53:50.127Z"
   },
   {
    "duration": 114,
    "start_time": "2024-04-04T21:53:50.145Z"
   },
   {
    "duration": 244,
    "start_time": "2024-04-04T21:53:50.261Z"
   },
   {
    "duration": 18,
    "start_time": "2024-04-04T21:53:50.506Z"
   },
   {
    "duration": 114,
    "start_time": "2024-04-04T21:53:50.525Z"
   },
   {
    "duration": 4,
    "start_time": "2024-04-04T21:53:50.641Z"
   },
   {
    "duration": 8,
    "start_time": "2024-04-04T21:53:50.646Z"
   },
   {
    "duration": 18,
    "start_time": "2024-04-04T21:53:50.655Z"
   },
   {
    "duration": 18,
    "start_time": "2024-04-04T21:53:50.675Z"
   },
   {
    "duration": 5,
    "start_time": "2024-04-04T21:55:54.913Z"
   },
   {
    "duration": 10,
    "start_time": "2024-04-04T21:55:55.570Z"
   },
   {
    "duration": 251,
    "start_time": "2024-04-04T21:55:57.579Z"
   },
   {
    "duration": 17,
    "start_time": "2024-04-04T21:55:59.000Z"
   },
   {
    "duration": 14,
    "start_time": "2024-04-04T21:56:00.155Z"
   },
   {
    "duration": 4,
    "start_time": "2024-04-04T21:56:56.712Z"
   },
   {
    "duration": 70,
    "start_time": "2024-04-04T21:59:43.633Z"
   },
   {
    "duration": 78,
    "start_time": "2024-04-04T22:00:25.174Z"
   },
   {
    "duration": 69,
    "start_time": "2024-04-04T22:01:12.547Z"
   },
   {
    "duration": 8,
    "start_time": "2024-04-04T22:03:09.908Z"
   },
   {
    "duration": 1102,
    "start_time": "2024-04-04T22:03:11.641Z"
   },
   {
    "duration": 7,
    "start_time": "2024-04-04T22:03:36.796Z"
   },
   {
    "duration": 228,
    "start_time": "2024-04-04T22:03:39.723Z"
   },
   {
    "duration": 14,
    "start_time": "2024-04-04T22:03:53.927Z"
   },
   {
    "duration": 14,
    "start_time": "2024-04-04T22:04:06.526Z"
   },
   {
    "duration": 3,
    "start_time": "2024-04-04T22:05:01.155Z"
   },
   {
    "duration": 71,
    "start_time": "2024-04-04T22:05:06.434Z"
   },
   {
    "duration": 4,
    "start_time": "2024-04-04T22:05:38.127Z"
   },
   {
    "duration": 4,
    "start_time": "2024-04-04T22:05:51.733Z"
   },
   {
    "duration": 17,
    "start_time": "2024-04-04T22:08:13.280Z"
   },
   {
    "duration": 69,
    "start_time": "2024-04-04T22:08:35.333Z"
   },
   {
    "duration": 13,
    "start_time": "2024-04-04T22:08:41.178Z"
   },
   {
    "duration": 13,
    "start_time": "2024-04-04T22:08:46.310Z"
   },
   {
    "duration": 17,
    "start_time": "2024-04-04T22:09:08.110Z"
   },
   {
    "duration": 3,
    "start_time": "2024-04-04T22:09:44.040Z"
   },
   {
    "duration": 5,
    "start_time": "2024-04-04T22:09:51.442Z"
   },
   {
    "duration": 4,
    "start_time": "2024-04-04T22:11:03.708Z"
   },
   {
    "duration": 68,
    "start_time": "2024-04-04T22:18:27.633Z"
   },
   {
    "duration": 13,
    "start_time": "2024-04-04T22:19:45.558Z"
   },
   {
    "duration": 5,
    "start_time": "2024-04-04T22:20:01.020Z"
   },
   {
    "duration": 68,
    "start_time": "2024-04-04T22:21:42.134Z"
   },
   {
    "duration": 4427,
    "start_time": "2024-04-04T22:24:53.078Z"
   },
   {
    "duration": 1725,
    "start_time": "2024-04-04T22:24:57.508Z"
   },
   {
    "duration": 2230,
    "start_time": "2024-04-04T22:24:59.235Z"
   },
   {
    "duration": 3,
    "start_time": "2024-04-04T22:25:01.467Z"
   },
   {
    "duration": 61,
    "start_time": "2024-04-04T22:25:01.472Z"
   },
   {
    "duration": 88,
    "start_time": "2024-04-04T22:25:01.535Z"
   },
   {
    "duration": 135,
    "start_time": "2024-04-04T22:25:01.625Z"
   },
   {
    "duration": 15,
    "start_time": "2024-04-04T22:25:01.761Z"
   },
   {
    "duration": 55,
    "start_time": "2024-04-04T22:25:01.777Z"
   },
   {
    "duration": 69,
    "start_time": "2024-04-04T22:25:01.835Z"
   },
   {
    "duration": 84,
    "start_time": "2024-04-04T22:25:01.905Z"
   },
   {
    "duration": 100,
    "start_time": "2024-04-04T22:25:01.990Z"
   },
   {
    "duration": 115,
    "start_time": "2024-04-04T22:25:02.092Z"
   },
   {
    "duration": 31,
    "start_time": "2024-04-04T22:25:02.208Z"
   },
   {
    "duration": 50,
    "start_time": "2024-04-04T22:25:02.240Z"
   },
   {
    "duration": 34,
    "start_time": "2024-04-04T22:25:02.292Z"
   },
   {
    "duration": 77,
    "start_time": "2024-04-04T22:25:02.327Z"
   },
   {
    "duration": 30,
    "start_time": "2024-04-04T22:25:02.405Z"
   },
   {
    "duration": 65,
    "start_time": "2024-04-04T22:25:02.436Z"
   },
   {
    "duration": 35,
    "start_time": "2024-04-04T22:25:02.503Z"
   },
   {
    "duration": 43,
    "start_time": "2024-04-04T22:25:02.539Z"
   },
   {
    "duration": 34,
    "start_time": "2024-04-04T22:25:02.584Z"
   },
   {
    "duration": 141,
    "start_time": "2024-04-04T22:25:02.619Z"
   },
   {
    "duration": 267,
    "start_time": "2024-04-04T22:25:02.762Z"
   },
   {
    "duration": 109,
    "start_time": "2024-04-04T22:25:03.031Z"
   },
   {
    "duration": 59,
    "start_time": "2024-04-04T22:25:03.141Z"
   },
   {
    "duration": 24,
    "start_time": "2024-04-04T22:25:03.202Z"
   },
   {
    "duration": 20,
    "start_time": "2024-04-04T22:25:03.231Z"
   },
   {
    "duration": 47,
    "start_time": "2024-04-04T22:25:03.252Z"
   },
   {
    "duration": 42,
    "start_time": "2024-04-04T22:25:03.301Z"
   },
   {
    "duration": 153,
    "start_time": "2024-04-04T22:25:03.344Z"
   },
   {
    "duration": 78,
    "start_time": "2024-04-04T22:25:03.499Z"
   },
   {
    "duration": 89,
    "start_time": "2024-04-04T22:25:03.579Z"
   },
   {
    "duration": 290,
    "start_time": "2024-04-04T22:25:03.670Z"
   },
   {
    "duration": 19,
    "start_time": "2024-04-04T22:25:03.961Z"
   },
   {
    "duration": 291,
    "start_time": "2024-04-04T22:25:03.981Z"
   },
   {
    "duration": 132,
    "start_time": "2024-04-04T22:25:04.273Z"
   },
   {
    "duration": 225,
    "start_time": "2024-04-04T22:25:04.407Z"
   },
   {
    "duration": 120,
    "start_time": "2024-04-04T22:25:04.633Z"
   },
   {
    "duration": 142,
    "start_time": "2024-04-04T22:25:04.755Z"
   },
   {
    "duration": 128,
    "start_time": "2024-04-04T22:25:04.898Z"
   },
   {
    "duration": 126,
    "start_time": "2024-04-04T22:25:05.028Z"
   },
   {
    "duration": 125,
    "start_time": "2024-04-04T22:25:05.155Z"
   },
   {
    "duration": 252,
    "start_time": "2024-04-04T22:25:05.282Z"
   },
   {
    "duration": 1076,
    "start_time": "2024-04-04T22:25:05.535Z"
   },
   {
    "duration": 2,
    "start_time": "2024-04-04T22:25:06.612Z"
   },
   {
    "duration": 45,
    "start_time": "2024-04-04T22:25:06.616Z"
   },
   {
    "duration": 30,
    "start_time": "2024-04-04T22:25:06.662Z"
   },
   {
    "duration": 11,
    "start_time": "2024-04-04T22:25:06.694Z"
   },
   {
    "duration": 40,
    "start_time": "2024-04-04T22:25:06.706Z"
   },
   {
    "duration": 47,
    "start_time": "2024-04-04T22:25:06.747Z"
   },
   {
    "duration": 62,
    "start_time": "2024-04-04T22:25:06.796Z"
   },
   {
    "duration": 1497,
    "start_time": "2024-04-04T22:25:06.860Z"
   },
   {
    "duration": 52,
    "start_time": "2024-04-04T22:25:08.358Z"
   },
   {
    "duration": 10,
    "start_time": "2024-04-04T22:25:08.411Z"
   },
   {
    "duration": 23,
    "start_time": "2024-04-04T22:25:08.422Z"
   },
   {
    "duration": 28,
    "start_time": "2024-04-04T22:25:08.447Z"
   },
   {
    "duration": 13,
    "start_time": "2024-04-04T22:25:08.477Z"
   },
   {
    "duration": 9,
    "start_time": "2024-04-04T22:25:08.491Z"
   },
   {
    "duration": 15,
    "start_time": "2024-04-04T22:25:08.502Z"
   },
   {
    "duration": 27,
    "start_time": "2024-04-04T22:25:08.518Z"
   },
   {
    "duration": 28,
    "start_time": "2024-04-04T22:25:08.547Z"
   },
   {
    "duration": 23,
    "start_time": "2024-04-04T22:25:08.576Z"
   },
   {
    "duration": 18,
    "start_time": "2024-04-04T22:25:08.601Z"
   },
   {
    "duration": 27,
    "start_time": "2024-04-04T22:25:08.620Z"
   },
   {
    "duration": 16,
    "start_time": "2024-04-04T22:25:08.648Z"
   },
   {
    "duration": 46,
    "start_time": "2024-04-04T22:25:08.665Z"
   },
   {
    "duration": 14,
    "start_time": "2024-04-04T22:25:08.712Z"
   },
   {
    "duration": 22,
    "start_time": "2024-04-04T22:25:08.727Z"
   },
   {
    "duration": 17,
    "start_time": "2024-04-04T22:25:08.750Z"
   },
   {
    "duration": 281,
    "start_time": "2024-04-04T22:25:08.768Z"
   },
   {
    "duration": 7,
    "start_time": "2024-04-04T22:25:09.052Z"
   },
   {
    "duration": 169,
    "start_time": "2024-04-04T22:25:09.061Z"
   },
   {
    "duration": 17,
    "start_time": "2024-04-04T22:25:09.231Z"
   },
   {
    "duration": 144,
    "start_time": "2024-04-04T22:25:09.250Z"
   },
   {
    "duration": 239,
    "start_time": "2024-04-04T22:25:09.396Z"
   },
   {
    "duration": 25,
    "start_time": "2024-04-04T22:25:09.636Z"
   },
   {
    "duration": 133,
    "start_time": "2024-04-04T22:25:09.663Z"
   },
   {
    "duration": 128,
    "start_time": "2024-04-04T22:25:09.797Z"
   },
   {
    "duration": 19,
    "start_time": "2024-04-04T22:25:09.927Z"
   },
   {
    "duration": 121,
    "start_time": "2024-04-04T22:25:09.947Z"
   },
   {
    "duration": 5,
    "start_time": "2024-04-04T22:25:10.076Z"
   },
   {
    "duration": 11,
    "start_time": "2024-04-04T22:25:10.095Z"
   },
   {
    "duration": 6,
    "start_time": "2024-04-04T22:25:10.108Z"
   },
   {
    "duration": 10,
    "start_time": "2024-04-04T22:25:10.116Z"
   },
   {
    "duration": 6,
    "start_time": "2024-04-04T22:25:10.128Z"
   },
   {
    "duration": 11,
    "start_time": "2024-04-04T22:25:10.135Z"
   },
   {
    "duration": 8,
    "start_time": "2024-04-04T22:25:10.147Z"
   },
   {
    "duration": 282,
    "start_time": "2024-04-04T22:25:10.156Z"
   },
   {
    "duration": 13,
    "start_time": "2024-04-04T22:25:10.440Z"
   },
   {
    "duration": 25,
    "start_time": "2024-04-04T22:25:10.454Z"
   },
   {
    "duration": 17,
    "start_time": "2024-04-04T22:25:10.480Z"
   },
   {
    "duration": 19,
    "start_time": "2024-04-04T22:25:10.498Z"
   },
   {
    "duration": 10,
    "start_time": "2024-04-04T22:25:10.518Z"
   },
   {
    "duration": 10,
    "start_time": "2024-04-04T22:25:10.530Z"
   },
   {
    "duration": 30,
    "start_time": "2024-04-04T22:25:10.541Z"
   },
   {
    "duration": 21,
    "start_time": "2024-04-04T22:25:10.572Z"
   },
   {
    "duration": 25,
    "start_time": "2024-04-04T22:25:10.594Z"
   },
   {
    "duration": 17,
    "start_time": "2024-04-04T22:25:10.620Z"
   },
   {
    "duration": 11,
    "start_time": "2024-04-04T22:25:10.639Z"
   },
   {
    "duration": 26,
    "start_time": "2024-04-04T22:25:10.651Z"
   },
   {
    "duration": 5,
    "start_time": "2024-04-04T22:25:10.679Z"
   },
   {
    "duration": 8,
    "start_time": "2024-04-04T22:25:10.686Z"
   },
   {
    "duration": 8,
    "start_time": "2024-04-04T22:25:10.695Z"
   },
   {
    "duration": 11,
    "start_time": "2024-04-04T22:25:10.704Z"
   },
   {
    "duration": 7442,
    "start_time": "2024-04-04T22:25:10.716Z"
   },
   {
    "duration": 18,
    "start_time": "2024-04-04T22:25:18.160Z"
   },
   {
    "duration": 2,
    "start_time": "2024-04-04T22:25:18.180Z"
   },
   {
    "duration": 11,
    "start_time": "2024-04-04T22:25:18.184Z"
   },
   {
    "duration": 41,
    "start_time": "2024-04-04T22:25:18.196Z"
   },
   {
    "duration": 3,
    "start_time": "2024-04-04T22:25:18.239Z"
   },
   {
    "duration": 5,
    "start_time": "2024-04-04T22:25:18.243Z"
   },
   {
    "duration": 6,
    "start_time": "2024-04-04T22:25:18.249Z"
   },
   {
    "duration": 4443,
    "start_time": "2024-04-04T22:26:59.669Z"
   },
   {
    "duration": 1742,
    "start_time": "2024-04-04T22:27:04.114Z"
   },
   {
    "duration": 2169,
    "start_time": "2024-04-04T22:27:05.858Z"
   },
   {
    "duration": 4,
    "start_time": "2024-04-04T22:27:08.029Z"
   },
   {
    "duration": 23,
    "start_time": "2024-04-04T22:27:08.034Z"
   },
   {
    "duration": 10,
    "start_time": "2024-04-04T22:27:08.059Z"
   },
   {
    "duration": 78,
    "start_time": "2024-04-04T22:27:08.070Z"
   },
   {
    "duration": 14,
    "start_time": "2024-04-04T22:27:08.150Z"
   },
   {
    "duration": 13,
    "start_time": "2024-04-04T22:27:08.165Z"
   },
   {
    "duration": 12,
    "start_time": "2024-04-04T22:27:08.179Z"
   },
   {
    "duration": 9,
    "start_time": "2024-04-04T22:27:08.192Z"
   },
   {
    "duration": 6,
    "start_time": "2024-04-04T22:27:08.203Z"
   },
   {
    "duration": 21,
    "start_time": "2024-04-04T22:27:08.210Z"
   },
   {
    "duration": 29,
    "start_time": "2024-04-04T22:27:08.233Z"
   },
   {
    "duration": 16,
    "start_time": "2024-04-04T22:27:08.264Z"
   },
   {
    "duration": 7,
    "start_time": "2024-04-04T22:27:08.281Z"
   },
   {
    "duration": 33,
    "start_time": "2024-04-04T22:27:08.289Z"
   },
   {
    "duration": 22,
    "start_time": "2024-04-04T22:27:08.324Z"
   },
   {
    "duration": 25,
    "start_time": "2024-04-04T22:27:08.348Z"
   },
   {
    "duration": 23,
    "start_time": "2024-04-04T22:27:08.374Z"
   },
   {
    "duration": 18,
    "start_time": "2024-04-04T22:27:08.398Z"
   },
   {
    "duration": 15,
    "start_time": "2024-04-04T22:27:08.417Z"
   },
   {
    "duration": 14,
    "start_time": "2024-04-04T22:27:08.433Z"
   },
   {
    "duration": 9,
    "start_time": "2024-04-04T22:27:08.449Z"
   },
   {
    "duration": 37,
    "start_time": "2024-04-04T22:27:08.459Z"
   },
   {
    "duration": 28,
    "start_time": "2024-04-04T22:27:08.498Z"
   },
   {
    "duration": 6,
    "start_time": "2024-04-04T22:27:08.528Z"
   },
   {
    "duration": 11,
    "start_time": "2024-04-04T22:27:08.536Z"
   },
   {
    "duration": 9,
    "start_time": "2024-04-04T22:27:08.549Z"
   },
   {
    "duration": 10,
    "start_time": "2024-04-04T22:27:08.560Z"
   },
   {
    "duration": 5,
    "start_time": "2024-04-04T22:27:08.571Z"
   },
   {
    "duration": 4,
    "start_time": "2024-04-04T22:27:08.577Z"
   },
   {
    "duration": 12,
    "start_time": "2024-04-04T22:27:08.582Z"
   },
   {
    "duration": 274,
    "start_time": "2024-04-04T22:27:08.596Z"
   },
   {
    "duration": 29,
    "start_time": "2024-04-04T22:27:08.871Z"
   },
   {
    "duration": 275,
    "start_time": "2024-04-04T22:27:08.901Z"
   },
   {
    "duration": 125,
    "start_time": "2024-04-04T22:27:09.177Z"
   },
   {
    "duration": 210,
    "start_time": "2024-04-04T22:27:09.303Z"
   },
   {
    "duration": 121,
    "start_time": "2024-04-04T22:27:09.515Z"
   },
   {
    "duration": 145,
    "start_time": "2024-04-04T22:27:09.638Z"
   },
   {
    "duration": 125,
    "start_time": "2024-04-04T22:27:09.787Z"
   },
   {
    "duration": 120,
    "start_time": "2024-04-04T22:27:09.913Z"
   },
   {
    "duration": 120,
    "start_time": "2024-04-04T22:27:10.034Z"
   },
   {
    "duration": 246,
    "start_time": "2024-04-04T22:27:10.156Z"
   },
   {
    "duration": 1055,
    "start_time": "2024-04-04T22:27:10.403Z"
   },
   {
    "duration": 3,
    "start_time": "2024-04-04T22:27:11.459Z"
   },
   {
    "duration": 8,
    "start_time": "2024-04-04T22:27:11.463Z"
   },
   {
    "duration": 10,
    "start_time": "2024-04-04T22:27:11.472Z"
   },
   {
    "duration": 3,
    "start_time": "2024-04-04T22:27:11.483Z"
   },
   {
    "duration": 9,
    "start_time": "2024-04-04T22:27:11.488Z"
   },
   {
    "duration": 13,
    "start_time": "2024-04-04T22:27:11.498Z"
   },
   {
    "duration": 5,
    "start_time": "2024-04-04T22:27:11.512Z"
   },
   {
    "duration": 1415,
    "start_time": "2024-04-04T22:27:11.519Z"
   },
   {
    "duration": 51,
    "start_time": "2024-04-04T22:27:12.935Z"
   },
   {
    "duration": 9,
    "start_time": "2024-04-04T22:27:12.988Z"
   },
   {
    "duration": 16,
    "start_time": "2024-04-04T22:27:12.998Z"
   },
   {
    "duration": 14,
    "start_time": "2024-04-04T22:27:13.015Z"
   },
   {
    "duration": 15,
    "start_time": "2024-04-04T22:27:13.030Z"
   },
   {
    "duration": 14,
    "start_time": "2024-04-04T22:27:13.047Z"
   },
   {
    "duration": 14,
    "start_time": "2024-04-04T22:27:13.062Z"
   },
   {
    "duration": 29,
    "start_time": "2024-04-04T22:27:13.077Z"
   },
   {
    "duration": 18,
    "start_time": "2024-04-04T22:27:13.107Z"
   },
   {
    "duration": 8,
    "start_time": "2024-04-04T22:27:13.126Z"
   },
   {
    "duration": 9,
    "start_time": "2024-04-04T22:27:13.135Z"
   },
   {
    "duration": 9,
    "start_time": "2024-04-04T22:27:13.145Z"
   },
   {
    "duration": 26,
    "start_time": "2024-04-04T22:27:13.155Z"
   },
   {
    "duration": 11,
    "start_time": "2024-04-04T22:27:13.183Z"
   },
   {
    "duration": 7,
    "start_time": "2024-04-04T22:27:13.195Z"
   },
   {
    "duration": 56,
    "start_time": "2024-04-04T22:27:13.203Z"
   },
   {
    "duration": 20,
    "start_time": "2024-04-04T22:27:13.260Z"
   },
   {
    "duration": 275,
    "start_time": "2024-04-04T22:27:13.281Z"
   },
   {
    "duration": 7,
    "start_time": "2024-04-04T22:27:13.557Z"
   },
   {
    "duration": 151,
    "start_time": "2024-04-04T22:27:13.566Z"
   },
   {
    "duration": 17,
    "start_time": "2024-04-04T22:27:13.718Z"
   },
   {
    "duration": 127,
    "start_time": "2024-04-04T22:27:13.737Z"
   },
   {
    "duration": 215,
    "start_time": "2024-04-04T22:27:13.866Z"
   },
   {
    "duration": 24,
    "start_time": "2024-04-04T22:27:14.082Z"
   },
   {
    "duration": 105,
    "start_time": "2024-04-04T22:27:14.107Z"
   },
   {
    "duration": 121,
    "start_time": "2024-04-04T22:27:14.214Z"
   },
   {
    "duration": 17,
    "start_time": "2024-04-04T22:27:14.336Z"
   },
   {
    "duration": 108,
    "start_time": "2024-04-04T22:27:14.354Z"
   },
   {
    "duration": 4,
    "start_time": "2024-04-04T22:27:14.463Z"
   },
   {
    "duration": 7,
    "start_time": "2024-04-04T22:27:14.469Z"
   },
   {
    "duration": 21,
    "start_time": "2024-04-04T22:27:14.478Z"
   },
   {
    "duration": 42,
    "start_time": "2024-04-04T22:27:14.500Z"
   },
   {
    "duration": 10,
    "start_time": "2024-04-04T22:27:14.543Z"
   },
   {
    "duration": 27,
    "start_time": "2024-04-04T22:27:14.554Z"
   },
   {
    "duration": 5,
    "start_time": "2024-04-04T22:27:14.582Z"
   },
   {
    "duration": 222,
    "start_time": "2024-04-04T22:27:14.589Z"
   },
   {
    "duration": 13,
    "start_time": "2024-04-04T22:27:14.812Z"
   },
   {
    "duration": 12,
    "start_time": "2024-04-04T22:27:14.826Z"
   },
   {
    "duration": 5,
    "start_time": "2024-04-04T22:27:14.839Z"
   },
   {
    "duration": 27,
    "start_time": "2024-04-04T22:27:14.845Z"
   },
   {
    "duration": 9,
    "start_time": "2024-04-04T22:27:14.874Z"
   },
   {
    "duration": 4,
    "start_time": "2024-04-04T22:27:14.884Z"
   },
   {
    "duration": 19,
    "start_time": "2024-04-04T22:27:14.889Z"
   },
   {
    "duration": 14,
    "start_time": "2024-04-04T22:27:14.910Z"
   },
   {
    "duration": 40,
    "start_time": "2024-04-04T22:27:14.925Z"
   },
   {
    "duration": 12,
    "start_time": "2024-04-04T22:27:14.966Z"
   },
   {
    "duration": 3,
    "start_time": "2024-04-04T22:27:14.981Z"
   },
   {
    "duration": 5,
    "start_time": "2024-04-04T22:27:14.986Z"
   },
   {
    "duration": 9,
    "start_time": "2024-04-04T22:27:14.993Z"
   },
   {
    "duration": 75,
    "start_time": "2024-04-04T22:27:15.003Z"
   },
   {
    "duration": 156,
    "start_time": "2024-04-04T22:27:15.080Z"
   },
   {
    "duration": 122,
    "start_time": "2024-04-04T22:27:15.237Z"
   },
   {
    "duration": 7349,
    "start_time": "2024-04-04T22:27:15.360Z"
   },
   {
    "duration": 18,
    "start_time": "2024-04-04T22:27:22.710Z"
   },
   {
    "duration": 29,
    "start_time": "2024-04-04T22:27:22.730Z"
   },
   {
    "duration": 16,
    "start_time": "2024-04-04T22:27:22.760Z"
   },
   {
    "duration": 60,
    "start_time": "2024-04-04T22:27:22.777Z"
   },
   {
    "duration": 3,
    "start_time": "2024-04-04T22:27:22.839Z"
   },
   {
    "duration": 1319393,
    "start_time": "2024-04-04T22:27:22.843Z"
   },
   {
    "duration": 422,
    "start_time": "2024-04-04T22:49:22.238Z"
   }
  ],
  "kernelspec": {
   "display_name": "Python 3 (ipykernel)",
   "language": "python",
   "name": "python3"
  },
  "language_info": {
   "codemirror_mode": {
    "name": "ipython",
    "version": 3
   },
   "file_extension": ".py",
   "mimetype": "text/x-python",
   "name": "python",
   "nbconvert_exporter": "python",
   "pygments_lexer": "ipython3",
   "version": "3.9.7"
  },
  "toc": {
   "base_numbering": 1,
   "nav_menu": {},
   "number_sections": true,
   "sideBar": true,
   "skip_h1_title": true,
   "title_cell": "Table of Contents",
   "title_sidebar": "Contents",
   "toc_cell": false,
   "toc_position": {},
   "toc_section_display": true,
   "toc_window_display": true
  }
 },
 "nbformat": 4,
 "nbformat_minor": 5
}
