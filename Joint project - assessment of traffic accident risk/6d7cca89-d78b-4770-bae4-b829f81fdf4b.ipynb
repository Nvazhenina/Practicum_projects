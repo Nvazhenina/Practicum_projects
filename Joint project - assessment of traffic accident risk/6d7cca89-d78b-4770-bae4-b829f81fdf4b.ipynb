{
 "cells": [
  {
   "cell_type": "markdown",
   "id": "235f6987",
   "metadata": {
    "ExecuteTime": {
     "end_time": "2022-05-05T04:58:05.692448Z",
     "start_time": "2022-05-05T04:58:05.688565Z"
    }
   },
   "source": [
    "# Сборный проект  3-4."
   ]
  },
  {
   "cell_type": "markdown",
   "id": "61907405",
   "metadata": {},
   "source": [
    "**Заказчик** этого исследования — каршеринговая компания.<br><br>\n",
    "**Цель проекта:**\n",
    "- создать систему, которая могла бы оценить риск ДТП по выбранному маршруту движения. Под риском понимается вероятность ДТП с любым повреждением транспортного средства."
   ]
  },
  {
   "cell_type": "markdown",
   "id": "dc29a0bc",
   "metadata": {},
   "source": [
    "**Описание данных:**<br>\n",
    "данные лежат в БД.\n",
    "Данные содержатся в таблицах: collisions (общая информация о ДТП), parties (информация об участниках ДТП), vehicles (информация о пострадавших машинах)."
   ]
  },
  {
   "cell_type": "markdown",
   "id": "ec68500f",
   "metadata": {},
   "source": [
    "**План работ:**<br>\n",
    "- загрузить данные\n",
    "- предобработать данные: преобразовать типы, заполнить пропуски, обработать дубликаты.\n",
    "- провести статистический анализ факторов ДТП.\n",
    "- создать модель для оценки водительского риска.\n",
    "- найти лучшую модель и проверить ее в работе.\n",
    "- проанализировать важность признаков в выбранной модели."
   ]
  },
  {
   "cell_type": "markdown",
   "id": "5c2f0832",
   "metadata": {},
   "source": [
    "## Подключитесь к базе. Загрузите таблицы sql"
   ]
  },
  {
   "cell_type": "code",
   "execution_count": 577,
   "id": "50cf2f72",
   "metadata": {},
   "outputs": [],
   "source": [
    "!pip install sqlalchemy -q\n",
    "!pip install jupysql sqlalchemy-redshift redshift-connector 'sqlalchemy<2' -q\n",
    "!pip install phik -q\n",
    "!pip install shap -q"
   ]
  },
  {
   "cell_type": "code",
   "execution_count": 578,
   "id": "595caa56",
   "metadata": {},
   "outputs": [],
   "source": [
    "import pandas as pd\n",
    "import numpy as np\n",
    "import matplotlib.pyplot as plt\n",
    "import phik\n",
    "import seaborn as sns\n",
    "from sqlalchemy import create_engine, MetaData, Table\n",
    "from sqlalchemy.engine import URL\n",
    "from sklearn.model_selection import train_test_split\n",
    "\n",
    "# загружаем класс pipeline\n",
    "from sklearn.pipeline import Pipeline\n",
    "\n",
    "# загружаем классы для подготовки данных\n",
    "from sklearn.preprocessing import OneHotEncoder, OrdinalEncoder, StandardScaler, MinMaxScaler, RobustScaler, LabelEncoder\n",
    "from sklearn.compose import ColumnTransformer\n",
    "\n",
    "# загружаем класс для работы с пропусками\n",
    "from sklearn.impute import SimpleImputer\n",
    "\n",
    "# загружаем функцию для работы с метриками\n",
    "from sklearn.metrics import roc_auc_score\n",
    "\n",
    "# импортируем класс RandomizedSearchCV\n",
    "from sklearn.model_selection import RandomizedSearchCV\n",
    "\n",
    "# загружаем нужные модели\n",
    "from sklearn.linear_model import LogisticRegression\n",
    "from sklearn.neighbors import KNeighborsClassifier\n",
    "from sklearn.tree import DecisionTreeClassifier\n",
    "from sklearn.svm import SVC\n",
    "from sklearn.metrics import confusion_matrix, ConfusionMatrixDisplay\n",
    "from sklearn.inspection import permutation_importance\n",
    "import shap"
   ]
  },
  {
   "cell_type": "code",
   "execution_count": 579,
   "id": "912a9463",
   "metadata": {},
   "outputs": [],
   "source": [
    "db_config = {\n",
    "'user': 'praktikum_student', # имя пользователя,\n",
    "'pwd': 'Sdf4$2;d-d30pp', # пароль,\n",
    "'host': 'rc1b-wcoijxj3yxfsf3fs.mdb.yandexcloud.net',\n",
    "'port': 6432, # порт подключения,\n",
    "'db': 'data-science-vehicle-db' # название базы данных,\n",
    "} "
   ]
  },
  {
   "cell_type": "code",
   "execution_count": 580,
   "id": "dfb2571a",
   "metadata": {},
   "outputs": [],
   "source": [
    "connection_string = 'postgresql://{}:{}@{}:{}/{}'.format(\n",
    "    db_config['user'],\n",
    "    db_config['pwd'],\n",
    "    db_config['host'],\n",
    "    db_config['port'],\n",
    "    db_config['db'],\n",
    ") "
   ]
  },
  {
   "cell_type": "code",
   "execution_count": 581,
   "id": "b55753de",
   "metadata": {},
   "outputs": [],
   "source": [
    "engine = create_engine(connection_string)"
   ]
  },
  {
   "cell_type": "code",
   "execution_count": 582,
   "id": "fc33d50d",
   "metadata": {},
   "outputs": [],
   "source": [
    "query_collisions = '''\n",
    "SELECT *\n",
    "FROM collisions\n",
    "LIMIT 5\n",
    "'''"
   ]
  },
  {
   "cell_type": "code",
   "execution_count": 583,
   "id": "4fae0a4c",
   "metadata": {},
   "outputs": [],
   "source": [
    "query_parties = '''\n",
    "SELECT *\n",
    "FROM parties\n",
    "LIMIT 5\n",
    "'''"
   ]
  },
  {
   "cell_type": "code",
   "execution_count": 584,
   "id": "ce474829",
   "metadata": {},
   "outputs": [],
   "source": [
    "query_vehicles = '''\n",
    "SELECT *\n",
    "FROM vehicles\n",
    "LIMIT 5\n",
    "'''"
   ]
  },
  {
   "cell_type": "code",
   "execution_count": 585,
   "id": "fb963a4c",
   "metadata": {},
   "outputs": [],
   "source": [
    "query_case = '''\n",
    "SELECT *\n",
    "FROM case_ids\n",
    "LIMIT 5\n",
    "'''"
   ]
  },
  {
   "cell_type": "code",
   "execution_count": 586,
   "id": "855575ff",
   "metadata": {},
   "outputs": [],
   "source": [
    "collisions_df = pd.read_sql_query(query_collisions, con = engine) \n",
    "parties_df = pd.read_sql_query(query_parties, con = engine) \n",
    "vehicles_df = pd.read_sql_query(query_vehicles, con = engine) \n",
    "case_df = pd.read_sql_query(query_case, con = engine) "
   ]
  },
  {
   "cell_type": "code",
   "execution_count": 587,
   "id": "e5646041",
   "metadata": {},
   "outputs": [
    {
     "data": {
      "text/html": [
       "<div>\n",
       "<style scoped>\n",
       "    .dataframe tbody tr th:only-of-type {\n",
       "        vertical-align: middle;\n",
       "    }\n",
       "\n",
       "    .dataframe tbody tr th {\n",
       "        vertical-align: top;\n",
       "    }\n",
       "\n",
       "    .dataframe thead th {\n",
       "        text-align: right;\n",
       "    }\n",
       "</style>\n",
       "<table border=\"1\" class=\"dataframe\">\n",
       "  <thead>\n",
       "    <tr style=\"text-align: right;\">\n",
       "      <th></th>\n",
       "      <th>case_id</th>\n",
       "      <th>county_city_location</th>\n",
       "      <th>county_location</th>\n",
       "      <th>distance</th>\n",
       "      <th>direction</th>\n",
       "      <th>intersection</th>\n",
       "      <th>weather_1</th>\n",
       "      <th>location_type</th>\n",
       "      <th>collision_damage</th>\n",
       "      <th>party_count</th>\n",
       "      <th>primary_collision_factor</th>\n",
       "      <th>pcf_violation_category</th>\n",
       "      <th>type_of_collision</th>\n",
       "      <th>motor_vehicle_involved_with</th>\n",
       "      <th>road_surface</th>\n",
       "      <th>road_condition_1</th>\n",
       "      <th>lighting</th>\n",
       "      <th>control_device</th>\n",
       "      <th>collision_date</th>\n",
       "      <th>collision_time</th>\n",
       "    </tr>\n",
       "  </thead>\n",
       "  <tbody>\n",
       "    <tr>\n",
       "      <th>0</th>\n",
       "      <td>4083072</td>\n",
       "      <td>1942</td>\n",
       "      <td>los angeles</td>\n",
       "      <td>528.0</td>\n",
       "      <td>north</td>\n",
       "      <td>0</td>\n",
       "      <td>cloudy</td>\n",
       "      <td>highway</td>\n",
       "      <td>small damage</td>\n",
       "      <td>2</td>\n",
       "      <td>vehicle code violation</td>\n",
       "      <td>unsafe lane change</td>\n",
       "      <td>sideswipe</td>\n",
       "      <td>other motor vehicle</td>\n",
       "      <td>wet</td>\n",
       "      <td>normal</td>\n",
       "      <td>daylight</td>\n",
       "      <td>none</td>\n",
       "      <td>2009-01-22</td>\n",
       "      <td>07:25:00</td>\n",
       "    </tr>\n",
       "    <tr>\n",
       "      <th>1</th>\n",
       "      <td>4083075</td>\n",
       "      <td>4313</td>\n",
       "      <td>santa clara</td>\n",
       "      <td>0.0</td>\n",
       "      <td>None</td>\n",
       "      <td>1</td>\n",
       "      <td>clear</td>\n",
       "      <td>None</td>\n",
       "      <td>small damage</td>\n",
       "      <td>1</td>\n",
       "      <td>vehicle code violation</td>\n",
       "      <td>improper passing</td>\n",
       "      <td>hit object</td>\n",
       "      <td>fixed object</td>\n",
       "      <td>dry</td>\n",
       "      <td>normal</td>\n",
       "      <td>dark with street lights</td>\n",
       "      <td>functioning</td>\n",
       "      <td>2009-01-03</td>\n",
       "      <td>02:26:00</td>\n",
       "    </tr>\n",
       "    <tr>\n",
       "      <th>2</th>\n",
       "      <td>4083073</td>\n",
       "      <td>0109</td>\n",
       "      <td>alameda</td>\n",
       "      <td>0.0</td>\n",
       "      <td>None</td>\n",
       "      <td>1</td>\n",
       "      <td>clear</td>\n",
       "      <td>None</td>\n",
       "      <td>scratch</td>\n",
       "      <td>2</td>\n",
       "      <td>vehicle code violation</td>\n",
       "      <td>improper turning</td>\n",
       "      <td>broadside</td>\n",
       "      <td>other motor vehicle</td>\n",
       "      <td>dry</td>\n",
       "      <td>normal</td>\n",
       "      <td>dark with street lights</td>\n",
       "      <td>functioning</td>\n",
       "      <td>2009-01-11</td>\n",
       "      <td>03:32:00</td>\n",
       "    </tr>\n",
       "    <tr>\n",
       "      <th>3</th>\n",
       "      <td>4083077</td>\n",
       "      <td>0109</td>\n",
       "      <td>alameda</td>\n",
       "      <td>0.0</td>\n",
       "      <td>None</td>\n",
       "      <td>1</td>\n",
       "      <td>clear</td>\n",
       "      <td>None</td>\n",
       "      <td>scratch</td>\n",
       "      <td>2</td>\n",
       "      <td>vehicle code violation</td>\n",
       "      <td>automobile right of way</td>\n",
       "      <td>broadside</td>\n",
       "      <td>other motor vehicle</td>\n",
       "      <td>dry</td>\n",
       "      <td>normal</td>\n",
       "      <td>daylight</td>\n",
       "      <td>functioning</td>\n",
       "      <td>2009-01-11</td>\n",
       "      <td>10:35:00</td>\n",
       "    </tr>\n",
       "    <tr>\n",
       "      <th>4</th>\n",
       "      <td>4083087</td>\n",
       "      <td>4313</td>\n",
       "      <td>santa clara</td>\n",
       "      <td>0.0</td>\n",
       "      <td>None</td>\n",
       "      <td>1</td>\n",
       "      <td>clear</td>\n",
       "      <td>None</td>\n",
       "      <td>scratch</td>\n",
       "      <td>2</td>\n",
       "      <td>vehicle code violation</td>\n",
       "      <td>speeding</td>\n",
       "      <td>rear end</td>\n",
       "      <td>other motor vehicle</td>\n",
       "      <td>dry</td>\n",
       "      <td>None</td>\n",
       "      <td>dark with street lights</td>\n",
       "      <td>functioning</td>\n",
       "      <td>2009-01-02</td>\n",
       "      <td>22:43:00</td>\n",
       "    </tr>\n",
       "  </tbody>\n",
       "</table>\n",
       "</div>"
      ],
      "text/plain": [
       "   case_id county_city_location county_location  distance direction  \\\n",
       "0  4083072                 1942     los angeles     528.0     north   \n",
       "1  4083075                 4313     santa clara       0.0      None   \n",
       "2  4083073                 0109         alameda       0.0      None   \n",
       "3  4083077                 0109         alameda       0.0      None   \n",
       "4  4083087                 4313     santa clara       0.0      None   \n",
       "\n",
       "   intersection weather_1 location_type collision_damage  party_count  \\\n",
       "0             0    cloudy       highway     small damage            2   \n",
       "1             1     clear          None     small damage            1   \n",
       "2             1     clear          None          scratch            2   \n",
       "3             1     clear          None          scratch            2   \n",
       "4             1     clear          None          scratch            2   \n",
       "\n",
       "  primary_collision_factor   pcf_violation_category type_of_collision  \\\n",
       "0   vehicle code violation       unsafe lane change         sideswipe   \n",
       "1   vehicle code violation         improper passing        hit object   \n",
       "2   vehicle code violation         improper turning         broadside   \n",
       "3   vehicle code violation  automobile right of way         broadside   \n",
       "4   vehicle code violation                 speeding          rear end   \n",
       "\n",
       "  motor_vehicle_involved_with road_surface road_condition_1  \\\n",
       "0         other motor vehicle          wet           normal   \n",
       "1                fixed object          dry           normal   \n",
       "2         other motor vehicle          dry           normal   \n",
       "3         other motor vehicle          dry           normal   \n",
       "4         other motor vehicle          dry             None   \n",
       "\n",
       "                  lighting control_device collision_date collision_time  \n",
       "0                 daylight           none     2009-01-22       07:25:00  \n",
       "1  dark with street lights    functioning     2009-01-03       02:26:00  \n",
       "2  dark with street lights    functioning     2009-01-11       03:32:00  \n",
       "3                 daylight    functioning     2009-01-11       10:35:00  \n",
       "4  dark with street lights    functioning     2009-01-02       22:43:00  "
      ]
     },
     "execution_count": 587,
     "metadata": {},
     "output_type": "execute_result"
    }
   ],
   "source": [
    "collisions_df.head()"
   ]
  },
  {
   "cell_type": "code",
   "execution_count": 588,
   "id": "972b7025",
   "metadata": {},
   "outputs": [
    {
     "data": {
      "text/html": [
       "<div>\n",
       "<style scoped>\n",
       "    .dataframe tbody tr th:only-of-type {\n",
       "        vertical-align: middle;\n",
       "    }\n",
       "\n",
       "    .dataframe tbody tr th {\n",
       "        vertical-align: top;\n",
       "    }\n",
       "\n",
       "    .dataframe thead th {\n",
       "        text-align: right;\n",
       "    }\n",
       "</style>\n",
       "<table border=\"1\" class=\"dataframe\">\n",
       "  <thead>\n",
       "    <tr style=\"text-align: right;\">\n",
       "      <th></th>\n",
       "      <th>id</th>\n",
       "      <th>case_id</th>\n",
       "      <th>party_number</th>\n",
       "      <th>party_type</th>\n",
       "      <th>at_fault</th>\n",
       "      <th>insurance_premium</th>\n",
       "      <th>party_sobriety</th>\n",
       "      <th>party_drug_physical</th>\n",
       "      <th>cellphone_in_use</th>\n",
       "    </tr>\n",
       "  </thead>\n",
       "  <tbody>\n",
       "    <tr>\n",
       "      <th>0</th>\n",
       "      <td>22</td>\n",
       "      <td>3899454</td>\n",
       "      <td>1</td>\n",
       "      <td>road signs</td>\n",
       "      <td>1</td>\n",
       "      <td>29.0</td>\n",
       "      <td>had not been drinking</td>\n",
       "      <td>None</td>\n",
       "      <td>0</td>\n",
       "    </tr>\n",
       "    <tr>\n",
       "      <th>1</th>\n",
       "      <td>23</td>\n",
       "      <td>3899454</td>\n",
       "      <td>2</td>\n",
       "      <td>road signs</td>\n",
       "      <td>0</td>\n",
       "      <td>7.0</td>\n",
       "      <td>had not been drinking</td>\n",
       "      <td>None</td>\n",
       "      <td>0</td>\n",
       "    </tr>\n",
       "    <tr>\n",
       "      <th>2</th>\n",
       "      <td>29</td>\n",
       "      <td>3899462</td>\n",
       "      <td>2</td>\n",
       "      <td>car</td>\n",
       "      <td>0</td>\n",
       "      <td>21.0</td>\n",
       "      <td>had not been drinking</td>\n",
       "      <td>None</td>\n",
       "      <td>0</td>\n",
       "    </tr>\n",
       "    <tr>\n",
       "      <th>3</th>\n",
       "      <td>31</td>\n",
       "      <td>3899465</td>\n",
       "      <td>2</td>\n",
       "      <td>road signs</td>\n",
       "      <td>0</td>\n",
       "      <td>24.0</td>\n",
       "      <td>had not been drinking</td>\n",
       "      <td>None</td>\n",
       "      <td>0</td>\n",
       "    </tr>\n",
       "    <tr>\n",
       "      <th>4</th>\n",
       "      <td>41</td>\n",
       "      <td>3899478</td>\n",
       "      <td>2</td>\n",
       "      <td>road bumper</td>\n",
       "      <td>0</td>\n",
       "      <td>NaN</td>\n",
       "      <td>not applicable</td>\n",
       "      <td>not applicable</td>\n",
       "      <td>0</td>\n",
       "    </tr>\n",
       "  </tbody>\n",
       "</table>\n",
       "</div>"
      ],
      "text/plain": [
       "   id  case_id  party_number   party_type  at_fault  insurance_premium  \\\n",
       "0  22  3899454             1   road signs         1               29.0   \n",
       "1  23  3899454             2   road signs         0                7.0   \n",
       "2  29  3899462             2          car         0               21.0   \n",
       "3  31  3899465             2   road signs         0               24.0   \n",
       "4  41  3899478             2  road bumper         0                NaN   \n",
       "\n",
       "          party_sobriety party_drug_physical  cellphone_in_use  \n",
       "0  had not been drinking                None                 0  \n",
       "1  had not been drinking                None                 0  \n",
       "2  had not been drinking                None                 0  \n",
       "3  had not been drinking                None                 0  \n",
       "4         not applicable      not applicable                 0  "
      ]
     },
     "execution_count": 588,
     "metadata": {},
     "output_type": "execute_result"
    }
   ],
   "source": [
    "parties_df.head()"
   ]
  },
  {
   "cell_type": "code",
   "execution_count": 589,
   "id": "0059be18",
   "metadata": {},
   "outputs": [
    {
     "data": {
      "text/html": [
       "<div>\n",
       "<style scoped>\n",
       "    .dataframe tbody tr th:only-of-type {\n",
       "        vertical-align: middle;\n",
       "    }\n",
       "\n",
       "    .dataframe tbody tr th {\n",
       "        vertical-align: top;\n",
       "    }\n",
       "\n",
       "    .dataframe thead th {\n",
       "        text-align: right;\n",
       "    }\n",
       "</style>\n",
       "<table border=\"1\" class=\"dataframe\">\n",
       "  <thead>\n",
       "    <tr style=\"text-align: right;\">\n",
       "      <th></th>\n",
       "      <th>id</th>\n",
       "      <th>case_id</th>\n",
       "      <th>party_number</th>\n",
       "      <th>vehicle_type</th>\n",
       "      <th>vehicle_transmission</th>\n",
       "      <th>vehicle_age</th>\n",
       "    </tr>\n",
       "  </thead>\n",
       "  <tbody>\n",
       "    <tr>\n",
       "      <th>0</th>\n",
       "      <td>1175713</td>\n",
       "      <td>5305032</td>\n",
       "      <td>2</td>\n",
       "      <td>sedan</td>\n",
       "      <td>manual</td>\n",
       "      <td>3</td>\n",
       "    </tr>\n",
       "    <tr>\n",
       "      <th>1</th>\n",
       "      <td>1</td>\n",
       "      <td>3858022</td>\n",
       "      <td>1</td>\n",
       "      <td>sedan</td>\n",
       "      <td>auto</td>\n",
       "      <td>3</td>\n",
       "    </tr>\n",
       "    <tr>\n",
       "      <th>2</th>\n",
       "      <td>1175712</td>\n",
       "      <td>5305030</td>\n",
       "      <td>1</td>\n",
       "      <td>sedan</td>\n",
       "      <td>auto</td>\n",
       "      <td>3</td>\n",
       "    </tr>\n",
       "    <tr>\n",
       "      <th>3</th>\n",
       "      <td>1175717</td>\n",
       "      <td>5305033</td>\n",
       "      <td>3</td>\n",
       "      <td>sedan</td>\n",
       "      <td>auto</td>\n",
       "      <td>5</td>\n",
       "    </tr>\n",
       "    <tr>\n",
       "      <th>4</th>\n",
       "      <td>1175722</td>\n",
       "      <td>5305034</td>\n",
       "      <td>2</td>\n",
       "      <td>sedan</td>\n",
       "      <td>auto</td>\n",
       "      <td>5</td>\n",
       "    </tr>\n",
       "  </tbody>\n",
       "</table>\n",
       "</div>"
      ],
      "text/plain": [
       "        id  case_id  party_number vehicle_type vehicle_transmission  \\\n",
       "0  1175713  5305032             2        sedan               manual   \n",
       "1        1  3858022             1        sedan                 auto   \n",
       "2  1175712  5305030             1        sedan                 auto   \n",
       "3  1175717  5305033             3        sedan                 auto   \n",
       "4  1175722  5305034             2        sedan                 auto   \n",
       "\n",
       "   vehicle_age  \n",
       "0            3  \n",
       "1            3  \n",
       "2            3  \n",
       "3            5  \n",
       "4            5  "
      ]
     },
     "execution_count": 589,
     "metadata": {},
     "output_type": "execute_result"
    }
   ],
   "source": [
    "vehicles_df.head()"
   ]
  },
  {
   "cell_type": "code",
   "execution_count": 590,
   "id": "97d00d44",
   "metadata": {},
   "outputs": [
    {
     "data": {
      "text/html": [
       "<div>\n",
       "<style scoped>\n",
       "    .dataframe tbody tr th:only-of-type {\n",
       "        vertical-align: middle;\n",
       "    }\n",
       "\n",
       "    .dataframe tbody tr th {\n",
       "        vertical-align: top;\n",
       "    }\n",
       "\n",
       "    .dataframe thead th {\n",
       "        text-align: right;\n",
       "    }\n",
       "</style>\n",
       "<table border=\"1\" class=\"dataframe\">\n",
       "  <thead>\n",
       "    <tr style=\"text-align: right;\">\n",
       "      <th></th>\n",
       "      <th>case_id</th>\n",
       "      <th>db_year</th>\n",
       "    </tr>\n",
       "  </thead>\n",
       "  <tbody>\n",
       "    <tr>\n",
       "      <th>0</th>\n",
       "      <td>0081715</td>\n",
       "      <td>2021</td>\n",
       "    </tr>\n",
       "    <tr>\n",
       "      <th>1</th>\n",
       "      <td>0726202</td>\n",
       "      <td>2021</td>\n",
       "    </tr>\n",
       "    <tr>\n",
       "      <th>2</th>\n",
       "      <td>3858022</td>\n",
       "      <td>2021</td>\n",
       "    </tr>\n",
       "    <tr>\n",
       "      <th>3</th>\n",
       "      <td>3899441</td>\n",
       "      <td>2021</td>\n",
       "    </tr>\n",
       "    <tr>\n",
       "      <th>4</th>\n",
       "      <td>3899442</td>\n",
       "      <td>2021</td>\n",
       "    </tr>\n",
       "  </tbody>\n",
       "</table>\n",
       "</div>"
      ],
      "text/plain": [
       "   case_id db_year\n",
       "0  0081715    2021\n",
       "1  0726202    2021\n",
       "2  3858022    2021\n",
       "3  3899441    2021\n",
       "4  3899442    2021"
      ]
     },
     "execution_count": 590,
     "metadata": {},
     "output_type": "execute_result"
    }
   ],
   "source": [
    "case_df.head()"
   ]
  },
  {
   "cell_type": "markdown",
   "id": "b0b88618",
   "metadata": {},
   "source": [
    "## Проведите первичное исследование таблиц"
   ]
  },
  {
   "cell_type": "markdown",
   "id": "637b88fb",
   "metadata": {},
   "source": [
    "Посмотрим, какие таблицы присутствуют в ДБ data-science-vehicle-db в схеме public."
   ]
  },
  {
   "cell_type": "code",
   "execution_count": 591,
   "id": "544de5c4",
   "metadata": {},
   "outputs": [],
   "source": [
    "query_tables = '''\n",
    "SELECT table_name\n",
    "FROM information_schema.tables \n",
    "WHERE table_schema = 'public'\n",
    "'''\n"
   ]
  },
  {
   "cell_type": "code",
   "execution_count": 592,
   "id": "f888c27c",
   "metadata": {},
   "outputs": [
    {
     "name": "stdout",
     "output_type": "stream",
     "text": [
      "   table_name\n",
      "0    case_ids\n",
      "1  collisions\n",
      "2     parties\n",
      "3    vehicles\n"
     ]
    }
   ],
   "source": [
    "tables_df = pd.read_sql_query(query_tables, con = engine) \n",
    "print(tables_df)"
   ]
  },
  {
   "cell_type": "markdown",
   "id": "3a57bacc",
   "metadata": {},
   "source": [
    "Нашли 4 таблицы в схеме public: collisions, parties, vehicles, case_ids. Это соответствует условиям задачи и ER-диаграмме. Присутсвует 4 таблица case_ids с id и годом ДБ.<br>\n",
    "Проверим, во всех ли таблицах есть данные. Для этого посчитаем количество строк в разных таблицах."
   ]
  },
  {
   "cell_type": "code",
   "execution_count": 593,
   "id": "eca9d6a0",
   "metadata": {},
   "outputs": [],
   "source": [
    "query_count = '''\n",
    "SELECT 'collisions' as name ,count(*)\n",
    "FROM collisions\n",
    "UNION ALL\n",
    "SELECT 'parties' as name ,count(*)\n",
    "FROM parties\n",
    "UNION ALL\n",
    "SELECT 'vehicles' as name ,count(*)\n",
    "FROM vehicles\n",
    "UNION ALL\n",
    "SELECT 'case_ids' as name ,count(*)\n",
    "FROM case_ids\n",
    "'''"
   ]
  },
  {
   "cell_type": "code",
   "execution_count": 594,
   "id": "f7934b53",
   "metadata": {},
   "outputs": [],
   "source": [
    "count_df = pd.read_sql_query(query_count, con = engine) "
   ]
  },
  {
   "cell_type": "code",
   "execution_count": 595,
   "id": "c8d3db11",
   "metadata": {},
   "outputs": [
    {
     "name": "stdout",
     "output_type": "stream",
     "text": [
      "         name    count\n",
      "0    vehicles  1021234\n",
      "1    case_ids  1400000\n",
      "2  collisions  1400000\n",
      "3     parties  2752408\n"
     ]
    }
   ],
   "source": [
    "print(count_df)"
   ]
  },
  {
   "cell_type": "code",
   "execution_count": 596,
   "id": "87bd4918",
   "metadata": {},
   "outputs": [],
   "source": [
    "# Загрузка метаданных\n",
    "metadata = MetaData()\n",
    "metadata.reflect(bind=engine)\n"
   ]
  },
  {
   "cell_type": "markdown",
   "id": "ad7705b6",
   "metadata": {},
   "source": [
    "Напишем функцию определения внешних ключей в таблице"
   ]
  },
  {
   "cell_type": "code",
   "execution_count": 597,
   "id": "d1888b6f",
   "metadata": {},
   "outputs": [],
   "source": [
    "def foreign_keys(table_name):\n",
    "# Получение таблицы из метаданных\n",
    "    table = metadata.tables[table_name]\n",
    "\n",
    "    # Вывод информации о внешних ключах\n",
    "    foreign_keys = [\n",
    "        {\n",
    "            \"column\": fk.parent.name,  # Имя столбца с внешним ключом\n",
    "            \"referenced_table\": fk.target_fullname.split('.')[0],  # Имя ссылаемой таблицы\n",
    "            \"referenced_column\": fk.target_fullname.split('.')[1]  # Имя ссылаемого столбца\n",
    "        }\n",
    "        for fk in table.foreign_keys\n",
    "    ]\n",
    "\n",
    "    # Вывод внешних ключей\n",
    "    for fk in foreign_keys:\n",
    "        print(f\"Внешний ключ для таблицы {table_name}: {fk['column']} -> {fk['referenced_table']}.{fk['referenced_column']}\")"
   ]
  },
  {
   "cell_type": "code",
   "execution_count": 598,
   "id": "e55baffc",
   "metadata": {},
   "outputs": [],
   "source": [
    "tables = ['collisions', 'parties', 'vehicles', 'case_ids']"
   ]
  },
  {
   "cell_type": "code",
   "execution_count": 599,
   "id": "84b65e98",
   "metadata": {},
   "outputs": [
    {
     "name": "stdout",
     "output_type": "stream",
     "text": [
      "Внешний ключ для таблицы collisions: case_id -> case_ids.case_id\n",
      "Внешний ключ для таблицы parties: case_id -> case_ids.case_id\n",
      "Внешний ключ для таблицы vehicles: case_id -> case_ids.case_id\n"
     ]
    }
   ],
   "source": [
    "for table in tables:\n",
    "    foreign_keys(table)"
   ]
  },
  {
   "cell_type": "code",
   "execution_count": 600,
   "id": "7d4d2b21",
   "metadata": {},
   "outputs": [],
   "source": [
    "#посчитали количество уникальных case_id и количество строк всего, чтобы понять, уникальны ли значения в столбце case_id\n",
    "query_count_unique = '''\n",
    "SELECT 'collisions' as name ,count(DISTINCT case_id) AS cnt_case_id, count(*) AS cnt_all\n",
    "FROM collisions\n",
    "UNION ALL\n",
    "SELECT 'parties' as name ,count(DISTINCT case_id), count(*)\n",
    "FROM parties\n",
    "UNION ALL\n",
    "SELECT 'vehicles' as name ,count(DISTINCT case_id), count(*)\n",
    "FROM vehicles\n",
    "'''"
   ]
  },
  {
   "cell_type": "code",
   "execution_count": 601,
   "id": "0945cb70",
   "metadata": {},
   "outputs": [],
   "source": [
    "count_unique_df = pd.read_sql_query(query_count_unique, con = engine) "
   ]
  },
  {
   "cell_type": "code",
   "execution_count": 602,
   "id": "bae21da5",
   "metadata": {},
   "outputs": [
    {
     "data": {
      "text/html": [
       "<div>\n",
       "<style scoped>\n",
       "    .dataframe tbody tr th:only-of-type {\n",
       "        vertical-align: middle;\n",
       "    }\n",
       "\n",
       "    .dataframe tbody tr th {\n",
       "        vertical-align: top;\n",
       "    }\n",
       "\n",
       "    .dataframe thead th {\n",
       "        text-align: right;\n",
       "    }\n",
       "</style>\n",
       "<table border=\"1\" class=\"dataframe\">\n",
       "  <thead>\n",
       "    <tr style=\"text-align: right;\">\n",
       "      <th></th>\n",
       "      <th>name</th>\n",
       "      <th>cnt_case_id</th>\n",
       "      <th>cnt_all</th>\n",
       "    </tr>\n",
       "  </thead>\n",
       "  <tbody>\n",
       "    <tr>\n",
       "      <th>0</th>\n",
       "      <td>vehicles</td>\n",
       "      <td>792642</td>\n",
       "      <td>1021234</td>\n",
       "    </tr>\n",
       "    <tr>\n",
       "      <th>1</th>\n",
       "      <td>collisions</td>\n",
       "      <td>1400000</td>\n",
       "      <td>1400000</td>\n",
       "    </tr>\n",
       "    <tr>\n",
       "      <th>2</th>\n",
       "      <td>parties</td>\n",
       "      <td>1400000</td>\n",
       "      <td>2752408</td>\n",
       "    </tr>\n",
       "  </tbody>\n",
       "</table>\n",
       "</div>"
      ],
      "text/plain": [
       "         name  cnt_case_id  cnt_all\n",
       "0    vehicles       792642  1021234\n",
       "1  collisions      1400000  1400000\n",
       "2     parties      1400000  2752408"
      ]
     },
     "execution_count": 602,
     "metadata": {},
     "output_type": "execute_result"
    }
   ],
   "source": [
    "count_unique_df"
   ]
  },
  {
   "cell_type": "markdown",
   "id": "6dd03c19",
   "metadata": {},
   "source": [
    "Таблица **collisions** — общая информация о ДТП: <br>\n",
    "Имеет уникальный case_id. Эта таблица описывает общую информацию о ДТП. Например, где оно произошло и когда.<br>\n",
    "\n",
    "Таблица **parties** — информация об участниках ДТП<br>\n",
    "Имеет неуникальный case_id, который сопоставляется с соответствующим ДТП в таблице collisions. Каждая строка здесь описывает одну из сторон, участвующих в ДТП. Если столкнулись две машины, в этой таблице должно быть две строки с совпадением case_id. Если нужен уникальный идентификатор, это case_id and party_number.<br>\n",
    "\n",
    "Таблица **vehicles** — информация о пострадавших машинах<br>\n",
    "Имеет неуникальные case_id и неуникальные party_number, которые сопоставляются с таблицей collisions и таблицей parties. Если нужен уникальный идентификатор, это case_id and party_number."
   ]
  },
  {
   "cell_type": "markdown",
   "id": "a14ff74d",
   "metadata": {},
   "source": [
    "##  Проведите статистический анализ факторов ДТП"
   ]
  },
  {
   "cell_type": "markdown",
   "id": "68dccd22",
   "metadata": {},
   "source": [
    "### Анализ количества аварий"
   ]
  },
  {
   "cell_type": "code",
   "execution_count": 603,
   "id": "0a2cee72",
   "metadata": {},
   "outputs": [],
   "source": [
    "query_count_collisions = '''\n",
    "SELECT CAST (EXTRACT(MONTH FROM collision_date) AS INT) AS month, COUNT(case_id)\n",
    "FROM collisions\n",
    "GROUP BY month\n",
    "'''"
   ]
  },
  {
   "cell_type": "code",
   "execution_count": 604,
   "id": "01c4da57",
   "metadata": {},
   "outputs": [],
   "source": [
    "collisions_count_df = pd.read_sql_query(query_count_collisions, con = engine) "
   ]
  },
  {
   "cell_type": "code",
   "execution_count": 605,
   "id": "f4383c5e",
   "metadata": {},
   "outputs": [
    {
     "data": {
      "text/html": [
       "<div>\n",
       "<style scoped>\n",
       "    .dataframe tbody tr th:only-of-type {\n",
       "        vertical-align: middle;\n",
       "    }\n",
       "\n",
       "    .dataframe tbody tr th {\n",
       "        vertical-align: top;\n",
       "    }\n",
       "\n",
       "    .dataframe thead th {\n",
       "        text-align: right;\n",
       "    }\n",
       "</style>\n",
       "<table border=\"1\" class=\"dataframe\">\n",
       "  <thead>\n",
       "    <tr style=\"text-align: right;\">\n",
       "      <th></th>\n",
       "      <th>month</th>\n",
       "      <th>count</th>\n",
       "    </tr>\n",
       "  </thead>\n",
       "  <tbody>\n",
       "    <tr>\n",
       "      <th>0</th>\n",
       "      <td>1</td>\n",
       "      <td>132044</td>\n",
       "    </tr>\n",
       "    <tr>\n",
       "      <th>1</th>\n",
       "      <td>2</td>\n",
       "      <td>128858</td>\n",
       "    </tr>\n",
       "    <tr>\n",
       "      <th>2</th>\n",
       "      <td>3</td>\n",
       "      <td>139581</td>\n",
       "    </tr>\n",
       "    <tr>\n",
       "      <th>3</th>\n",
       "      <td>4</td>\n",
       "      <td>130180</td>\n",
       "    </tr>\n",
       "    <tr>\n",
       "      <th>4</th>\n",
       "      <td>5</td>\n",
       "      <td>130316</td>\n",
       "    </tr>\n",
       "    <tr>\n",
       "      <th>5</th>\n",
       "      <td>6</td>\n",
       "      <td>102594</td>\n",
       "    </tr>\n",
       "    <tr>\n",
       "      <th>6</th>\n",
       "      <td>7</td>\n",
       "      <td>102227</td>\n",
       "    </tr>\n",
       "    <tr>\n",
       "      <th>7</th>\n",
       "      <td>8</td>\n",
       "      <td>104089</td>\n",
       "    </tr>\n",
       "    <tr>\n",
       "      <th>8</th>\n",
       "      <td>9</td>\n",
       "      <td>105159</td>\n",
       "    </tr>\n",
       "    <tr>\n",
       "      <th>9</th>\n",
       "      <td>10</td>\n",
       "      <td>112237</td>\n",
       "    </tr>\n",
       "    <tr>\n",
       "      <th>10</th>\n",
       "      <td>11</td>\n",
       "      <td>104770</td>\n",
       "    </tr>\n",
       "    <tr>\n",
       "      <th>11</th>\n",
       "      <td>12</td>\n",
       "      <td>107945</td>\n",
       "    </tr>\n",
       "  </tbody>\n",
       "</table>\n",
       "</div>"
      ],
      "text/plain": [
       "    month   count\n",
       "0       1  132044\n",
       "1       2  128858\n",
       "2       3  139581\n",
       "3       4  130180\n",
       "4       5  130316\n",
       "5       6  102594\n",
       "6       7  102227\n",
       "7       8  104089\n",
       "8       9  105159\n",
       "9      10  112237\n",
       "10     11  104770\n",
       "11     12  107945"
      ]
     },
     "execution_count": 605,
     "metadata": {},
     "output_type": "execute_result"
    }
   ],
   "source": [
    "collisions_count_df"
   ]
  },
  {
   "cell_type": "code",
   "execution_count": 606,
   "id": "a2365f28",
   "metadata": {},
   "outputs": [],
   "source": [
    "# функция построения графика количества аварий по месяцам\n",
    "def plot_month_count(data, title): \n",
    "    # Настройка стиля графика\n",
    "    sns.set_theme(style=\"whitegrid\")  # Стиль графика\n",
    "\n",
    "    # Создание фигуры\n",
    "    plt.figure(figsize=(10, 6))\n",
    "\n",
    "    # Линейный график\n",
    "    sns.lineplot(data=data, x=\"month\", y=\"count\", marker=\"o\", color=\"blue\")\n",
    "    # Обеспечение отображения всех значений на оси X\n",
    "    shifted_labels = data[\"month\"]\n",
    "    plt.xticks(ticks=range(1, len(data[\"month\"])+1), labels=shifted_labels, fontsize=12)\n",
    "    plt.yticks(fontsize=12)\n",
    "\n",
    "    # Добавление заголовка и подписей\n",
    "    plt.title(title, fontsize=16)\n",
    "    plt.xlabel(\"Месяц\", fontsize=14)\n",
    "    plt.ylabel(\"Количество\", fontsize=14)\n",
    "\n",
    "    # Отображение графика\n",
    "    #plt.tight_layout()\n",
    "    plt.show()"
   ]
  },
  {
   "cell_type": "code",
   "execution_count": 607,
   "id": "53923075",
   "metadata": {},
   "outputs": [
    {
     "data": {
      "image/png": "[encoded data removed]",
      "text/plain": [
       "<Figure size 720x432 with 1 Axes>"
      ]
     },
     "metadata": {},
     "output_type": "display_data"
    }
   ],
   "source": [
    "plot_month_count(collisions_count_df, \"Количество аварий по месяцам\")"
   ]
  },
  {
   "cell_type": "markdown",
   "id": "11058a00",
   "metadata": {},
   "source": [
    "Пик аварий приходится на март. Также много аварий происходит с января по май. Меньше всего аварий в летние месяцы.<br>\n",
    "Проверим сильный спад в количестве аварий, начиная с 6 месяца. Возможно, есть пробелы или неточности в данных.<br>\n",
    "Для этого посчитаем количество аварий за каждый месяц по каждому году отдельно."
   ]
  },
  {
   "cell_type": "code",
   "execution_count": 608,
   "id": "2a848885",
   "metadata": {},
   "outputs": [],
   "source": [
    "query_count_collisions = '''\n",
    "SELECT CAST(DATE_TRUNC('month', collision_date) AS date) AS month, COUNT(case_id)\n",
    "FROM collisions\n",
    "GROUP BY month\n",
    "'''"
   ]
  },
  {
   "cell_type": "code",
   "execution_count": 609,
   "id": "0a70a873",
   "metadata": {},
   "outputs": [],
   "source": [
    "collisions_count_df = pd.read_sql_query(query_count_collisions, con = engine) "
   ]
  },
  {
   "cell_type": "code",
   "execution_count": 610,
   "id": "170a4c19",
   "metadata": {},
   "outputs": [
    {
     "data": {
      "text/html": [
       "<div>\n",
       "<style scoped>\n",
       "    .dataframe tbody tr th:only-of-type {\n",
       "        vertical-align: middle;\n",
       "    }\n",
       "\n",
       "    .dataframe tbody tr th {\n",
       "        vertical-align: top;\n",
       "    }\n",
       "\n",
       "    .dataframe thead th {\n",
       "        text-align: right;\n",
       "    }\n",
       "</style>\n",
       "<table border=\"1\" class=\"dataframe\">\n",
       "  <thead>\n",
       "    <tr style=\"text-align: right;\">\n",
       "      <th></th>\n",
       "      <th>month</th>\n",
       "      <th>count</th>\n",
       "    </tr>\n",
       "  </thead>\n",
       "  <tbody>\n",
       "    <tr>\n",
       "      <th>0</th>\n",
       "      <td>2009-01-01</td>\n",
       "      <td>35062</td>\n",
       "    </tr>\n",
       "    <tr>\n",
       "      <th>1</th>\n",
       "      <td>2009-02-01</td>\n",
       "      <td>34480</td>\n",
       "    </tr>\n",
       "    <tr>\n",
       "      <th>2</th>\n",
       "      <td>2009-03-01</td>\n",
       "      <td>36648</td>\n",
       "    </tr>\n",
       "    <tr>\n",
       "      <th>3</th>\n",
       "      <td>2009-04-01</td>\n",
       "      <td>35239</td>\n",
       "    </tr>\n",
       "    <tr>\n",
       "      <th>4</th>\n",
       "      <td>2009-05-01</td>\n",
       "      <td>36916</td>\n",
       "    </tr>\n",
       "    <tr>\n",
       "      <th>5</th>\n",
       "      <td>2009-06-01</td>\n",
       "      <td>34202</td>\n",
       "    </tr>\n",
       "    <tr>\n",
       "      <th>6</th>\n",
       "      <td>2009-07-01</td>\n",
       "      <td>35161</td>\n",
       "    </tr>\n",
       "    <tr>\n",
       "      <th>7</th>\n",
       "      <td>2009-08-01</td>\n",
       "      <td>34508</td>\n",
       "    </tr>\n",
       "    <tr>\n",
       "      <th>8</th>\n",
       "      <td>2009-09-01</td>\n",
       "      <td>35555</td>\n",
       "    </tr>\n",
       "    <tr>\n",
       "      <th>9</th>\n",
       "      <td>2009-10-01</td>\n",
       "      <td>37835</td>\n",
       "    </tr>\n",
       "    <tr>\n",
       "      <th>10</th>\n",
       "      <td>2009-11-01</td>\n",
       "      <td>34562</td>\n",
       "    </tr>\n",
       "    <tr>\n",
       "      <th>11</th>\n",
       "      <td>2009-12-01</td>\n",
       "      <td>36060</td>\n",
       "    </tr>\n",
       "    <tr>\n",
       "      <th>12</th>\n",
       "      <td>2010-01-01</td>\n",
       "      <td>32892</td>\n",
       "    </tr>\n",
       "    <tr>\n",
       "      <th>13</th>\n",
       "      <td>2010-02-01</td>\n",
       "      <td>31918</td>\n",
       "    </tr>\n",
       "    <tr>\n",
       "      <th>14</th>\n",
       "      <td>2010-03-01</td>\n",
       "      <td>35803</td>\n",
       "    </tr>\n",
       "    <tr>\n",
       "      <th>15</th>\n",
       "      <td>2010-04-01</td>\n",
       "      <td>34416</td>\n",
       "    </tr>\n",
       "    <tr>\n",
       "      <th>16</th>\n",
       "      <td>2010-05-01</td>\n",
       "      <td>34862</td>\n",
       "    </tr>\n",
       "    <tr>\n",
       "      <th>17</th>\n",
       "      <td>2010-06-01</td>\n",
       "      <td>33367</td>\n",
       "    </tr>\n",
       "    <tr>\n",
       "      <th>18</th>\n",
       "      <td>2010-07-01</td>\n",
       "      <td>33645</td>\n",
       "    </tr>\n",
       "    <tr>\n",
       "      <th>19</th>\n",
       "      <td>2010-08-01</td>\n",
       "      <td>34620</td>\n",
       "    </tr>\n",
       "    <tr>\n",
       "      <th>20</th>\n",
       "      <td>2010-09-01</td>\n",
       "      <td>34957</td>\n",
       "    </tr>\n",
       "    <tr>\n",
       "      <th>21</th>\n",
       "      <td>2010-10-01</td>\n",
       "      <td>37480</td>\n",
       "    </tr>\n",
       "    <tr>\n",
       "      <th>22</th>\n",
       "      <td>2010-11-01</td>\n",
       "      <td>35460</td>\n",
       "    </tr>\n",
       "    <tr>\n",
       "      <th>23</th>\n",
       "      <td>2010-12-01</td>\n",
       "      <td>37070</td>\n",
       "    </tr>\n",
       "    <tr>\n",
       "      <th>24</th>\n",
       "      <td>2011-01-01</td>\n",
       "      <td>31926</td>\n",
       "    </tr>\n",
       "    <tr>\n",
       "      <th>25</th>\n",
       "      <td>2011-02-01</td>\n",
       "      <td>31975</td>\n",
       "    </tr>\n",
       "    <tr>\n",
       "      <th>26</th>\n",
       "      <td>2011-03-01</td>\n",
       "      <td>34585</td>\n",
       "    </tr>\n",
       "    <tr>\n",
       "      <th>27</th>\n",
       "      <td>2011-04-01</td>\n",
       "      <td>31377</td>\n",
       "    </tr>\n",
       "    <tr>\n",
       "      <th>28</th>\n",
       "      <td>2011-05-01</td>\n",
       "      <td>33370</td>\n",
       "    </tr>\n",
       "    <tr>\n",
       "      <th>29</th>\n",
       "      <td>2011-06-01</td>\n",
       "      <td>31962</td>\n",
       "    </tr>\n",
       "    <tr>\n",
       "      <th>30</th>\n",
       "      <td>2011-07-01</td>\n",
       "      <td>33029</td>\n",
       "    </tr>\n",
       "    <tr>\n",
       "      <th>31</th>\n",
       "      <td>2011-08-01</td>\n",
       "      <td>34339</td>\n",
       "    </tr>\n",
       "    <tr>\n",
       "      <th>32</th>\n",
       "      <td>2011-09-01</td>\n",
       "      <td>34137</td>\n",
       "    </tr>\n",
       "    <tr>\n",
       "      <th>33</th>\n",
       "      <td>2011-10-01</td>\n",
       "      <td>36618</td>\n",
       "    </tr>\n",
       "    <tr>\n",
       "      <th>34</th>\n",
       "      <td>2011-11-01</td>\n",
       "      <td>34495</td>\n",
       "    </tr>\n",
       "    <tr>\n",
       "      <th>35</th>\n",
       "      <td>2011-12-01</td>\n",
       "      <td>34615</td>\n",
       "    </tr>\n",
       "    <tr>\n",
       "      <th>36</th>\n",
       "      <td>2012-01-01</td>\n",
       "      <td>32020</td>\n",
       "    </tr>\n",
       "    <tr>\n",
       "      <th>37</th>\n",
       "      <td>2012-02-01</td>\n",
       "      <td>30377</td>\n",
       "    </tr>\n",
       "    <tr>\n",
       "      <th>38</th>\n",
       "      <td>2012-03-01</td>\n",
       "      <td>32498</td>\n",
       "    </tr>\n",
       "    <tr>\n",
       "      <th>39</th>\n",
       "      <td>2012-04-01</td>\n",
       "      <td>29143</td>\n",
       "    </tr>\n",
       "    <tr>\n",
       "      <th>40</th>\n",
       "      <td>2012-05-01</td>\n",
       "      <td>25168</td>\n",
       "    </tr>\n",
       "    <tr>\n",
       "      <th>41</th>\n",
       "      <td>2012-06-01</td>\n",
       "      <td>3062</td>\n",
       "    </tr>\n",
       "    <tr>\n",
       "      <th>42</th>\n",
       "      <td>2012-07-01</td>\n",
       "      <td>390</td>\n",
       "    </tr>\n",
       "    <tr>\n",
       "      <th>43</th>\n",
       "      <td>2012-08-01</td>\n",
       "      <td>622</td>\n",
       "    </tr>\n",
       "    <tr>\n",
       "      <th>44</th>\n",
       "      <td>2012-09-01</td>\n",
       "      <td>510</td>\n",
       "    </tr>\n",
       "    <tr>\n",
       "      <th>45</th>\n",
       "      <td>2012-10-01</td>\n",
       "      <td>304</td>\n",
       "    </tr>\n",
       "    <tr>\n",
       "      <th>46</th>\n",
       "      <td>2012-11-01</td>\n",
       "      <td>253</td>\n",
       "    </tr>\n",
       "    <tr>\n",
       "      <th>47</th>\n",
       "      <td>2012-12-01</td>\n",
       "      <td>200</td>\n",
       "    </tr>\n",
       "    <tr>\n",
       "      <th>48</th>\n",
       "      <td>2013-01-01</td>\n",
       "      <td>144</td>\n",
       "    </tr>\n",
       "    <tr>\n",
       "      <th>49</th>\n",
       "      <td>2013-02-01</td>\n",
       "      <td>108</td>\n",
       "    </tr>\n",
       "    <tr>\n",
       "      <th>50</th>\n",
       "      <td>2013-03-01</td>\n",
       "      <td>46</td>\n",
       "    </tr>\n",
       "    <tr>\n",
       "      <th>51</th>\n",
       "      <td>2013-04-01</td>\n",
       "      <td>5</td>\n",
       "    </tr>\n",
       "    <tr>\n",
       "      <th>52</th>\n",
       "      <td>2013-06-01</td>\n",
       "      <td>1</td>\n",
       "    </tr>\n",
       "    <tr>\n",
       "      <th>53</th>\n",
       "      <td>2013-07-01</td>\n",
       "      <td>1</td>\n",
       "    </tr>\n",
       "    <tr>\n",
       "      <th>54</th>\n",
       "      <td>2020-03-01</td>\n",
       "      <td>1</td>\n",
       "    </tr>\n",
       "    <tr>\n",
       "      <th>55</th>\n",
       "      <td>2020-07-01</td>\n",
       "      <td>1</td>\n",
       "    </tr>\n",
       "  </tbody>\n",
       "</table>\n",
       "</div>"
      ],
      "text/plain": [
       "         month  count\n",
       "0   2009-01-01  35062\n",
       "1   2009-02-01  34480\n",
       "2   2009-03-01  36648\n",
       "3   2009-04-01  35239\n",
       "4   2009-05-01  36916\n",
       "5   2009-06-01  34202\n",
       "6   2009-07-01  35161\n",
       "7   2009-08-01  34508\n",
       "8   2009-09-01  35555\n",
       "9   2009-10-01  37835\n",
       "10  2009-11-01  34562\n",
       "11  2009-12-01  36060\n",
       "12  2010-01-01  32892\n",
       "13  2010-02-01  31918\n",
       "14  2010-03-01  35803\n",
       "15  2010-04-01  34416\n",
       "16  2010-05-01  34862\n",
       "17  2010-06-01  33367\n",
       "18  2010-07-01  33645\n",
       "19  2010-08-01  34620\n",
       "20  2010-09-01  34957\n",
       "21  2010-10-01  37480\n",
       "22  2010-11-01  35460\n",
       "23  2010-12-01  37070\n",
       "24  2011-01-01  31926\n",
       "25  2011-02-01  31975\n",
       "26  2011-03-01  34585\n",
       "27  2011-04-01  31377\n",
       "28  2011-05-01  33370\n",
       "29  2011-06-01  31962\n",
       "30  2011-07-01  33029\n",
       "31  2011-08-01  34339\n",
       "32  2011-09-01  34137\n",
       "33  2011-10-01  36618\n",
       "34  2011-11-01  34495\n",
       "35  2011-12-01  34615\n",
       "36  2012-01-01  32020\n",
       "37  2012-02-01  30377\n",
       "38  2012-03-01  32498\n",
       "39  2012-04-01  29143\n",
       "40  2012-05-01  25168\n",
       "41  2012-06-01   3062\n",
       "42  2012-07-01    390\n",
       "43  2012-08-01    622\n",
       "44  2012-09-01    510\n",
       "45  2012-10-01    304\n",
       "46  2012-11-01    253\n",
       "47  2012-12-01    200\n",
       "48  2013-01-01    144\n",
       "49  2013-02-01    108\n",
       "50  2013-03-01     46\n",
       "51  2013-04-01      5\n",
       "52  2013-06-01      1\n",
       "53  2013-07-01      1\n",
       "54  2020-03-01      1\n",
       "55  2020-07-01      1"
      ]
     },
     "execution_count": 610,
     "metadata": {},
     "output_type": "execute_result"
    }
   ],
   "source": [
    "collisions_count_df"
   ]
  },
  {
   "cell_type": "code",
   "execution_count": 611,
   "id": "87300bd3",
   "metadata": {},
   "outputs": [
    {
     "data": {
      "image/png": "[encoded data removed]",
      "text/plain": [
       "<Figure size 720x432 with 1 Axes>"
      ]
     },
     "metadata": {},
     "output_type": "display_data"
    }
   ],
   "source": [
    "# Настройка стиля графика\n",
    "sns.set_theme(style=\"whitegrid\")  # Стиль графика\n",
    "\n",
    "# Создание фигуры\n",
    "plt.figure(figsize=(10, 6))\n",
    "\n",
    "# Линейный график\n",
    "sns.lineplot(data=collisions_count_df, x=\"month\", y=\"count\", marker=\"o\", color=\"blue\")\n",
    "# Обеспечение отображения всех значений на оси X\n",
    "plt.xticks(fontsize=12)\n",
    "plt.yticks(fontsize=12)\n",
    "\n",
    "# Добавление заголовка и подписей\n",
    "plt.title(\"Количество аварий по месяцам\", fontsize=16)\n",
    "plt.xlabel(\"Год\", fontsize=14)\n",
    "plt.ylabel(\"Количество\", fontsize=14)\n",
    "\n",
    "# Отображение графика\n",
    "#plt.tight_layout()\n",
    "plt.show()"
   ]
  },
  {
   "cell_type": "markdown",
   "id": "374be640",
   "metadata": {},
   "source": [
    "Начиная с июня 2012 года данных значительно меньше. В связи с этим возьмем для анализа количества аварий по месяцам данные до 2012 года."
   ]
  },
  {
   "cell_type": "code",
   "execution_count": 612,
   "id": "3fb07443",
   "metadata": {},
   "outputs": [],
   "source": [
    "query_count_collisions_before12 = '''\n",
    "SELECT CAST (EXTRACT(MONTH FROM collision_date) AS INT) AS month, COUNT(case_id)\n",
    "FROM collisions\n",
    "WHERE collision_date < '2012-01-01'\n",
    "GROUP BY month\n",
    "'''"
   ]
  },
  {
   "cell_type": "code",
   "execution_count": 613,
   "id": "2b83fa86",
   "metadata": {},
   "outputs": [],
   "source": [
    "collisions_count_before12_df = pd.read_sql_query(query_count_collisions_before12, con = engine) "
   ]
  },
  {
   "cell_type": "code",
   "execution_count": 614,
   "id": "a63c20f7",
   "metadata": {},
   "outputs": [
    {
     "data": {
      "text/html": [
       "<div>\n",
       "<style scoped>\n",
       "    .dataframe tbody tr th:only-of-type {\n",
       "        vertical-align: middle;\n",
       "    }\n",
       "\n",
       "    .dataframe tbody tr th {\n",
       "        vertical-align: top;\n",
       "    }\n",
       "\n",
       "    .dataframe thead th {\n",
       "        text-align: right;\n",
       "    }\n",
       "</style>\n",
       "<table border=\"1\" class=\"dataframe\">\n",
       "  <thead>\n",
       "    <tr style=\"text-align: right;\">\n",
       "      <th></th>\n",
       "      <th>month</th>\n",
       "      <th>count</th>\n",
       "    </tr>\n",
       "  </thead>\n",
       "  <tbody>\n",
       "    <tr>\n",
       "      <th>0</th>\n",
       "      <td>1</td>\n",
       "      <td>99880</td>\n",
       "    </tr>\n",
       "    <tr>\n",
       "      <th>1</th>\n",
       "      <td>2</td>\n",
       "      <td>98373</td>\n",
       "    </tr>\n",
       "    <tr>\n",
       "      <th>2</th>\n",
       "      <td>3</td>\n",
       "      <td>107036</td>\n",
       "    </tr>\n",
       "    <tr>\n",
       "      <th>3</th>\n",
       "      <td>4</td>\n",
       "      <td>101032</td>\n",
       "    </tr>\n",
       "    <tr>\n",
       "      <th>4</th>\n",
       "      <td>5</td>\n",
       "      <td>105148</td>\n",
       "    </tr>\n",
       "    <tr>\n",
       "      <th>5</th>\n",
       "      <td>6</td>\n",
       "      <td>99531</td>\n",
       "    </tr>\n",
       "    <tr>\n",
       "      <th>6</th>\n",
       "      <td>7</td>\n",
       "      <td>101835</td>\n",
       "    </tr>\n",
       "    <tr>\n",
       "      <th>7</th>\n",
       "      <td>8</td>\n",
       "      <td>103467</td>\n",
       "    </tr>\n",
       "    <tr>\n",
       "      <th>8</th>\n",
       "      <td>9</td>\n",
       "      <td>104649</td>\n",
       "    </tr>\n",
       "    <tr>\n",
       "      <th>9</th>\n",
       "      <td>10</td>\n",
       "      <td>111933</td>\n",
       "    </tr>\n",
       "    <tr>\n",
       "      <th>10</th>\n",
       "      <td>11</td>\n",
       "      <td>104517</td>\n",
       "    </tr>\n",
       "    <tr>\n",
       "      <th>11</th>\n",
       "      <td>12</td>\n",
       "      <td>107745</td>\n",
       "    </tr>\n",
       "  </tbody>\n",
       "</table>\n",
       "</div>"
      ],
      "text/plain": [
       "    month   count\n",
       "0       1   99880\n",
       "1       2   98373\n",
       "2       3  107036\n",
       "3       4  101032\n",
       "4       5  105148\n",
       "5       6   99531\n",
       "6       7  101835\n",
       "7       8  103467\n",
       "8       9  104649\n",
       "9      10  111933\n",
       "10     11  104517\n",
       "11     12  107745"
      ]
     },
     "execution_count": 614,
     "metadata": {},
     "output_type": "execute_result"
    }
   ],
   "source": [
    "collisions_count_before12_df"
   ]
  },
  {
   "cell_type": "code",
   "execution_count": 615,
   "id": "b4ceec3c",
   "metadata": {},
   "outputs": [
    {
     "data": {
      "image/png": "[encoded data removed]",
      "text/plain": [
       "<Figure size 720x432 with 1 Axes>"
      ]
     },
     "metadata": {},
     "output_type": "display_data"
    }
   ],
   "source": [
    "plot_month_count(collisions_count_before12_df, \"Количество аварий по месяцам за 2009-2011 годы\")"
   ]
  },
  {
   "cell_type": "markdown",
   "id": "670954e4",
   "metadata": {},
   "source": [
    "Получили более реальную картину. Пики аварий приходятся на октябрь,  март и декабрь.<br>\n",
    "Сильный всплеск значений в октябре возможно связан с первым снегом, гололедом на дорогах, когда не все участники движения успели переобуться."
   ]
  },
  {
   "cell_type": "markdown",
   "id": "c291dcdd",
   "metadata": {},
   "source": [
    "### Задачи для совещания рабочей группы"
   ]
  },
  {
   "cell_type": "markdown",
   "id": "2b64f2d1",
   "metadata": {},
   "source": [
    "1. Выясните, в какое время суток происходит больше всего аварий.<br>\n",
    "2. Проанализируйте, какие типы аварий бывают. Какую часть от всех происшествий на дороге составляют серьезные происшествия, а какую часть царапины, мелкие повреждения?<br>\n",
    "3. При каких погодных условиях чаще всего возникают ДТП? Влияет ли погода на серьезность повреждения транспортного средства?<br>\n",
    "4. Несет ли риск вождение \"возрастного автомобиля\"?<br>\n",
    "5. Какая доля аварий происходит из-за использования телефона?<br>\n",
    "6. Выяснить географию аварий: в каких странах, на каких типах дорог чаще всего происходят ДТП?"
   ]
  },
  {
   "cell_type": "markdown",
   "id": "1ff89aaa",
   "metadata": {},
   "source": [
    "#### Несет ли риск вождение \"возрастного автомобиля\"?"
   ]
  },
  {
   "cell_type": "markdown",
   "id": "d7b72d4e",
   "metadata": {},
   "source": [
    "План работ:<br>\n",
    "    - Создайте sql-запрос: разбейте машины на категории по возрастам, проанализируйте степени повреждения в авариях<br>\n",
    "    - Постройте график<br>\n",
    "    - Сделайте вывод<br>"
   ]
  },
  {
   "cell_type": "markdown",
   "id": "110ac6f5",
   "metadata": {},
   "source": [
    "Разобьем машины на группы по возрасту.<br>\n",
    "Посчитаем количество аварий в разрезе возрастных групп и степени серьезности ДТП."
   ]
  },
  {
   "cell_type": "code",
   "execution_count": 616,
   "id": "b19263a9",
   "metadata": {},
   "outputs": [],
   "source": [
    "query_vehicle_age = '''\n",
    "WITH v AS (\n",
    "--разобьем машины на группы по возрасту\n",
    "SELECT vehicle_age, case_id, \n",
    "CASE WHEN vehicle_age < 4 THEN '0-3' \n",
    "     WHEN vehicle_age < 8 THEN '4-7'\n",
    "     WHEN vehicle_age < 11 THEN '8-10'\n",
    "     WHEN vehicle_age < 16 THEN '11-15'\n",
    "     ELSE '>15' END \n",
    "     AS age_group \n",
    "FROM vehicles\n",
    "WHERE vehicle_age>0\n",
    ")\n",
    "--посчитаем количество аварий в разрезе возрастных групп и степени серьезности ДТП\n",
    "SELECT c.collision_damage, v.age_group, count(c.case_id) AS cnt\n",
    "FROM collisions c\n",
    "JOIN v ON c.case_id = v.case_id\n",
    "GROUP BY c.collision_damage, v.age_group\n",
    "ORDER BY c.collision_damage, cnt DESC, age_group\n",
    "'''"
   ]
  },
  {
   "cell_type": "code",
   "execution_count": 617,
   "id": "99042067",
   "metadata": {},
   "outputs": [],
   "source": [
    "vehicle_age_df = pd.read_sql_query(query_vehicle_age, con = engine) "
   ]
  },
  {
   "cell_type": "code",
   "execution_count": 618,
   "id": "55c9806a",
   "metadata": {},
   "outputs": [
    {
     "data": {
      "text/html": [
       "<div>\n",
       "<style scoped>\n",
       "    .dataframe tbody tr th:only-of-type {\n",
       "        vertical-align: middle;\n",
       "    }\n",
       "\n",
       "    .dataframe tbody tr th {\n",
       "        vertical-align: top;\n",
       "    }\n",
       "\n",
       "    .dataframe thead th {\n",
       "        text-align: right;\n",
       "    }\n",
       "</style>\n",
       "<table border=\"1\" class=\"dataframe\">\n",
       "  <thead>\n",
       "    <tr style=\"text-align: right;\">\n",
       "      <th></th>\n",
       "      <th>collision_damage</th>\n",
       "      <th>age_group</th>\n",
       "      <th>cnt</th>\n",
       "    </tr>\n",
       "  </thead>\n",
       "  <tbody>\n",
       "    <tr>\n",
       "      <th>0</th>\n",
       "      <td>fatal</td>\n",
       "      <td>4-7</td>\n",
       "      <td>6048</td>\n",
       "    </tr>\n",
       "    <tr>\n",
       "      <th>1</th>\n",
       "      <td>fatal</td>\n",
       "      <td>0-3</td>\n",
       "      <td>3533</td>\n",
       "    </tr>\n",
       "    <tr>\n",
       "      <th>2</th>\n",
       "      <td>fatal</td>\n",
       "      <td>8-10</td>\n",
       "      <td>3482</td>\n",
       "    </tr>\n",
       "    <tr>\n",
       "      <th>3</th>\n",
       "      <td>fatal</td>\n",
       "      <td>11-15</td>\n",
       "      <td>1701</td>\n",
       "    </tr>\n",
       "    <tr>\n",
       "      <th>4</th>\n",
       "      <td>fatal</td>\n",
       "      <td>&gt;15</td>\n",
       "      <td>22</td>\n",
       "    </tr>\n",
       "    <tr>\n",
       "      <th>5</th>\n",
       "      <td>middle damage</td>\n",
       "      <td>4-7</td>\n",
       "      <td>87891</td>\n",
       "    </tr>\n",
       "    <tr>\n",
       "      <th>6</th>\n",
       "      <td>middle damage</td>\n",
       "      <td>0-3</td>\n",
       "      <td>74013</td>\n",
       "    </tr>\n",
       "    <tr>\n",
       "      <th>7</th>\n",
       "      <td>middle damage</td>\n",
       "      <td>8-10</td>\n",
       "      <td>36983</td>\n",
       "    </tr>\n",
       "    <tr>\n",
       "      <th>8</th>\n",
       "      <td>middle damage</td>\n",
       "      <td>11-15</td>\n",
       "      <td>13744</td>\n",
       "    </tr>\n",
       "    <tr>\n",
       "      <th>9</th>\n",
       "      <td>middle damage</td>\n",
       "      <td>&gt;15</td>\n",
       "      <td>26</td>\n",
       "    </tr>\n",
       "    <tr>\n",
       "      <th>10</th>\n",
       "      <td>scratch</td>\n",
       "      <td>4-7</td>\n",
       "      <td>197915</td>\n",
       "    </tr>\n",
       "    <tr>\n",
       "      <th>11</th>\n",
       "      <td>scratch</td>\n",
       "      <td>0-3</td>\n",
       "      <td>123401</td>\n",
       "    </tr>\n",
       "    <tr>\n",
       "      <th>12</th>\n",
       "      <td>scratch</td>\n",
       "      <td>8-10</td>\n",
       "      <td>92793</td>\n",
       "    </tr>\n",
       "    <tr>\n",
       "      <th>13</th>\n",
       "      <td>scratch</td>\n",
       "      <td>11-15</td>\n",
       "      <td>26506</td>\n",
       "    </tr>\n",
       "    <tr>\n",
       "      <th>14</th>\n",
       "      <td>scratch</td>\n",
       "      <td>&gt;15</td>\n",
       "      <td>41</td>\n",
       "    </tr>\n",
       "    <tr>\n",
       "      <th>15</th>\n",
       "      <td>severe damage</td>\n",
       "      <td>4-7</td>\n",
       "      <td>17181</td>\n",
       "    </tr>\n",
       "    <tr>\n",
       "      <th>16</th>\n",
       "      <td>severe damage</td>\n",
       "      <td>0-3</td>\n",
       "      <td>12138</td>\n",
       "    </tr>\n",
       "    <tr>\n",
       "      <th>17</th>\n",
       "      <td>severe damage</td>\n",
       "      <td>8-10</td>\n",
       "      <td>8003</td>\n",
       "    </tr>\n",
       "    <tr>\n",
       "      <th>18</th>\n",
       "      <td>severe damage</td>\n",
       "      <td>11-15</td>\n",
       "      <td>2512</td>\n",
       "    </tr>\n",
       "    <tr>\n",
       "      <th>19</th>\n",
       "      <td>severe damage</td>\n",
       "      <td>&gt;15</td>\n",
       "      <td>2</td>\n",
       "    </tr>\n",
       "    <tr>\n",
       "      <th>20</th>\n",
       "      <td>small damage</td>\n",
       "      <td>0-3</td>\n",
       "      <td>113302</td>\n",
       "    </tr>\n",
       "    <tr>\n",
       "      <th>21</th>\n",
       "      <td>small damage</td>\n",
       "      <td>4-7</td>\n",
       "      <td>90116</td>\n",
       "    </tr>\n",
       "    <tr>\n",
       "      <th>22</th>\n",
       "      <td>small damage</td>\n",
       "      <td>8-10</td>\n",
       "      <td>32521</td>\n",
       "    </tr>\n",
       "    <tr>\n",
       "      <th>23</th>\n",
       "      <td>small damage</td>\n",
       "      <td>11-15</td>\n",
       "      <td>12454</td>\n",
       "    </tr>\n",
       "    <tr>\n",
       "      <th>24</th>\n",
       "      <td>small damage</td>\n",
       "      <td>&gt;15</td>\n",
       "      <td>62</td>\n",
       "    </tr>\n",
       "  </tbody>\n",
       "</table>\n",
       "</div>"
      ],
      "text/plain": [
       "   collision_damage age_group     cnt\n",
       "0             fatal       4-7    6048\n",
       "1             fatal       0-3    3533\n",
       "2             fatal      8-10    3482\n",
       "3             fatal     11-15    1701\n",
       "4             fatal       >15      22\n",
       "5     middle damage       4-7   87891\n",
       "6     middle damage       0-3   74013\n",
       "7     middle damage      8-10   36983\n",
       "8     middle damage     11-15   13744\n",
       "9     middle damage       >15      26\n",
       "10          scratch       4-7  197915\n",
       "11          scratch       0-3  123401\n",
       "12          scratch      8-10   92793\n",
       "13          scratch     11-15   26506\n",
       "14          scratch       >15      41\n",
       "15    severe damage       4-7   17181\n",
       "16    severe damage       0-3   12138\n",
       "17    severe damage      8-10    8003\n",
       "18    severe damage     11-15    2512\n",
       "19    severe damage       >15       2\n",
       "20     small damage       0-3  113302\n",
       "21     small damage       4-7   90116\n",
       "22     small damage      8-10   32521\n",
       "23     small damage     11-15   12454\n",
       "24     small damage       >15      62"
      ]
     },
     "execution_count": 618,
     "metadata": {},
     "output_type": "execute_result"
    }
   ],
   "source": [
    "vehicle_age_df"
   ]
  },
  {
   "cell_type": "markdown",
   "id": "3d7ec982",
   "metadata": {},
   "source": [
    "Посчитаем относительный показатель в процентах: учтем, какое количество машин в каждой возрастной группе."
   ]
  },
  {
   "cell_type": "code",
   "execution_count": 619,
   "id": "7ad69bb3",
   "metadata": {},
   "outputs": [],
   "source": [
    "query_vehicle_age = '''\n",
    "WITH v AS (\n",
    "--разобьем машины на группы по возрасту\n",
    "    SELECT \n",
    "        vehicle_age, \n",
    "        case_id,\n",
    "        CASE \n",
    "            WHEN vehicle_age < 4 THEN '0-3' \n",
    "            WHEN vehicle_age < 8 THEN '4-7'\n",
    "            WHEN vehicle_age < 11 THEN '8-10'\n",
    "            WHEN vehicle_age < 16 THEN '11-15'\n",
    "            ELSE '>15' \n",
    "        END AS age_group \n",
    "    FROM vehicles\n",
    "    WHERE vehicle_age > 0\n",
    "),\n",
    "-- посчитаем количество машин в кажой группе\n",
    "cnt_vehicles AS (\n",
    "SELECT v.age_group, count(case_id) AS cnt_veh\n",
    "FROM v\n",
    "GROUP BY v.age_group)\n",
    "SELECT c.collision_damage, --степень повреждения\n",
    "v.age_group, --возраст машины\n",
    "count(c.case_id) AS cnt, --количество аварий\n",
    "cv.cnt_veh, --количество машин в данной группе\n",
    "round(count(c.case_id)*100.0/cv.cnt_veh,2) as cnt_prc --процент машин из данной возрастной группы, получивших такую степень повреждения\n",
    "FROM collisions c\n",
    "JOIN v ON c.case_id = v.case_id\n",
    "JOIN  cnt_vehicles cv ON v.age_group = cv.age_group\n",
    "GROUP BY c.collision_damage, v.age_group, cv.cnt_veh\n",
    "ORDER BY c.collision_damage, cnt_prc DESC, age_group\n",
    "'''"
   ]
  },
  {
   "cell_type": "code",
   "execution_count": 620,
   "id": "42c097e4",
   "metadata": {},
   "outputs": [],
   "source": [
    "vehicle_age_df = pd.read_sql_query(query_vehicle_age, con = engine) "
   ]
  },
  {
   "cell_type": "code",
   "execution_count": 621,
   "id": "64a5c962",
   "metadata": {},
   "outputs": [
    {
     "data": {
      "text/html": [
       "<div>\n",
       "<style scoped>\n",
       "    .dataframe tbody tr th:only-of-type {\n",
       "        vertical-align: middle;\n",
       "    }\n",
       "\n",
       "    .dataframe tbody tr th {\n",
       "        vertical-align: top;\n",
       "    }\n",
       "\n",
       "    .dataframe thead th {\n",
       "        text-align: right;\n",
       "    }\n",
       "</style>\n",
       "<table border=\"1\" class=\"dataframe\">\n",
       "  <thead>\n",
       "    <tr style=\"text-align: right;\">\n",
       "      <th></th>\n",
       "      <th>collision_damage</th>\n",
       "      <th>age_group</th>\n",
       "      <th>cnt</th>\n",
       "      <th>cnt_veh</th>\n",
       "      <th>cnt_prc</th>\n",
       "    </tr>\n",
       "  </thead>\n",
       "  <tbody>\n",
       "    <tr>\n",
       "      <th>0</th>\n",
       "      <td>fatal</td>\n",
       "      <td>&gt;15</td>\n",
       "      <td>22</td>\n",
       "      <td>153</td>\n",
       "      <td>14.38</td>\n",
       "    </tr>\n",
       "    <tr>\n",
       "      <th>1</th>\n",
       "      <td>fatal</td>\n",
       "      <td>11-15</td>\n",
       "      <td>1701</td>\n",
       "      <td>56917</td>\n",
       "      <td>2.99</td>\n",
       "    </tr>\n",
       "    <tr>\n",
       "      <th>2</th>\n",
       "      <td>fatal</td>\n",
       "      <td>8-10</td>\n",
       "      <td>3482</td>\n",
       "      <td>173782</td>\n",
       "      <td>2.00</td>\n",
       "    </tr>\n",
       "    <tr>\n",
       "      <th>3</th>\n",
       "      <td>fatal</td>\n",
       "      <td>4-7</td>\n",
       "      <td>6048</td>\n",
       "      <td>399151</td>\n",
       "      <td>1.52</td>\n",
       "    </tr>\n",
       "    <tr>\n",
       "      <th>4</th>\n",
       "      <td>fatal</td>\n",
       "      <td>0-3</td>\n",
       "      <td>3533</td>\n",
       "      <td>326387</td>\n",
       "      <td>1.08</td>\n",
       "    </tr>\n",
       "    <tr>\n",
       "      <th>5</th>\n",
       "      <td>middle damage</td>\n",
       "      <td>11-15</td>\n",
       "      <td>13744</td>\n",
       "      <td>56917</td>\n",
       "      <td>24.15</td>\n",
       "    </tr>\n",
       "    <tr>\n",
       "      <th>6</th>\n",
       "      <td>middle damage</td>\n",
       "      <td>0-3</td>\n",
       "      <td>74013</td>\n",
       "      <td>326387</td>\n",
       "      <td>22.68</td>\n",
       "    </tr>\n",
       "    <tr>\n",
       "      <th>7</th>\n",
       "      <td>middle damage</td>\n",
       "      <td>4-7</td>\n",
       "      <td>87891</td>\n",
       "      <td>399151</td>\n",
       "      <td>22.02</td>\n",
       "    </tr>\n",
       "    <tr>\n",
       "      <th>8</th>\n",
       "      <td>middle damage</td>\n",
       "      <td>8-10</td>\n",
       "      <td>36983</td>\n",
       "      <td>173782</td>\n",
       "      <td>21.28</td>\n",
       "    </tr>\n",
       "    <tr>\n",
       "      <th>9</th>\n",
       "      <td>middle damage</td>\n",
       "      <td>&gt;15</td>\n",
       "      <td>26</td>\n",
       "      <td>153</td>\n",
       "      <td>16.99</td>\n",
       "    </tr>\n",
       "    <tr>\n",
       "      <th>10</th>\n",
       "      <td>scratch</td>\n",
       "      <td>8-10</td>\n",
       "      <td>92793</td>\n",
       "      <td>173782</td>\n",
       "      <td>53.40</td>\n",
       "    </tr>\n",
       "    <tr>\n",
       "      <th>11</th>\n",
       "      <td>scratch</td>\n",
       "      <td>4-7</td>\n",
       "      <td>197915</td>\n",
       "      <td>399151</td>\n",
       "      <td>49.58</td>\n",
       "    </tr>\n",
       "    <tr>\n",
       "      <th>12</th>\n",
       "      <td>scratch</td>\n",
       "      <td>11-15</td>\n",
       "      <td>26506</td>\n",
       "      <td>56917</td>\n",
       "      <td>46.57</td>\n",
       "    </tr>\n",
       "    <tr>\n",
       "      <th>13</th>\n",
       "      <td>scratch</td>\n",
       "      <td>0-3</td>\n",
       "      <td>123401</td>\n",
       "      <td>326387</td>\n",
       "      <td>37.81</td>\n",
       "    </tr>\n",
       "    <tr>\n",
       "      <th>14</th>\n",
       "      <td>scratch</td>\n",
       "      <td>&gt;15</td>\n",
       "      <td>41</td>\n",
       "      <td>153</td>\n",
       "      <td>26.80</td>\n",
       "    </tr>\n",
       "    <tr>\n",
       "      <th>15</th>\n",
       "      <td>severe damage</td>\n",
       "      <td>8-10</td>\n",
       "      <td>8003</td>\n",
       "      <td>173782</td>\n",
       "      <td>4.61</td>\n",
       "    </tr>\n",
       "    <tr>\n",
       "      <th>16</th>\n",
       "      <td>severe damage</td>\n",
       "      <td>11-15</td>\n",
       "      <td>2512</td>\n",
       "      <td>56917</td>\n",
       "      <td>4.41</td>\n",
       "    </tr>\n",
       "    <tr>\n",
       "      <th>17</th>\n",
       "      <td>severe damage</td>\n",
       "      <td>4-7</td>\n",
       "      <td>17181</td>\n",
       "      <td>399151</td>\n",
       "      <td>4.30</td>\n",
       "    </tr>\n",
       "    <tr>\n",
       "      <th>18</th>\n",
       "      <td>severe damage</td>\n",
       "      <td>0-3</td>\n",
       "      <td>12138</td>\n",
       "      <td>326387</td>\n",
       "      <td>3.72</td>\n",
       "    </tr>\n",
       "    <tr>\n",
       "      <th>19</th>\n",
       "      <td>severe damage</td>\n",
       "      <td>&gt;15</td>\n",
       "      <td>2</td>\n",
       "      <td>153</td>\n",
       "      <td>1.31</td>\n",
       "    </tr>\n",
       "    <tr>\n",
       "      <th>20</th>\n",
       "      <td>small damage</td>\n",
       "      <td>&gt;15</td>\n",
       "      <td>62</td>\n",
       "      <td>153</td>\n",
       "      <td>40.52</td>\n",
       "    </tr>\n",
       "    <tr>\n",
       "      <th>21</th>\n",
       "      <td>small damage</td>\n",
       "      <td>0-3</td>\n",
       "      <td>113302</td>\n",
       "      <td>326387</td>\n",
       "      <td>34.71</td>\n",
       "    </tr>\n",
       "    <tr>\n",
       "      <th>22</th>\n",
       "      <td>small damage</td>\n",
       "      <td>4-7</td>\n",
       "      <td>90116</td>\n",
       "      <td>399151</td>\n",
       "      <td>22.58</td>\n",
       "    </tr>\n",
       "    <tr>\n",
       "      <th>23</th>\n",
       "      <td>small damage</td>\n",
       "      <td>11-15</td>\n",
       "      <td>12454</td>\n",
       "      <td>56917</td>\n",
       "      <td>21.88</td>\n",
       "    </tr>\n",
       "    <tr>\n",
       "      <th>24</th>\n",
       "      <td>small damage</td>\n",
       "      <td>8-10</td>\n",
       "      <td>32521</td>\n",
       "      <td>173782</td>\n",
       "      <td>18.71</td>\n",
       "    </tr>\n",
       "  </tbody>\n",
       "</table>\n",
       "</div>"
      ],
      "text/plain": [
       "   collision_damage age_group     cnt  cnt_veh  cnt_prc\n",
       "0             fatal       >15      22      153    14.38\n",
       "1             fatal     11-15    1701    56917     2.99\n",
       "2             fatal      8-10    3482   173782     2.00\n",
       "3             fatal       4-7    6048   399151     1.52\n",
       "4             fatal       0-3    3533   326387     1.08\n",
       "5     middle damage     11-15   13744    56917    24.15\n",
       "6     middle damage       0-3   74013   326387    22.68\n",
       "7     middle damage       4-7   87891   399151    22.02\n",
       "8     middle damage      8-10   36983   173782    21.28\n",
       "9     middle damage       >15      26      153    16.99\n",
       "10          scratch      8-10   92793   173782    53.40\n",
       "11          scratch       4-7  197915   399151    49.58\n",
       "12          scratch     11-15   26506    56917    46.57\n",
       "13          scratch       0-3  123401   326387    37.81\n",
       "14          scratch       >15      41      153    26.80\n",
       "15    severe damage      8-10    8003   173782     4.61\n",
       "16    severe damage     11-15    2512    56917     4.41\n",
       "17    severe damage       4-7   17181   399151     4.30\n",
       "18    severe damage       0-3   12138   326387     3.72\n",
       "19    severe damage       >15       2      153     1.31\n",
       "20     small damage       >15      62      153    40.52\n",
       "21     small damage       0-3  113302   326387    34.71\n",
       "22     small damage       4-7   90116   399151    22.58\n",
       "23     small damage     11-15   12454    56917    21.88\n",
       "24     small damage      8-10   32521   173782    18.71"
      ]
     },
     "execution_count": 621,
     "metadata": {},
     "output_type": "execute_result"
    }
   ],
   "source": [
    "vehicle_age_df"
   ]
  },
  {
   "cell_type": "code",
   "execution_count": 622,
   "id": "8c33067a",
   "metadata": {},
   "outputs": [
    {
     "data": {
      "image/png": "[encoded data removed]",
      "text/plain": [
       "<Figure size 576x432 with 1 Axes>"
      ]
     },
     "metadata": {},
     "output_type": "display_data"
    }
   ],
   "source": [
    "plt.figure(figsize=(8, 6))\n",
    "sns.barplot(\n",
    "    data=vehicle_age_df, \n",
    "    y='collision_damage',  # Возрастная группа на оси Y\n",
    "    x='cnt_prc',   # Проценты на оси X\n",
    "    hue='age_group', \n",
    "    palette='viridis'\n",
    ")\n",
    "\n",
    "# Подписи\n",
    "plt.title('Процент машин, попавших в аварию по возрастной группе и степени серьёзности', fontsize=14)\n",
    "plt.ylabel('Степень серьезности', fontsize=12)\n",
    "plt.xlabel('Процент машин', fontsize=12)\n",
    "plt.legend(title='Возрастная группа машины', fontsize=10)\n",
    "plt.xticks(fontsize=10)\n",
    "plt.yticks(fontsize=10)\n",
    "plt.grid(axis='x', linestyle='--', alpha=0.7)\n",
    "\n",
    "# Отображение графика\n",
    "plt.tight_layout()\n",
    "plt.show()"
   ]
  },
  {
   "cell_type": "markdown",
   "id": "4aac655f",
   "metadata": {},
   "source": [
    "По графику видно, что самая большая доля фатальных повреждений приходится на возрастные автомобили, которым более 15 лет.<br>\n",
    "Т.е. определенный риск есть.<br>\n",
    "Также большая доля \"малых повреждений\".<br>\n",
    "У машин в категории 11-15 лет самая большая доля средних повреждений.<br>\n",
    "Зато \"царапину\" регистрирует довольно малая доля возрастных машин."
   ]
  },
  {
   "cell_type": "markdown",
   "id": "c9e6b437",
   "metadata": {},
   "source": [
    "#### Какая доля аварий происходит из-за использования телефона?"
   ]
  },
  {
   "cell_type": "markdown",
   "id": "9ed39f8f",
   "metadata": {},
   "source": [
    "План работ:<br>\n",
    "    - Создайте sql-запрос: отберите виновных в ДТП, посчитайте долю виновных, использовавших телефон<br>\n",
    "    - Постройте график<br>\n",
    "    - Сделайте вывод<br>"
   ]
  },
  {
   "cell_type": "code",
   "execution_count": 623,
   "id": "e8f8ccc5",
   "metadata": {},
   "outputs": [],
   "source": [
    "query_telephone = '''\n",
    "SELECT count(c.case_id), --общее количество аварий\n",
    "       sum(cellphone_in_use), --количество использовавших телефон за рулем\n",
    "       round(sum(cellphone_in_use)*100.0/count(c.case_id),2) as pers_telephone, --доля аварий с использованием телефона\n",
    "       round(100 - sum(cellphone_in_use)*100.0/count(c.case_id),2) as pers_other --доля аварий по другим причинам\n",
    "FROM collisions c\n",
    "JOIN parties p ON c.case_id = p. case_id AND p.at_fault = 1 --отобрали виновных в аварии\n",
    "'''"
   ]
  },
  {
   "cell_type": "code",
   "execution_count": 624,
   "id": "fb1c8c05",
   "metadata": {},
   "outputs": [],
   "source": [
    "telephone_df = pd.read_sql_query(query_telephone, con = engine) "
   ]
  },
  {
   "cell_type": "code",
   "execution_count": 625,
   "id": "658e9cc9",
   "metadata": {},
   "outputs": [
    {
     "data": {
      "text/html": [
       "<div>\n",
       "<style scoped>\n",
       "    .dataframe tbody tr th:only-of-type {\n",
       "        vertical-align: middle;\n",
       "    }\n",
       "\n",
       "    .dataframe tbody tr th {\n",
       "        vertical-align: top;\n",
       "    }\n",
       "\n",
       "    .dataframe thead th {\n",
       "        text-align: right;\n",
       "    }\n",
       "</style>\n",
       "<table border=\"1\" class=\"dataframe\">\n",
       "  <thead>\n",
       "    <tr style=\"text-align: right;\">\n",
       "      <th></th>\n",
       "      <th>count</th>\n",
       "      <th>sum</th>\n",
       "      <th>pers_telephone</th>\n",
       "      <th>pers_other</th>\n",
       "    </tr>\n",
       "  </thead>\n",
       "  <tbody>\n",
       "    <tr>\n",
       "      <th>0</th>\n",
       "      <td>1288127</td>\n",
       "      <td>24772</td>\n",
       "      <td>1.92</td>\n",
       "      <td>98.08</td>\n",
       "    </tr>\n",
       "  </tbody>\n",
       "</table>\n",
       "</div>"
      ],
      "text/plain": [
       "     count    sum  pers_telephone  pers_other\n",
       "0  1288127  24772            1.92       98.08"
      ]
     },
     "execution_count": 625,
     "metadata": {},
     "output_type": "execute_result"
    }
   ],
   "source": [
    "telephone_df"
   ]
  },
  {
   "cell_type": "code",
   "execution_count": 626,
   "id": "32547c32",
   "metadata": {},
   "outputs": [
    {
     "data": {
      "image/png": "[encoded data removed]",
      "text/plain": [
       "<Figure size 576x576 with 1 Axes>"
      ]
     },
     "metadata": {},
     "output_type": "display_data"
    }
   ],
   "source": [
    "# Данные\n",
    "labels = ['Телефон', 'Прочее']\n",
    "sizes = [telephone_df['pers_telephone'][0], telephone_df['pers_other'][0]]\n",
    "abs_sizes = [telephone_df['sum'][0], telephone_df['count'][0]]\n",
    "colors=['skyblue', 'green']\n",
    "# Построение круговой диаграммы\n",
    "plt.figure(figsize=(8, 8))\n",
    "wedges, texts, autotexts = plt.pie(\n",
    "    sizes, \n",
    "    labels=labels, \n",
    "    autopct='%1.1f%%',  # Процент на диаграмме\n",
    "    startangle=90, \n",
    "    colors=colors, \n",
    "    explode=(0.1, 0)  # Выделение сектора\n",
    ")\n",
    "# Добавление легенды с абсолютными значениями\n",
    "absolute_labels = [f'{label}: {size}' for label, size in zip(labels, abs_sizes)]\n",
    "plt.legend(wedges, absolute_labels, title=\"Абсолютные значения\", loc=\"center left\", bbox_to_anchor=(1, 0, 0.5, 1))\n",
    "\n",
    "plt.title(\"Распределение долей аварий по причине использования телефона\")\n",
    "plt.show()"
   ]
  },
  {
   "cell_type": "markdown",
   "id": "a8c62781",
   "metadata": {},
   "source": [
    "По причине использования телфона возникает около 2% аварий. В процентном соотношении кажется не таким большим значением, но в абсолютном получилось около 25 тыс. аварий.<br>\n",
    "Что подтверждает правило, что нельзя использовать телефон за рулем."
   ]
  },
  {
   "cell_type": "markdown",
   "id": "8d5cb79c",
   "metadata": {},
   "source": [
    "## Проведите анализ важности факторов ДТП"
   ]
  },
  {
   "cell_type": "markdown",
   "id": "8837922e",
   "metadata": {},
   "source": [
    "### Создайте модель для оценки водительского риска"
   ]
  },
  {
   "cell_type": "markdown",
   "id": "05abb630",
   "metadata": {},
   "source": [
    "Подготовим набор данных на основе первичного предположения заказчика:<br>\n",
    "    - Выберите тип виновника — только машина (car).<br>\n",
    "    - Возьмите случаи, когда ДТП привело к любым значимым повреждениям автомобиля любого из участников — все, кроме типа SCRATCH (царапина).<br>\n",
    "    - Для моделирования возьмите данные только за 2012 год."
   ]
  },
  {
   "cell_type": "code",
   "execution_count": 627,
   "id": "791f696e",
   "metadata": {},
   "outputs": [],
   "source": [
    "query_factors = '''\n",
    "SELECT p.*, v.vehicle_age, v.vehicle_type, v.vehicle_transmission, c.weather_1, c.road_surface, c.lighting, c.county_city_location, c.location_type, c.road_condition_1, c.control_device, c.distance\n",
    "FROM collisions c \n",
    "JOIN parties p ON c.case_id = p.case_id\n",
    "JOIN vehicles v ON c.case_id = v.case_id AND p.party_number = v.party_number\n",
    "WHERE party_type = 'car' --тип виновника — только машина (car)\n",
    "      AND c.collision_damage != 'scratch' --случаи, когда ДТП привело к любым значимым повреждениям автомобиля любого из участников — все, кроме типа SCRATCH (царапина)\n",
    "      AND EXTRACT(year FROM collision_date) = 2012 --данные только за 2012 год\n",
    "      AND v.vehicle_age <= 10 --машины не старше 10 лет\n",
    "'''"
   ]
  },
  {
   "cell_type": "code",
   "execution_count": 628,
   "id": "b04b87a5",
   "metadata": {},
   "outputs": [],
   "source": [
    "factors_df = pd.read_sql_query(query_factors, con = engine) "
   ]
  },
  {
   "cell_type": "code",
   "execution_count": 629,
   "id": "f51d9919",
   "metadata": {},
   "outputs": [
    {
     "data": {
      "text/html": [
       "<div>\n",
       "<style scoped>\n",
       "    .dataframe tbody tr th:only-of-type {\n",
       "        vertical-align: middle;\n",
       "    }\n",
       "\n",
       "    .dataframe tbody tr th {\n",
       "        vertical-align: top;\n",
       "    }\n",
       "\n",
       "    .dataframe thead th {\n",
       "        text-align: right;\n",
       "    }\n",
       "</style>\n",
       "<table border=\"1\" class=\"dataframe\">\n",
       "  <thead>\n",
       "    <tr style=\"text-align: right;\">\n",
       "      <th></th>\n",
       "      <th>id</th>\n",
       "      <th>case_id</th>\n",
       "      <th>party_number</th>\n",
       "      <th>party_type</th>\n",
       "      <th>at_fault</th>\n",
       "      <th>insurance_premium</th>\n",
       "      <th>party_sobriety</th>\n",
       "      <th>party_drug_physical</th>\n",
       "      <th>cellphone_in_use</th>\n",
       "      <th>vehicle_age</th>\n",
       "      <th>vehicle_type</th>\n",
       "      <th>vehicle_transmission</th>\n",
       "      <th>weather_1</th>\n",
       "      <th>road_surface</th>\n",
       "      <th>lighting</th>\n",
       "      <th>county_city_location</th>\n",
       "      <th>location_type</th>\n",
       "      <th>road_condition_1</th>\n",
       "      <th>control_device</th>\n",
       "      <th>distance</th>\n",
       "    </tr>\n",
       "  </thead>\n",
       "  <tbody>\n",
       "    <tr>\n",
       "      <th>0</th>\n",
       "      <td>2672478</td>\n",
       "      <td>5608536</td>\n",
       "      <td>1</td>\n",
       "      <td>car</td>\n",
       "      <td>1</td>\n",
       "      <td>33.0</td>\n",
       "      <td>had not been drinking</td>\n",
       "      <td>None</td>\n",
       "      <td>0.0</td>\n",
       "      <td>0</td>\n",
       "      <td>sedan</td>\n",
       "      <td>auto</td>\n",
       "      <td>raining</td>\n",
       "      <td>wet</td>\n",
       "      <td>daylight</td>\n",
       "      <td>4900</td>\n",
       "      <td>highway</td>\n",
       "      <td>normal</td>\n",
       "      <td>none</td>\n",
       "      <td>528.0</td>\n",
       "    </tr>\n",
       "    <tr>\n",
       "      <th>1</th>\n",
       "      <td>2657345</td>\n",
       "      <td>5599684</td>\n",
       "      <td>2</td>\n",
       "      <td>car</td>\n",
       "      <td>0</td>\n",
       "      <td>46.0</td>\n",
       "      <td>had not been drinking</td>\n",
       "      <td>None</td>\n",
       "      <td>0.0</td>\n",
       "      <td>2</td>\n",
       "      <td>sedan</td>\n",
       "      <td>auto</td>\n",
       "      <td>clear</td>\n",
       "      <td>dry</td>\n",
       "      <td>daylight</td>\n",
       "      <td>1942</td>\n",
       "      <td>None</td>\n",
       "      <td>normal</td>\n",
       "      <td>functioning</td>\n",
       "      <td>20.0</td>\n",
       "    </tr>\n",
       "    <tr>\n",
       "      <th>2</th>\n",
       "      <td>2657829</td>\n",
       "      <td>5599941</td>\n",
       "      <td>1</td>\n",
       "      <td>car</td>\n",
       "      <td>1</td>\n",
       "      <td>38.0</td>\n",
       "      <td>had been drinking, under influence</td>\n",
       "      <td>None</td>\n",
       "      <td>0.0</td>\n",
       "      <td>5</td>\n",
       "      <td>sedan</td>\n",
       "      <td>auto</td>\n",
       "      <td>clear</td>\n",
       "      <td>dry</td>\n",
       "      <td>dark with no street lights</td>\n",
       "      <td>4100</td>\n",
       "      <td>intersection</td>\n",
       "      <td>other</td>\n",
       "      <td>none</td>\n",
       "      <td>40.0</td>\n",
       "    </tr>\n",
       "    <tr>\n",
       "      <th>3</th>\n",
       "      <td>2453122</td>\n",
       "      <td>5479989</td>\n",
       "      <td>2</td>\n",
       "      <td>car</td>\n",
       "      <td>0</td>\n",
       "      <td>35.0</td>\n",
       "      <td>had not been drinking</td>\n",
       "      <td>None</td>\n",
       "      <td>0.0</td>\n",
       "      <td>1</td>\n",
       "      <td>sedan</td>\n",
       "      <td>manual</td>\n",
       "      <td>clear</td>\n",
       "      <td>dry</td>\n",
       "      <td>daylight</td>\n",
       "      <td>1200</td>\n",
       "      <td>None</td>\n",
       "      <td>normal</td>\n",
       "      <td>none</td>\n",
       "      <td>0.0</td>\n",
       "    </tr>\n",
       "    <tr>\n",
       "      <th>4</th>\n",
       "      <td>2453185</td>\n",
       "      <td>5480024</td>\n",
       "      <td>1</td>\n",
       "      <td>car</td>\n",
       "      <td>0</td>\n",
       "      <td>42.0</td>\n",
       "      <td>had not been drinking</td>\n",
       "      <td>None</td>\n",
       "      <td>0.0</td>\n",
       "      <td>7</td>\n",
       "      <td>sedan</td>\n",
       "      <td>manual</td>\n",
       "      <td>clear</td>\n",
       "      <td>dry</td>\n",
       "      <td>daylight</td>\n",
       "      <td>1900</td>\n",
       "      <td>None</td>\n",
       "      <td>normal</td>\n",
       "      <td>none</td>\n",
       "      <td>2.0</td>\n",
       "    </tr>\n",
       "    <tr>\n",
       "      <th>...</th>\n",
       "      <td>...</td>\n",
       "      <td>...</td>\n",
       "      <td>...</td>\n",
       "      <td>...</td>\n",
       "      <td>...</td>\n",
       "      <td>...</td>\n",
       "      <td>...</td>\n",
       "      <td>...</td>\n",
       "      <td>...</td>\n",
       "      <td>...</td>\n",
       "      <td>...</td>\n",
       "      <td>...</td>\n",
       "      <td>...</td>\n",
       "      <td>...</td>\n",
       "      <td>...</td>\n",
       "      <td>...</td>\n",
       "      <td>...</td>\n",
       "      <td>...</td>\n",
       "      <td>...</td>\n",
       "      <td>...</td>\n",
       "    </tr>\n",
       "    <tr>\n",
       "      <th>51408</th>\n",
       "      <td>2575854</td>\n",
       "      <td>5546026</td>\n",
       "      <td>2</td>\n",
       "      <td>car</td>\n",
       "      <td>0</td>\n",
       "      <td>23.0</td>\n",
       "      <td>impairment unknown</td>\n",
       "      <td>G</td>\n",
       "      <td>NaN</td>\n",
       "      <td>3</td>\n",
       "      <td>coupe</td>\n",
       "      <td>manual</td>\n",
       "      <td>clear</td>\n",
       "      <td>dry</td>\n",
       "      <td>dark with street lights</td>\n",
       "      <td>1942</td>\n",
       "      <td>None</td>\n",
       "      <td>normal</td>\n",
       "      <td>none</td>\n",
       "      <td>85.0</td>\n",
       "    </tr>\n",
       "    <tr>\n",
       "      <th>51409</th>\n",
       "      <td>2576025</td>\n",
       "      <td>5546110</td>\n",
       "      <td>1</td>\n",
       "      <td>car</td>\n",
       "      <td>1</td>\n",
       "      <td>29.0</td>\n",
       "      <td>had not been drinking</td>\n",
       "      <td>None</td>\n",
       "      <td>0.0</td>\n",
       "      <td>4</td>\n",
       "      <td>coupe</td>\n",
       "      <td>manual</td>\n",
       "      <td>clear</td>\n",
       "      <td>dry</td>\n",
       "      <td>daylight</td>\n",
       "      <td>3026</td>\n",
       "      <td>highway</td>\n",
       "      <td>normal</td>\n",
       "      <td>none</td>\n",
       "      <td>1500.0</td>\n",
       "    </tr>\n",
       "    <tr>\n",
       "      <th>51410</th>\n",
       "      <td>2576196</td>\n",
       "      <td>5546196</td>\n",
       "      <td>1</td>\n",
       "      <td>car</td>\n",
       "      <td>1</td>\n",
       "      <td>48.0</td>\n",
       "      <td>had not been drinking</td>\n",
       "      <td>None</td>\n",
       "      <td>0.0</td>\n",
       "      <td>7</td>\n",
       "      <td>coupe</td>\n",
       "      <td>auto</td>\n",
       "      <td>cloudy</td>\n",
       "      <td>wet</td>\n",
       "      <td>dark with no street lights</td>\n",
       "      <td>1942</td>\n",
       "      <td>None</td>\n",
       "      <td>reduced width</td>\n",
       "      <td>none</td>\n",
       "      <td>5.0</td>\n",
       "    </tr>\n",
       "    <tr>\n",
       "      <th>51411</th>\n",
       "      <td>2576374</td>\n",
       "      <td>5546296</td>\n",
       "      <td>2</td>\n",
       "      <td>car</td>\n",
       "      <td>0</td>\n",
       "      <td>45.0</td>\n",
       "      <td>had not been drinking</td>\n",
       "      <td>None</td>\n",
       "      <td>1.0</td>\n",
       "      <td>7</td>\n",
       "      <td>coupe</td>\n",
       "      <td>auto</td>\n",
       "      <td>clear</td>\n",
       "      <td>dry</td>\n",
       "      <td>daylight</td>\n",
       "      <td>1942</td>\n",
       "      <td>None</td>\n",
       "      <td>normal</td>\n",
       "      <td>functioning</td>\n",
       "      <td>160.0</td>\n",
       "    </tr>\n",
       "    <tr>\n",
       "      <th>51412</th>\n",
       "      <td>2576412</td>\n",
       "      <td>5546314</td>\n",
       "      <td>4</td>\n",
       "      <td>car</td>\n",
       "      <td>0</td>\n",
       "      <td>42.0</td>\n",
       "      <td>had not been drinking</td>\n",
       "      <td>None</td>\n",
       "      <td>0.0</td>\n",
       "      <td>6</td>\n",
       "      <td>coupe</td>\n",
       "      <td>auto</td>\n",
       "      <td>cloudy</td>\n",
       "      <td>dry</td>\n",
       "      <td>daylight</td>\n",
       "      <td>4116</td>\n",
       "      <td>highway</td>\n",
       "      <td>normal</td>\n",
       "      <td>none</td>\n",
       "      <td>528.0</td>\n",
       "    </tr>\n",
       "  </tbody>\n",
       "</table>\n",
       "<p>51413 rows × 20 columns</p>\n",
       "</div>"
      ],
      "text/plain": [
       "            id  case_id  party_number party_type  at_fault  insurance_premium  \\\n",
       "0      2672478  5608536             1        car         1               33.0   \n",
       "1      2657345  5599684             2        car         0               46.0   \n",
       "2      2657829  5599941             1        car         1               38.0   \n",
       "3      2453122  5479989             2        car         0               35.0   \n",
       "4      2453185  5480024             1        car         0               42.0   \n",
       "...        ...      ...           ...        ...       ...                ...   \n",
       "51408  2575854  5546026             2        car         0               23.0   \n",
       "51409  2576025  5546110             1        car         1               29.0   \n",
       "51410  2576196  5546196             1        car         1               48.0   \n",
       "51411  2576374  5546296             2        car         0               45.0   \n",
       "51412  2576412  5546314             4        car         0               42.0   \n",
       "\n",
       "                           party_sobriety party_drug_physical  \\\n",
       "0                   had not been drinking                None   \n",
       "1                   had not been drinking                None   \n",
       "2      had been drinking, under influence                None   \n",
       "3                   had not been drinking                None   \n",
       "4                   had not been drinking                None   \n",
       "...                                   ...                 ...   \n",
       "51408                  impairment unknown                   G   \n",
       "51409               had not been drinking                None   \n",
       "51410               had not been drinking                None   \n",
       "51411               had not been drinking                None   \n",
       "51412               had not been drinking                None   \n",
       "\n",
       "       cellphone_in_use  vehicle_age vehicle_type vehicle_transmission  \\\n",
       "0                   0.0            0        sedan                 auto   \n",
       "1                   0.0            2        sedan                 auto   \n",
       "2                   0.0            5        sedan                 auto   \n",
       "3                   0.0            1        sedan               manual   \n",
       "4                   0.0            7        sedan               manual   \n",
       "...                 ...          ...          ...                  ...   \n",
       "51408               NaN            3        coupe               manual   \n",
       "51409               0.0            4        coupe               manual   \n",
       "51410               0.0            7        coupe                 auto   \n",
       "51411               1.0            7        coupe                 auto   \n",
       "51412               0.0            6        coupe                 auto   \n",
       "\n",
       "      weather_1 road_surface                    lighting county_city_location  \\\n",
       "0       raining          wet                    daylight                 4900   \n",
       "1         clear          dry                    daylight                 1942   \n",
       "2         clear          dry  dark with no street lights                 4100   \n",
       "3         clear          dry                    daylight                 1200   \n",
       "4         clear          dry                    daylight                 1900   \n",
       "...         ...          ...                         ...                  ...   \n",
       "51408     clear          dry     dark with street lights                 1942   \n",
       "51409     clear          dry                    daylight                 3026   \n",
       "51410    cloudy          wet  dark with no street lights                 1942   \n",
       "51411     clear          dry                    daylight                 1942   \n",
       "51412    cloudy          dry                    daylight                 4116   \n",
       "\n",
       "      location_type road_condition_1 control_device  distance  \n",
       "0           highway           normal           none     528.0  \n",
       "1              None           normal    functioning      20.0  \n",
       "2      intersection            other           none      40.0  \n",
       "3              None           normal           none       0.0  \n",
       "4              None           normal           none       2.0  \n",
       "...             ...              ...            ...       ...  \n",
       "51408          None           normal           none      85.0  \n",
       "51409       highway           normal           none    1500.0  \n",
       "51410          None    reduced width           none       5.0  \n",
       "51411          None           normal    functioning     160.0  \n",
       "51412       highway           normal           none     528.0  \n",
       "\n",
       "[51413 rows x 20 columns]"
      ]
     },
     "execution_count": 629,
     "metadata": {},
     "output_type": "execute_result"
    }
   ],
   "source": [
    "factors_df"
   ]
  },
  {
   "cell_type": "code",
   "execution_count": 630,
   "id": "1d3cb35d",
   "metadata": {},
   "outputs": [
    {
     "data": {
      "text/html": [
       "<div>\n",
       "<style scoped>\n",
       "    .dataframe tbody tr th:only-of-type {\n",
       "        vertical-align: middle;\n",
       "    }\n",
       "\n",
       "    .dataframe tbody tr th {\n",
       "        vertical-align: top;\n",
       "    }\n",
       "\n",
       "    .dataframe thead th {\n",
       "        text-align: right;\n",
       "    }\n",
       "</style>\n",
       "<table border=\"1\" class=\"dataframe\">\n",
       "  <thead>\n",
       "    <tr style=\"text-align: right;\">\n",
       "      <th></th>\n",
       "      <th>id</th>\n",
       "      <th>party_number</th>\n",
       "      <th>at_fault</th>\n",
       "      <th>insurance_premium</th>\n",
       "      <th>cellphone_in_use</th>\n",
       "      <th>vehicle_age</th>\n",
       "      <th>distance</th>\n",
       "    </tr>\n",
       "  </thead>\n",
       "  <tbody>\n",
       "    <tr>\n",
       "      <th>count</th>\n",
       "      <td>5.141300e+04</td>\n",
       "      <td>51413.000000</td>\n",
       "      <td>51413.000000</td>\n",
       "      <td>51002.000000</td>\n",
       "      <td>47485.000000</td>\n",
       "      <td>51413.000000</td>\n",
       "      <td>5.141300e+04</td>\n",
       "    </tr>\n",
       "    <tr>\n",
       "      <th>mean</th>\n",
       "      <td>2.594827e+06</td>\n",
       "      <td>1.528582</td>\n",
       "      <td>0.504833</td>\n",
       "      <td>35.692600</td>\n",
       "      <td>0.020491</td>\n",
       "      <td>4.416354</td>\n",
       "      <td>8.751382e+02</td>\n",
       "    </tr>\n",
       "    <tr>\n",
       "      <th>std</th>\n",
       "      <td>9.868998e+04</td>\n",
       "      <td>0.664643</td>\n",
       "      <td>0.499982</td>\n",
       "      <td>14.311894</td>\n",
       "      <td>0.141673</td>\n",
       "      <td>2.608277</td>\n",
       "      <td>7.528943e+03</td>\n",
       "    </tr>\n",
       "    <tr>\n",
       "      <th>min</th>\n",
       "      <td>1.800807e+06</td>\n",
       "      <td>1.000000</td>\n",
       "      <td>0.000000</td>\n",
       "      <td>0.000000</td>\n",
       "      <td>0.000000</td>\n",
       "      <td>0.000000</td>\n",
       "      <td>0.000000e+00</td>\n",
       "    </tr>\n",
       "    <tr>\n",
       "      <th>25%</th>\n",
       "      <td>2.517805e+06</td>\n",
       "      <td>1.000000</td>\n",
       "      <td>0.000000</td>\n",
       "      <td>23.000000</td>\n",
       "      <td>0.000000</td>\n",
       "      <td>3.000000</td>\n",
       "      <td>1.000000e+01</td>\n",
       "    </tr>\n",
       "    <tr>\n",
       "      <th>50%</th>\n",
       "      <td>2.598747e+06</td>\n",
       "      <td>1.000000</td>\n",
       "      <td>1.000000</td>\n",
       "      <td>33.000000</td>\n",
       "      <td>0.000000</td>\n",
       "      <td>4.000000</td>\n",
       "      <td>1.470000e+02</td>\n",
       "    </tr>\n",
       "    <tr>\n",
       "      <th>75%</th>\n",
       "      <td>2.681122e+06</td>\n",
       "      <td>2.000000</td>\n",
       "      <td>1.000000</td>\n",
       "      <td>46.000000</td>\n",
       "      <td>0.000000</td>\n",
       "      <td>6.000000</td>\n",
       "      <td>5.820000e+02</td>\n",
       "    </tr>\n",
       "    <tr>\n",
       "      <th>max</th>\n",
       "      <td>2.752381e+06</td>\n",
       "      <td>9.000000</td>\n",
       "      <td>1.000000</td>\n",
       "      <td>105.000000</td>\n",
       "      <td>1.000000</td>\n",
       "      <td>10.000000</td>\n",
       "      <td>1.584000e+06</td>\n",
       "    </tr>\n",
       "  </tbody>\n",
       "</table>\n",
       "</div>"
      ],
      "text/plain": [
       "                 id  party_number      at_fault  insurance_premium  \\\n",
       "count  5.141300e+04  51413.000000  51413.000000       51002.000000   \n",
       "mean   2.594827e+06      1.528582      0.504833          35.692600   \n",
       "std    9.868998e+04      0.664643      0.499982          14.311894   \n",
       "min    1.800807e+06      1.000000      0.000000           0.000000   \n",
       "25%    2.517805e+06      1.000000      0.000000          23.000000   \n",
       "50%    2.598747e+06      1.000000      1.000000          33.000000   \n",
       "75%    2.681122e+06      2.000000      1.000000          46.000000   \n",
       "max    2.752381e+06      9.000000      1.000000         105.000000   \n",
       "\n",
       "       cellphone_in_use   vehicle_age      distance  \n",
       "count      47485.000000  51413.000000  5.141300e+04  \n",
       "mean           0.020491      4.416354  8.751382e+02  \n",
       "std            0.141673      2.608277  7.528943e+03  \n",
       "min            0.000000      0.000000  0.000000e+00  \n",
       "25%            0.000000      3.000000  1.000000e+01  \n",
       "50%            0.000000      4.000000  1.470000e+02  \n",
       "75%            0.000000      6.000000  5.820000e+02  \n",
       "max            1.000000     10.000000  1.584000e+06  "
      ]
     },
     "execution_count": 630,
     "metadata": {},
     "output_type": "execute_result"
    }
   ],
   "source": [
    "factors_df.describe()"
   ]
  },
  {
   "cell_type": "markdown",
   "id": "e415b03e",
   "metadata": {},
   "source": [
    "Отберем факторы. Для построения модели точно понадобятся колонки:<br>\n",
    "    - party_sobriety, т.е. трезвость участника<br>\n",
    "    - party_drug_physical, т.е. состояние участника: физическое или с учётом принятых лекарств<br>\n",
    "    - vehicle_age, т.е. возраст автомобиля (могут быть какие-то скрытые поломки, дефекты, что-то вышло из строя)<br>\n",
    "    - road_surface, т.е. состояние дороги (т.к. на скользкой дороге машину может занести и водитель не справится с управлением)<br>\n",
    "Также с помощью корреляционного анализа посмотрим, какие факторы влияют на виновность в аварии.<br>\n",
    "Также проверим факторы vehicle_transmission (тип КПП), insurance_premium (страховка) - это скорее фактор, как часто регистрируется ДТП, distance (расстояние от главной дороги).<br>\n"
   ]
  },
  {
   "cell_type": "markdown",
   "id": "bc3c9484",
   "metadata": {},
   "source": [
    "#### Статистическое исследование отобранных факторов"
   ]
  },
  {
   "cell_type": "code",
   "execution_count": 631,
   "id": "7323927e",
   "metadata": {},
   "outputs": [],
   "source": [
    "columns = ['at_fault', 'party_sobriety', 'party_drug_physical', 'vehicle_transmission', 'road_surface',  'vehicle_age', 'distance' , 'insurance_premium']"
   ]
  },
  {
   "cell_type": "code",
   "execution_count": 632,
   "id": "14ef3fac",
   "metadata": {},
   "outputs": [],
   "source": [
    "factors_df = factors_df [columns]"
   ]
  },
  {
   "cell_type": "code",
   "execution_count": 633,
   "id": "68e34bc8",
   "metadata": {},
   "outputs": [
    {
     "data": {
      "text/html": [
       "<div>\n",
       "<style scoped>\n",
       "    .dataframe tbody tr th:only-of-type {\n",
       "        vertical-align: middle;\n",
       "    }\n",
       "\n",
       "    .dataframe tbody tr th {\n",
       "        vertical-align: top;\n",
       "    }\n",
       "\n",
       "    .dataframe thead th {\n",
       "        text-align: right;\n",
       "    }\n",
       "</style>\n",
       "<table border=\"1\" class=\"dataframe\">\n",
       "  <thead>\n",
       "    <tr style=\"text-align: right;\">\n",
       "      <th></th>\n",
       "      <th>at_fault</th>\n",
       "      <th>party_sobriety</th>\n",
       "      <th>party_drug_physical</th>\n",
       "      <th>vehicle_transmission</th>\n",
       "      <th>road_surface</th>\n",
       "      <th>vehicle_age</th>\n",
       "      <th>distance</th>\n",
       "      <th>insurance_premium</th>\n",
       "    </tr>\n",
       "  </thead>\n",
       "  <tbody>\n",
       "    <tr>\n",
       "      <th>0</th>\n",
       "      <td>1</td>\n",
       "      <td>had not been drinking</td>\n",
       "      <td>None</td>\n",
       "      <td>auto</td>\n",
       "      <td>wet</td>\n",
       "      <td>0</td>\n",
       "      <td>528.0</td>\n",
       "      <td>33.0</td>\n",
       "    </tr>\n",
       "    <tr>\n",
       "      <th>1</th>\n",
       "      <td>0</td>\n",
       "      <td>had not been drinking</td>\n",
       "      <td>None</td>\n",
       "      <td>auto</td>\n",
       "      <td>dry</td>\n",
       "      <td>2</td>\n",
       "      <td>20.0</td>\n",
       "      <td>46.0</td>\n",
       "    </tr>\n",
       "    <tr>\n",
       "      <th>2</th>\n",
       "      <td>1</td>\n",
       "      <td>had been drinking, under influence</td>\n",
       "      <td>None</td>\n",
       "      <td>auto</td>\n",
       "      <td>dry</td>\n",
       "      <td>5</td>\n",
       "      <td>40.0</td>\n",
       "      <td>38.0</td>\n",
       "    </tr>\n",
       "    <tr>\n",
       "      <th>3</th>\n",
       "      <td>0</td>\n",
       "      <td>had not been drinking</td>\n",
       "      <td>None</td>\n",
       "      <td>manual</td>\n",
       "      <td>dry</td>\n",
       "      <td>1</td>\n",
       "      <td>0.0</td>\n",
       "      <td>35.0</td>\n",
       "    </tr>\n",
       "    <tr>\n",
       "      <th>4</th>\n",
       "      <td>0</td>\n",
       "      <td>had not been drinking</td>\n",
       "      <td>None</td>\n",
       "      <td>manual</td>\n",
       "      <td>dry</td>\n",
       "      <td>7</td>\n",
       "      <td>2.0</td>\n",
       "      <td>42.0</td>\n",
       "    </tr>\n",
       "  </tbody>\n",
       "</table>\n",
       "</div>"
      ],
      "text/plain": [
       "   at_fault                      party_sobriety party_drug_physical  \\\n",
       "0         1               had not been drinking                None   \n",
       "1         0               had not been drinking                None   \n",
       "2         1  had been drinking, under influence                None   \n",
       "3         0               had not been drinking                None   \n",
       "4         0               had not been drinking                None   \n",
       "\n",
       "  vehicle_transmission road_surface  vehicle_age  distance  insurance_premium  \n",
       "0                 auto          wet            0     528.0               33.0  \n",
       "1                 auto          dry            2      20.0               46.0  \n",
       "2                 auto          dry            5      40.0               38.0  \n",
       "3               manual          dry            1       0.0               35.0  \n",
       "4               manual          dry            7       2.0               42.0  "
      ]
     },
     "execution_count": 633,
     "metadata": {},
     "output_type": "execute_result"
    }
   ],
   "source": [
    "factors_df.head()"
   ]
  },
  {
   "cell_type": "code",
   "execution_count": 634,
   "id": "811b6601",
   "metadata": {},
   "outputs": [
    {
     "name": "stdout",
     "output_type": "stream",
     "text": [
      "<class 'pandas.core.frame.DataFrame'>\n",
      "RangeIndex: 51413 entries, 0 to 51412\n",
      "Data columns (total 8 columns):\n",
      " #   Column                Non-Null Count  Dtype  \n",
      "---  ------                --------------  -----  \n",
      " 0   at_fault              51413 non-null  int64  \n",
      " 1   party_sobriety        50631 non-null  object \n",
      " 2   party_drug_physical   2550 non-null   object \n",
      " 3   vehicle_transmission  50878 non-null  object \n",
      " 4   road_surface          51107 non-null  object \n",
      " 5   vehicle_age           51413 non-null  int64  \n",
      " 6   distance              51413 non-null  float64\n",
      " 7   insurance_premium     51002 non-null  float64\n",
      "dtypes: float64(2), int64(2), object(4)\n",
      "memory usage: 3.1+ MB\n"
     ]
    }
   ],
   "source": [
    "factors_df.info()"
   ]
  },
  {
   "cell_type": "code",
   "execution_count": 635,
   "id": "852edc05",
   "metadata": {},
   "outputs": [
    {
     "data": {
      "text/plain": [
       "at_fault                    0\n",
       "party_sobriety            782\n",
       "party_drug_physical     48863\n",
       "vehicle_transmission      535\n",
       "road_surface              306\n",
       "vehicle_age                 0\n",
       "distance                    0\n",
       "insurance_premium         411\n",
       "dtype: int64"
      ]
     },
     "execution_count": 635,
     "metadata": {},
     "output_type": "execute_result"
    }
   ],
   "source": [
    "#Проверка на пропуски в данных\n",
    "factors_df.isna().sum()"
   ]
  },
  {
   "cell_type": "code",
   "execution_count": 636,
   "id": "8ffab96c",
   "metadata": {},
   "outputs": [
    {
     "data": {
      "text/plain": [
       "had not been drinking                     44234\n",
       "had been drinking, under influence         4334\n",
       "impairment unknown                         1049\n",
       "had been drinking, not under influence      546\n",
       "had been drinking, impairment unknown       242\n",
       "not applicable                              226\n",
       "Name: party_sobriety, dtype: int64"
      ]
     },
     "execution_count": 636,
     "metadata": {},
     "output_type": "execute_result"
    }
   ],
   "source": [
    "# проверка на неявные дубликаты\n",
    "factors_df['party_sobriety'].value_counts()"
   ]
  },
  {
   "cell_type": "markdown",
   "id": "2c2ea668",
   "metadata": {},
   "source": [
    "Неявных дубликатов в столбце 'party_sobriety' не обнаружено. Пока оставим категории в таком виде, но заполним пропуски."
   ]
  },
  {
   "cell_type": "code",
   "execution_count": 637,
   "id": "0f87b8c9",
   "metadata": {},
   "outputs": [
    {
     "name": "stderr",
     "output_type": "stream",
     "text": [
      "/opt/conda/lib/python3.9/site-packages/pandas/core/indexing.py:1676: SettingWithCopyWarning: \n",
      "A value is trying to be set on a copy of a slice from a DataFrame.\n",
      "Try using .loc[row_indexer,col_indexer] = value instead\n",
      "\n",
      "See the caveats in the documentation: https://pandas.pydata.org/pandas-docs/stable/user_guide/indexing.html#returning-a-view-versus-a-copy\n",
      "  self._setitem_single_column(ilocs[0], value, pi)\n"
     ]
    }
   ],
   "source": [
    "factors_df.loc[:,'party_sobriety'] = factors_df.loc[:,'party_sobriety'].fillna('not applicable')"
   ]
  },
  {
   "cell_type": "code",
   "execution_count": 638,
   "id": "5b177584",
   "metadata": {},
   "outputs": [
    {
     "data": {
      "text/plain": [
       "had not been drinking                     44234\n",
       "had been drinking, under influence         4334\n",
       "impairment unknown                         1049\n",
       "not applicable                             1008\n",
       "had been drinking, not under influence      546\n",
       "had been drinking, impairment unknown       242\n",
       "Name: party_sobriety, dtype: int64"
      ]
     },
     "execution_count": 638,
     "metadata": {},
     "output_type": "execute_result"
    }
   ],
   "source": [
    "factors_df['party_sobriety'].value_counts()"
   ]
  },
  {
   "cell_type": "code",
   "execution_count": 639,
   "id": "9b16ce68",
   "metadata": {},
   "outputs": [
    {
     "data": {
      "text/plain": [
       "G                        1049\n",
       "under drug influence      819\n",
       "sleepy/fatigued           361\n",
       "not applicable            226\n",
       "impairment - physical      95\n",
       "Name: party_drug_physical, dtype: int64"
      ]
     },
     "execution_count": 639,
     "metadata": {},
     "output_type": "execute_result"
    }
   ],
   "source": [
    "# проверка на неявные дубликаты\n",
    "factors_df['party_drug_physical'].value_counts()"
   ]
  },
  {
   "cell_type": "markdown",
   "id": "5801b992",
   "metadata": {},
   "source": [
    "В столбце 'party_drug_physical' есть неявные дубликаты. Например, G и not applicable. Объединим их в категорию not applicable.<br>\n",
    "Аналогичным образом заполним отсутствующие значения."
   ]
  },
  {
   "cell_type": "code",
   "execution_count": 640,
   "id": "c84e4c80",
   "metadata": {},
   "outputs": [],
   "source": [
    "factors_df.loc[:,'party_drug_physical'] = factors_df.loc[:,'party_drug_physical'].str.replace('G', 'not applicable')"
   ]
  },
  {
   "cell_type": "code",
   "execution_count": 641,
   "id": "d25c944f",
   "metadata": {},
   "outputs": [],
   "source": [
    "factors_df.loc[:,'party_drug_physical'] = factors_df.loc[:,'party_drug_physical'].fillna('not applicable')"
   ]
  },
  {
   "cell_type": "code",
   "execution_count": 642,
   "id": "e83a51e4",
   "metadata": {},
   "outputs": [
    {
     "data": {
      "text/plain": [
       "not applicable           50138\n",
       "under drug influence       819\n",
       "sleepy/fatigued            361\n",
       "impairment - physical       95\n",
       "Name: party_drug_physical, dtype: int64"
      ]
     },
     "execution_count": 642,
     "metadata": {},
     "output_type": "execute_result"
    }
   ],
   "source": [
    "factors_df['party_drug_physical'].value_counts()"
   ]
  },
  {
   "cell_type": "code",
   "execution_count": 643,
   "id": "b8ef7664",
   "metadata": {},
   "outputs": [
    {
     "data": {
      "text/plain": [
       "manual    27222\n",
       "auto      23656\n",
       "Name: vehicle_transmission, dtype: int64"
      ]
     },
     "execution_count": 643,
     "metadata": {},
     "output_type": "execute_result"
    }
   ],
   "source": [
    "factors_df['vehicle_transmission'].value_counts()"
   ]
  },
  {
   "cell_type": "code",
   "execution_count": 644,
   "id": "fe4a24e5",
   "metadata": {},
   "outputs": [
    {
     "name": "stderr",
     "output_type": "stream",
     "text": [
      "/tmp/ipykernel_31/2682916846.py:1: SettingWithCopyWarning: \n",
      "A value is trying to be set on a copy of a slice from a DataFrame.\n",
      "Try using .loc[row_indexer,col_indexer] = value instead\n",
      "\n",
      "See the caveats in the documentation: https://pandas.pydata.org/pandas-docs/stable/user_guide/indexing.html#returning-a-view-versus-a-copy\n",
      "  factors_df['vehicle_transmission'] = factors_df['vehicle_transmission'].fillna('unknown')\n"
     ]
    }
   ],
   "source": [
    "factors_df['vehicle_transmission'] = factors_df['vehicle_transmission'].fillna('unknown')"
   ]
  },
  {
   "cell_type": "code",
   "execution_count": 645,
   "id": "890f1f79",
   "metadata": {},
   "outputs": [
    {
     "data": {
      "text/plain": [
       "dry         45855\n",
       "wet          4879\n",
       "snowy         331\n",
       "slippery       42\n",
       "Name: road_surface, dtype: int64"
      ]
     },
     "execution_count": 645,
     "metadata": {},
     "output_type": "execute_result"
    }
   ],
   "source": [
    "factors_df['road_surface'].value_counts()"
   ]
  },
  {
   "cell_type": "code",
   "execution_count": 646,
   "id": "ac062db7",
   "metadata": {},
   "outputs": [
    {
     "name": "stderr",
     "output_type": "stream",
     "text": [
      "/tmp/ipykernel_31/3515760884.py:1: SettingWithCopyWarning: \n",
      "A value is trying to be set on a copy of a slice from a DataFrame.\n",
      "Try using .loc[row_indexer,col_indexer] = value instead\n",
      "\n",
      "See the caveats in the documentation: https://pandas.pydata.org/pandas-docs/stable/user_guide/indexing.html#returning-a-view-versus-a-copy\n",
      "  factors_df['road_surface'] = factors_df['road_surface'].fillna('unknown')\n"
     ]
    }
   ],
   "source": [
    "factors_df['road_surface'] = factors_df['road_surface'].fillna('unknown')"
   ]
  },
  {
   "cell_type": "markdown",
   "id": "7c084e38",
   "metadata": {},
   "source": [
    "Заполнили неизвестные категории в колонках значением unknown."
   ]
  },
  {
   "cell_type": "code",
   "execution_count": 647,
   "id": "b6213ef7",
   "metadata": {},
   "outputs": [
    {
     "data": {
      "text/plain": [
       "3     11012\n",
       "4      7157\n",
       "2      6048\n",
       "5      5565\n",
       "6      3940\n",
       "7      3838\n",
       "8      3509\n",
       "0      3087\n",
       "9      2770\n",
       "1      2545\n",
       "10     1942\n",
       "Name: vehicle_age, dtype: int64"
      ]
     },
     "execution_count": 647,
     "metadata": {},
     "output_type": "execute_result"
    }
   ],
   "source": [
    "factors_df['vehicle_age'].value_counts()"
   ]
  },
  {
   "cell_type": "code",
   "execution_count": 648,
   "id": "30de32b9",
   "metadata": {},
   "outputs": [
    {
     "name": "stderr",
     "output_type": "stream",
     "text": [
      "/opt/conda/lib/python3.9/site-packages/pandas/core/indexing.py:1676: SettingWithCopyWarning: \n",
      "A value is trying to be set on a copy of a slice from a DataFrame.\n",
      "Try using .loc[row_indexer,col_indexer] = value instead\n",
      "\n",
      "See the caveats in the documentation: https://pandas.pydata.org/pandas-docs/stable/user_guide/indexing.html#returning-a-view-versus-a-copy\n",
      "  self._setitem_single_column(ilocs[0], value, pi)\n"
     ]
    }
   ],
   "source": [
    "factors_df.loc[:,'insurance_premium'] = factors_df.loc[:,'insurance_premium'].fillna(factors_df['insurance_premium'].median())"
   ]
  },
  {
   "cell_type": "code",
   "execution_count": 649,
   "id": "1528ebc8",
   "metadata": {},
   "outputs": [
    {
     "data": {
      "text/html": [
       "<div>\n",
       "<style scoped>\n",
       "    .dataframe tbody tr th:only-of-type {\n",
       "        vertical-align: middle;\n",
       "    }\n",
       "\n",
       "    .dataframe tbody tr th {\n",
       "        vertical-align: top;\n",
       "    }\n",
       "\n",
       "    .dataframe thead th {\n",
       "        text-align: right;\n",
       "    }\n",
       "</style>\n",
       "<table border=\"1\" class=\"dataframe\">\n",
       "  <thead>\n",
       "    <tr style=\"text-align: right;\">\n",
       "      <th></th>\n",
       "      <th>at_fault</th>\n",
       "      <th>vehicle_age</th>\n",
       "      <th>distance</th>\n",
       "      <th>insurance_premium</th>\n",
       "    </tr>\n",
       "  </thead>\n",
       "  <tbody>\n",
       "    <tr>\n",
       "      <th>count</th>\n",
       "      <td>51413.000000</td>\n",
       "      <td>51413.000000</td>\n",
       "      <td>5.141300e+04</td>\n",
       "      <td>51413.000000</td>\n",
       "    </tr>\n",
       "    <tr>\n",
       "      <th>mean</th>\n",
       "      <td>0.504833</td>\n",
       "      <td>4.416354</td>\n",
       "      <td>8.751382e+02</td>\n",
       "      <td>35.671075</td>\n",
       "    </tr>\n",
       "    <tr>\n",
       "      <th>std</th>\n",
       "      <td>0.499982</td>\n",
       "      <td>2.608277</td>\n",
       "      <td>7.528943e+03</td>\n",
       "      <td>14.256589</td>\n",
       "    </tr>\n",
       "    <tr>\n",
       "      <th>min</th>\n",
       "      <td>0.000000</td>\n",
       "      <td>0.000000</td>\n",
       "      <td>0.000000e+00</td>\n",
       "      <td>0.000000</td>\n",
       "    </tr>\n",
       "    <tr>\n",
       "      <th>25%</th>\n",
       "      <td>0.000000</td>\n",
       "      <td>3.000000</td>\n",
       "      <td>1.000000e+01</td>\n",
       "      <td>23.000000</td>\n",
       "    </tr>\n",
       "    <tr>\n",
       "      <th>50%</th>\n",
       "      <td>1.000000</td>\n",
       "      <td>4.000000</td>\n",
       "      <td>1.470000e+02</td>\n",
       "      <td>33.000000</td>\n",
       "    </tr>\n",
       "    <tr>\n",
       "      <th>75%</th>\n",
       "      <td>1.000000</td>\n",
       "      <td>6.000000</td>\n",
       "      <td>5.820000e+02</td>\n",
       "      <td>46.000000</td>\n",
       "    </tr>\n",
       "    <tr>\n",
       "      <th>max</th>\n",
       "      <td>1.000000</td>\n",
       "      <td>10.000000</td>\n",
       "      <td>1.584000e+06</td>\n",
       "      <td>105.000000</td>\n",
       "    </tr>\n",
       "  </tbody>\n",
       "</table>\n",
       "</div>"
      ],
      "text/plain": [
       "           at_fault   vehicle_age      distance  insurance_premium\n",
       "count  51413.000000  51413.000000  5.141300e+04       51413.000000\n",
       "mean       0.504833      4.416354  8.751382e+02          35.671075\n",
       "std        0.499982      2.608277  7.528943e+03          14.256589\n",
       "min        0.000000      0.000000  0.000000e+00           0.000000\n",
       "25%        0.000000      3.000000  1.000000e+01          23.000000\n",
       "50%        1.000000      4.000000  1.470000e+02          33.000000\n",
       "75%        1.000000      6.000000  5.820000e+02          46.000000\n",
       "max        1.000000     10.000000  1.584000e+06         105.000000"
      ]
     },
     "execution_count": 649,
     "metadata": {},
     "output_type": "execute_result"
    }
   ],
   "source": [
    "factors_df.describe()"
   ]
  },
  {
   "cell_type": "code",
   "execution_count": 650,
   "id": "40f6a54c",
   "metadata": {},
   "outputs": [
    {
     "data": {
      "text/plain": [
       "at_fault                0\n",
       "party_sobriety          0\n",
       "party_drug_physical     0\n",
       "vehicle_transmission    0\n",
       "road_surface            0\n",
       "vehicle_age             0\n",
       "distance                0\n",
       "insurance_premium       0\n",
       "dtype: int64"
      ]
     },
     "execution_count": 650,
     "metadata": {},
     "output_type": "execute_result"
    }
   ],
   "source": [
    "#Проверка на пропуски в данных\n",
    "factors_df.isna().sum()"
   ]
  },
  {
   "cell_type": "code",
   "execution_count": 651,
   "id": "fc922aff",
   "metadata": {},
   "outputs": [],
   "source": [
    "data = factors_df"
   ]
  },
  {
   "cell_type": "markdown",
   "id": "67f65f65",
   "metadata": {},
   "source": [
    "#### Анализ категориальных и количественных признаков"
   ]
  },
  {
   "cell_type": "code",
   "execution_count": 652,
   "id": "09829f9b",
   "metadata": {},
   "outputs": [
    {
     "data": {
      "image/png": "[encoded data removed]",
      "text/plain": [
       "<Figure size 720x288 with 1 Axes>"
      ]
     },
     "metadata": {},
     "output_type": "display_data"
    }
   ],
   "source": [
    "data['at_fault'].value_counts().plot(y='Виновность',title='Целевой признак: виновность участника в ДТП', kind='barh' , figsize = (10,4), legend = False)\n",
    "plt.ylabel(\"Виновность\");\n",
    "plt.xlabel(\"Количество аварий\");"
   ]
  },
  {
   "cell_type": "markdown",
   "id": "aec9b948",
   "metadata": {},
   "source": [
    "Сильного дисбаланса в категории виновен/не виновен не наблюдаем."
   ]
  },
  {
   "cell_type": "code",
   "execution_count": 653,
   "id": "394e786a",
   "metadata": {},
   "outputs": [
    {
     "data": {
      "image/png": "[encoded data removed]",
      "text/plain": [
       "<Figure size 720x504 with 1 Axes>"
      ]
     },
     "metadata": {},
     "output_type": "display_data"
    },
    {
     "data": {
      "image/png": "[encoded data removed]",
      "text/plain": [
       "<Figure size 720x504 with 1 Axes>"
      ]
     },
     "metadata": {},
     "output_type": "display_data"
    }
   ],
   "source": [
    "data.plot(y='insurance_premium',title='Сумма страховки (тыс. $)', kind='hist' ,bins=50, figsize = (10,7), legend = False)\n",
    "plt.ylabel(\"Частота\");\n",
    "data.plot(y='insurance_premium', kind='box' , figsize = (10,7), legend = False);"
   ]
  },
  {
   "cell_type": "markdown",
   "id": "a655eaf8",
   "metadata": {},
   "source": [
    "Распределение столбца 'insurance_premium' скошено, выбросы есть, но явных аномалий не видно.<br>\n",
    "Среднее значение составило 35,7 тыс. долларов, медиана  составила 33 тыс. долларов"
   ]
  },
  {
   "cell_type": "code",
   "execution_count": 654,
   "id": "a0177bcd",
   "metadata": {},
   "outputs": [
    {
     "data": {
      "image/png": "[encoded data removed]",
      "text/plain": [
       "<Figure size 720x504 with 1 Axes>"
      ]
     },
     "metadata": {},
     "output_type": "display_data"
    },
    {
     "data": {
      "image/png": "[encoded data removed]",
      "text/plain": [
       "<Figure size 720x504 with 1 Axes>"
      ]
     },
     "metadata": {},
     "output_type": "display_data"
    }
   ],
   "source": [
    "data.plot(y='distance',title='Расстояние от главной дороги, м', kind='hist' ,bins=50, figsize = (10,7), legend = False)\n",
    "plt.ylabel(\"Частота\");\n",
    "data.plot(y='distance', kind='box' , figsize = (10,7), legend = False);"
   ]
  },
  {
   "cell_type": "markdown",
   "id": "c70918c3",
   "metadata": {},
   "source": [
    "Посмотрим на выбросы внимательнее и удалим самые большие аномалии."
   ]
  },
  {
   "cell_type": "code",
   "execution_count": 663,
   "id": "9f68e2d3",
   "metadata": {},
   "outputs": [
    {
     "data": {
      "text/html": [
       "<div>\n",
       "<style scoped>\n",
       "    .dataframe tbody tr th:only-of-type {\n",
       "        vertical-align: middle;\n",
       "    }\n",
       "\n",
       "    .dataframe tbody tr th {\n",
       "        vertical-align: top;\n",
       "    }\n",
       "\n",
       "    .dataframe thead th {\n",
       "        text-align: right;\n",
       "    }\n",
       "</style>\n",
       "<table border=\"1\" class=\"dataframe\">\n",
       "  <thead>\n",
       "    <tr style=\"text-align: right;\">\n",
       "      <th></th>\n",
       "      <th>at_fault</th>\n",
       "      <th>party_sobriety</th>\n",
       "      <th>party_drug_physical</th>\n",
       "      <th>vehicle_transmission</th>\n",
       "      <th>road_surface</th>\n",
       "      <th>vehicle_age</th>\n",
       "      <th>distance</th>\n",
       "      <th>insurance_premium</th>\n",
       "    </tr>\n",
       "  </thead>\n",
       "  <tbody>\n",
       "  </tbody>\n",
       "</table>\n",
       "</div>"
      ],
      "text/plain": [
       "Empty DataFrame\n",
       "Columns: [at_fault, party_sobriety, party_drug_physical, vehicle_transmission, road_surface, vehicle_age, distance, insurance_premium]\n",
       "Index: []"
      ]
     },
     "execution_count": 663,
     "metadata": {},
     "output_type": "execute_result"
    }
   ],
   "source": [
    "data[data['distance']>100000]"
   ]
  },
  {
   "cell_type": "code",
   "execution_count": 664,
   "id": "ffd9a25b",
   "metadata": {},
   "outputs": [],
   "source": [
    "data = data[data['distance']<=100000]"
   ]
  },
  {
   "cell_type": "code",
   "execution_count": 665,
   "id": "c2718086",
   "metadata": {},
   "outputs": [
    {
     "data": {
      "image/png": "[encoded data removed]",
      "text/plain": [
       "<Figure size 720x504 with 1 Axes>"
      ]
     },
     "metadata": {},
     "output_type": "display_data"
    },
    {
     "data": {
      "image/png": "[encoded data removed]",
      "text/plain": [
       "<Figure size 720x504 with 1 Axes>"
      ]
     },
     "metadata": {},
     "output_type": "display_data"
    }
   ],
   "source": [
    "data.plot(y='distance',title='Расстояние от главной дороги, м', kind='hist' ,bins=50, figsize = (10,7), legend = False)\n",
    "plt.ylabel(\"Частота\");\n",
    "data.plot(y='distance', kind='box' , figsize = (10,7), legend = False);"
   ]
  },
  {
   "cell_type": "code",
   "execution_count": 666,
   "id": "87336648",
   "metadata": {},
   "outputs": [
    {
     "data": {
      "image/png": "[encoded data removed]",
      "text/plain": [
       "<Figure size 720x288 with 1 Axes>"
      ]
     },
     "metadata": {},
     "output_type": "display_data"
    }
   ],
   "source": [
    "data.pivot_table(index = 'party_sobriety', aggfunc = 'count')['at_fault'].sort_values().plot(y='Трезвость участника',title='Количество аварий в зависимости от трезвости участника', kind='barh' , figsize = (10,4), legend = False)\n",
    "plt.ylabel(\"Трезвость участника\");\n",
    "plt.xlabel(\"Количество аварий\");"
   ]
  },
  {
   "cell_type": "markdown",
   "id": "5d6e417f",
   "metadata": {},
   "source": [
    "Конечно большая часть участников была в трезвом состоянии.<br>\n",
    "Но довольно много, если смотреть в абсолютном значении, под влиянием средств и в нетрезвом состоянии."
   ]
  },
  {
   "cell_type": "code",
   "execution_count": 667,
   "id": "d825e494",
   "metadata": {},
   "outputs": [
    {
     "data": {
      "image/png": "[encoded data removed]",
      "text/plain": [
       "<Figure size 720x288 with 1 Axes>"
      ]
     },
     "metadata": {},
     "output_type": "display_data"
    }
   ],
   "source": [
    "data.pivot_table(index = 'party_drug_physical', aggfunc = 'count')['at_fault'].sort_values().plot(y='Состояние участника',title='Количество аварий в зависимости от состояния участника', kind='barh' , figsize = (10,4), legend = False)\n",
    "plt.ylabel(\"Состояние участника: физическое или с учётом принятых лекарств\");\n",
    "plt.xlabel(\"Количество аварий\");"
   ]
  },
  {
   "cell_type": "markdown",
   "id": "09a6bf9d",
   "metadata": {},
   "source": [
    "В столбце Состояние участника очень много пропусков, но есть и категории: под влиянием лекарств, уставший, физические нарушения"
   ]
  },
  {
   "cell_type": "code",
   "execution_count": 668,
   "id": "055513d8",
   "metadata": {},
   "outputs": [
    {
     "data": {
      "image/png": "[encoded data removed]",
      "text/plain": [
       "<Figure size 720x288 with 1 Axes>"
      ]
     },
     "metadata": {},
     "output_type": "display_data"
    }
   ],
   "source": [
    "data[data['party_drug_physical']!='not applicable'].pivot_table(index = 'party_drug_physical', aggfunc = 'count')['at_fault'].sort_values().plot(y='Состояние участника',title='Количество аварий в зависимости от состояния участника без категории \"не оценено\"', kind='barh' , figsize = (10,4), legend = False)\n",
    "plt.ylabel(\"Состояние участника: физическое или с учётом принятых лекарств\");\n",
    "plt.xlabel(\"Количество аварий\");"
   ]
  },
  {
   "cell_type": "code",
   "execution_count": 671,
   "id": "b864ec22",
   "metadata": {},
   "outputs": [
    {
     "data": {
      "image/png": "[encoded data removed]",
      "text/plain": [
       "<Figure size 720x288 with 1 Axes>"
      ]
     },
     "metadata": {},
     "output_type": "display_data"
    }
   ],
   "source": [
    "data['vehicle_age'].value_counts().sort_values().plot(y='Возраст',title='Количество аварий в разрезе возраста машины', kind='barh' , figsize = (10,4), legend = False)\n",
    "plt.ylabel(\"Возраст машины\");\n",
    "plt.xlabel(\"Количество аварий\");"
   ]
  },
  {
   "cell_type": "code",
   "execution_count": 673,
   "id": "eba7585d",
   "metadata": {},
   "outputs": [
    {
     "data": {
      "image/png": "[encoded data removed]",
      "text/plain": [
       "<Figure size 720x288 with 1 Axes>"
      ]
     },
     "metadata": {},
     "output_type": "display_data"
    }
   ],
   "source": [
    "data['road_surface'].value_counts().sort_values().plot(y='Состояние дороги',title='Количество аварий в зависимости от состояния дороги', kind='barh' , figsize = (10,4), legend = False)\n",
    "plt.ylabel(\"Состояние дороги\");\n",
    "plt.xlabel(\"Количество аварий\");"
   ]
  },
  {
   "cell_type": "code",
   "execution_count": 674,
   "id": "173744d1",
   "metadata": {},
   "outputs": [
    {
     "data": {
      "image/png": "[encoded data removed]",
      "text/plain": [
       "<Figure size 720x288 with 1 Axes>"
      ]
     },
     "metadata": {},
     "output_type": "display_data"
    }
   ],
   "source": [
    "data['vehicle_transmission'].value_counts().sort_values().plot(y='Тип КПП',title='Количество аварий в зависимости от типа КПП', kind='barh' , figsize = (10,4), legend = False)\n",
    "plt.ylabel(\"Тип КПП\");\n",
    "plt.xlabel(\"Количество аварий\");"
   ]
  },
  {
   "cell_type": "markdown",
   "id": "7b1a78bf",
   "metadata": {},
   "source": [
    "Чаще участвуют в авариях автомобили с ручной коробкой передач."
   ]
  },
  {
   "cell_type": "markdown",
   "id": "43dd2cbc",
   "metadata": {},
   "source": [
    "#### Корреляционный анализ"
   ]
  },
  {
   "cell_type": "code",
   "execution_count": 675,
   "id": "47577166",
   "metadata": {},
   "outputs": [
    {
     "data": {
      "image/png": "[encoded data removed]",
      "text/plain": [
       "<Figure size 1080x648 with 2 Axes>"
      ]
     },
     "metadata": {},
     "output_type": "display_data"
    }
   ],
   "source": [
    "fig, ax = plt.subplots(figsize=(15,9));\n",
    "sns.heatmap(data.phik_matrix(interval_cols = ['insuranse_premium', 'vehicle_age', 'distance']), annot=True, cmap='cividis', ax = ax);"
   ]
  },
  {
   "cell_type": "markdown",
   "id": "13d941b8",
   "metadata": {},
   "source": [
    "Мультиколлинеарности не наблюдаем.<br>\n",
    "Прослеживается взаимосвязь виновности в аварии и трезвости водителя, что абсолютно соответствует реальности."
   ]
  },
  {
   "cell_type": "markdown",
   "id": "410e4e1d",
   "metadata": {},
   "source": [
    "#### Выбор лучшей модели"
   ]
  },
  {
   "cell_type": "code",
   "execution_count": 676,
   "id": "97b947bd",
   "metadata": {},
   "outputs": [],
   "source": [
    "RANDOM_STATE = 42\n",
    "TEST_SIZE = 0.25"
   ]
  },
  {
   "cell_type": "code",
   "execution_count": 677,
   "id": "3ddafcf1",
   "metadata": {},
   "outputs": [
    {
     "data": {
      "text/plain": [
       "((38557, 7), (12853, 7))"
      ]
     },
     "execution_count": 677,
     "metadata": {},
     "output_type": "execute_result"
    }
   ],
   "source": [
    "X_train, X_test, y_train, y_test = train_test_split(\n",
    "    data.drop(['at_fault'], axis=1),\n",
    "    data['at_fault'],\n",
    "    test_size = TEST_SIZE, \n",
    "    random_state = RANDOM_STATE,\n",
    "    stratify = data['at_fault'])\n",
    "\n",
    "X_train.shape, X_test.shape"
   ]
  },
  {
   "cell_type": "code",
   "execution_count": 678,
   "id": "e7571cbb",
   "metadata": {},
   "outputs": [
    {
     "name": "stdout",
     "output_type": "stream",
     "text": [
      "<class 'pandas.core.frame.DataFrame'>\n",
      "Int64Index: 38557 entries, 26702 to 3473\n",
      "Data columns (total 7 columns):\n",
      " #   Column                Non-Null Count  Dtype  \n",
      "---  ------                --------------  -----  \n",
      " 0   party_sobriety        38557 non-null  object \n",
      " 1   party_drug_physical   38557 non-null  object \n",
      " 2   vehicle_transmission  38557 non-null  object \n",
      " 3   road_surface          38557 non-null  object \n",
      " 4   vehicle_age           38557 non-null  int64  \n",
      " 5   distance              38557 non-null  float64\n",
      " 6   insurance_premium     38557 non-null  float64\n",
      "dtypes: float64(2), int64(1), object(4)\n",
      "memory usage: 2.4+ MB\n"
     ]
    }
   ],
   "source": [
    "X_train.info()"
   ]
  },
  {
   "cell_type": "markdown",
   "id": "1a9936c7",
   "metadata": {},
   "source": [
    "Кодирование целевого признака применять не нужно, т.к. он принимает значения 0 и 1."
   ]
  },
  {
   "cell_type": "code",
   "execution_count": 679,
   "id": "3595672c",
   "metadata": {},
   "outputs": [],
   "source": [
    "# создаём списки с названиями признаков\n",
    "ohe_columns = ['party_sobriety', 'party_drug_physical', 'vehicle_transmission', 'road_surface']\n",
    "#ord_columns = ['Популярная_категория']\n",
    "num_columns = ['insurance_premium','vehicle_age', 'distance']"
   ]
  },
  {
   "cell_type": "code",
   "execution_count": 680,
   "id": "b9a4a428",
   "metadata": {},
   "outputs": [],
   "source": [
    "# создаём пайплайн для подготовки признаков из списка ohe_columns: заполнение пропусков и OHE-кодирование\n",
    "# SimpleImputer + OHE\n",
    "ohe_pipe = Pipeline(\n",
    "    [('simpleImputer_ohe', SimpleImputer(missing_values=np.nan, strategy='most_frequent')),\n",
    "     ('ohe', OneHotEncoder(handle_unknown='ignore', sparse=False))#drop='first',\n",
    "    ]\n",
    "    )\n",
    "\n",
    "# создаём пайплайн для подготовки признаков из списка ord_columns: заполнение пропусков и Ordinal-кодирование\n",
    "# SimpleImputer + OE\n",
    "ord_pipe = Pipeline(\n",
    "    [('simpleImputer_before_ord', SimpleImputer(missing_values=np.nan, strategy='most_frequent')),\n",
    "     ('ord',  OrdinalEncoder(handle_unknown='use_encoded_value', unknown_value=np.nan\n",
    "            )\n",
    "        ),\n",
    "     ('simpleImputer_after_ord', SimpleImputer(missing_values=np.nan, strategy='most_frequent'))\n",
    "    ]\n",
    ")\n"
   ]
  },
  {
   "cell_type": "markdown",
   "id": "8f9e160b",
   "metadata": {},
   "source": [
    "Качество оцениваем метрикой **ROC_AUC**.<br>\n",
    "<br>\n",
    "ROC_AUC выбрали, т.к.:<br>\n",
    "    - она учитывает работу модели при всех возможных значениях порогов<br>\n",
    "    - объектов с одним значением целевого признака больше, чем с другими."
   ]
  },
  {
   "cell_type": "code",
   "execution_count": 681,
   "id": "94e6ee35",
   "metadata": {},
   "outputs": [
    {
     "name": "stdout",
     "output_type": "stream",
     "text": [
      "Лучшая модель и её параметры:\n",
      "\n",
      " Pipeline(steps=[('preprocessor',\n",
      "                 ColumnTransformer(remainder='passthrough',\n",
      "                                   transformers=[('ohe',\n",
      "                                                  Pipeline(steps=[('simpleImputer_ohe',\n",
      "                                                                   SimpleImputer(strategy='most_frequent')),\n",
      "                                                                  ('ohe',\n",
      "                                                                   OneHotEncoder(handle_unknown='ignore',\n",
      "                                                                                 sparse=False))]),\n",
      "                                                  ['party_sobriety',\n",
      "                                                   'party_drug_physical',\n",
      "                                                   'vehicle_transmission',\n",
      "                                                   'road_surface']),\n",
      "                                                 ('num', StandardScaler(),\n",
      "                                                  ['insurance_premium',\n",
      "                                                   'vehicle_age',\n",
      "                                                   'distance'])])),\n",
      "                ('models',\n",
      "                 LogisticRegression(C=4, penalty='l1', random_state=42,\n",
      "                                    solver='liblinear'))])\n",
      "Метрика лучшей модели на тренировочной выборке: 0.6946858745493302\n",
      "Метрика ROC-AUC на тестовой выборке: 0.6975047171501827\n"
     ]
    }
   ],
   "source": [
    "# создаём общий пайплайн для подготовки данных\n",
    "data_preprocessor = ColumnTransformer(\n",
    "    [('ohe', ohe_pipe, ohe_columns),\n",
    "     #('ord', ord_pipe, ord_columns),\n",
    "     ('num', StandardScaler(), num_columns)\n",
    "    ], \n",
    "    remainder='passthrough'\n",
    ")\n",
    "\n",
    "# создаём итоговый пайплайн: подготовка данных и модель\n",
    "pipe_final = Pipeline([\n",
    "    ('preprocessor', data_preprocessor),\n",
    "    ('models', DecisionTreeClassifier(random_state=RANDOM_STATE))\n",
    "])\n",
    "\n",
    "param_grid = [\n",
    "    # словарь для модели DecisionTreeClassifier()\n",
    "    {\n",
    "        'models': [DecisionTreeClassifier(random_state=RANDOM_STATE)],\n",
    "        'models__max_depth': range(2,5),\n",
    "        'models__max_features': range(2,5),\n",
    "        'preprocessor__num': [StandardScaler(), MinMaxScaler(), 'passthrough']  \n",
    "    },\n",
    "    \n",
    "    # словарь для модели KNeighborsClassifier() \n",
    "    {\n",
    "        'models': [KNeighborsClassifier()],\n",
    "        'models__n_neighbors': range(2,5),\n",
    "        'preprocessor__num': [StandardScaler(), MinMaxScaler(), 'passthrough']   \n",
    "    },\n",
    "\n",
    "    # словарь для модели LogisticRegression()\n",
    "    {\n",
    "        'models': [LogisticRegression(\n",
    "            random_state=RANDOM_STATE, \n",
    "            solver='liblinear', \n",
    "            penalty='l1'\n",
    "        )],\n",
    "        'models__C': range(1,5),\n",
    "        'preprocessor__num': [StandardScaler(), MinMaxScaler(), 'passthrough']  \n",
    "    },\n",
    "    \n",
    "    # словарь для модели SVC()\n",
    "    {\n",
    "        'models': [SVC(\n",
    "            random_state=RANDOM_STATE, probability= True\n",
    "        )],\n",
    "        'models__kernel': ['rbf', 'sigmoid', 'poly'],\n",
    "        'preprocessor__num': [StandardScaler(), MinMaxScaler(), 'passthrough']  \n",
    "    }\n",
    "]\n",
    "\n",
    "randomized_search = RandomizedSearchCV(\n",
    "    pipe_final, \n",
    "    param_grid, \n",
    "    cv=5,\n",
    "    scoring='roc_auc',\n",
    "    random_state=RANDOM_STATE,\n",
    "    n_jobs=-1\n",
    ")\n",
    "randomized_search.fit(X_train, y_train)\n",
    "\n",
    "print('Лучшая модель и её параметры:\\n\\n', randomized_search.best_estimator_)\n",
    "print ('Метрика лучшей модели на тренировочной выборке:', randomized_search.best_score_)\n",
    "\n",
    "# проверьте работу модели на тестовой выборке\n",
    "# рассчитайте прогноз на тестовых данных\n",
    "pred = randomized_search.predict_proba(X_test)\n",
    "pred_one = pred[:,1]\n",
    "y_pred = randomized_search.predict(X_test)\n",
    "print(f'Метрика ROC-AUC на тестовой выборке: {roc_auc_score(y_test, pred_one)}')"
   ]
  },
  {
   "cell_type": "code",
   "execution_count": 682,
   "id": "acffc912",
   "metadata": {},
   "outputs": [
    {
     "data": {
      "text/html": [
       "<div>\n",
       "<style scoped>\n",
       "    .dataframe tbody tr th:only-of-type {\n",
       "        vertical-align: middle;\n",
       "    }\n",
       "\n",
       "    .dataframe tbody tr th {\n",
       "        vertical-align: top;\n",
       "    }\n",
       "\n",
       "    .dataframe thead th {\n",
       "        text-align: right;\n",
       "    }\n",
       "</style>\n",
       "<table border=\"1\" class=\"dataframe\">\n",
       "  <thead>\n",
       "    <tr style=\"text-align: right;\">\n",
       "      <th></th>\n",
       "      <th>rank_test_score</th>\n",
       "      <th>param_models</th>\n",
       "      <th>mean_test_score</th>\n",
       "      <th>params</th>\n",
       "    </tr>\n",
       "  </thead>\n",
       "  <tbody>\n",
       "    <tr>\n",
       "      <th>8</th>\n",
       "      <td>1</td>\n",
       "      <td>LogisticRegression(C=4, penalty='l1', random_s...</td>\n",
       "      <td>0.694686</td>\n",
       "      <td>{'preprocessor__num': StandardScaler(), 'model...</td>\n",
       "    </tr>\n",
       "    <tr>\n",
       "      <th>5</th>\n",
       "      <td>2</td>\n",
       "      <td>SVC(probability=True, random_state=42)</td>\n",
       "      <td>0.693885</td>\n",
       "      <td>{'preprocessor__num': MinMaxScaler(), 'models_...</td>\n",
       "    </tr>\n",
       "    <tr>\n",
       "      <th>4</th>\n",
       "      <td>3</td>\n",
       "      <td>KNeighborsClassifier()</td>\n",
       "      <td>0.649411</td>\n",
       "      <td>{'preprocessor__num': MinMaxScaler(), 'models_...</td>\n",
       "    </tr>\n",
       "    <tr>\n",
       "      <th>7</th>\n",
       "      <td>4</td>\n",
       "      <td>KNeighborsClassifier()</td>\n",
       "      <td>0.636368</td>\n",
       "      <td>{'preprocessor__num': MinMaxScaler(), 'models_...</td>\n",
       "    </tr>\n",
       "    <tr>\n",
       "      <th>2</th>\n",
       "      <td>5</td>\n",
       "      <td>KNeighborsClassifier()</td>\n",
       "      <td>0.634669</td>\n",
       "      <td>{'preprocessor__num': StandardScaler(), 'model...</td>\n",
       "    </tr>\n",
       "    <tr>\n",
       "      <th>6</th>\n",
       "      <td>6</td>\n",
       "      <td>KNeighborsClassifier()</td>\n",
       "      <td>0.616866</td>\n",
       "      <td>{'preprocessor__num': StandardScaler(), 'model...</td>\n",
       "    </tr>\n",
       "    <tr>\n",
       "      <th>3</th>\n",
       "      <td>7</td>\n",
       "      <td>DecisionTreeClassifier(random_state=42)</td>\n",
       "      <td>0.600795</td>\n",
       "      <td>{'preprocessor__num': MinMaxScaler(), 'models_...</td>\n",
       "    </tr>\n",
       "    <tr>\n",
       "      <th>9</th>\n",
       "      <td>7</td>\n",
       "      <td>DecisionTreeClassifier(random_state=42)</td>\n",
       "      <td>0.600795</td>\n",
       "      <td>{'preprocessor__num': StandardScaler(), 'model...</td>\n",
       "    </tr>\n",
       "    <tr>\n",
       "      <th>1</th>\n",
       "      <td>9</td>\n",
       "      <td>DecisionTreeClassifier(random_state=42)</td>\n",
       "      <td>0.595195</td>\n",
       "      <td>{'preprocessor__num': 'passthrough', 'models__...</td>\n",
       "    </tr>\n",
       "    <tr>\n",
       "      <th>0</th>\n",
       "      <td>10</td>\n",
       "      <td>DecisionTreeClassifier(random_state=42)</td>\n",
       "      <td>0.538796</td>\n",
       "      <td>{'preprocessor__num': StandardScaler(), 'model...</td>\n",
       "    </tr>\n",
       "  </tbody>\n",
       "</table>\n",
       "</div>"
      ],
      "text/plain": [
       "   rank_test_score                                       param_models  \\\n",
       "8                1  LogisticRegression(C=4, penalty='l1', random_s...   \n",
       "5                2             SVC(probability=True, random_state=42)   \n",
       "4                3                             KNeighborsClassifier()   \n",
       "7                4                             KNeighborsClassifier()   \n",
       "2                5                             KNeighborsClassifier()   \n",
       "6                6                             KNeighborsClassifier()   \n",
       "3                7            DecisionTreeClassifier(random_state=42)   \n",
       "9                7            DecisionTreeClassifier(random_state=42)   \n",
       "1                9            DecisionTreeClassifier(random_state=42)   \n",
       "0               10            DecisionTreeClassifier(random_state=42)   \n",
       "\n",
       "   mean_test_score                                             params  \n",
       "8         0.694686  {'preprocessor__num': StandardScaler(), 'model...  \n",
       "5         0.693885  {'preprocessor__num': MinMaxScaler(), 'models_...  \n",
       "4         0.649411  {'preprocessor__num': MinMaxScaler(), 'models_...  \n",
       "7         0.636368  {'preprocessor__num': MinMaxScaler(), 'models_...  \n",
       "2         0.634669  {'preprocessor__num': StandardScaler(), 'model...  \n",
       "6         0.616866  {'preprocessor__num': StandardScaler(), 'model...  \n",
       "3         0.600795  {'preprocessor__num': MinMaxScaler(), 'models_...  \n",
       "9         0.600795  {'preprocessor__num': StandardScaler(), 'model...  \n",
       "1         0.595195  {'preprocessor__num': 'passthrough', 'models__...  \n",
       "0         0.538796  {'preprocessor__num': StandardScaler(), 'model...  "
      ]
     },
     "metadata": {},
     "output_type": "display_data"
    }
   ],
   "source": [
    "# pd.set_option('display.max_colwidth', None)\n",
    "result = pd.DataFrame(randomized_search.cv_results_)\n",
    "display(result[\n",
    "    ['rank_test_score', 'param_models', 'mean_test_score','params']\n",
    "].sort_values('rank_test_score'));"
   ]
  },
  {
   "cell_type": "markdown",
   "id": "d0218b80",
   "metadata": {},
   "source": [
    "К данным применили методы масштабирования и кодирования(OneHotEncoder).<br>\n",
    "Применяли модели:<br>\n",
    "    - KNeighborsClassifier с параметром n_neighbors<br>\n",
    "    - DecisionTreeClassifier с параметрами max_depth, max_features<br>\n",
    "    - LogisticRegression с параметром C<br>\n",
    "    - SVC с параметром kernel<br>\n",
    "Использовали RandomizedSearchCV для подбора гиперпараметров моделей.<br>\n",
    "<br>\n",
    "Качество оценивали метрикой ROC_AUC.<br>\n",
    "<br>\n",
    "ROC_AUC выбрали, т.к.:<br>\n",
    "    - она учитывает работу модели при всех возможных значениях порогов<br>\n",
    "    - объектов с одним значением целевого признака больше, чем с другими."
   ]
  },
  {
   "cell_type": "markdown",
   "id": "958ff28c",
   "metadata": {},
   "source": [
    "Наилучшей оказалась модель **логистической регрессии** с параметрами: C=4 и penalty=l1."
   ]
  },
  {
   "cell_type": "markdown",
   "id": "be8848ce",
   "metadata": {},
   "source": [
    "#### Проверка лучшей модели в работе"
   ]
  },
  {
   "cell_type": "markdown",
   "id": "8631c370",
   "metadata": {},
   "source": [
    "Построим график Матрица ошибок."
   ]
  },
  {
   "cell_type": "code",
   "execution_count": 683,
   "id": "d7118097",
   "metadata": {},
   "outputs": [
    {
     "data": {
      "image/png": "[encoded data removed]",
      "text/plain": [
       "<Figure size 432x288 with 2 Axes>"
      ]
     },
     "metadata": {},
     "output_type": "display_data"
    }
   ],
   "source": [
    "conf_matrix = confusion_matrix(y_test, y_pred)\n",
    "best_model = randomized_search.best_estimator_\n",
    "# Визуализация матрицы ошибок\n",
    "disp = ConfusionMatrixDisplay(confusion_matrix=conf_matrix, display_labels=best_model.classes_)\n",
    "disp.plot(cmap='Blues', values_format='d')\n",
    "plt.title('Матрица ошибок')\n",
    "plt.show()"
   ]
  },
  {
   "cell_type": "markdown",
   "id": "340251be",
   "metadata": {},
   "source": [
    "Матрица ошибок учитывает все предсказанные значения.<br>\n",
    "Есть и ошибки первого рода, и второго."
   ]
  },
  {
   "cell_type": "markdown",
   "id": "2af02077",
   "metadata": {},
   "source": [
    "Проведем анализ важности признаков"
   ]
  },
  {
   "cell_type": "code",
   "execution_count": 684,
   "id": "9ece756b",
   "metadata": {},
   "outputs": [],
   "source": [
    "feature_names = randomized_search.best_estimator_.named_steps['preprocessor'].transformers_[0][1].named_steps['ohe'].get_feature_names().tolist()+num_columns"
   ]
  },
  {
   "cell_type": "code",
   "execution_count": 685,
   "id": "e0b77c43",
   "metadata": {},
   "outputs": [
    {
     "name": "stdout",
     "output_type": "stream",
     "text": [
      "['x0_had been drinking, impairment unknown', 'x0_had been drinking, not under influence', 'x0_had been drinking, under influence', 'x0_had not been drinking', 'x0_impairment unknown', 'x0_not applicable', 'x1_impairment - physical', 'x1_not applicable', 'x1_sleepy/fatigued', 'x1_under drug influence', 'x2_auto', 'x2_manual', 'x2_unknown', 'x3_dry', 'x3_slippery', 'x3_snowy', 'x3_unknown', 'x3_wet', 'insurance_premium', 'vehicle_age', 'distance']\n"
     ]
    }
   ],
   "source": [
    "print(feature_names)"
   ]
  },
  {
   "cell_type": "code",
   "execution_count": 686,
   "id": "324665ed",
   "metadata": {},
   "outputs": [],
   "source": [
    "data_preprocessor.fit(X_train, y_train)\n",
    "X_train_p = pd.DataFrame(data_preprocessor.transform(X_train), columns = feature_names)\n",
    "# выводим предсказанные значения тренировочной выборки\n",
    "X_test_p = pd.DataFrame(data_preprocessor.transform(X_test), columns = feature_names)"
   ]
  },
  {
   "cell_type": "code",
   "execution_count": 687,
   "id": "468ca151",
   "metadata": {},
   "outputs": [
    {
     "data": {
      "text/plain": [
       "LogisticRegression(C=4, penalty='l1', random_state=42, solver='liblinear')"
      ]
     },
     "execution_count": 687,
     "metadata": {},
     "output_type": "execute_result"
    }
   ],
   "source": [
    "randomized_search.best_estimator_.named_steps['models'].fit(X_train_p, y_train)"
   ]
  },
  {
   "cell_type": "markdown",
   "id": "7e5dc664",
   "metadata": {},
   "source": [
    "Оценим вклад признаков модели с помощью функции permutation_importance."
   ]
  },
  {
   "cell_type": "code",
   "execution_count": 688,
   "id": "b9cab65b",
   "metadata": {},
   "outputs": [
    {
     "data": {
      "image/png": "[encoded data removed]",
      "text/plain": [
       "<Figure size 720x432 with 1 Axes>"
      ]
     },
     "metadata": {},
     "output_type": "display_data"
    }
   ],
   "source": [
    "from sklearn.utils import resample\n",
    "\n",
    "# Сэмплирование 1% тестовых данных\n",
    "X_test_sample, y_test_sample = resample(X_test, y_test, n_samples=int(len(X_test) * 0.01), random_state=42)\n",
    "\n",
    "# Трансформация тестовых данных\n",
    "X_test_sample_transformed = randomized_search.best_estimator_.named_steps['preprocessor'].transform(X_test_sample)\n",
    "\n",
    "# Расчёт permutation importance\n",
    "result = permutation_importance(\n",
    "    randomized_search.best_estimator_.named_steps['models'], \n",
    "    X_test_sample_transformed, y_test_sample, \n",
    "    scoring='roc_auc', n_repeats=5, n_jobs=-1\n",
    ")\n",
    "\n",
    "# Сортировка признаков по важности\n",
    "feature_importance = pd.DataFrame({\n",
    "    'Feature': feature_names,\n",
    "    'Importance': result.importances_mean\n",
    "}).sort_values('Importance', ascending=False)\n",
    "\n",
    "# Построение графика\n",
    "plt.figure(figsize=(10, 6))\n",
    "sns.barplot(x='Importance', y='Feature', data=feature_importance)\n",
    "plt.title('Feature Importance')\n",
    "plt.show()"
   ]
  },
  {
   "cell_type": "markdown",
   "id": "cbcf510d",
   "metadata": {},
   "source": [
    "Важными факторами являются:<br>\n",
    "    - страховка, т.к. чаще регистрируют ДТП<br> \n",
    "    - пьяный/трезвый водитель<br>\n",
    "    - воздействие средств/лекарств<br>\n",
    "    - сонное состояние, усталость<br>\n",
    "    - тип КПП<br>\n",
    "    - расстояние от главной дороги<br>\n",
    "    - возраст машины<br>\n",
    "    "
   ]
  },
  {
   "cell_type": "markdown",
   "id": "787ea2f4",
   "metadata": {},
   "source": [
    "Изучим влияние одного из факторов - **сонного состояния/усталости**."
   ]
  },
  {
   "cell_type": "code",
   "execution_count": 689,
   "id": "f576d00c",
   "metadata": {},
   "outputs": [
    {
     "data": {
      "image/png": "[encoded data removed]",
      "text/plain": [
       "<Figure size 720x288 with 1 Axes>"
      ]
     },
     "metadata": {},
     "output_type": "display_data"
    }
   ],
   "source": [
    "data[data['party_drug_physical']=='sleepy/fatigued']['at_fault'].value_counts().plot(y='Усталость/сонное состояние водителя',title='Количество аварий в зависимости от усталости/сонного состояния участника', kind='barh' , figsize = (10,4), legend = False)\n",
    "plt.ylabel(\"Усталость/сонное состояние участника\");\n",
    "plt.xlabel(\"Количество аварий\");"
   ]
  },
  {
   "cell_type": "markdown",
   "id": "f7a7a220",
   "metadata": {},
   "source": [
    "Видим, что в преобладающем большинстве случаев усталость и сонное состояние водителя приводит к авариям."
   ]
  },
  {
   "cell_type": "markdown",
   "id": "958ef82b",
   "metadata": {},
   "source": [
    "Для обнаружения такого состояния есть следующие устройства, которые можно внедрить в автомобиль:<br>\n",
    "    - камеры с анализом лица<br>\n",
    "    - устройства, измеряющие сердцебиение и стрессовое состояние водителя<br>\n",
    "    - системы на основе датчиков в авто: сравнивают предыдущее вождение с нынешним, контролируют выход из полосы и странное поведение на дорогах<br>\n",
    "    - мобильные приложения на смартфонах: отслеживает активность глаз."
   ]
  },
  {
   "cell_type": "markdown",
   "id": "258fbb12",
   "metadata": {},
   "source": [
    "## Выводы"
   ]
  },
  {
   "cell_type": "markdown",
   "id": "51390c3e",
   "metadata": {},
   "source": [
    "### Общий анализ данных:<br>\n",
    "Были изучены данные о ДТП.<br>\n",
    "Данные содержат общую информацию о ДТП и об участниках ДТП, о пострадавших транспортных средствах.<br>\n",
    "Целью исследования было:<br>\n",
    "создать систему, которая могла бы оценить риск ДТП по выбранному маршруту движения. Под риском понимается вероятность ДТП с любым повреждением транспортного средства.<br>\n",
    "Заказчиком выступила каршеринговая компания.\n",
    "\n",
    "\n",
    "### Предобработка данных:\n",
    "Были проанализированы 4 таблицы из БД, в них заменены неявные дубликаты и заполнены пропуски.<br>\n",
    "В данных о клиентах магазина не было обнаружено явных дубликатов, неявные дубликаты скорректированы.<br>\n",
    "Всего получилось 1 400 000 ДТП.\n",
    "\n",
    "\n",
    "### Статистический анализ факторов ДТП:\n",
    "Проанализировали **количество аварий**:<br>\n",
    "В связи с тем, что данных, начиная с середины 2012 года, стало гораздо меньше, для анализа отобрали данные до 2012 года.<br>\n",
    "Пики аварий приходятся на октябрь,  март и декабрь.<br>\n",
    "Сильный всплеск значений в октябре возможно связан с первым снегом, гололедом на дорогах, когда не все участники движения успели переобуться.<br>\n",
    "<br>\n",
    "Составили **задачи для совещания рабочей группы**:\n",
    "1. Выясните, в какое время суток происходит больше всего аварий.<br>\n",
    "2. Проанализируйте, какие типы аварий бывают. Какую часть от всех происшествий на дороге составляют серьезные происшествия, а какую часть царапины, мелкие повреждения?<br>\n",
    "3. При каких погодных условиях чаще всего возникают ДТП? Влияет ли погода на серьезность повреждения транспортного средства?<br>\n",
    "4. Несет ли риск вождение \"возрастного автомобиля\"?<br>\n",
    "5. Какая доля аварий происходит из-за использования телефона?<br>\n",
    "6. Выяснить географию аварий: в каких странах, на каких типах дорог чаще всего происходят ДТП?<br>\n",
    "<br>\n",
    "\n",
    "\n",
    "Решили задачу **несет ли риски вождение возрастного автомобиля**<br>\n",
    "Самая большая доля фатальных повреждений приходится на возрастные автомобили, которым более 15 лет.<br>\n",
    "Т.е. определенный риск есть.<br>\n",
    "Также большая доля \"малых повреждений\".<br>\n",
    "У машин в категории 11-15 лет самая большая доля средних повреждений.\n",
    "\n",
    "### Модель для оценки водительского риска:\n",
    "Подготовили набор данных на основе первичного предположения заказчика:<br>\n",
    "    - Выбрали тип виновника — только машина (car).<br>\n",
    "    - Взяли случаи, когда ДТП привело к любым значимым повреждениям автомобиля любого из участников — все, кроме типа SCRATCH (царапина).<br>\n",
    "    - Для моделирования взяли данные только за 2012 год.<br>\n",
    "    - Отобрали машины не старше 10 лет<br>\n",
    "    \n",
    "Отобрали факторы. Для построения модели точно понадобятся:<br>\n",
    "    - party_sobriety, т.е. трезвость участника<br>\n",
    "    - party_drug_physical, т.е. состояние участника: физическое или с учётом принятых лекарств<br>\n",
    "    - vehicle_age, т.е. возраст автомобиля (могут быть какие-то скрытые поломки, дефекты, что-то вышло из строя)<br>\n",
    "    - road_surface, т.е. состояние дороги (т.к. на скользкой дороге машину может занести и водитель не справится с управлением)<br>\n",
    "Также проверили факторы vehicle_transmission (тип КПП), insurance_premium (страховка) - это скорее фактор, как часто регистрируется ДТП, distance (расстояние от главной дороги).<br>\n",
    "\n",
    "Произвели статистический анализ факторов. Явных аномалий выявлено не было (кроме колонки distance). Мультиколлинеартности не наблюдаем. Прослеживается связь между виновностью в аварии и фактором \"трезвость водителя\".\n",
    "    \n",
    "### Выбор лучшей модели:\n",
    "К данным применили методы масштабирования и кодирования(OneHotEncoder).<br>\n",
    "Применяли модели:<br>\n",
    "    - KNeighborsClassifier с параметром n_neighbors<br>\n",
    "    - DecisionTreeClassifier с параметрами max_depth, max_features<br>\n",
    "    - LogisticRegression с параметром C<br>\n",
    "    - SVC с параметром kernel<br>\n",
    "Использовали RandomizedSearchCV для подбора гиперпараметров моделей.<br>\n",
    "<br>\n",
    "Качество оценивали метрикой ROC_AUC.<br>\n",
    "<br>\n",
    "ROC_AUC выбрали, т.к.:<br>\n",
    "    - она учитывает работу модели при всех возможных значениях порогов<br>\n",
    "    - объектов с одним значением целевого признака больше, чем с другими.\n",
    "    \n",
    "Наилучшей оказалась модель **логистической регресии** с параметрами C=4, penalty = l1. Метрика roc_auc на тестовой выборке составила 0,6975.\n",
    "\n",
    "### Анализ важности признаков:\n",
    "Важными факторами являются:<br>\n",
    "    - пьяный/трезвый водитель<br>\n",
    "    - воздействие средств/лекарств<br>\n",
    "    - сонное состояние, усталость<br>\n",
    "    - тип КПП<br>\n",
    "    - расстояние от главной дороги<br>\n",
    "    - возраст машины<br>\n",
    "\n",
    "Проанализируем один из факторов.<br>\n",
    "Видим, что в преобладающем большинстве случаев усталость и сонное состояние водителя приводит к авариям.\n",
    "\n",
    "Для обнаружения такого состояния есть следующие устройства, которые можно внедрить в автомобиль:<br>\n",
    "    - камеры с анализом лица<br>\n",
    "    - устройства, измеряющие сердцебиение и стрессовое состояние водителя<br>\n",
    "    - системы на основе датчиков в авто: сравнивают предыдущее вождение с нынешним, контролируют выход из полосы и странное поведение на дорогах<br>\n",
    "    - мобильные приложения на смартфонах: отслеживает активность глаз.\n",
    "    \n",
    "### Выводы:\n",
    "Построили модель, которая оценивает риски стать виновным в ДТП.<br>\n",
    "Модель дала метрику 0,6975 на тестовой выборке. <br>\n",
    "Риски зависят от состояния водителя (пьяный/трезвый, воздействие вредств/лекарств, сонное состояние/усталость), от возраста машины, от отдаленности от главной дороги.<br>\n",
    "Какие-то факторы можно отслеживать при выдаче авто, например, физическое состояние водителя. Это можно сделать при помощи камеры и специальных устройств. И позволит снизить риск ДТП.<br>\n",
    "Для улучшения модели можно попробовать объединить некоторые категории в признаках, поработать/комбинировать/создать новые признаки.\n"
   ]
  },
  {
   "cell_type": "code",
   "execution_count": null,
   "id": "110f9fce",
   "metadata": {},
   "outputs": [],
   "source": []
  }
 ],
 "metadata": {
  "ExecuteTimeLog": [
   {
    "duration": 3115,
    "start_time": "2024-11-21T12:48:29.383Z"
   },
   {
    "duration": 2789,
    "start_time": "2024-11-21T12:48:43.152Z"
   },
   {
    "duration": 1054,
    "start_time": "2024-11-21T12:49:14.787Z"
   },
   {
    "duration": 3,
    "start_time": "2024-11-21T12:49:46.021Z"
   },
   {
    "duration": 3,
    "start_time": "2024-11-21T12:50:13.751Z"
   },
   {
    "duration": 7065,
    "start_time": "2024-11-21T12:50:26.853Z"
   },
   {
    "duration": 4,
    "start_time": "2024-11-21T12:54:48.659Z"
   },
   {
    "duration": 17791,
    "start_time": "2024-11-21T12:55:26.096Z"
   },
   {
    "duration": 30,
    "start_time": "2024-11-21T12:55:58.579Z"
   },
   {
    "duration": 3,
    "start_time": "2024-11-21T12:57:45.726Z"
   },
   {
    "duration": 2,
    "start_time": "2024-11-21T12:58:15.754Z"
   },
   {
    "duration": 2,
    "start_time": "2024-11-21T12:59:05.974Z"
   },
   {
    "duration": 88,
    "start_time": "2024-11-21T13:00:56.977Z"
   },
   {
    "duration": 2,
    "start_time": "2024-11-21T13:01:07.047Z"
   },
   {
    "duration": 58,
    "start_time": "2024-11-21T13:01:32.585Z"
   },
   {
    "duration": 2674,
    "start_time": "2024-11-21T13:01:38.196Z"
   },
   {
    "duration": 785,
    "start_time": "2024-11-21T13:01:40.872Z"
   },
   {
    "duration": 3,
    "start_time": "2024-11-21T13:01:41.659Z"
   },
   {
    "duration": 3,
    "start_time": "2024-11-21T13:01:41.669Z"
   },
   {
    "duration": 7843,
    "start_time": "2024-11-21T13:01:41.675Z"
   },
   {
    "duration": 2,
    "start_time": "2024-11-21T13:01:49.520Z"
   },
   {
    "duration": 24,
    "start_time": "2024-11-21T13:01:49.524Z"
   },
   {
    "duration": 14,
    "start_time": "2024-11-21T13:01:49.550Z"
   },
   {
    "duration": 2,
    "start_time": "2024-11-21T13:01:49.566Z"
   },
   {
    "duration": 38081,
    "start_time": "2024-11-21T13:01:55.652Z"
   },
   {
    "duration": 25,
    "start_time": "2024-11-21T13:02:38.760Z"
   },
   {
    "duration": 12,
    "start_time": "2024-11-21T13:02:52.304Z"
   },
   {
    "duration": 10,
    "start_time": "2024-11-21T13:03:23.429Z"
   },
   {
    "duration": 8,
    "start_time": "2024-11-21T13:03:43.482Z"
   },
   {
    "duration": 4,
    "start_time": "2024-11-21T13:09:53.051Z"
   },
   {
    "duration": 3,
    "start_time": "2024-11-21T13:10:48.488Z"
   },
   {
    "duration": 3,
    "start_time": "2024-11-21T13:10:54.039Z"
   },
   {
    "duration": 19486,
    "start_time": "2024-11-21T13:11:26.181Z"
   },
   {
    "duration": 4,
    "start_time": "2024-11-21T13:12:07.862Z"
   },
   {
    "duration": 6224,
    "start_time": "2024-11-21T13:12:35.984Z"
   },
   {
    "duration": 4,
    "start_time": "2024-11-21T13:13:29.492Z"
   },
   {
    "duration": 4,
    "start_time": "2024-11-21T13:13:30.080Z"
   },
   {
    "duration": 3,
    "start_time": "2024-11-21T13:13:30.612Z"
   },
   {
    "duration": 5,
    "start_time": "2024-11-21T13:13:33.366Z"
   },
   {
    "duration": 2,
    "start_time": "2024-11-21T13:13:33.852Z"
   },
   {
    "duration": 3,
    "start_time": "2024-11-21T13:13:34.326Z"
   },
   {
    "duration": 3,
    "start_time": "2024-11-21T13:13:34.666Z"
   },
   {
    "duration": 3,
    "start_time": "2024-11-21T13:13:35.049Z"
   },
   {
    "duration": 8,
    "start_time": "2024-11-21T13:13:41.758Z"
   },
   {
    "duration": 5796,
    "start_time": "2024-11-21T13:13:50.911Z"
   },
   {
    "duration": 824,
    "start_time": "2024-11-21T13:13:56.709Z"
   },
   {
    "duration": 5,
    "start_time": "2024-11-21T13:13:57.534Z"
   },
   {
    "duration": 14,
    "start_time": "2024-11-21T13:13:57.540Z"
   },
   {
    "duration": 7880,
    "start_time": "2024-11-21T13:13:57.556Z"
   },
   {
    "duration": 3,
    "start_time": "2024-11-21T13:14:05.438Z"
   },
   {
    "duration": 26,
    "start_time": "2024-11-21T13:14:05.442Z"
   },
   {
    "duration": 16,
    "start_time": "2024-11-21T13:14:05.470Z"
   },
   {
    "duration": 13,
    "start_time": "2024-11-21T13:14:12.468Z"
   },
   {
    "duration": 16302,
    "start_time": "2024-11-21T20:45:04.192Z"
   },
   {
    "duration": 865,
    "start_time": "2024-11-21T20:45:20.497Z"
   },
   {
    "duration": 6,
    "start_time": "2024-11-21T20:45:21.364Z"
   },
   {
    "duration": 18,
    "start_time": "2024-11-21T20:45:21.372Z"
   },
   {
    "duration": 6883,
    "start_time": "2024-11-21T20:45:21.392Z"
   },
   {
    "duration": 2,
    "start_time": "2024-11-21T20:45:28.277Z"
   },
   {
    "duration": 15,
    "start_time": "2024-11-21T20:45:28.281Z"
   },
   {
    "duration": 2,
    "start_time": "2024-11-21T20:45:28.298Z"
   },
   {
    "duration": 2,
    "start_time": "2024-11-21T20:45:48.106Z"
   },
   {
    "duration": 34469,
    "start_time": "2024-11-21T20:45:49.853Z"
   },
   {
    "duration": 23,
    "start_time": "2024-11-21T20:46:34.161Z"
   },
   {
    "duration": 11,
    "start_time": "2024-11-21T20:46:35.500Z"
   },
   {
    "duration": 9,
    "start_time": "2024-11-21T20:46:36.285Z"
   },
   {
    "duration": 7,
    "start_time": "2024-11-21T20:46:36.820Z"
   },
   {
    "duration": 6,
    "start_time": "2024-11-21T20:46:40.583Z"
   },
   {
    "duration": 55,
    "start_time": "2024-11-21T20:47:34.280Z"
   },
   {
    "duration": 77,
    "start_time": "2024-11-21T20:48:57.696Z"
   },
   {
    "duration": 60,
    "start_time": "2024-11-21T20:49:25.167Z"
   },
   {
    "duration": 5047,
    "start_time": "2024-11-21T20:49:30.128Z"
   },
   {
    "duration": 711,
    "start_time": "2024-11-21T20:49:35.178Z"
   },
   {
    "duration": 4,
    "start_time": "2024-11-21T20:49:35.890Z"
   },
   {
    "duration": 18,
    "start_time": "2024-11-21T20:49:35.896Z"
   },
   {
    "duration": 6169,
    "start_time": "2024-11-21T20:49:35.917Z"
   },
   {
    "duration": 3,
    "start_time": "2024-11-21T20:49:42.087Z"
   },
   {
    "duration": 41,
    "start_time": "2024-11-21T20:49:42.091Z"
   },
   {
    "duration": 11,
    "start_time": "2024-11-21T20:49:42.134Z"
   },
   {
    "duration": 4,
    "start_time": "2024-11-21T20:49:42.146Z"
   },
   {
    "duration": 33585,
    "start_time": "2024-11-21T20:49:42.151Z"
   },
   {
    "duration": 21,
    "start_time": "2024-11-21T20:50:15.737Z"
   },
   {
    "duration": 10,
    "start_time": "2024-11-21T20:50:15.770Z"
   },
   {
    "duration": 13,
    "start_time": "2024-11-21T20:50:15.781Z"
   },
   {
    "duration": 17,
    "start_time": "2024-11-21T20:50:52.084Z"
   },
   {
    "duration": 3,
    "start_time": "2024-11-21T20:53:38.418Z"
   },
   {
    "duration": 111,
    "start_time": "2024-11-21T20:54:13.963Z"
   },
   {
    "duration": 3,
    "start_time": "2024-11-21T20:54:31.040Z"
   },
   {
    "duration": 99,
    "start_time": "2024-11-21T20:54:32.106Z"
   },
   {
    "duration": 100,
    "start_time": "2024-11-21T20:54:36.498Z"
   },
   {
    "duration": 5,
    "start_time": "2024-11-21T20:54:51.808Z"
   },
   {
    "duration": 3,
    "start_time": "2024-11-21T20:55:39.302Z"
   },
   {
    "duration": 99,
    "start_time": "2024-11-21T20:55:40.018Z"
   },
   {
    "duration": 5,
    "start_time": "2024-11-21T20:55:40.930Z"
   },
   {
    "duration": 3,
    "start_time": "2024-11-21T20:56:36.791Z"
   },
   {
    "duration": 250,
    "start_time": "2024-11-21T20:56:37.284Z"
   },
   {
    "duration": 6,
    "start_time": "2024-11-21T20:56:37.708Z"
   },
   {
    "duration": 2,
    "start_time": "2024-11-21T20:57:38.784Z"
   },
   {
    "duration": 246,
    "start_time": "2024-11-21T20:57:39.980Z"
   },
   {
    "duration": 5,
    "start_time": "2024-11-21T20:57:41.082Z"
   },
   {
    "duration": 3,
    "start_time": "2024-11-21T21:15:13.446Z"
   },
   {
    "duration": 3,
    "start_time": "2024-11-21T21:15:33.739Z"
   },
   {
    "duration": 76,
    "start_time": "2024-11-21T21:16:16.357Z"
   },
   {
    "duration": 2,
    "start_time": "2024-11-21T21:16:42.225Z"
   },
   {
    "duration": 7,
    "start_time": "2024-11-21T21:16:42.980Z"
   },
   {
    "duration": 8,
    "start_time": "2024-11-21T21:16:54.164Z"
   },
   {
    "duration": 3,
    "start_time": "2024-11-21T21:17:12.665Z"
   },
   {
    "duration": 9,
    "start_time": "2024-11-21T21:17:13.799Z"
   },
   {
    "duration": 2,
    "start_time": "2024-11-21T21:18:15.164Z"
   },
   {
    "duration": 10,
    "start_time": "2024-11-21T21:18:16.072Z"
   },
   {
    "duration": 3,
    "start_time": "2024-11-21T21:18:30.560Z"
   },
   {
    "duration": 31,
    "start_time": "2024-11-21T21:18:31.548Z"
   },
   {
    "duration": 2,
    "start_time": "2024-11-21T21:19:04.368Z"
   },
   {
    "duration": 12,
    "start_time": "2024-11-21T21:19:13.219Z"
   },
   {
    "duration": 3,
    "start_time": "2024-11-21T21:19:29.127Z"
   },
   {
    "duration": 18,
    "start_time": "2024-11-21T21:19:39.282Z"
   },
   {
    "duration": 3,
    "start_time": "2024-11-21T21:20:19.619Z"
   },
   {
    "duration": 16,
    "start_time": "2024-11-21T21:20:20.380Z"
   },
   {
    "duration": 7,
    "start_time": "2024-11-21T21:20:31.217Z"
   },
   {
    "duration": 2,
    "start_time": "2024-11-21T21:20:36.202Z"
   },
   {
    "duration": 3,
    "start_time": "2024-11-21T21:20:52.193Z"
   },
   {
    "duration": 11,
    "start_time": "2024-11-21T21:20:52.978Z"
   },
   {
    "duration": 2,
    "start_time": "2024-11-21T21:21:16.776Z"
   },
   {
    "duration": 3,
    "start_time": "2024-11-21T21:21:33.294Z"
   },
   {
    "duration": 93,
    "start_time": "2024-11-21T21:21:34.094Z"
   },
   {
    "duration": 3,
    "start_time": "2024-11-21T21:21:58.090Z"
   },
   {
    "duration": 13,
    "start_time": "2024-11-21T21:21:59.688Z"
   },
   {
    "duration": 16900,
    "start_time": "2024-11-23T13:20:26.400Z"
   },
   {
    "duration": 887,
    "start_time": "2024-11-23T13:20:43.302Z"
   },
   {
    "duration": 3,
    "start_time": "2024-11-23T13:20:44.191Z"
   },
   {
    "duration": 20,
    "start_time": "2024-11-23T13:20:44.196Z"
   },
   {
    "duration": 7160,
    "start_time": "2024-11-23T13:20:44.218Z"
   },
   {
    "duration": 2,
    "start_time": "2024-11-23T13:20:51.380Z"
   },
   {
    "duration": 7,
    "start_time": "2024-11-23T13:20:51.384Z"
   },
   {
    "duration": 72,
    "start_time": "2024-11-23T13:20:51.393Z"
   },
   {
    "duration": 2,
    "start_time": "2024-11-23T13:21:13.936Z"
   },
   {
    "duration": 34602,
    "start_time": "2024-11-23T13:21:14.969Z"
   },
   {
    "duration": 22,
    "start_time": "2024-11-23T13:22:04.056Z"
   },
   {
    "duration": 3,
    "start_time": "2024-11-23T13:24:02.484Z"
   },
   {
    "duration": 61,
    "start_time": "2024-11-23T13:24:11.214Z"
   },
   {
    "duration": 123,
    "start_time": "2024-11-23T13:26:15.040Z"
   },
   {
    "duration": 49,
    "start_time": "2024-11-23T13:31:13.744Z"
   },
   {
    "duration": 60,
    "start_time": "2024-11-23T13:32:48.098Z"
   },
   {
    "duration": 4,
    "start_time": "2024-11-23T13:33:04.388Z"
   },
   {
    "duration": 4,
    "start_time": "2024-11-23T13:33:06.970Z"
   },
   {
    "duration": 3,
    "start_time": "2024-11-23T13:33:20.105Z"
   },
   {
    "duration": 3,
    "start_time": "2024-11-23T13:35:07.717Z"
   },
   {
    "duration": 3,
    "start_time": "2024-11-23T13:35:33.193Z"
   },
   {
    "duration": 5,
    "start_time": "2024-11-23T13:36:24.420Z"
   },
   {
    "duration": 4,
    "start_time": "2024-11-23T13:37:06.296Z"
   },
   {
    "duration": 2,
    "start_time": "2024-11-23T13:37:07.239Z"
   },
   {
    "duration": 8,
    "start_time": "2024-11-23T13:37:08.236Z"
   },
   {
    "duration": 4,
    "start_time": "2024-11-23T13:37:22.630Z"
   },
   {
    "duration": 3,
    "start_time": "2024-11-23T13:37:24.442Z"
   },
   {
    "duration": 2,
    "start_time": "2024-11-23T13:41:53.592Z"
   },
   {
    "duration": 8,
    "start_time": "2024-11-23T13:42:05.298Z"
   },
   {
    "duration": 42,
    "start_time": "2024-11-23T13:42:07.422Z"
   },
   {
    "duration": 4998,
    "start_time": "2024-11-23T13:42:26.660Z"
   },
   {
    "duration": 712,
    "start_time": "2024-11-23T13:42:31.661Z"
   },
   {
    "duration": 3,
    "start_time": "2024-11-23T13:42:32.375Z"
   },
   {
    "duration": 6,
    "start_time": "2024-11-23T13:42:32.379Z"
   },
   {
    "duration": 6452,
    "start_time": "2024-11-23T13:42:32.387Z"
   },
   {
    "duration": 3,
    "start_time": "2024-11-23T13:42:38.840Z"
   },
   {
    "duration": 4,
    "start_time": "2024-11-23T13:42:38.844Z"
   },
   {
    "duration": 2,
    "start_time": "2024-11-23T13:42:38.850Z"
   },
   {
    "duration": 3,
    "start_time": "2024-11-23T13:42:47.755Z"
   },
   {
    "duration": 15753,
    "start_time": "2024-11-23T13:42:50.262Z"
   },
   {
    "duration": 2,
    "start_time": "2024-11-23T13:45:18.900Z"
   },
   {
    "duration": 1147,
    "start_time": "2024-11-23T13:45:20.299Z"
   },
   {
    "duration": 10,
    "start_time": "2024-11-23T13:45:28.271Z"
   },
   {
    "duration": 3,
    "start_time": "2024-11-23T13:45:54.040Z"
   },
   {
    "duration": 6,
    "start_time": "2024-11-23T13:45:54.971Z"
   },
   {
    "duration": 7,
    "start_time": "2024-11-23T13:45:58.345Z"
   },
   {
    "duration": 3,
    "start_time": "2024-11-23T13:46:57.891Z"
   },
   {
    "duration": 104,
    "start_time": "2024-11-23T13:46:58.893Z"
   },
   {
    "duration": 3,
    "start_time": "2024-11-23T13:47:10.886Z"
   },
   {
    "duration": 74,
    "start_time": "2024-11-23T13:47:12.044Z"
   },
   {
    "duration": 2,
    "start_time": "2024-11-23T13:47:22.245Z"
   },
   {
    "duration": 3901,
    "start_time": "2024-11-23T13:47:23.140Z"
   },
   {
    "duration": 3,
    "start_time": "2024-11-23T13:47:32.196Z"
   },
   {
    "duration": 1509,
    "start_time": "2024-11-23T13:47:33.250Z"
   },
   {
    "duration": 7,
    "start_time": "2024-11-23T13:47:35.580Z"
   },
   {
    "duration": 2,
    "start_time": "2024-11-23T13:49:50.218Z"
   },
   {
    "duration": 5,
    "start_time": "2024-11-23T13:49:51.168Z"
   },
   {
    "duration": 7,
    "start_time": "2024-11-23T13:49:52.019Z"
   },
   {
    "duration": 3,
    "start_time": "2024-11-23T13:50:00.183Z"
   },
   {
    "duration": 5,
    "start_time": "2024-11-23T13:50:00.887Z"
   },
   {
    "duration": 9,
    "start_time": "2024-11-23T13:50:01.466Z"
   },
   {
    "duration": 3,
    "start_time": "2024-11-23T13:50:18.440Z"
   },
   {
    "duration": 2362,
    "start_time": "2024-11-23T13:50:19.037Z"
   },
   {
    "duration": 6,
    "start_time": "2024-11-23T13:50:21.401Z"
   },
   {
    "duration": 3,
    "start_time": "2024-11-23T13:50:49.759Z"
   },
   {
    "duration": 241,
    "start_time": "2024-11-23T13:50:52.323Z"
   },
   {
    "duration": 6,
    "start_time": "2024-11-23T13:50:54.653Z"
   },
   {
    "duration": 536,
    "start_time": "2024-11-23T14:00:02.010Z"
   },
   {
    "duration": 366,
    "start_time": "2024-11-23T14:01:34.923Z"
   },
   {
    "duration": 324,
    "start_time": "2024-11-23T14:01:59.471Z"
   },
   {
    "duration": 302,
    "start_time": "2024-11-23T14:02:19.952Z"
   },
   {
    "duration": 193,
    "start_time": "2024-11-23T14:02:41.563Z"
   },
   {
    "duration": 202,
    "start_time": "2024-11-23T14:15:41.236Z"
   },
   {
    "duration": 201,
    "start_time": "2024-11-23T14:16:21.702Z"
   },
   {
    "duration": 250,
    "start_time": "2024-11-23T14:16:50.029Z"
   },
   {
    "duration": 192,
    "start_time": "2024-11-23T14:16:56.600Z"
   },
   {
    "duration": 202,
    "start_time": "2024-11-23T14:19:09.665Z"
   },
   {
    "duration": 216,
    "start_time": "2024-11-23T14:19:54.614Z"
   },
   {
    "duration": 226,
    "start_time": "2024-11-23T14:20:24.110Z"
   },
   {
    "duration": 205,
    "start_time": "2024-11-23T14:22:02.267Z"
   },
   {
    "duration": 2,
    "start_time": "2024-11-23T14:30:45.478Z"
   },
   {
    "duration": 79,
    "start_time": "2024-11-23T14:31:03.782Z"
   },
   {
    "duration": 2,
    "start_time": "2024-11-23T14:31:18.612Z"
   },
   {
    "duration": 309,
    "start_time": "2024-11-23T14:31:20.053Z"
   },
   {
    "duration": 9,
    "start_time": "2024-11-23T14:31:34.728Z"
   },
   {
    "duration": 2,
    "start_time": "2024-11-23T14:31:57.287Z"
   },
   {
    "duration": 308,
    "start_time": "2024-11-23T14:31:58.025Z"
   },
   {
    "duration": 9,
    "start_time": "2024-11-23T14:31:58.918Z"
   },
   {
    "duration": 2063,
    "start_time": "2024-11-23T14:32:24.092Z"
   },
   {
    "duration": 218,
    "start_time": "2024-11-23T14:32:44.316Z"
   },
   {
    "duration": 18761,
    "start_time": "2024-11-25T10:46:35.181Z"
   },
   {
    "duration": 1570,
    "start_time": "2024-11-25T10:46:56.809Z"
   },
   {
    "duration": 3,
    "start_time": "2024-11-25T10:47:04.031Z"
   },
   {
    "duration": 3,
    "start_time": "2024-11-25T10:47:04.887Z"
   },
   {
    "duration": 4,
    "start_time": "2024-11-25T10:47:21.731Z"
   },
   {
    "duration": 109,
    "start_time": "2024-11-25T10:47:25.430Z"
   },
   {
    "duration": 7184,
    "start_time": "2024-11-25T10:47:33.921Z"
   },
   {
    "duration": 3,
    "start_time": "2024-11-25T10:47:51.140Z"
   },
   {
    "duration": 694,
    "start_time": "2024-11-25T10:47:52.555Z"
   },
   {
    "duration": 13,
    "start_time": "2024-11-25T10:47:54.491Z"
   },
   {
    "duration": 4,
    "start_time": "2024-11-25T10:51:15.138Z"
   },
   {
    "duration": 1346,
    "start_time": "2024-11-25T10:51:16.691Z"
   },
   {
    "duration": 10,
    "start_time": "2024-11-25T10:51:18.262Z"
   },
   {
    "duration": 3,
    "start_time": "2024-11-25T10:55:32.376Z"
   },
   {
    "duration": 128,
    "start_time": "2024-11-25T10:56:02.120Z"
   },
   {
    "duration": 4,
    "start_time": "2024-11-25T10:56:11.305Z"
   },
   {
    "duration": 142,
    "start_time": "2024-11-25T10:56:12.740Z"
   },
   {
    "duration": 10,
    "start_time": "2024-11-25T10:56:21.699Z"
   },
   {
    "duration": 3,
    "start_time": "2024-11-25T10:57:08.219Z"
   },
   {
    "duration": 138,
    "start_time": "2024-11-25T10:57:12.840Z"
   },
   {
    "duration": 8,
    "start_time": "2024-11-25T10:57:17.368Z"
   },
   {
    "duration": 3,
    "start_time": "2024-11-25T10:58:24.273Z"
   },
   {
    "duration": 526,
    "start_time": "2024-11-25T10:58:25.990Z"
   },
   {
    "duration": 12,
    "start_time": "2024-11-25T10:58:26.737Z"
   },
   {
    "duration": 3,
    "start_time": "2024-11-25T10:58:29.197Z"
   },
   {
    "duration": 137,
    "start_time": "2024-11-25T10:58:30.440Z"
   },
   {
    "duration": 8,
    "start_time": "2024-11-25T10:58:31.529Z"
   },
   {
    "duration": 3,
    "start_time": "2024-11-25T10:59:09.638Z"
   },
   {
    "duration": 140,
    "start_time": "2024-11-25T10:59:10.352Z"
   },
   {
    "duration": 8,
    "start_time": "2024-11-25T10:59:11.152Z"
   },
   {
    "duration": 3,
    "start_time": "2024-11-25T11:00:52.075Z"
   },
   {
    "duration": 125,
    "start_time": "2024-11-25T11:01:15.179Z"
   },
   {
    "duration": 3,
    "start_time": "2024-11-25T11:01:53.046Z"
   },
   {
    "duration": 148,
    "start_time": "2024-11-25T11:01:54.481Z"
   },
   {
    "duration": 4,
    "start_time": "2024-11-25T11:03:33.811Z"
   },
   {
    "duration": 123,
    "start_time": "2024-11-25T11:03:34.664Z"
   },
   {
    "duration": 2,
    "start_time": "2024-11-25T11:03:44.613Z"
   },
   {
    "duration": 129,
    "start_time": "2024-11-25T11:03:46.140Z"
   },
   {
    "duration": 3,
    "start_time": "2024-11-25T11:03:59.593Z"
   },
   {
    "duration": 147,
    "start_time": "2024-11-25T11:04:01.453Z"
   },
   {
    "duration": 3,
    "start_time": "2024-11-25T11:06:28.694Z"
   },
   {
    "duration": 142,
    "start_time": "2024-11-25T11:06:29.476Z"
   },
   {
    "duration": 3,
    "start_time": "2024-11-25T11:06:51.269Z"
   },
   {
    "duration": 11589,
    "start_time": "2024-11-25T11:06:52.476Z"
   },
   {
    "duration": 3,
    "start_time": "2024-11-25T11:07:55.887Z"
   },
   {
    "duration": 117,
    "start_time": "2024-11-25T11:07:57.330Z"
   },
   {
    "duration": 3,
    "start_time": "2024-11-25T11:08:56.623Z"
   },
   {
    "duration": 578,
    "start_time": "2024-11-25T11:08:57.426Z"
   },
   {
    "duration": 11,
    "start_time": "2024-11-25T11:09:00.015Z"
   },
   {
    "duration": 3,
    "start_time": "2024-11-25T11:10:48.560Z"
   },
   {
    "duration": 118,
    "start_time": "2024-11-25T11:10:50.123Z"
   },
   {
    "duration": 3,
    "start_time": "2024-11-25T11:13:50.956Z"
   },
   {
    "duration": 528,
    "start_time": "2024-11-25T11:13:52.185Z"
   },
   {
    "duration": 10,
    "start_time": "2024-11-25T11:13:54.149Z"
   },
   {
    "duration": 3,
    "start_time": "2024-11-25T11:14:46.650Z"
   },
   {
    "duration": 126,
    "start_time": "2024-11-25T11:14:47.646Z"
   },
   {
    "duration": 3,
    "start_time": "2024-11-25T11:16:53.539Z"
   },
   {
    "duration": 141,
    "start_time": "2024-11-25T11:16:54.624Z"
   },
   {
    "duration": 3,
    "start_time": "2024-11-25T11:17:23.075Z"
   },
   {
    "duration": 5397,
    "start_time": "2024-11-25T11:17:23.774Z"
   },
   {
    "duration": 9,
    "start_time": "2024-11-25T11:17:29.173Z"
   },
   {
    "duration": 3,
    "start_time": "2024-11-25T11:19:48.181Z"
   },
   {
    "duration": 3625,
    "start_time": "2024-11-25T11:19:49.058Z"
   },
   {
    "duration": 0,
    "start_time": "2024-11-25T11:19:52.684Z"
   },
   {
    "duration": 3,
    "start_time": "2024-11-25T11:20:10.653Z"
   },
   {
    "duration": 4972,
    "start_time": "2024-11-25T11:20:11.697Z"
   },
   {
    "duration": 11,
    "start_time": "2024-11-25T11:20:16.671Z"
   },
   {
    "duration": 3,
    "start_time": "2024-11-25T11:20:39.489Z"
   },
   {
    "duration": 4875,
    "start_time": "2024-11-25T11:20:40.370Z"
   },
   {
    "duration": 11,
    "start_time": "2024-11-25T11:20:45.247Z"
   },
   {
    "duration": 4,
    "start_time": "2024-11-25T11:21:35.763Z"
   },
   {
    "duration": 4719,
    "start_time": "2024-11-25T11:21:36.597Z"
   },
   {
    "duration": 12,
    "start_time": "2024-11-25T11:21:41.318Z"
   },
   {
    "duration": 20,
    "start_time": "2024-11-25T11:25:24.937Z"
   },
   {
    "duration": 525,
    "start_time": "2024-11-25T11:25:39.508Z"
   },
   {
    "duration": 468,
    "start_time": "2024-11-25T11:26:33.884Z"
   },
   {
    "duration": 465,
    "start_time": "2024-11-25T11:27:28.223Z"
   },
   {
    "duration": 17,
    "start_time": "2024-11-25T11:29:35.064Z"
   },
   {
    "duration": 455,
    "start_time": "2024-11-25T11:29:52.833Z"
   },
   {
    "duration": 447,
    "start_time": "2024-11-25T11:30:25.829Z"
   },
   {
    "duration": 442,
    "start_time": "2024-11-25T11:30:56.933Z"
   },
   {
    "duration": 63,
    "start_time": "2024-11-25T11:46:31.000Z"
   },
   {
    "duration": 17209,
    "start_time": "2024-11-25T12:59:37.905Z"
   },
   {
    "duration": 1459,
    "start_time": "2024-11-25T12:59:57.678Z"
   },
   {
    "duration": 4,
    "start_time": "2024-11-25T13:00:00.520Z"
   },
   {
    "duration": 3,
    "start_time": "2024-11-25T13:00:04.720Z"
   },
   {
    "duration": 7290,
    "start_time": "2024-11-25T13:00:11.297Z"
   },
   {
    "duration": 3,
    "start_time": "2024-11-25T13:08:52.355Z"
   },
   {
    "duration": 4294,
    "start_time": "2024-11-25T13:09:31.745Z"
   },
   {
    "duration": 9,
    "start_time": "2024-11-25T13:09:50.062Z"
   },
   {
    "duration": 3,
    "start_time": "2024-11-25T13:11:36.847Z"
   },
   {
    "duration": 2733,
    "start_time": "2024-11-25T13:11:37.919Z"
   },
   {
    "duration": 5,
    "start_time": "2024-11-25T13:11:42.263Z"
   },
   {
    "duration": 57,
    "start_time": "2024-11-26T08:24:16.496Z"
   },
   {
    "duration": 17748,
    "start_time": "2024-11-26T08:24:25.627Z"
   },
   {
    "duration": 1410,
    "start_time": "2024-11-26T08:24:43.377Z"
   },
   {
    "duration": 4,
    "start_time": "2024-11-26T08:24:44.788Z"
   },
   {
    "duration": 51,
    "start_time": "2024-11-26T08:24:44.793Z"
   },
   {
    "duration": 6535,
    "start_time": "2024-11-26T08:24:44.850Z"
   },
   {
    "duration": 3,
    "start_time": "2024-11-26T08:25:42.065Z"
   },
   {
    "duration": 12003,
    "start_time": "2024-11-26T08:25:45.754Z"
   },
   {
    "duration": 33,
    "start_time": "2024-11-26T08:25:59.961Z"
   },
   {
    "duration": 3,
    "start_time": "2024-11-26T08:27:55.974Z"
   },
   {
    "duration": 491,
    "start_time": "2024-11-26T08:28:10.229Z"
   },
   {
    "duration": 6,
    "start_time": "2024-11-26T08:28:17.919Z"
   },
   {
    "duration": 2,
    "start_time": "2024-11-26T08:29:06.564Z"
   },
   {
    "duration": 3901,
    "start_time": "2024-11-26T08:29:22.434Z"
   },
   {
    "duration": 9,
    "start_time": "2024-11-26T08:29:30.371Z"
   },
   {
    "duration": 4,
    "start_time": "2024-11-26T08:32:11.473Z"
   },
   {
    "duration": 185,
    "start_time": "2024-11-26T08:32:26.243Z"
   },
   {
    "duration": 3,
    "start_time": "2024-11-26T08:32:43.427Z"
   },
   {
    "duration": 83,
    "start_time": "2024-11-26T08:32:44.297Z"
   },
   {
    "duration": 3,
    "start_time": "2024-11-26T08:33:23.114Z"
   },
   {
    "duration": 101,
    "start_time": "2024-11-26T08:33:24.003Z"
   },
   {
    "duration": 3,
    "start_time": "2024-11-26T08:33:43.396Z"
   },
   {
    "duration": 109,
    "start_time": "2024-11-26T08:33:44.656Z"
   },
   {
    "duration": 2,
    "start_time": "2024-11-26T08:34:04.415Z"
   },
   {
    "duration": 91,
    "start_time": "2024-11-26T08:34:06.144Z"
   },
   {
    "duration": 9,
    "start_time": "2024-11-26T08:34:50.542Z"
   },
   {
    "duration": 96,
    "start_time": "2024-11-26T08:34:50.890Z"
   },
   {
    "duration": 3,
    "start_time": "2024-11-26T08:35:45.613Z"
   },
   {
    "duration": 88,
    "start_time": "2024-11-26T08:35:46.034Z"
   },
   {
    "duration": 2,
    "start_time": "2024-11-26T08:36:12.267Z"
   },
   {
    "duration": 490,
    "start_time": "2024-11-26T08:36:12.572Z"
   },
   {
    "duration": 3,
    "start_time": "2024-11-26T08:36:55.479Z"
   },
   {
    "duration": 107,
    "start_time": "2024-11-26T08:36:56.655Z"
   },
   {
    "duration": 3,
    "start_time": "2024-11-26T08:38:25.115Z"
   },
   {
    "duration": 169,
    "start_time": "2024-11-26T08:38:26.159Z"
   },
   {
    "duration": 3,
    "start_time": "2024-11-26T08:40:24.871Z"
   },
   {
    "duration": 83,
    "start_time": "2024-11-26T08:40:44.529Z"
   },
   {
    "duration": 2,
    "start_time": "2024-11-26T08:41:22.092Z"
   },
   {
    "duration": 114,
    "start_time": "2024-11-26T08:41:23.689Z"
   },
   {
    "duration": 2,
    "start_time": "2024-11-26T08:42:17.025Z"
   },
   {
    "duration": 2,
    "start_time": "2024-11-26T08:42:18.361Z"
   },
   {
    "duration": 2,
    "start_time": "2024-11-26T08:42:19.243Z"
   },
   {
    "duration": 2,
    "start_time": "2024-11-26T08:42:20.139Z"
   },
   {
    "duration": 7,
    "start_time": "2024-11-26T08:43:31.595Z"
   },
   {
    "duration": 47,
    "start_time": "2024-11-26T08:43:33.644Z"
   },
   {
    "duration": 5391,
    "start_time": "2024-11-26T08:43:46.802Z"
   },
   {
    "duration": 1339,
    "start_time": "2024-11-26T08:43:54.455Z"
   },
   {
    "duration": 2,
    "start_time": "2024-11-26T08:43:56.539Z"
   },
   {
    "duration": 3,
    "start_time": "2024-11-26T08:43:57.504Z"
   },
   {
    "duration": 7238,
    "start_time": "2024-11-26T08:43:58.590Z"
   },
   {
    "duration": 3,
    "start_time": "2024-11-26T08:44:08.777Z"
   },
   {
    "duration": 3,
    "start_time": "2024-11-26T08:44:09.537Z"
   },
   {
    "duration": 3,
    "start_time": "2024-11-26T08:44:10.456Z"
   },
   {
    "duration": 3,
    "start_time": "2024-11-26T08:44:11.409Z"
   },
   {
    "duration": 37383,
    "start_time": "2024-11-26T08:44:12.889Z"
   },
   {
    "duration": 11,
    "start_time": "2024-11-26T08:45:09.762Z"
   },
   {
    "duration": 14,
    "start_time": "2024-11-26T08:45:38.241Z"
   },
   {
    "duration": 159,
    "start_time": "2024-11-26T08:45:39.640Z"
   },
   {
    "duration": 3,
    "start_time": "2024-11-26T08:47:46.617Z"
   },
   {
    "duration": 3,
    "start_time": "2024-11-26T08:50:54.864Z"
   },
   {
    "duration": 494,
    "start_time": "2024-11-26T08:50:55.822Z"
   },
   {
    "duration": 12,
    "start_time": "2024-11-26T08:50:57.002Z"
   },
   {
    "duration": 13,
    "start_time": "2024-11-26T08:54:15.085Z"
   },
   {
    "duration": 150,
    "start_time": "2024-11-26T08:54:40.614Z"
   },
   {
    "duration": 15,
    "start_time": "2024-11-26T08:55:26.770Z"
   },
   {
    "duration": 5,
    "start_time": "2024-11-26T08:55:41.512Z"
   },
   {
    "duration": 9,
    "start_time": "2024-11-26T08:55:53.296Z"
   },
   {
    "duration": 5,
    "start_time": "2024-11-26T08:56:02.434Z"
   },
   {
    "duration": 14,
    "start_time": "2024-11-26T08:56:15.702Z"
   },
   {
    "duration": 13,
    "start_time": "2024-11-26T08:56:31.038Z"
   },
   {
    "duration": 102,
    "start_time": "2024-11-26T08:56:49.226Z"
   },
   {
    "duration": 100,
    "start_time": "2024-11-26T08:57:06.231Z"
   },
   {
    "duration": 162,
    "start_time": "2024-11-26T08:57:20.536Z"
   },
   {
    "duration": 98,
    "start_time": "2024-11-26T08:57:26.704Z"
   },
   {
    "duration": 98,
    "start_time": "2024-11-26T08:57:41.003Z"
   },
   {
    "duration": 108,
    "start_time": "2024-11-26T08:57:55.622Z"
   },
   {
    "duration": 116,
    "start_time": "2024-11-26T08:58:16.841Z"
   },
   {
    "duration": 97,
    "start_time": "2024-11-26T08:58:28.199Z"
   },
   {
    "duration": 97,
    "start_time": "2024-11-26T08:59:27.682Z"
   },
   {
    "duration": 115,
    "start_time": "2024-11-26T09:26:04.759Z"
   },
   {
    "duration": 15,
    "start_time": "2024-11-26T09:26:45.255Z"
   },
   {
    "duration": 132,
    "start_time": "2024-11-26T09:27:24.175Z"
   },
   {
    "duration": 135,
    "start_time": "2024-11-26T09:28:21.375Z"
   },
   {
    "duration": 4,
    "start_time": "2024-11-26T10:03:26.624Z"
   },
   {
    "duration": 495,
    "start_time": "2024-11-26T10:03:27.740Z"
   },
   {
    "duration": 14,
    "start_time": "2024-11-26T10:03:29.247Z"
   },
   {
    "duration": 3,
    "start_time": "2024-11-26T10:06:52.928Z"
   },
   {
    "duration": 52,
    "start_time": "2024-11-26T10:07:31.786Z"
   },
   {
    "duration": 5498,
    "start_time": "2024-11-26T10:07:44.073Z"
   },
   {
    "duration": 1284,
    "start_time": "2024-11-26T10:07:51.590Z"
   },
   {
    "duration": 3,
    "start_time": "2024-11-26T10:07:53.880Z"
   },
   {
    "duration": 3,
    "start_time": "2024-11-26T10:07:55.704Z"
   },
   {
    "duration": 7033,
    "start_time": "2024-11-26T10:07:57.193Z"
   },
   {
    "duration": 3,
    "start_time": "2024-11-26T10:08:12.756Z"
   },
   {
    "duration": 12927,
    "start_time": "2024-11-26T10:08:15.043Z"
   },
   {
    "duration": 21,
    "start_time": "2024-11-26T10:08:31.313Z"
   },
   {
    "duration": 3,
    "start_time": "2024-11-26T10:08:56.645Z"
   },
   {
    "duration": 10650,
    "start_time": "2024-11-26T10:08:57.856Z"
   },
   {
    "duration": 19,
    "start_time": "2024-11-26T10:09:23.066Z"
   },
   {
    "duration": 2,
    "start_time": "2024-11-26T10:10:36.894Z"
   },
   {
    "duration": 75,
    "start_time": "2024-11-26T10:11:12.752Z"
   },
   {
    "duration": 5602,
    "start_time": "2024-11-26T10:11:49.114Z"
   },
   {
    "duration": 1281,
    "start_time": "2024-11-26T10:11:56.497Z"
   },
   {
    "duration": 4,
    "start_time": "2024-11-26T10:12:00.816Z"
   },
   {
    "duration": 2,
    "start_time": "2024-11-26T10:12:02.002Z"
   },
   {
    "duration": 7014,
    "start_time": "2024-11-26T10:12:03.906Z"
   },
   {
    "duration": 9,
    "start_time": "2024-11-26T10:12:21.944Z"
   },
   {
    "duration": 13340,
    "start_time": "2024-11-26T10:12:24.117Z"
   },
   {
    "duration": 926,
    "start_time": "2024-11-26T10:12:39.077Z"
   },
   {
    "duration": 3,
    "start_time": "2024-11-26T10:14:09.734Z"
   },
   {
    "duration": 10839,
    "start_time": "2024-11-26T10:14:10.923Z"
   },
   {
    "duration": 637,
    "start_time": "2024-11-26T10:14:21.764Z"
   },
   {
    "duration": 3,
    "start_time": "2024-11-26T10:16:47.820Z"
   },
   {
    "duration": 1327,
    "start_time": "2024-11-26T10:16:49.126Z"
   },
   {
    "duration": 17,
    "start_time": "2024-11-26T10:16:56.479Z"
   },
   {
    "duration": 3,
    "start_time": "2024-11-26T10:28:48.863Z"
   },
   {
    "duration": 11,
    "start_time": "2024-11-26T10:29:12.729Z"
   },
   {
    "duration": 10,
    "start_time": "2024-11-26T10:29:22.829Z"
   },
   {
    "duration": 31,
    "start_time": "2024-11-26T10:29:55.294Z"
   },
   {
    "duration": 30,
    "start_time": "2024-11-26T10:39:45.627Z"
   },
   {
    "duration": 23,
    "start_time": "2024-11-26T10:40:00.681Z"
   },
   {
    "duration": 70,
    "start_time": "2024-11-26T10:44:11.589Z"
   },
   {
    "duration": 48,
    "start_time": "2024-11-26T10:51:35.476Z"
   },
   {
    "duration": 16,
    "start_time": "2024-11-26T10:54:28.466Z"
   },
   {
    "duration": 43,
    "start_time": "2024-11-26T10:59:13.640Z"
   },
   {
    "duration": 39,
    "start_time": "2024-11-26T10:59:53.635Z"
   },
   {
    "duration": 52,
    "start_time": "2024-11-26T11:00:10.246Z"
   },
   {
    "duration": 16,
    "start_time": "2024-11-26T11:00:20.376Z"
   },
   {
    "duration": 18,
    "start_time": "2024-11-26T11:01:13.393Z"
   },
   {
    "duration": 30,
    "start_time": "2024-11-26T11:01:16.900Z"
   },
   {
    "duration": 26,
    "start_time": "2024-11-26T11:03:46.599Z"
   },
   {
    "duration": 31,
    "start_time": "2024-11-26T11:03:54.996Z"
   },
   {
    "duration": 33,
    "start_time": "2024-11-26T11:04:45.130Z"
   },
   {
    "duration": 28,
    "start_time": "2024-11-26T11:04:47.783Z"
   },
   {
    "duration": 79,
    "start_time": "2024-11-26T11:05:15.858Z"
   },
   {
    "duration": 19,
    "start_time": "2024-11-26T11:05:27.757Z"
   },
   {
    "duration": 25,
    "start_time": "2024-11-26T11:05:29.061Z"
   },
   {
    "duration": 17,
    "start_time": "2024-11-26T11:06:10.044Z"
   },
   {
    "duration": 6,
    "start_time": "2024-11-26T11:06:41.330Z"
   },
   {
    "duration": 11,
    "start_time": "2024-11-26T11:07:05.924Z"
   },
   {
    "duration": 42,
    "start_time": "2024-11-26T11:08:45.865Z"
   },
   {
    "duration": 4,
    "start_time": "2024-11-26T11:10:39.483Z"
   },
   {
    "duration": 419,
    "start_time": "2024-11-26T11:10:40.163Z"
   },
   {
    "duration": 356,
    "start_time": "2024-11-26T11:11:21.664Z"
   },
   {
    "duration": 1207,
    "start_time": "2024-11-26T11:16:29.366Z"
   },
   {
    "duration": 248,
    "start_time": "2024-11-26T11:16:52.592Z"
   },
   {
    "duration": 18952,
    "start_time": "2024-11-26T12:57:23.817Z"
   },
   {
    "duration": 1599,
    "start_time": "2024-11-26T12:57:45.274Z"
   },
   {
    "duration": 3,
    "start_time": "2024-11-26T12:57:47.852Z"
   },
   {
    "duration": 3,
    "start_time": "2024-11-26T12:57:49.157Z"
   },
   {
    "duration": 6911,
    "start_time": "2024-11-26T12:57:53.450Z"
   },
   {
    "duration": 3,
    "start_time": "2024-11-26T12:58:52.878Z"
   },
   {
    "duration": 1836,
    "start_time": "2024-11-26T12:58:54.882Z"
   },
   {
    "duration": 27,
    "start_time": "2024-11-26T12:58:57.963Z"
   },
   {
    "duration": 2,
    "start_time": "2024-11-26T12:59:00.664Z"
   },
   {
    "duration": 9,
    "start_time": "2024-11-26T12:59:01.858Z"
   },
   {
    "duration": 10,
    "start_time": "2024-11-26T12:59:03.067Z"
   },
   {
    "duration": 41,
    "start_time": "2024-11-26T12:59:04.503Z"
   },
   {
    "duration": 23,
    "start_time": "2024-11-26T12:59:11.146Z"
   },
   {
    "duration": 35,
    "start_time": "2024-11-26T12:59:11.851Z"
   },
   {
    "duration": 27,
    "start_time": "2024-11-26T12:59:12.861Z"
   },
   {
    "duration": 28,
    "start_time": "2024-11-26T12:59:13.271Z"
   },
   {
    "duration": 15,
    "start_time": "2024-11-26T12:59:16.944Z"
   },
   {
    "duration": 43,
    "start_time": "2024-11-26T12:59:18.820Z"
   },
   {
    "duration": 19,
    "start_time": "2024-11-26T12:59:19.465Z"
   },
   {
    "duration": 25,
    "start_time": "2024-11-26T12:59:20.132Z"
   },
   {
    "duration": 8,
    "start_time": "2024-11-26T12:59:20.980Z"
   },
   {
    "duration": 5,
    "start_time": "2024-11-26T12:59:22.035Z"
   },
   {
    "duration": 8,
    "start_time": "2024-11-26T12:59:22.487Z"
   },
   {
    "duration": 40,
    "start_time": "2024-11-26T12:59:24.169Z"
   },
   {
    "duration": 3,
    "start_time": "2024-11-26T12:59:25.502Z"
   },
   {
    "duration": 404,
    "start_time": "2024-11-26T12:59:26.725Z"
   },
   {
    "duration": 213,
    "start_time": "2024-11-26T12:59:28.211Z"
   },
   {
    "duration": 216,
    "start_time": "2024-11-26T12:59:48.702Z"
   },
   {
    "duration": 217,
    "start_time": "2024-11-26T13:03:54.494Z"
   },
   {
    "duration": 57,
    "start_time": "2024-11-26T13:03:55.536Z"
   },
   {
    "duration": 244,
    "start_time": "2024-11-26T13:05:45.861Z"
   },
   {
    "duration": 185,
    "start_time": "2024-11-26T13:41:02.154Z"
   },
   {
    "duration": 184,
    "start_time": "2024-11-26T13:41:41.954Z"
   },
   {
    "duration": 1334,
    "start_time": "2024-11-26T13:42:52.980Z"
   },
   {
    "duration": 1114,
    "start_time": "2024-11-26T13:43:07.516Z"
   },
   {
    "duration": 26,
    "start_time": "2024-11-26T13:43:36.452Z"
   },
   {
    "duration": 140,
    "start_time": "2024-11-26T13:44:21.646Z"
   },
   {
    "duration": 124,
    "start_time": "2024-11-26T13:45:53.503Z"
   },
   {
    "duration": 139,
    "start_time": "2024-11-26T13:47:20.891Z"
   },
   {
    "duration": 168,
    "start_time": "2024-11-26T13:48:32.766Z"
   },
   {
    "duration": 145,
    "start_time": "2024-11-26T13:48:52.397Z"
   },
   {
    "duration": 2,
    "start_time": "2024-11-26T13:49:47.922Z"
   },
   {
    "duration": 160,
    "start_time": "2024-11-26T13:51:49.081Z"
   },
   {
    "duration": 9112,
    "start_time": "2024-11-26T13:52:12.328Z"
   },
   {
    "duration": 88,
    "start_time": "2024-11-26T13:52:26.024Z"
   },
   {
    "duration": 543,
    "start_time": "2024-11-26T13:52:35.245Z"
   },
   {
    "duration": 3,
    "start_time": "2024-11-26T13:59:48.539Z"
   },
   {
    "duration": 424,
    "start_time": "2024-11-26T14:01:50.344Z"
   },
   {
    "duration": 118,
    "start_time": "2024-11-26T14:02:00.874Z"
   },
   {
    "duration": 24375,
    "start_time": "2024-11-26T20:19:47.743Z"
   },
   {
    "duration": 1885,
    "start_time": "2024-11-26T20:20:12.121Z"
   },
   {
    "duration": 3,
    "start_time": "2024-11-26T20:20:14.008Z"
   },
   {
    "duration": 16,
    "start_time": "2024-11-26T20:20:14.013Z"
   },
   {
    "duration": 6671,
    "start_time": "2024-11-26T20:20:14.032Z"
   },
   {
    "duration": 13,
    "start_time": "2024-11-26T20:21:40.519Z"
   },
   {
    "duration": 1612,
    "start_time": "2024-11-26T20:21:41.359Z"
   },
   {
    "duration": 24,
    "start_time": "2024-11-26T20:21:43.049Z"
   },
   {
    "duration": 3,
    "start_time": "2024-11-26T20:22:19.456Z"
   },
   {
    "duration": 9,
    "start_time": "2024-11-26T20:22:20.083Z"
   },
   {
    "duration": 10,
    "start_time": "2024-11-26T20:22:20.667Z"
   },
   {
    "duration": 45,
    "start_time": "2024-11-26T20:22:21.173Z"
   },
   {
    "duration": 23,
    "start_time": "2024-11-26T20:22:21.640Z"
   },
   {
    "duration": 42,
    "start_time": "2024-11-26T20:22:22.089Z"
   },
   {
    "duration": 36,
    "start_time": "2024-11-26T20:22:22.921Z"
   },
   {
    "duration": 30,
    "start_time": "2024-11-26T20:22:23.359Z"
   },
   {
    "duration": 17,
    "start_time": "2024-11-26T20:22:23.984Z"
   },
   {
    "duration": 65,
    "start_time": "2024-11-26T20:22:24.923Z"
   },
   {
    "duration": 29,
    "start_time": "2024-11-26T20:22:25.409Z"
   },
   {
    "duration": 28,
    "start_time": "2024-11-26T20:22:25.951Z"
   },
   {
    "duration": 8,
    "start_time": "2024-11-26T20:22:26.402Z"
   },
   {
    "duration": 6,
    "start_time": "2024-11-26T20:22:27.567Z"
   },
   {
    "duration": 8,
    "start_time": "2024-11-26T20:22:28.203Z"
   },
   {
    "duration": 48,
    "start_time": "2024-11-26T20:22:28.788Z"
   },
   {
    "duration": 3,
    "start_time": "2024-11-26T20:22:29.390Z"
   },
   {
    "duration": 170,
    "start_time": "2024-11-26T20:22:30.571Z"
   },
   {
    "duration": 395,
    "start_time": "2024-11-26T20:22:31.331Z"
   },
   {
    "duration": 261,
    "start_time": "2024-11-26T20:22:31.792Z"
   },
   {
    "duration": 251,
    "start_time": "2024-11-26T20:22:32.467Z"
   },
   {
    "duration": 198,
    "start_time": "2024-11-26T20:22:33.348Z"
   },
   {
    "duration": 190,
    "start_time": "2024-11-26T20:22:33.787Z"
   },
   {
    "duration": 1306,
    "start_time": "2024-11-26T20:22:44.368Z"
   },
   {
    "duration": 3,
    "start_time": "2024-11-26T20:23:19.235Z"
   },
   {
    "duration": 108,
    "start_time": "2024-11-26T20:23:20.568Z"
   },
   {
    "duration": 4,
    "start_time": "2024-11-26T20:27:04.931Z"
   },
   {
    "duration": 127,
    "start_time": "2024-11-26T20:28:44.056Z"
   },
   {
    "duration": 5,
    "start_time": "2024-11-26T20:29:02.397Z"
   },
   {
    "duration": 4,
    "start_time": "2024-11-26T20:29:07.255Z"
   },
   {
    "duration": 20851,
    "start_time": "2024-11-26T20:30:47.806Z"
   },
   {
    "duration": 50,
    "start_time": "2024-11-26T20:31:41.589Z"
   },
   {
    "duration": 12,
    "start_time": "2024-11-26T20:37:53.060Z"
   },
   {
    "duration": 9,
    "start_time": "2024-11-26T20:38:29.790Z"
   },
   {
    "duration": 26,
    "start_time": "2024-11-26T20:38:42.510Z"
   },
   {
    "duration": 4,
    "start_time": "2024-11-26T20:39:26.980Z"
   },
   {
    "duration": 1520,
    "start_time": "2024-11-26T20:39:27.698Z"
   },
   {
    "duration": 27,
    "start_time": "2024-11-26T20:39:29.220Z"
   },
   {
    "duration": 3,
    "start_time": "2024-11-26T20:39:31.147Z"
   },
   {
    "duration": 10,
    "start_time": "2024-11-26T20:39:31.599Z"
   },
   {
    "duration": 14,
    "start_time": "2024-11-26T20:39:32.036Z"
   },
   {
    "duration": 49,
    "start_time": "2024-11-26T20:39:32.488Z"
   },
   {
    "duration": 24,
    "start_time": "2024-11-26T20:39:32.975Z"
   },
   {
    "duration": 33,
    "start_time": "2024-11-26T20:39:33.643Z"
   },
   {
    "duration": 42,
    "start_time": "2024-11-26T20:39:34.900Z"
   },
   {
    "duration": 29,
    "start_time": "2024-11-26T20:39:44.666Z"
   },
   {
    "duration": 16,
    "start_time": "2024-11-26T20:39:54.845Z"
   },
   {
    "duration": 49,
    "start_time": "2024-11-26T20:39:56.186Z"
   },
   {
    "duration": 19,
    "start_time": "2024-11-26T20:39:56.471Z"
   },
   {
    "duration": 39,
    "start_time": "2024-11-26T20:39:56.700Z"
   },
   {
    "duration": 8,
    "start_time": "2024-11-26T20:39:56.965Z"
   },
   {
    "duration": 5,
    "start_time": "2024-11-26T20:39:57.813Z"
   },
   {
    "duration": 8,
    "start_time": "2024-11-26T20:39:58.262Z"
   },
   {
    "duration": 15,
    "start_time": "2024-11-26T20:39:59.730Z"
   },
   {
    "duration": 38,
    "start_time": "2024-11-26T20:40:00.272Z"
   },
   {
    "duration": 40,
    "start_time": "2024-11-26T20:40:00.931Z"
   },
   {
    "duration": 3,
    "start_time": "2024-11-26T20:40:04.142Z"
   },
   {
    "duration": 3,
    "start_time": "2024-11-26T20:40:13.741Z"
   },
   {
    "duration": 3,
    "start_time": "2024-11-26T20:40:25.637Z"
   },
   {
    "duration": 105,
    "start_time": "2024-11-26T20:40:26.086Z"
   },
   {
    "duration": 48,
    "start_time": "2024-11-26T20:40:26.858Z"
   },
   {
    "duration": 3,
    "start_time": "2024-11-26T20:40:34.835Z"
   },
   {
    "duration": 5,
    "start_time": "2024-11-26T20:40:35.532Z"
   },
   {
    "duration": 660278,
    "start_time": "2024-11-26T20:40:36.619Z"
   },
   {
    "duration": 17,
    "start_time": "2024-11-26T20:51:52.949Z"
   },
   {
    "duration": 12,
    "start_time": "2024-11-26T20:52:19.381Z"
   },
   {
    "duration": 13,
    "start_time": "2024-11-26T20:52:21.356Z"
   },
   {
    "duration": 3,
    "start_time": "2024-11-26T20:52:22.680Z"
   },
   {
    "duration": 4,
    "start_time": "2024-11-26T20:52:23.254Z"
   },
   {
    "duration": 1491,
    "start_time": "2024-11-26T20:52:23.863Z"
   },
   {
    "duration": 13,
    "start_time": "2024-11-26T20:53:04.971Z"
   },
   {
    "duration": 19,
    "start_time": "2024-11-26T20:53:05.640Z"
   },
   {
    "duration": 2,
    "start_time": "2024-11-26T20:53:06.787Z"
   },
   {
    "duration": 5,
    "start_time": "2024-11-26T20:53:07.260Z"
   },
   {
    "duration": 54819,
    "start_time": "2024-11-26T20:53:08.151Z"
   },
   {
    "duration": 40,
    "start_time": "2024-11-26T21:00:43.910Z"
   },
   {
    "duration": 8,
    "start_time": "2024-11-26T21:08:10.110Z"
   },
   {
    "duration": 320268,
    "start_time": "2024-11-26T21:08:53.186Z"
   },
   {
    "duration": 0,
    "start_time": "2024-11-26T21:14:13.480Z"
   },
   {
    "duration": 0,
    "start_time": "2024-11-26T21:14:13.482Z"
   },
   {
    "duration": 0,
    "start_time": "2024-11-26T21:14:13.521Z"
   },
   {
    "duration": 3,
    "start_time": "2024-11-26T21:14:17.033Z"
   },
   {
    "duration": 14,
    "start_time": "2024-11-26T21:14:17.935Z"
   },
   {
    "duration": 16,
    "start_time": "2024-11-26T21:14:18.883Z"
   },
   {
    "duration": 3,
    "start_time": "2024-11-26T21:14:24.113Z"
   },
   {
    "duration": 6,
    "start_time": "2024-11-26T21:14:24.781Z"
   },
   {
    "duration": 1483,
    "start_time": "2024-11-26T21:14:26.671Z"
   },
   {
    "duration": 26,
    "start_time": "2024-11-26T21:14:29.870Z"
   },
   {
    "duration": 3,
    "start_time": "2024-11-26T21:14:33.888Z"
   },
   {
    "duration": 362691,
    "start_time": "2024-11-26T21:14:34.446Z"
   },
   {
    "duration": 136894,
    "start_time": "2024-11-26T21:20:40.226Z"
   },
   {
    "duration": 1516,
    "start_time": "2024-11-26T21:22:57.139Z"
   },
   {
    "duration": 1510,
    "start_time": "2024-11-26T21:24:25.189Z"
   },
   {
    "duration": 25,
    "start_time": "2024-11-26T21:24:26.935Z"
   },
   {
    "duration": 19,
    "start_time": "2024-11-26T21:24:35.921Z"
   },
   {
    "duration": 5,
    "start_time": "2024-11-26T21:25:28.351Z"
   },
   {
    "duration": 6,
    "start_time": "2024-11-26T21:27:08.888Z"
   },
   {
    "duration": 15,
    "start_time": "2024-11-26T21:28:11.095Z"
   },
   {
    "duration": 16,
    "start_time": "2024-11-26T21:29:23.037Z"
   },
   {
    "duration": 1471,
    "start_time": "2024-11-26T21:30:07.887Z"
   },
   {
    "duration": 19,
    "start_time": "2024-11-26T21:30:16.382Z"
   },
   {
    "duration": 12,
    "start_time": "2024-11-26T21:30:22.499Z"
   },
   {
    "duration": 14,
    "start_time": "2024-11-26T21:30:49.339Z"
   },
   {
    "duration": 14,
    "start_time": "2024-11-26T21:31:03.356Z"
   },
   {
    "duration": 225,
    "start_time": "2024-11-26T21:32:55.664Z"
   },
   {
    "duration": 153,
    "start_time": "2024-11-26T21:33:52.535Z"
   },
   {
    "duration": 59,
    "start_time": "2024-11-26T21:35:53.593Z"
   },
   {
    "duration": 13171,
    "start_time": "2024-11-26T21:38:45.776Z"
   },
   {
    "duration": 615,
    "start_time": "2024-11-26T21:38:58.950Z"
   },
   {
    "duration": 3,
    "start_time": "2024-11-26T21:40:15.432Z"
   },
   {
    "duration": 3,
    "start_time": "2024-11-26T21:40:25.567Z"
   },
   {
    "duration": 31,
    "start_time": "2024-11-26T21:40:46.313Z"
   },
   {
    "duration": 21,
    "start_time": "2024-11-26T21:40:57.375Z"
   },
   {
    "duration": 794,
    "start_time": "2024-11-26T21:41:14.596Z"
   },
   {
    "duration": 305,
    "start_time": "2024-11-26T21:42:48.653Z"
   },
   {
    "duration": 1262,
    "start_time": "2024-11-26T21:48:11.428Z"
   },
   {
    "duration": 1657,
    "start_time": "2024-11-26T21:49:32.230Z"
   },
   {
    "duration": 43,
    "start_time": "2024-11-26T21:51:19.486Z"
   },
   {
    "duration": 1319,
    "start_time": "2024-11-26T21:51:51.981Z"
   },
   {
    "duration": 292,
    "start_time": "2024-11-26T21:52:06.000Z"
   },
   {
    "duration": 274,
    "start_time": "2024-11-26T21:52:14.870Z"
   },
   {
    "duration": 7,
    "start_time": "2024-11-26T22:01:08.300Z"
   },
   {
    "duration": 14,
    "start_time": "2024-11-26T22:01:48.568Z"
   },
   {
    "duration": 33,
    "start_time": "2024-11-26T22:02:11.754Z"
   },
   {
    "duration": 72,
    "start_time": "2024-11-26T22:03:46.366Z"
   },
   {
    "duration": 13,
    "start_time": "2024-11-26T22:04:34.956Z"
   },
   {
    "duration": 12,
    "start_time": "2024-11-26T22:09:40.339Z"
   },
   {
    "duration": 32,
    "start_time": "2024-11-26T22:09:46.241Z"
   },
   {
    "duration": 23,
    "start_time": "2024-11-26T22:09:58.956Z"
   },
   {
    "duration": 20,
    "start_time": "2024-11-26T22:10:41.106Z"
   },
   {
    "duration": 27,
    "start_time": "2024-11-26T22:10:49.896Z"
   },
   {
    "duration": 34,
    "start_time": "2024-11-26T22:14:35.863Z"
   },
   {
    "duration": 184,
    "start_time": "2024-11-26T22:16:28.274Z"
   },
   {
    "duration": 338,
    "start_time": "2024-11-26T22:17:51.397Z"
   },
   {
    "duration": 4,
    "start_time": "2024-11-26T22:21:11.816Z"
   },
   {
    "duration": 105,
    "start_time": "2024-11-26T22:21:13.089Z"
   },
   {
    "duration": 47,
    "start_time": "2024-11-26T22:21:15.912Z"
   },
   {
    "duration": 3,
    "start_time": "2024-11-26T22:21:19.256Z"
   },
   {
    "duration": 5,
    "start_time": "2024-11-26T22:21:20.075Z"
   },
   {
    "duration": 24541,
    "start_time": "2024-11-27T07:25:06.817Z"
   },
   {
    "duration": 2228,
    "start_time": "2024-11-27T07:25:31.361Z"
   },
   {
    "duration": 3,
    "start_time": "2024-11-27T07:25:33.591Z"
   },
   {
    "duration": 20,
    "start_time": "2024-11-27T07:25:33.597Z"
   },
   {
    "duration": 6916,
    "start_time": "2024-11-27T07:25:33.620Z"
   },
   {
    "duration": 4,
    "start_time": "2024-11-27T07:25:40.538Z"
   },
   {
    "duration": 5,
    "start_time": "2024-11-27T07:25:40.544Z"
   },
   {
    "duration": 6,
    "start_time": "2024-11-27T07:25:40.551Z"
   },
   {
    "duration": 3,
    "start_time": "2024-11-27T07:25:40.559Z"
   },
   {
    "duration": 37478,
    "start_time": "2024-11-27T07:25:40.564Z"
   },
   {
    "duration": 22,
    "start_time": "2024-11-27T07:26:18.044Z"
   },
   {
    "duration": 12,
    "start_time": "2024-11-27T07:26:18.068Z"
   },
   {
    "duration": 10,
    "start_time": "2024-11-27T07:26:18.082Z"
   },
   {
    "duration": 56,
    "start_time": "2024-11-27T07:26:18.095Z"
   },
   {
    "duration": 6,
    "start_time": "2024-11-27T07:26:18.154Z"
   },
   {
    "duration": 193,
    "start_time": "2024-11-27T07:26:18.162Z"
   },
   {
    "duration": 0,
    "start_time": "2024-11-27T07:26:18.358Z"
   },
   {
    "duration": 0,
    "start_time": "2024-11-27T07:26:18.360Z"
   },
   {
    "duration": 0,
    "start_time": "2024-11-27T07:26:18.360Z"
   },
   {
    "duration": 0,
    "start_time": "2024-11-27T07:26:18.362Z"
   },
   {
    "duration": 0,
    "start_time": "2024-11-27T07:26:18.363Z"
   },
   {
    "duration": 0,
    "start_time": "2024-11-27T07:26:18.364Z"
   },
   {
    "duration": 0,
    "start_time": "2024-11-27T07:26:18.366Z"
   },
   {
    "duration": 0,
    "start_time": "2024-11-27T07:26:18.367Z"
   },
   {
    "duration": 0,
    "start_time": "2024-11-27T07:26:18.368Z"
   },
   {
    "duration": 0,
    "start_time": "2024-11-27T07:26:18.369Z"
   },
   {
    "duration": 0,
    "start_time": "2024-11-27T07:26:18.370Z"
   },
   {
    "duration": 0,
    "start_time": "2024-11-27T07:26:18.371Z"
   },
   {
    "duration": 0,
    "start_time": "2024-11-27T07:26:18.372Z"
   },
   {
    "duration": 0,
    "start_time": "2024-11-27T07:26:18.373Z"
   },
   {
    "duration": 0,
    "start_time": "2024-11-27T07:26:18.375Z"
   },
   {
    "duration": 0,
    "start_time": "2024-11-27T07:26:18.376Z"
   },
   {
    "duration": 0,
    "start_time": "2024-11-27T07:26:18.377Z"
   },
   {
    "duration": 0,
    "start_time": "2024-11-27T07:26:18.379Z"
   },
   {
    "duration": 0,
    "start_time": "2024-11-27T07:26:18.380Z"
   },
   {
    "duration": 0,
    "start_time": "2024-11-27T07:26:18.381Z"
   },
   {
    "duration": 0,
    "start_time": "2024-11-27T07:26:18.418Z"
   },
   {
    "duration": 0,
    "start_time": "2024-11-27T07:26:18.419Z"
   },
   {
    "duration": 0,
    "start_time": "2024-11-27T07:26:18.421Z"
   },
   {
    "duration": 0,
    "start_time": "2024-11-27T07:26:18.422Z"
   },
   {
    "duration": 0,
    "start_time": "2024-11-27T07:26:18.423Z"
   },
   {
    "duration": 0,
    "start_time": "2024-11-27T07:26:18.424Z"
   },
   {
    "duration": 0,
    "start_time": "2024-11-27T07:26:18.425Z"
   },
   {
    "duration": 0,
    "start_time": "2024-11-27T07:26:18.426Z"
   },
   {
    "duration": 0,
    "start_time": "2024-11-27T07:26:18.427Z"
   },
   {
    "duration": 0,
    "start_time": "2024-11-27T07:26:18.428Z"
   },
   {
    "duration": 0,
    "start_time": "2024-11-27T07:26:18.429Z"
   },
   {
    "duration": 0,
    "start_time": "2024-11-27T07:26:18.431Z"
   },
   {
    "duration": 0,
    "start_time": "2024-11-27T07:26:18.432Z"
   },
   {
    "duration": 0,
    "start_time": "2024-11-27T07:26:18.433Z"
   },
   {
    "duration": 0,
    "start_time": "2024-11-27T07:26:18.435Z"
   },
   {
    "duration": 0,
    "start_time": "2024-11-27T07:26:18.436Z"
   },
   {
    "duration": 0,
    "start_time": "2024-11-27T07:26:18.437Z"
   },
   {
    "duration": 0,
    "start_time": "2024-11-27T07:26:18.438Z"
   },
   {
    "duration": 0,
    "start_time": "2024-11-27T07:26:18.440Z"
   },
   {
    "duration": 0,
    "start_time": "2024-11-27T07:26:18.441Z"
   },
   {
    "duration": 0,
    "start_time": "2024-11-27T07:26:18.443Z"
   },
   {
    "duration": 0,
    "start_time": "2024-11-27T07:26:18.444Z"
   },
   {
    "duration": 0,
    "start_time": "2024-11-27T07:26:18.446Z"
   },
   {
    "duration": 0,
    "start_time": "2024-11-27T07:26:18.447Z"
   },
   {
    "duration": 0,
    "start_time": "2024-11-27T07:26:18.448Z"
   },
   {
    "duration": 0,
    "start_time": "2024-11-27T07:26:18.450Z"
   },
   {
    "duration": 0,
    "start_time": "2024-11-27T07:26:18.451Z"
   },
   {
    "duration": 0,
    "start_time": "2024-11-27T07:26:18.452Z"
   },
   {
    "duration": 0,
    "start_time": "2024-11-27T07:26:18.454Z"
   },
   {
    "duration": 0,
    "start_time": "2024-11-27T07:26:18.455Z"
   },
   {
    "duration": 0,
    "start_time": "2024-11-27T07:26:18.518Z"
   },
   {
    "duration": 0,
    "start_time": "2024-11-27T07:26:18.519Z"
   },
   {
    "duration": 0,
    "start_time": "2024-11-27T07:26:18.520Z"
   },
   {
    "duration": 0,
    "start_time": "2024-11-27T07:26:18.521Z"
   },
   {
    "duration": 0,
    "start_time": "2024-11-27T07:26:18.523Z"
   },
   {
    "duration": 0,
    "start_time": "2024-11-27T07:26:18.524Z"
   },
   {
    "duration": 0,
    "start_time": "2024-11-27T07:26:18.525Z"
   },
   {
    "duration": 0,
    "start_time": "2024-11-27T07:26:18.526Z"
   },
   {
    "duration": 0,
    "start_time": "2024-11-27T07:26:18.527Z"
   },
   {
    "duration": 0,
    "start_time": "2024-11-27T07:26:18.528Z"
   },
   {
    "duration": 0,
    "start_time": "2024-11-27T07:26:18.529Z"
   },
   {
    "duration": 0,
    "start_time": "2024-11-27T07:26:18.530Z"
   },
   {
    "duration": 0,
    "start_time": "2024-11-27T07:26:18.531Z"
   },
   {
    "duration": 0,
    "start_time": "2024-11-27T07:26:18.532Z"
   },
   {
    "duration": 0,
    "start_time": "2024-11-27T07:26:18.533Z"
   },
   {
    "duration": 0,
    "start_time": "2024-11-27T07:26:18.534Z"
   },
   {
    "duration": 0,
    "start_time": "2024-11-27T07:26:18.535Z"
   },
   {
    "duration": 0,
    "start_time": "2024-11-27T07:26:18.536Z"
   },
   {
    "duration": 0,
    "start_time": "2024-11-27T07:26:18.537Z"
   },
   {
    "duration": 0,
    "start_time": "2024-11-27T07:26:18.538Z"
   },
   {
    "duration": 0,
    "start_time": "2024-11-27T07:26:18.539Z"
   },
   {
    "duration": 0,
    "start_time": "2024-11-27T07:26:18.540Z"
   },
   {
    "duration": 0,
    "start_time": "2024-11-27T07:26:18.540Z"
   },
   {
    "duration": 0,
    "start_time": "2024-11-27T07:26:18.541Z"
   },
   {
    "duration": 39,
    "start_time": "2024-11-27T07:27:21.634Z"
   },
   {
    "duration": 3,
    "start_time": "2024-11-27T07:27:42.470Z"
   },
   {
    "duration": 38,
    "start_time": "2024-11-27T07:27:43.515Z"
   },
   {
    "duration": 11451,
    "start_time": "2024-11-27T07:27:57.388Z"
   },
   {
    "duration": 6,
    "start_time": "2024-11-27T07:28:08.841Z"
   },
   {
    "duration": 9,
    "start_time": "2024-11-27T07:28:08.848Z"
   },
   {
    "duration": 5,
    "start_time": "2024-11-27T07:28:08.858Z"
   },
   {
    "duration": 16,
    "start_time": "2024-11-27T07:28:08.865Z"
   },
   {
    "duration": 5,
    "start_time": "2024-11-27T07:28:08.882Z"
   },
   {
    "duration": 12,
    "start_time": "2024-11-27T07:28:08.888Z"
   },
   {
    "duration": 9,
    "start_time": "2024-11-27T07:28:08.901Z"
   },
   {
    "duration": 4,
    "start_time": "2024-11-27T07:28:08.912Z"
   },
   {
    "duration": 10612,
    "start_time": "2024-11-27T07:28:25.110Z"
   },
   {
    "duration": 2285,
    "start_time": "2024-11-27T07:28:35.725Z"
   },
   {
    "duration": 3,
    "start_time": "2024-11-27T07:28:38.012Z"
   },
   {
    "duration": 5,
    "start_time": "2024-11-27T07:28:38.016Z"
   },
   {
    "duration": 7658,
    "start_time": "2024-11-27T07:28:38.023Z"
   },
   {
    "duration": 3,
    "start_time": "2024-11-27T07:28:45.683Z"
   },
   {
    "duration": 14,
    "start_time": "2024-11-27T07:28:45.688Z"
   },
   {
    "duration": 6,
    "start_time": "2024-11-27T07:28:45.704Z"
   },
   {
    "duration": 8,
    "start_time": "2024-11-27T07:28:45.711Z"
   },
   {
    "duration": 37322,
    "start_time": "2024-11-27T07:28:45.721Z"
   },
   {
    "duration": 34,
    "start_time": "2024-11-27T07:29:23.046Z"
   },
   {
    "duration": 12,
    "start_time": "2024-11-27T07:29:23.083Z"
   },
   {
    "duration": 27,
    "start_time": "2024-11-27T07:29:23.097Z"
   },
   {
    "duration": 7,
    "start_time": "2024-11-27T07:29:23.128Z"
   },
   {
    "duration": 4,
    "start_time": "2024-11-27T07:29:23.137Z"
   },
   {
    "duration": 39,
    "start_time": "2024-11-27T07:29:23.142Z"
   },
   {
    "duration": 3,
    "start_time": "2024-11-27T07:29:23.183Z"
   },
   {
    "duration": 275,
    "start_time": "2024-11-27T07:29:23.187Z"
   },
   {
    "duration": 5,
    "start_time": "2024-11-27T07:29:23.463Z"
   },
   {
    "duration": 531,
    "start_time": "2024-11-27T07:29:23.470Z"
   },
   {
    "duration": 4,
    "start_time": "2024-11-27T07:29:24.003Z"
   },
   {
    "duration": 8,
    "start_time": "2024-11-27T07:29:24.009Z"
   },
   {
    "duration": 11,
    "start_time": "2024-11-27T07:29:24.020Z"
   },
   {
    "duration": 3,
    "start_time": "2024-11-27T07:29:24.033Z"
   },
   {
    "duration": 279,
    "start_time": "2024-11-27T07:29:24.037Z"
   },
   {
    "duration": 6,
    "start_time": "2024-11-27T07:29:24.318Z"
   },
   {
    "duration": 6,
    "start_time": "2024-11-27T07:29:24.327Z"
   },
   {
    "duration": 266,
    "start_time": "2024-11-27T07:29:24.335Z"
   },
   {
    "duration": 2,
    "start_time": "2024-11-27T07:29:24.603Z"
   },
   {
    "duration": 351,
    "start_time": "2024-11-27T07:29:24.606Z"
   },
   {
    "duration": 10,
    "start_time": "2024-11-27T07:29:24.959Z"
   },
   {
    "duration": 314,
    "start_time": "2024-11-27T07:29:24.971Z"
   },
   {
    "duration": 3,
    "start_time": "2024-11-27T07:29:25.286Z"
   },
   {
    "duration": 266,
    "start_time": "2024-11-27T07:29:25.290Z"
   },
   {
    "duration": 7,
    "start_time": "2024-11-27T07:29:25.558Z"
   },
   {
    "duration": 243,
    "start_time": "2024-11-27T07:29:25.567Z"
   },
   {
    "duration": 7,
    "start_time": "2024-11-27T07:29:25.812Z"
   },
   {
    "duration": 518,
    "start_time": "2024-11-27T07:29:25.821Z"
   },
   {
    "duration": 13,
    "start_time": "2024-11-27T07:29:26.341Z"
   },
   {
    "duration": 6,
    "start_time": "2024-11-27T07:29:26.356Z"
   },
   {
    "duration": 4380,
    "start_time": "2024-11-27T07:29:26.369Z"
   },
   {
    "duration": 12,
    "start_time": "2024-11-27T07:29:30.750Z"
   },
   {
    "duration": 494,
    "start_time": "2024-11-27T07:29:30.764Z"
   },
   {
    "duration": 3,
    "start_time": "2024-11-27T07:29:31.260Z"
   },
   {
    "duration": 516,
    "start_time": "2024-11-27T07:29:31.265Z"
   },
   {
    "duration": 8,
    "start_time": "2024-11-27T07:29:31.782Z"
   },
   {
    "duration": 137,
    "start_time": "2024-11-27T07:29:31.791Z"
   },
   {
    "duration": 3,
    "start_time": "2024-11-27T07:29:31.930Z"
   },
   {
    "duration": 1366,
    "start_time": "2024-11-27T07:29:31.935Z"
   },
   {
    "duration": 28,
    "start_time": "2024-11-27T07:29:33.303Z"
   },
   {
    "duration": 5,
    "start_time": "2024-11-27T07:29:33.335Z"
   },
   {
    "duration": 12,
    "start_time": "2024-11-27T07:29:33.341Z"
   },
   {
    "duration": 15,
    "start_time": "2024-11-27T07:29:33.354Z"
   },
   {
    "duration": 46,
    "start_time": "2024-11-27T07:29:33.370Z"
   },
   {
    "duration": 23,
    "start_time": "2024-11-27T07:29:33.423Z"
   },
   {
    "duration": 64,
    "start_time": "2024-11-27T07:29:33.447Z"
   },
   {
    "duration": 35,
    "start_time": "2024-11-27T07:29:33.513Z"
   },
   {
    "duration": 33,
    "start_time": "2024-11-27T07:29:33.550Z"
   },
   {
    "duration": 18,
    "start_time": "2024-11-27T07:29:33.585Z"
   },
   {
    "duration": 70,
    "start_time": "2024-11-27T07:29:33.605Z"
   },
   {
    "duration": 19,
    "start_time": "2024-11-27T07:29:33.677Z"
   },
   {
    "duration": 36,
    "start_time": "2024-11-27T07:29:33.698Z"
   },
   {
    "duration": 23,
    "start_time": "2024-11-27T07:29:33.735Z"
   },
   {
    "duration": 20,
    "start_time": "2024-11-27T07:29:33.760Z"
   },
   {
    "duration": 8,
    "start_time": "2024-11-27T07:29:33.782Z"
   },
   {
    "duration": 12,
    "start_time": "2024-11-27T07:29:33.792Z"
   },
   {
    "duration": 45,
    "start_time": "2024-11-27T07:29:33.806Z"
   },
   {
    "duration": 3,
    "start_time": "2024-11-27T07:29:33.853Z"
   },
   {
    "duration": 197,
    "start_time": "2024-11-27T07:29:33.858Z"
   },
   {
    "duration": 404,
    "start_time": "2024-11-27T07:29:34.057Z"
   },
   {
    "duration": 258,
    "start_time": "2024-11-27T07:29:34.462Z"
   },
   {
    "duration": 272,
    "start_time": "2024-11-27T07:29:34.722Z"
   },
   {
    "duration": 225,
    "start_time": "2024-11-27T07:29:34.996Z"
   },
   {
    "duration": 195,
    "start_time": "2024-11-27T07:29:35.223Z"
   },
   {
    "duration": 1123,
    "start_time": "2024-11-27T07:29:35.419Z"
   },
   {
    "duration": 3,
    "start_time": "2024-11-27T07:29:36.544Z"
   },
   {
    "duration": 111,
    "start_time": "2024-11-27T07:29:36.548Z"
   },
   {
    "duration": 41,
    "start_time": "2024-11-27T07:29:36.660Z"
   },
   {
    "duration": 15,
    "start_time": "2024-11-27T07:29:36.703Z"
   },
   {
    "duration": 4,
    "start_time": "2024-11-27T07:29:36.719Z"
   },
   {
    "duration": 27687132,
    "start_time": "2024-11-27T07:29:36.725Z"
   },
   {
    "duration": 24,
    "start_time": "2024-11-27T15:11:03.859Z"
   },
   {
    "duration": 236,
    "start_time": "2024-11-27T15:11:03.885Z"
   },
   {
    "duration": 3,
    "start_time": "2024-11-27T15:11:04.123Z"
   },
   {
    "duration": 33,
    "start_time": "2024-11-27T15:11:04.127Z"
   },
   {
    "duration": 774,
    "start_time": "2024-11-27T15:11:04.162Z"
   },
   {
    "duration": 7784035,
    "start_time": "2024-11-27T15:11:04.938Z"
   },
   {
    "duration": 169,
    "start_time": "2024-11-27T17:20:48.975Z"
   },
   {
    "duration": 0,
    "start_time": "2024-11-27T17:20:49.146Z"
   },
   {
    "duration": 0,
    "start_time": "2024-11-27T17:20:49.148Z"
   },
   {
    "duration": 21,
    "start_time": "2024-11-27T21:17:20.748Z"
   },
   {
    "duration": 22,
    "start_time": "2024-11-27T21:21:12.863Z"
   },
   {
    "duration": 997884,
    "start_time": "2024-11-27T21:21:43.677Z"
   },
   {
    "duration": 0,
    "start_time": "2024-11-27T21:38:21.564Z"
   },
   {
    "duration": 397338,
    "start_time": "2024-11-27T21:38:57.070Z"
   },
   {
    "duration": 263430,
    "start_time": "2024-11-27T21:45:40.734Z"
   },
   {
    "duration": 23,
    "start_time": "2024-11-27T21:52:28.289Z"
   },
   {
    "duration": 24728,
    "start_time": "2024-11-27T21:54:54.318Z"
   },
   {
    "duration": 8221,
    "start_time": "2024-11-27T21:55:21.407Z"
   },
   {
    "duration": 3,
    "start_time": "2024-11-27T21:56:05.701Z"
   },
   {
    "duration": 8676,
    "start_time": "2024-11-27T21:56:20.341Z"
   },
   {
    "duration": 816613,
    "start_time": "2024-11-27T21:57:55.760Z"
   },
   {
    "duration": 82283,
    "start_time": "2024-11-27T22:11:37.551Z"
   },
   {
    "duration": 185,
    "start_time": "2024-11-27T22:15:52.885Z"
   },
   {
    "duration": 26068,
    "start_time": "2024-11-28T20:51:01.595Z"
   },
   {
    "duration": 2334,
    "start_time": "2024-11-28T20:51:27.666Z"
   },
   {
    "duration": 3,
    "start_time": "2024-11-28T20:51:30.002Z"
   },
   {
    "duration": 62,
    "start_time": "2024-11-28T20:51:30.007Z"
   },
   {
    "duration": 7987,
    "start_time": "2024-11-28T20:51:30.071Z"
   },
   {
    "duration": 4,
    "start_time": "2024-11-28T20:51:38.060Z"
   },
   {
    "duration": 3,
    "start_time": "2024-11-28T20:51:50.218Z"
   },
   {
    "duration": 5,
    "start_time": "2024-11-28T20:51:51.097Z"
   },
   {
    "duration": 3,
    "start_time": "2024-11-28T20:51:51.784Z"
   },
   {
    "duration": 71,
    "start_time": "2024-11-28T20:51:53.449Z"
   },
   {
    "duration": 26,
    "start_time": "2024-11-28T20:51:56.347Z"
   },
   {
    "duration": 11,
    "start_time": "2024-11-28T20:52:04.821Z"
   },
   {
    "duration": 9,
    "start_time": "2024-11-28T20:52:05.932Z"
   },
   {
    "duration": 7,
    "start_time": "2024-11-28T20:52:07.621Z"
   },
   {
    "duration": 2,
    "start_time": "2024-11-28T20:53:27.471Z"
   },
   {
    "duration": 11,
    "start_time": "2024-11-28T20:53:28.941Z"
   },
   {
    "duration": 3,
    "start_time": "2024-11-28T20:53:37.699Z"
   },
   {
    "duration": 11,
    "start_time": "2024-11-28T20:53:38.559Z"
   },
   {
    "duration": 3,
    "start_time": "2024-11-28T20:54:17.766Z"
   },
   {
    "duration": 8,
    "start_time": "2024-11-28T20:54:18.779Z"
   },
   {
    "duration": 2,
    "start_time": "2024-11-28T20:54:43.274Z"
   },
   {
    "duration": 249,
    "start_time": "2024-11-28T20:54:43.741Z"
   },
   {
    "duration": 5,
    "start_time": "2024-11-28T20:54:44.206Z"
   },
   {
    "duration": 57,
    "start_time": "2024-11-28T20:54:44.838Z"
   },
   {
    "duration": 5,
    "start_time": "2024-11-28T20:54:46.123Z"
   },
   {
    "duration": 3,
    "start_time": "2024-11-28T20:54:46.901Z"
   },
   {
    "duration": 4,
    "start_time": "2024-11-28T20:55:13.471Z"
   },
   {
    "duration": 150,
    "start_time": "2024-11-28T21:05:39.275Z"
   },
   {
    "duration": 12,
    "start_time": "2024-11-28T21:05:56.036Z"
   },
   {
    "duration": 5,
    "start_time": "2024-11-28T21:06:04.930Z"
   },
   {
    "duration": 50,
    "start_time": "2024-11-28T21:06:24.813Z"
   },
   {
    "duration": 5,
    "start_time": "2024-11-28T21:06:31.449Z"
   },
   {
    "duration": 5,
    "start_time": "2024-11-28T21:07:39.455Z"
   },
   {
    "duration": 2,
    "start_time": "2024-11-28T21:13:55.140Z"
   },
   {
    "duration": 3,
    "start_time": "2024-11-28T21:14:00.985Z"
   },
   {
    "duration": 3,
    "start_time": "2024-11-28T21:14:33.870Z"
   },
   {
    "duration": 679,
    "start_time": "2024-11-28T21:14:34.803Z"
   },
   {
    "duration": 10,
    "start_time": "2024-11-28T21:14:43.153Z"
   },
   {
    "duration": 3,
    "start_time": "2024-11-28T21:15:16.879Z"
   },
   {
    "duration": 105,
    "start_time": "2024-11-28T21:15:18.487Z"
   },
   {
    "duration": 4,
    "start_time": "2024-11-28T21:15:32.319Z"
   },
   {
    "duration": 1329,
    "start_time": "2024-11-28T21:15:33.233Z"
   },
   {
    "duration": 7,
    "start_time": "2024-11-28T21:15:35.994Z"
   },
   {
    "duration": 3,
    "start_time": "2024-11-28T21:16:15.587Z"
   },
   {
    "duration": 2,
    "start_time": "2024-11-28T21:18:34.309Z"
   },
   {
    "duration": 1732,
    "start_time": "2024-11-28T21:18:34.810Z"
   },
   {
    "duration": 7,
    "start_time": "2024-11-28T21:18:36.545Z"
   },
   {
    "duration": 3,
    "start_time": "2024-11-28T21:19:01.659Z"
   },
   {
    "duration": 3865,
    "start_time": "2024-11-28T21:19:02.560Z"
   },
   {
    "duration": 7,
    "start_time": "2024-11-28T21:19:06.427Z"
   },
   {
    "duration": 2,
    "start_time": "2024-11-28T21:20:58.081Z"
   },
   {
    "duration": 236,
    "start_time": "2024-11-28T21:20:58.545Z"
   },
   {
    "duration": 7,
    "start_time": "2024-11-28T21:20:58.801Z"
   },
   {
    "duration": 5,
    "start_time": "2024-11-28T21:20:59.013Z"
   },
   {
    "duration": 230,
    "start_time": "2024-11-28T21:20:59.517Z"
   },
   {
    "duration": 3,
    "start_time": "2024-11-28T21:21:00.197Z"
   },
   {
    "duration": 311,
    "start_time": "2024-11-28T21:21:00.433Z"
   },
   {
    "duration": 9,
    "start_time": "2024-11-28T21:21:00.747Z"
   },
   {
    "duration": 441,
    "start_time": "2024-11-28T21:21:00.924Z"
   },
   {
    "duration": 3,
    "start_time": "2024-11-28T21:21:01.717Z"
   },
   {
    "duration": 230,
    "start_time": "2024-11-28T21:21:02.141Z"
   },
   {
    "duration": 7,
    "start_time": "2024-11-28T21:21:02.429Z"
   },
   {
    "duration": 222,
    "start_time": "2024-11-28T21:21:02.998Z"
   },
   {
    "duration": 3,
    "start_time": "2024-11-28T21:21:08.078Z"
   },
   {
    "duration": 537,
    "start_time": "2024-11-28T21:21:08.566Z"
   },
   {
    "duration": 9,
    "start_time": "2024-11-28T21:21:09.105Z"
   },
   {
    "duration": 3,
    "start_time": "2024-11-28T21:21:10.386Z"
   },
   {
    "duration": 5134,
    "start_time": "2024-11-28T21:21:10.536Z"
   },
   {
    "duration": 15,
    "start_time": "2024-11-28T21:21:15.673Z"
   },
   {
    "duration": 513,
    "start_time": "2024-11-28T21:21:15.690Z"
   },
   {
    "duration": 3,
    "start_time": "2024-11-28T21:21:16.205Z"
   },
   {
    "duration": 484,
    "start_time": "2024-11-28T21:21:16.209Z"
   },
   {
    "duration": 8,
    "start_time": "2024-11-28T21:21:16.694Z"
   },
   {
    "duration": 150,
    "start_time": "2024-11-28T21:21:16.704Z"
   },
   {
    "duration": 2,
    "start_time": "2024-11-28T21:21:23.702Z"
   },
   {
    "duration": 1413,
    "start_time": "2024-11-28T21:22:25.040Z"
   },
   {
    "duration": 19,
    "start_time": "2024-11-28T21:22:31.763Z"
   },
   {
    "duration": 56,
    "start_time": "2024-11-28T21:23:55.349Z"
   },
   {
    "duration": 3,
    "start_time": "2024-11-28T21:27:56.564Z"
   },
   {
    "duration": 765,
    "start_time": "2024-11-28T21:28:07.705Z"
   },
   {
    "duration": 20,
    "start_time": "2024-11-28T21:28:09.688Z"
   },
   {
    "duration": 3,
    "start_time": "2024-11-28T21:28:58.058Z"
   },
   {
    "duration": 853,
    "start_time": "2024-11-28T21:29:00.096Z"
   },
   {
    "duration": 21,
    "start_time": "2024-11-28T21:29:00.951Z"
   },
   {
    "duration": 4,
    "start_time": "2024-11-28T21:29:51.678Z"
   },
   {
    "duration": 779,
    "start_time": "2024-11-28T21:29:54.520Z"
   },
   {
    "duration": 23,
    "start_time": "2024-11-28T21:29:55.300Z"
   },
   {
    "duration": 3,
    "start_time": "2024-11-28T21:31:04.186Z"
   },
   {
    "duration": 12237,
    "start_time": "2024-11-28T21:31:05.485Z"
   },
   {
    "duration": 178,
    "start_time": "2024-11-28T21:31:17.724Z"
   },
   {
    "duration": 3,
    "start_time": "2024-11-28T21:38:51.768Z"
   },
   {
    "duration": 2230,
    "start_time": "2024-11-28T21:38:54.269Z"
   },
   {
    "duration": 24,
    "start_time": "2024-11-28T21:38:56.500Z"
   },
   {
    "duration": 4,
    "start_time": "2024-11-28T21:40:40.297Z"
   },
   {
    "duration": 21,
    "start_time": "2024-11-28T21:40:41.496Z"
   },
   {
    "duration": 21,
    "start_time": "2024-11-28T21:40:42.643Z"
   },
   {
    "duration": 59,
    "start_time": "2024-11-28T21:42:04.193Z"
   },
   {
    "duration": 59,
    "start_time": "2024-11-28T21:42:04.456Z"
   },
   {
    "duration": 14,
    "start_time": "2024-11-28T21:42:04.685Z"
   },
   {
    "duration": 11,
    "start_time": "2024-11-28T21:42:05.129Z"
   },
   {
    "duration": 12,
    "start_time": "2024-11-28T21:42:05.347Z"
   },
   {
    "duration": 7,
    "start_time": "2024-11-28T21:42:05.553Z"
   },
   {
    "duration": 12,
    "start_time": "2024-11-28T21:42:05.925Z"
   },
   {
    "duration": 7,
    "start_time": "2024-11-28T21:42:06.124Z"
   },
   {
    "duration": 11,
    "start_time": "2024-11-28T21:42:06.332Z"
   },
   {
    "duration": 8,
    "start_time": "2024-11-28T21:42:06.547Z"
   },
   {
    "duration": 4,
    "start_time": "2024-11-28T21:42:07.041Z"
   },
   {
    "duration": 8,
    "start_time": "2024-11-28T21:42:07.276Z"
   },
   {
    "duration": 8,
    "start_time": "2024-11-28T21:42:07.515Z"
   },
   {
    "duration": 27,
    "start_time": "2024-11-28T21:42:07.773Z"
   },
   {
    "duration": 3,
    "start_time": "2024-11-28T21:42:08.042Z"
   },
   {
    "duration": 161,
    "start_time": "2024-11-28T21:42:08.814Z"
   },
   {
    "duration": 391,
    "start_time": "2024-11-28T21:42:09.544Z"
   },
   {
    "duration": 248,
    "start_time": "2024-11-28T21:42:09.984Z"
   },
   {
    "duration": 275,
    "start_time": "2024-11-28T21:42:10.697Z"
   },
   {
    "duration": 215,
    "start_time": "2024-11-28T21:42:11.469Z"
   },
   {
    "duration": 163,
    "start_time": "2024-11-28T21:42:11.840Z"
   },
   {
    "duration": 8011,
    "start_time": "2024-11-28T21:42:13.431Z"
   },
   {
    "duration": 2,
    "start_time": "2024-11-28T21:43:11.123Z"
   },
   {
    "duration": 64,
    "start_time": "2024-11-28T21:43:12.512Z"
   },
   {
    "duration": 69,
    "start_time": "2024-11-28T21:43:14.768Z"
   },
   {
    "duration": 23,
    "start_time": "2024-11-28T21:43:33.971Z"
   },
   {
    "duration": 14,
    "start_time": "2024-11-28T21:43:34.651Z"
   },
   {
    "duration": 3,
    "start_time": "2024-11-28T21:44:25.390Z"
   },
   {
    "duration": 4,
    "start_time": "2024-11-28T21:44:26.657Z"
   },
   {
    "duration": 6713,
    "start_time": "2024-11-28T21:44:28.890Z"
   },
   {
    "duration": 5,
    "start_time": "2024-11-28T21:45:27.548Z"
   },
   {
    "duration": 3,
    "start_time": "2024-11-28T21:45:28.099Z"
   },
   {
    "duration": 39,
    "start_time": "2024-11-28T21:45:34.204Z"
   },
   {
    "duration": 46,
    "start_time": "2024-11-28T21:45:39.842Z"
   },
   {
    "duration": 6023,
    "start_time": "2024-11-28T21:45:42.797Z"
   },
   {
    "duration": 3,
    "start_time": "2024-11-28T21:46:27.339Z"
   },
   {
    "duration": 4,
    "start_time": "2024-11-28T21:46:27.997Z"
   },
   {
    "duration": 11,
    "start_time": "2024-11-28T21:46:36.395Z"
   },
   {
    "duration": 12,
    "start_time": "2024-11-28T21:46:36.895Z"
   },
   {
    "duration": 3,
    "start_time": "2024-11-28T21:46:37.776Z"
   },
   {
    "duration": 5,
    "start_time": "2024-11-28T21:46:38.228Z"
   },
   {
    "duration": 5466,
    "start_time": "2024-11-28T21:46:39.640Z"
   },
   {
    "duration": 3,
    "start_time": "2024-11-28T21:47:11.689Z"
   },
   {
    "duration": 3,
    "start_time": "2024-11-28T21:47:12.481Z"
   },
   {
    "duration": 50,
    "start_time": "2024-11-28T21:47:13.714Z"
   },
   {
    "duration": 3,
    "start_time": "2024-11-28T21:47:40.306Z"
   },
   {
    "duration": 10,
    "start_time": "2024-11-28T21:47:40.811Z"
   },
   {
    "duration": 12,
    "start_time": "2024-11-28T21:47:41.477Z"
   },
   {
    "duration": 3,
    "start_time": "2024-11-28T21:47:42.456Z"
   },
   {
    "duration": 3,
    "start_time": "2024-11-28T21:48:22.575Z"
   },
   {
    "duration": 16,
    "start_time": "2024-11-28T21:48:23.128Z"
   },
   {
    "duration": 15,
    "start_time": "2024-11-28T21:48:23.559Z"
   },
   {
    "duration": 54,
    "start_time": "2024-11-28T21:48:24.170Z"
   },
   {
    "duration": 57,
    "start_time": "2024-11-28T21:48:24.573Z"
   },
   {
    "duration": 12,
    "start_time": "2024-11-28T21:48:25.054Z"
   },
   {
    "duration": 10,
    "start_time": "2024-11-28T21:48:26.761Z"
   },
   {
    "duration": 12,
    "start_time": "2024-11-28T21:48:26.984Z"
   },
   {
    "duration": 12,
    "start_time": "2024-11-28T21:48:27.177Z"
   },
   {
    "duration": 40,
    "start_time": "2024-11-28T21:48:27.588Z"
   },
   {
    "duration": 10,
    "start_time": "2024-11-28T21:48:27.792Z"
   },
   {
    "duration": 16,
    "start_time": "2024-11-28T21:48:27.983Z"
   },
   {
    "duration": 6,
    "start_time": "2024-11-28T21:48:28.173Z"
   },
   {
    "duration": 5,
    "start_time": "2024-11-28T21:48:28.540Z"
   },
   {
    "duration": 6,
    "start_time": "2024-11-28T21:48:28.749Z"
   },
   {
    "duration": 7,
    "start_time": "2024-11-28T21:48:28.932Z"
   },
   {
    "duration": 30,
    "start_time": "2024-11-28T21:48:29.133Z"
   },
   {
    "duration": 3,
    "start_time": "2024-11-28T21:48:29.326Z"
   },
   {
    "duration": 160,
    "start_time": "2024-11-28T21:48:29.743Z"
   },
   {
    "duration": 565,
    "start_time": "2024-11-28T21:48:30.203Z"
   },
   {
    "duration": 252,
    "start_time": "2024-11-28T21:48:31.031Z"
   },
   {
    "duration": 262,
    "start_time": "2024-11-28T21:48:32.080Z"
   },
   {
    "duration": 212,
    "start_time": "2024-11-28T21:48:33.149Z"
   },
   {
    "duration": 161,
    "start_time": "2024-11-28T21:48:33.706Z"
   },
   {
    "duration": 4023,
    "start_time": "2024-11-28T21:48:35.109Z"
   },
   {
    "duration": 2,
    "start_time": "2024-11-28T21:48:39.134Z"
   },
   {
    "duration": 11,
    "start_time": "2024-11-28T21:48:53.388Z"
   },
   {
    "duration": 12,
    "start_time": "2024-11-28T21:48:54.365Z"
   },
   {
    "duration": 4,
    "start_time": "2024-11-28T21:48:55.777Z"
   },
   {
    "duration": 4,
    "start_time": "2024-11-28T21:48:56.590Z"
   },
   {
    "duration": 5777,
    "start_time": "2024-11-28T21:48:58.621Z"
   },
   {
    "duration": 3,
    "start_time": "2024-11-28T21:50:55.153Z"
   },
   {
    "duration": 1120,
    "start_time": "2024-11-28T21:50:55.640Z"
   },
   {
    "duration": 0,
    "start_time": "2024-11-28T21:50:56.762Z"
   },
   {
    "duration": 29,
    "start_time": "2024-11-28T21:51:21.211Z"
   },
   {
    "duration": 17,
    "start_time": "2024-11-28T21:51:45.085Z"
   },
   {
    "duration": 1103,
    "start_time": "2024-11-28T21:51:58.292Z"
   },
   {
    "duration": 18,
    "start_time": "2024-11-28T21:52:27.865Z"
   },
   {
    "duration": 16,
    "start_time": "2024-11-28T21:52:57.363Z"
   },
   {
    "duration": 18,
    "start_time": "2024-11-28T21:52:58.136Z"
   },
   {
    "duration": 58,
    "start_time": "2024-11-28T21:52:58.585Z"
   },
   {
    "duration": 55,
    "start_time": "2024-11-28T21:52:58.849Z"
   },
   {
    "duration": 18,
    "start_time": "2024-11-28T21:52:59.184Z"
   },
   {
    "duration": 10,
    "start_time": "2024-11-28T21:52:59.711Z"
   },
   {
    "duration": 12,
    "start_time": "2024-11-28T21:52:59.950Z"
   },
   {
    "duration": 12,
    "start_time": "2024-11-28T21:53:00.159Z"
   },
   {
    "duration": 22,
    "start_time": "2024-11-28T21:53:00.574Z"
   },
   {
    "duration": 9,
    "start_time": "2024-11-28T21:53:00.808Z"
   },
   {
    "duration": 12,
    "start_time": "2024-11-28T21:53:01.228Z"
   },
   {
    "duration": 1067,
    "start_time": "2024-11-28T21:53:01.443Z"
   },
   {
    "duration": 0,
    "start_time": "2024-11-28T21:53:02.512Z"
   },
   {
    "duration": 0,
    "start_time": "2024-11-28T21:53:02.514Z"
   },
   {
    "duration": 0,
    "start_time": "2024-11-28T21:53:02.515Z"
   },
   {
    "duration": 25,
    "start_time": "2024-11-28T21:53:02.695Z"
   },
   {
    "duration": 3,
    "start_time": "2024-11-28T21:53:02.902Z"
   },
   {
    "duration": 162,
    "start_time": "2024-11-28T21:53:04.855Z"
   },
   {
    "duration": 402,
    "start_time": "2024-11-28T21:53:05.461Z"
   },
   {
    "duration": 266,
    "start_time": "2024-11-28T21:53:05.865Z"
   },
   {
    "duration": 267,
    "start_time": "2024-11-28T21:53:06.425Z"
   },
   {
    "duration": 216,
    "start_time": "2024-11-28T21:53:07.247Z"
   },
   {
    "duration": 1174,
    "start_time": "2024-11-28T21:53:07.641Z"
   },
   {
    "duration": 3,
    "start_time": "2024-11-28T21:53:33.735Z"
   },
   {
    "duration": 24,
    "start_time": "2024-11-28T21:53:34.620Z"
   },
   {
    "duration": 12,
    "start_time": "2024-11-28T21:53:37.415Z"
   },
   {
    "duration": 3,
    "start_time": "2024-11-28T21:53:39.787Z"
   },
   {
    "duration": 3,
    "start_time": "2024-11-28T21:53:48.709Z"
   },
   {
    "duration": 5,
    "start_time": "2024-11-28T21:53:49.530Z"
   },
   {
    "duration": 5322,
    "start_time": "2024-11-28T21:53:51.276Z"
   },
   {
    "duration": 3,
    "start_time": "2024-11-28T21:55:51.215Z"
   },
   {
    "duration": 25,
    "start_time": "2024-11-28T21:55:51.703Z"
   },
   {
    "duration": 15,
    "start_time": "2024-11-28T21:55:52.405Z"
   },
   {
    "duration": 3,
    "start_time": "2024-11-28T21:55:53.558Z"
   },
   {
    "duration": 5,
    "start_time": "2024-11-28T21:55:54.408Z"
   },
   {
    "duration": 7921,
    "start_time": "2024-11-28T21:55:55.555Z"
   },
   {
    "duration": 3,
    "start_time": "2024-11-28T21:56:27.443Z"
   },
   {
    "duration": 4,
    "start_time": "2024-11-28T21:56:28.238Z"
   },
   {
    "duration": 5001,
    "start_time": "2024-11-28T21:56:30.092Z"
   },
   {
    "duration": 2,
    "start_time": "2024-11-28T21:57:39.312Z"
   },
   {
    "duration": 19,
    "start_time": "2024-11-28T21:57:39.780Z"
   },
   {
    "duration": 12,
    "start_time": "2024-11-28T21:57:40.948Z"
   },
   {
    "duration": 3,
    "start_time": "2024-11-28T21:57:48.477Z"
   },
   {
    "duration": 7,
    "start_time": "2024-11-28T21:57:49.217Z"
   },
   {
    "duration": 4921,
    "start_time": "2024-11-28T21:57:51.479Z"
   },
   {
    "duration": 16,
    "start_time": "2024-11-28T21:58:29.924Z"
   },
   {
    "duration": 3,
    "start_time": "2024-11-28T21:58:52.341Z"
   },
   {
    "duration": 13,
    "start_time": "2024-11-28T21:58:52.860Z"
   },
   {
    "duration": 13,
    "start_time": "2024-11-28T21:58:53.076Z"
   },
   {
    "duration": 59,
    "start_time": "2024-11-28T21:58:53.279Z"
   },
   {
    "duration": 54,
    "start_time": "2024-11-28T21:58:53.493Z"
   },
   {
    "duration": 12,
    "start_time": "2024-11-28T21:58:53.913Z"
   },
   {
    "duration": 9,
    "start_time": "2024-11-28T21:58:54.343Z"
   },
   {
    "duration": 13,
    "start_time": "2024-11-28T21:58:54.633Z"
   },
   {
    "duration": 12,
    "start_time": "2024-11-28T21:58:54.870Z"
   },
   {
    "duration": 23,
    "start_time": "2024-11-28T21:58:55.342Z"
   },
   {
    "duration": 8,
    "start_time": "2024-11-28T21:58:55.566Z"
   },
   {
    "duration": 20,
    "start_time": "2024-11-28T21:58:55.767Z"
   },
   {
    "duration": 972,
    "start_time": "2024-11-28T21:58:55.976Z"
   },
   {
    "duration": 0,
    "start_time": "2024-11-28T21:58:56.950Z"
   },
   {
    "duration": 1205,
    "start_time": "2024-11-28T21:58:57.000Z"
   },
   {
    "duration": 0,
    "start_time": "2024-11-28T21:58:58.207Z"
   },
   {
    "duration": 0,
    "start_time": "2024-11-28T21:58:58.209Z"
   },
   {
    "duration": 3,
    "start_time": "2024-11-28T21:58:58.556Z"
   },
   {
    "duration": 166,
    "start_time": "2024-11-28T21:58:59.687Z"
   },
   {
    "duration": 558,
    "start_time": "2024-11-28T21:59:00.363Z"
   },
   {
    "duration": 263,
    "start_time": "2024-11-28T21:59:00.997Z"
   },
   {
    "duration": 264,
    "start_time": "2024-11-28T21:59:01.738Z"
   },
   {
    "duration": 237,
    "start_time": "2024-11-28T21:59:02.538Z"
   },
   {
    "duration": 1008,
    "start_time": "2024-11-28T21:59:02.794Z"
   },
   {
    "duration": 3605,
    "start_time": "2024-11-28T21:59:04.120Z"
   },
   {
    "duration": 2,
    "start_time": "2024-11-28T22:00:14.276Z"
   },
   {
    "duration": 1159,
    "start_time": "2024-11-28T22:00:15.476Z"
   },
   {
    "duration": 29,
    "start_time": "2024-11-28T22:00:16.637Z"
   },
   {
    "duration": 56,
    "start_time": "2024-11-28T22:00:16.668Z"
   },
   {
    "duration": 3,
    "start_time": "2024-11-28T22:00:17.304Z"
   },
   {
    "duration": 22,
    "start_time": "2024-11-28T22:00:17.667Z"
   },
   {
    "duration": 16,
    "start_time": "2024-11-28T22:00:18.196Z"
   },
   {
    "duration": 62,
    "start_time": "2024-11-28T22:00:18.610Z"
   },
   {
    "duration": 59,
    "start_time": "2024-11-28T22:00:18.835Z"
   },
   {
    "duration": 14,
    "start_time": "2024-11-28T22:00:19.043Z"
   },
   {
    "duration": 11,
    "start_time": "2024-11-28T22:00:19.619Z"
   },
   {
    "duration": 14,
    "start_time": "2024-11-28T22:00:19.842Z"
   },
   {
    "duration": 8,
    "start_time": "2024-11-28T22:00:19.972Z"
   },
   {
    "duration": 13,
    "start_time": "2024-11-28T22:00:20.362Z"
   },
   {
    "duration": 8,
    "start_time": "2024-11-28T22:00:20.558Z"
   },
   {
    "duration": 12,
    "start_time": "2024-11-28T22:00:20.753Z"
   },
   {
    "duration": 6,
    "start_time": "2024-11-28T22:00:20.921Z"
   },
   {
    "duration": 5,
    "start_time": "2024-11-28T22:00:21.322Z"
   },
   {
    "duration": 6,
    "start_time": "2024-11-28T22:00:21.531Z"
   },
   {
    "duration": 6,
    "start_time": "2024-11-28T22:00:21.734Z"
   },
   {
    "duration": 33,
    "start_time": "2024-11-28T22:00:21.989Z"
   },
   {
    "duration": 2,
    "start_time": "2024-11-28T22:00:22.269Z"
   },
   {
    "duration": 178,
    "start_time": "2024-11-28T22:00:22.898Z"
   },
   {
    "duration": 394,
    "start_time": "2024-11-28T22:00:23.448Z"
   },
   {
    "duration": 255,
    "start_time": "2024-11-28T22:00:23.857Z"
   },
   {
    "duration": 252,
    "start_time": "2024-11-28T22:00:24.290Z"
   },
   {
    "duration": 250,
    "start_time": "2024-11-28T22:00:25.050Z"
   },
   {
    "duration": 167,
    "start_time": "2024-11-28T22:00:25.305Z"
   },
   {
    "duration": 4286,
    "start_time": "2024-11-28T22:00:26.632Z"
   },
   {
    "duration": 3,
    "start_time": "2024-11-28T22:00:40.954Z"
   },
   {
    "duration": 17,
    "start_time": "2024-11-28T22:00:41.617Z"
   },
   {
    "duration": 13,
    "start_time": "2024-11-28T22:00:42.887Z"
   },
   {
    "duration": 3,
    "start_time": "2024-11-28T22:00:44.584Z"
   },
   {
    "duration": 3,
    "start_time": "2024-11-28T22:00:54.047Z"
   },
   {
    "duration": 4,
    "start_time": "2024-11-28T22:00:54.746Z"
   },
   {
    "duration": 4954,
    "start_time": "2024-11-28T22:00:56.747Z"
   },
   {
    "duration": 53,
    "start_time": "2024-11-28T22:01:39.052Z"
   },
   {
    "duration": 32,
    "start_time": "2024-11-28T22:01:39.700Z"
   },
   {
    "duration": 3,
    "start_time": "2024-11-28T22:01:40.744Z"
   },
   {
    "duration": 4,
    "start_time": "2024-11-28T22:01:41.593Z"
   },
   {
    "duration": 0,
    "start_time": "2024-11-28T22:10:10.547Z"
   },
   {
    "duration": 11046,
    "start_time": "2024-11-28T22:10:25.130Z"
   },
   {
    "duration": 7,
    "start_time": "2024-11-28T22:11:14.114Z"
   },
   {
    "duration": 4,
    "start_time": "2024-11-28T22:11:14.839Z"
   },
   {
    "duration": 3,
    "start_time": "2024-11-28T22:11:15.027Z"
   },
   {
    "duration": 5,
    "start_time": "2024-11-28T22:11:15.215Z"
   },
   {
    "duration": 3,
    "start_time": "2024-11-28T22:11:15.755Z"
   },
   {
    "duration": 3,
    "start_time": "2024-11-28T22:11:15.995Z"
   },
   {
    "duration": 3,
    "start_time": "2024-11-28T22:11:16.201Z"
   },
   {
    "duration": 3,
    "start_time": "2024-11-28T22:11:16.396Z"
   },
   {
    "duration": 64,
    "start_time": "2024-11-28T22:11:16.632Z"
   },
   {
    "duration": 26,
    "start_time": "2024-11-28T22:11:16.837Z"
   },
   {
    "duration": 15,
    "start_time": "2024-11-28T22:11:17.067Z"
   },
   {
    "duration": 12,
    "start_time": "2024-11-28T22:11:17.279Z"
   },
   {
    "duration": 9,
    "start_time": "2024-11-28T22:11:17.747Z"
   },
   {
    "duration": 2,
    "start_time": "2024-11-28T22:11:19.906Z"
   },
   {
    "duration": 9,
    "start_time": "2024-11-28T22:11:20.205Z"
   },
   {
    "duration": 3,
    "start_time": "2024-11-28T22:11:20.622Z"
   },
   {
    "duration": 256,
    "start_time": "2024-11-28T22:11:20.817Z"
   },
   {
    "duration": 4,
    "start_time": "2024-11-28T22:11:21.075Z"
   },
   {
    "duration": 59,
    "start_time": "2024-11-28T22:11:21.221Z"
   },
   {
    "duration": 4,
    "start_time": "2024-11-28T22:11:21.618Z"
   },
   {
    "duration": 3,
    "start_time": "2024-11-28T22:11:22.034Z"
   },
   {
    "duration": 3,
    "start_time": "2024-11-28T22:11:22.271Z"
   },
   {
    "duration": 3,
    "start_time": "2024-11-28T22:11:22.662Z"
   },
   {
    "duration": 2059,
    "start_time": "2024-11-28T22:11:23.092Z"
   },
   {
    "duration": 7,
    "start_time": "2024-11-28T22:11:25.153Z"
   },
   {
    "duration": 3,
    "start_time": "2024-11-28T22:11:26.059Z"
   },
   {
    "duration": 242,
    "start_time": "2024-11-28T22:11:26.513Z"
   },
   {
    "duration": 8,
    "start_time": "2024-11-28T22:11:26.822Z"
   },
   {
    "duration": 5,
    "start_time": "2024-11-28T22:11:27.027Z"
   },
   {
    "duration": 237,
    "start_time": "2024-11-28T22:11:27.424Z"
   },
   {
    "duration": 3,
    "start_time": "2024-11-28T22:11:27.811Z"
   },
   {
    "duration": 310,
    "start_time": "2024-11-28T22:11:28.000Z"
   },
   {
    "duration": 13,
    "start_time": "2024-11-28T22:11:28.409Z"
   },
   {
    "duration": 240,
    "start_time": "2024-11-28T22:11:28.620Z"
   },
   {
    "duration": 3,
    "start_time": "2024-11-28T22:11:29.006Z"
   },
   {
    "duration": 229,
    "start_time": "2024-11-28T22:11:29.217Z"
   },
   {
    "duration": 7,
    "start_time": "2024-11-28T22:11:29.632Z"
   },
   {
    "duration": 226,
    "start_time": "2024-11-28T22:11:29.863Z"
   },
   {
    "duration": 3,
    "start_time": "2024-11-28T22:11:31.968Z"
   },
   {
    "duration": 489,
    "start_time": "2024-11-28T22:11:32.505Z"
   },
   {
    "duration": 9,
    "start_time": "2024-11-28T22:11:32.996Z"
   },
   {
    "duration": 3,
    "start_time": "2024-11-28T22:11:38.849Z"
   },
   {
    "duration": 4022,
    "start_time": "2024-11-28T22:11:39.061Z"
   },
   {
    "duration": 11,
    "start_time": "2024-11-28T22:11:43.084Z"
   },
   {
    "duration": 711,
    "start_time": "2024-11-28T22:11:43.096Z"
   },
   {
    "duration": 3,
    "start_time": "2024-11-28T22:11:43.809Z"
   },
   {
    "duration": 488,
    "start_time": "2024-11-28T22:11:43.813Z"
   },
   {
    "duration": 7,
    "start_time": "2024-11-28T22:11:44.303Z"
   },
   {
    "duration": 137,
    "start_time": "2024-11-28T22:11:44.368Z"
   },
   {
    "duration": 3,
    "start_time": "2024-11-28T22:11:47.156Z"
   },
   {
    "duration": 93,
    "start_time": "2024-11-28T22:11:49.582Z"
   },
   {
    "duration": 3,
    "start_time": "2024-11-28T22:12:37.295Z"
   },
   {
    "duration": 10271,
    "start_time": "2024-11-28T22:12:39.248Z"
   },
   {
    "duration": 143,
    "start_time": "2024-11-28T22:12:49.522Z"
   },
   {
    "duration": 43,
    "start_time": "2024-11-28T22:12:52.404Z"
   },
   {
    "duration": 3,
    "start_time": "2024-11-28T22:13:04.471Z"
   },
   {
    "duration": 15,
    "start_time": "2024-11-28T22:13:05.057Z"
   },
   {
    "duration": 17,
    "start_time": "2024-11-28T22:13:05.689Z"
   },
   {
    "duration": 66,
    "start_time": "2024-11-28T22:13:06.330Z"
   },
   {
    "duration": 65,
    "start_time": "2024-11-28T22:13:07.071Z"
   },
   {
    "duration": 15,
    "start_time": "2024-11-28T22:13:07.749Z"
   },
   {
    "duration": 10,
    "start_time": "2024-11-28T22:13:08.598Z"
   },
   {
    "duration": 12,
    "start_time": "2024-11-28T22:13:09.056Z"
   },
   {
    "duration": 8,
    "start_time": "2024-11-28T22:13:09.427Z"
   },
   {
    "duration": 13,
    "start_time": "2024-11-28T22:13:10.221Z"
   },
   {
    "duration": 7,
    "start_time": "2024-11-28T22:13:10.639Z"
   },
   {
    "duration": 11,
    "start_time": "2024-11-28T22:13:10.872Z"
   },
   {
    "duration": 6,
    "start_time": "2024-11-28T22:13:11.067Z"
   },
   {
    "duration": 4,
    "start_time": "2024-11-28T22:13:11.421Z"
   },
   {
    "duration": 6,
    "start_time": "2024-11-28T22:13:11.611Z"
   },
   {
    "duration": 6,
    "start_time": "2024-11-28T22:13:11.798Z"
   },
   {
    "duration": 31,
    "start_time": "2024-11-28T22:13:11.999Z"
   },
   {
    "duration": 6,
    "start_time": "2024-11-28T22:13:12.153Z"
   },
   {
    "duration": 158,
    "start_time": "2024-11-28T22:13:12.548Z"
   },
   {
    "duration": 404,
    "start_time": "2024-11-28T22:13:13.200Z"
   },
   {
    "duration": 261,
    "start_time": "2024-11-28T22:13:13.910Z"
   },
   {
    "duration": 269,
    "start_time": "2024-11-28T22:13:14.471Z"
   },
   {
    "duration": 217,
    "start_time": "2024-11-28T22:13:14.988Z"
   },
   {
    "duration": 172,
    "start_time": "2024-11-28T22:13:15.215Z"
   },
   {
    "duration": 4850,
    "start_time": "2024-11-28T22:13:15.647Z"
   },
   {
    "duration": 3,
    "start_time": "2024-11-28T22:13:50.584Z"
   },
   {
    "duration": 18,
    "start_time": "2024-11-28T22:13:51.085Z"
   },
   {
    "duration": 11,
    "start_time": "2024-11-28T22:13:51.647Z"
   },
   {
    "duration": 4,
    "start_time": "2024-11-28T22:13:52.664Z"
   },
   {
    "duration": 4,
    "start_time": "2024-11-28T22:13:53.569Z"
   },
   {
    "duration": 5036,
    "start_time": "2024-11-28T22:13:55.129Z"
   },
   {
    "duration": 3,
    "start_time": "2024-11-28T22:14:38.124Z"
   },
   {
    "duration": 4,
    "start_time": "2024-11-28T22:14:38.639Z"
   },
   {
    "duration": 31,
    "start_time": "2024-11-28T22:14:39.316Z"
   },
   {
    "duration": 13,
    "start_time": "2024-11-28T22:14:42.448Z"
   },
   {
    "duration": 427,
    "start_time": "2024-11-28T22:14:45.270Z"
   },
   {
    "duration": 3,
    "start_time": "2024-11-28T22:19:17.796Z"
   },
   {
    "duration": 16,
    "start_time": "2024-11-28T22:19:18.287Z"
   },
   {
    "duration": 17,
    "start_time": "2024-11-28T22:19:18.737Z"
   },
   {
    "duration": 3,
    "start_time": "2024-11-28T22:19:38.068Z"
   },
   {
    "duration": 1189,
    "start_time": "2024-11-28T22:19:40.593Z"
   },
   {
    "duration": 37,
    "start_time": "2024-11-28T22:19:41.784Z"
   },
   {
    "duration": 41,
    "start_time": "2024-11-28T22:19:46.855Z"
   },
   {
    "duration": 4,
    "start_time": "2024-11-28T22:20:06.009Z"
   },
   {
    "duration": 15,
    "start_time": "2024-11-28T22:20:12.237Z"
   },
   {
    "duration": 4,
    "start_time": "2024-11-28T22:21:43.539Z"
   },
   {
    "duration": 1133,
    "start_time": "2024-11-28T22:21:44.936Z"
   },
   {
    "duration": 38,
    "start_time": "2024-11-28T22:21:46.071Z"
   },
   {
    "duration": 38,
    "start_time": "2024-11-28T22:21:48.275Z"
   },
   {
    "duration": 3,
    "start_time": "2024-11-28T22:21:50.752Z"
   },
   {
    "duration": 14,
    "start_time": "2024-11-28T22:21:53.587Z"
   },
   {
    "duration": 15,
    "start_time": "2024-11-28T22:21:54.608Z"
   },
   {
    "duration": 65,
    "start_time": "2024-11-28T22:21:55.760Z"
   },
   {
    "duration": 59,
    "start_time": "2024-11-28T22:21:57.039Z"
   },
   {
    "duration": 14,
    "start_time": "2024-11-28T22:21:58.276Z"
   },
   {
    "duration": 12,
    "start_time": "2024-11-28T22:22:00.111Z"
   },
   {
    "duration": 12,
    "start_time": "2024-11-28T22:22:00.570Z"
   },
   {
    "duration": 8,
    "start_time": "2024-11-28T22:22:01.006Z"
   },
   {
    "duration": 12,
    "start_time": "2024-11-28T22:22:01.979Z"
   },
   {
    "duration": 8,
    "start_time": "2024-11-28T22:22:02.618Z"
   },
   {
    "duration": 11,
    "start_time": "2024-11-28T22:22:03.146Z"
   },
   {
    "duration": 8,
    "start_time": "2024-11-28T22:22:03.695Z"
   },
   {
    "duration": 4,
    "start_time": "2024-11-28T22:22:04.622Z"
   },
   {
    "duration": 8,
    "start_time": "2024-11-28T22:22:04.911Z"
   },
   {
    "duration": 7,
    "start_time": "2024-11-28T22:22:05.395Z"
   },
   {
    "duration": 38,
    "start_time": "2024-11-28T22:22:05.977Z"
   },
   {
    "duration": 6,
    "start_time": "2024-11-28T22:22:06.580Z"
   },
   {
    "duration": 156,
    "start_time": "2024-11-28T22:22:07.623Z"
   },
   {
    "duration": 388,
    "start_time": "2024-11-28T22:22:08.588Z"
   },
   {
    "duration": 257,
    "start_time": "2024-11-28T22:22:09.781Z"
   },
   {
    "duration": 262,
    "start_time": "2024-11-28T22:22:10.990Z"
   },
   {
    "duration": 216,
    "start_time": "2024-11-28T22:22:12.026Z"
   },
   {
    "duration": 163,
    "start_time": "2024-11-28T22:22:12.875Z"
   },
   {
    "duration": 10856,
    "start_time": "2024-11-28T22:22:16.084Z"
   },
   {
    "duration": 3,
    "start_time": "2024-11-28T22:22:58.374Z"
   },
   {
    "duration": 16,
    "start_time": "2024-11-28T22:22:58.923Z"
   },
   {
    "duration": 72,
    "start_time": "2024-11-28T22:23:17.767Z"
   },
   {
    "duration": 16,
    "start_time": "2024-11-28T22:23:25.149Z"
   },
   {
    "duration": 12,
    "start_time": "2024-11-28T22:23:26.231Z"
   },
   {
    "duration": 3,
    "start_time": "2024-11-28T22:23:27.314Z"
   },
   {
    "duration": 4,
    "start_time": "2024-11-28T22:25:05.563Z"
   },
   {
    "duration": 6,
    "start_time": "2024-11-28T22:25:06.253Z"
   },
   {
    "duration": 5071,
    "start_time": "2024-11-28T22:25:08.027Z"
   },
   {
    "duration": 431,
    "start_time": "2024-11-28T22:31:04.935Z"
   },
   {
    "duration": 3,
    "start_time": "2024-11-28T22:31:58.348Z"
   },
   {
    "duration": 1176,
    "start_time": "2024-11-28T22:31:59.288Z"
   },
   {
    "duration": 38,
    "start_time": "2024-11-28T22:32:00.466Z"
   },
   {
    "duration": 42,
    "start_time": "2024-11-28T22:32:01.194Z"
   },
   {
    "duration": 83,
    "start_time": "2024-11-28T22:40:34.778Z"
   },
   {
    "duration": 3,
    "start_time": "2024-11-28T22:40:56.914Z"
   },
   {
    "duration": 1138,
    "start_time": "2024-11-28T22:40:58.493Z"
   },
   {
    "duration": 27,
    "start_time": "2024-11-28T22:40:59.633Z"
   },
   {
    "duration": 42,
    "start_time": "2024-11-28T22:41:00.298Z"
   },
   {
    "duration": 2,
    "start_time": "2024-11-28T22:41:17.178Z"
   },
   {
    "duration": 9,
    "start_time": "2024-11-28T22:41:17.653Z"
   },
   {
    "duration": 10,
    "start_time": "2024-11-28T22:41:18.289Z"
   },
   {
    "duration": 29,
    "start_time": "2024-11-28T22:41:18.878Z"
   },
   {
    "duration": 32,
    "start_time": "2024-11-28T22:41:19.447Z"
   },
   {
    "duration": 13,
    "start_time": "2024-11-28T22:41:19.998Z"
   },
   {
    "duration": 10,
    "start_time": "2024-11-28T22:41:21.101Z"
   },
   {
    "duration": 12,
    "start_time": "2024-11-28T22:41:21.504Z"
   },
   {
    "duration": 8,
    "start_time": "2024-11-28T22:41:21.721Z"
   },
   {
    "duration": 11,
    "start_time": "2024-11-28T22:41:22.131Z"
   },
   {
    "duration": 7,
    "start_time": "2024-11-28T22:41:22.325Z"
   },
   {
    "duration": 11,
    "start_time": "2024-11-28T22:41:22.513Z"
   },
   {
    "duration": 1071,
    "start_time": "2024-11-28T22:41:22.701Z"
   },
   {
    "duration": 0,
    "start_time": "2024-11-28T22:41:23.773Z"
   },
   {
    "duration": 0,
    "start_time": "2024-11-28T22:41:23.774Z"
   },
   {
    "duration": 0,
    "start_time": "2024-11-28T22:41:23.776Z"
   },
   {
    "duration": 29,
    "start_time": "2024-11-28T22:41:23.871Z"
   },
   {
    "duration": 6,
    "start_time": "2024-11-28T22:41:24.263Z"
   },
   {
    "duration": 146,
    "start_time": "2024-11-28T22:41:24.986Z"
   },
   {
    "duration": 1077,
    "start_time": "2024-11-28T22:41:25.433Z"
   },
   {
    "duration": 0,
    "start_time": "2024-11-28T22:41:26.512Z"
   },
   {
    "duration": 213,
    "start_time": "2024-11-28T22:41:26.602Z"
   },
   {
    "duration": 215,
    "start_time": "2024-11-28T22:41:27.299Z"
   },
   {
    "duration": 1047,
    "start_time": "2024-11-28T22:41:27.583Z"
   },
   {
    "duration": 3674,
    "start_time": "2024-11-28T22:41:30.629Z"
   },
   {
    "duration": 3,
    "start_time": "2024-11-28T22:41:34.936Z"
   },
   {
    "duration": 16,
    "start_time": "2024-11-28T22:41:40.480Z"
   },
   {
    "duration": 12,
    "start_time": "2024-11-28T22:41:41.327Z"
   },
   {
    "duration": 3,
    "start_time": "2024-11-28T22:41:48.587Z"
   },
   {
    "duration": 5,
    "start_time": "2024-11-28T22:41:49.811Z"
   },
   {
    "duration": 4851,
    "start_time": "2024-11-28T22:41:51.247Z"
   },
   {
    "duration": 4,
    "start_time": "2024-11-28T22:42:41.446Z"
   },
   {
    "duration": 20,
    "start_time": "2024-11-28T22:42:42.257Z"
   },
   {
    "duration": 3,
    "start_time": "2024-11-28T22:42:51.090Z"
   },
   {
    "duration": 1167,
    "start_time": "2024-11-28T22:42:52.096Z"
   },
   {
    "duration": 43,
    "start_time": "2024-11-28T22:42:53.265Z"
   },
   {
    "duration": 41,
    "start_time": "2024-11-28T22:42:53.310Z"
   },
   {
    "duration": 3,
    "start_time": "2024-11-28T22:42:55.329Z"
   },
   {
    "duration": 8,
    "start_time": "2024-11-28T22:42:56.246Z"
   },
   {
    "duration": 11,
    "start_time": "2024-11-28T22:42:57.284Z"
   },
   {
    "duration": 29,
    "start_time": "2024-11-28T22:42:58.240Z"
   },
   {
    "duration": 25,
    "start_time": "2024-11-28T22:42:58.860Z"
   },
   {
    "duration": 14,
    "start_time": "2024-11-28T22:42:59.764Z"
   },
   {
    "duration": 10,
    "start_time": "2024-11-28T22:43:00.467Z"
   },
   {
    "duration": 13,
    "start_time": "2024-11-28T22:43:00.658Z"
   },
   {
    "duration": 9,
    "start_time": "2024-11-28T22:43:00.854Z"
   },
   {
    "duration": 13,
    "start_time": "2024-11-28T22:43:01.265Z"
   },
   {
    "duration": 9,
    "start_time": "2024-11-28T22:43:01.474Z"
   },
   {
    "duration": 11,
    "start_time": "2024-11-28T22:43:01.933Z"
   },
   {
    "duration": 1000,
    "start_time": "2024-11-28T22:43:02.599Z"
   },
   {
    "duration": 0,
    "start_time": "2024-11-28T22:43:03.601Z"
   },
   {
    "duration": 1013,
    "start_time": "2024-11-28T22:43:03.801Z"
   },
   {
    "duration": 0,
    "start_time": "2024-11-28T22:43:04.816Z"
   },
   {
    "duration": 0,
    "start_time": "2024-11-28T22:43:04.818Z"
   },
   {
    "duration": 0,
    "start_time": "2024-11-28T22:43:04.819Z"
   },
   {
    "duration": 151,
    "start_time": "2024-11-28T22:43:05.434Z"
   },
   {
    "duration": 1051,
    "start_time": "2024-11-28T22:43:05.860Z"
   },
   {
    "duration": 0,
    "start_time": "2024-11-28T22:43:06.913Z"
   },
   {
    "duration": 231,
    "start_time": "2024-11-28T22:43:07.402Z"
   },
   {
    "duration": 234,
    "start_time": "2024-11-28T22:43:08.236Z"
   },
   {
    "duration": 980,
    "start_time": "2024-11-28T22:43:08.501Z"
   },
   {
    "duration": 3598,
    "start_time": "2024-11-28T22:43:10.388Z"
   },
   {
    "duration": 9,
    "start_time": "2024-11-28T22:43:31.050Z"
   },
   {
    "duration": 12,
    "start_time": "2024-11-28T22:43:32.046Z"
   },
   {
    "duration": 2,
    "start_time": "2024-11-28T22:43:41.438Z"
   },
   {
    "duration": 5,
    "start_time": "2024-11-28T22:43:42.176Z"
   },
   {
    "duration": 7577,
    "start_time": "2024-11-28T22:43:43.294Z"
   },
   {
    "duration": 3,
    "start_time": "2024-11-28T22:44:38.306Z"
   },
   {
    "duration": 1163,
    "start_time": "2024-11-28T22:44:43.968Z"
   },
   {
    "duration": 148,
    "start_time": "2024-11-28T22:44:45.132Z"
   },
   {
    "duration": 54,
    "start_time": "2024-11-28T22:44:45.282Z"
   },
   {
    "duration": 3,
    "start_time": "2024-11-28T22:44:49.473Z"
   },
   {
    "duration": 8,
    "start_time": "2024-11-28T22:44:52.086Z"
   },
   {
    "duration": 12,
    "start_time": "2024-11-28T22:44:52.802Z"
   },
   {
    "duration": 30,
    "start_time": "2024-11-28T22:44:53.726Z"
   },
   {
    "duration": 24,
    "start_time": "2024-11-28T22:44:54.467Z"
   },
   {
    "duration": 15,
    "start_time": "2024-11-28T22:45:01.012Z"
   },
   {
    "duration": 13,
    "start_time": "2024-11-28T22:45:01.493Z"
   },
   {
    "duration": 13,
    "start_time": "2024-11-28T22:45:01.688Z"
   },
   {
    "duration": 9,
    "start_time": "2024-11-28T22:45:01.883Z"
   },
   {
    "duration": 15,
    "start_time": "2024-11-28T22:45:02.277Z"
   },
   {
    "duration": 8,
    "start_time": "2024-11-28T22:45:02.479Z"
   },
   {
    "duration": 12,
    "start_time": "2024-11-28T22:45:02.691Z"
   },
   {
    "duration": 1315,
    "start_time": "2024-11-28T22:45:02.900Z"
   },
   {
    "duration": 0,
    "start_time": "2024-11-28T22:45:04.218Z"
   },
   {
    "duration": 0,
    "start_time": "2024-11-28T22:45:04.219Z"
   },
   {
    "duration": 0,
    "start_time": "2024-11-28T22:45:04.221Z"
   },
   {
    "duration": 33,
    "start_time": "2024-11-28T22:45:04.296Z"
   },
   {
    "duration": 3,
    "start_time": "2024-11-28T22:45:04.524Z"
   },
   {
    "duration": 151,
    "start_time": "2024-11-28T22:45:05.114Z"
   },
   {
    "duration": 592,
    "start_time": "2024-11-28T22:45:05.589Z"
   },
   {
    "duration": 244,
    "start_time": "2024-11-28T22:45:06.184Z"
   },
   {
    "duration": 237,
    "start_time": "2024-11-28T22:45:06.951Z"
   },
   {
    "duration": 229,
    "start_time": "2024-11-28T22:45:07.896Z"
   },
   {
    "duration": 1233,
    "start_time": "2024-11-28T22:45:08.468Z"
   },
   {
    "duration": 0,
    "start_time": "2024-11-28T22:45:09.703Z"
   },
   {
    "duration": 3,
    "start_time": "2024-11-28T22:45:19.289Z"
   },
   {
    "duration": 11,
    "start_time": "2024-11-28T22:45:19.776Z"
   },
   {
    "duration": 12,
    "start_time": "2024-11-28T22:45:20.421Z"
   },
   {
    "duration": 3,
    "start_time": "2024-11-28T22:45:21.360Z"
   },
   {
    "duration": 4,
    "start_time": "2024-11-28T22:45:21.910Z"
   },
   {
    "duration": 167,
    "start_time": "2024-11-28T22:45:23.254Z"
   },
   {
    "duration": 4,
    "start_time": "2024-11-28T22:46:07.610Z"
   },
   {
    "duration": 1110,
    "start_time": "2024-11-28T22:46:10.282Z"
   },
   {
    "duration": 28,
    "start_time": "2024-11-28T22:46:11.397Z"
   },
   {
    "duration": 38,
    "start_time": "2024-11-28T22:46:12.142Z"
   },
   {
    "duration": 3,
    "start_time": "2024-11-28T22:46:22.475Z"
   },
   {
    "duration": 8,
    "start_time": "2024-11-28T22:46:23.063Z"
   },
   {
    "duration": 15,
    "start_time": "2024-11-28T22:46:23.677Z"
   },
   {
    "duration": 28,
    "start_time": "2024-11-28T22:46:24.536Z"
   },
   {
    "duration": 23,
    "start_time": "2024-11-28T22:46:25.329Z"
   },
   {
    "duration": 21,
    "start_time": "2024-11-28T22:46:32.057Z"
   },
   {
    "duration": 14,
    "start_time": "2024-11-28T22:46:37.341Z"
   },
   {
    "duration": 11,
    "start_time": "2024-11-28T22:46:38.127Z"
   },
   {
    "duration": 8,
    "start_time": "2024-11-28T22:46:38.722Z"
   },
   {
    "duration": 12,
    "start_time": "2024-11-28T22:46:40.643Z"
   },
   {
    "duration": 13,
    "start_time": "2024-11-28T22:46:41.100Z"
   },
   {
    "duration": 18,
    "start_time": "2024-11-28T22:46:41.699Z"
   },
   {
    "duration": 22,
    "start_time": "2024-11-28T22:47:03.867Z"
   },
   {
    "duration": 22,
    "start_time": "2024-11-28T22:48:02.597Z"
   },
   {
    "duration": 14,
    "start_time": "2024-11-28T22:49:49.979Z"
   },
   {
    "duration": 20,
    "start_time": "2024-11-28T22:50:01.938Z"
   },
   {
    "duration": 14,
    "start_time": "2024-11-28T22:50:26.278Z"
   },
   {
    "duration": 6,
    "start_time": "2024-11-28T22:52:10.455Z"
   },
   {
    "duration": 6,
    "start_time": "2024-11-28T22:52:31.599Z"
   },
   {
    "duration": 6,
    "start_time": "2024-11-28T22:52:32.589Z"
   },
   {
    "duration": 28,
    "start_time": "2024-11-28T22:52:33.730Z"
   },
   {
    "duration": 25,
    "start_time": "2024-11-28T22:52:58.323Z"
   },
   {
    "duration": 2,
    "start_time": "2024-11-28T22:52:59.527Z"
   },
   {
    "duration": 155,
    "start_time": "2024-11-28T22:53:02.789Z"
   },
   {
    "duration": 374,
    "start_time": "2024-11-28T22:53:08.697Z"
   },
   {
    "duration": 402,
    "start_time": "2024-11-28T22:55:10.220Z"
   },
   {
    "duration": 206,
    "start_time": "2024-11-28T22:55:12.921Z"
   },
   {
    "duration": 216,
    "start_time": "2024-11-28T22:55:14.053Z"
   },
   {
    "duration": 220,
    "start_time": "2024-11-28T22:55:15.096Z"
   },
   {
    "duration": 1057,
    "start_time": "2024-11-28T22:55:15.585Z"
   },
   {
    "duration": 5282,
    "start_time": "2024-11-28T22:55:16.777Z"
   },
   {
    "duration": 3,
    "start_time": "2024-11-28T22:55:23.466Z"
   },
   {
    "duration": 39,
    "start_time": "2024-11-28T22:55:34.556Z"
   },
   {
    "duration": 31,
    "start_time": "2024-11-28T22:55:36.368Z"
   },
   {
    "duration": 3,
    "start_time": "2024-11-28T22:55:37.543Z"
   },
   {
    "duration": 5,
    "start_time": "2024-11-28T22:55:38.287Z"
   },
   {
    "duration": 1171674,
    "start_time": "2024-11-28T22:55:41.951Z"
   },
   {
    "duration": 27,
    "start_time": "2024-11-29T06:30:27.184Z"
   },
   {
    "duration": 190,
    "start_time": "2024-11-29T06:30:40.851Z"
   },
   {
    "duration": 4,
    "start_time": "2024-11-29T06:30:47.394Z"
   },
   {
    "duration": 4,
    "start_time": "2024-11-29T06:30:48.192Z"
   },
   {
    "duration": 332,
    "start_time": "2024-11-29T06:30:49.089Z"
   },
   {
    "duration": 1431,
    "start_time": "2024-11-29T06:30:50.292Z"
   },
   {
    "duration": 468,
    "start_time": "2024-11-29T06:30:54.222Z"
   },
   {
    "duration": 183,
    "start_time": "2024-11-29T06:31:28.170Z"
   },
   {
    "duration": 1158112,
    "start_time": "2024-11-29T06:32:01.387Z"
   },
   {
    "duration": 10962,
    "start_time": "2024-11-29T09:35:02.591Z"
   },
   {
    "duration": 11,
    "start_time": "2024-11-29T09:35:13.556Z"
   },
   {
    "duration": 23,
    "start_time": "2024-11-29T09:35:13.568Z"
   },
   {
    "duration": 7,
    "start_time": "2024-11-29T09:35:13.593Z"
   },
   {
    "duration": 8,
    "start_time": "2024-11-29T09:35:13.602Z"
   },
   {
    "duration": 18,
    "start_time": "2024-11-29T09:35:13.612Z"
   },
   {
    "duration": 3,
    "start_time": "2024-11-29T09:35:13.632Z"
   },
   {
    "duration": 6,
    "start_time": "2024-11-29T09:35:13.637Z"
   },
   {
    "duration": 7,
    "start_time": "2024-11-29T09:35:13.644Z"
   },
   {
    "duration": 81,
    "start_time": "2024-11-29T09:35:13.653Z"
   },
   {
    "duration": 20,
    "start_time": "2024-11-29T09:35:13.735Z"
   },
   {
    "duration": 14,
    "start_time": "2024-11-29T09:35:13.756Z"
   },
   {
    "duration": 8,
    "start_time": "2024-11-29T09:35:13.772Z"
   },
   {
    "duration": 9,
    "start_time": "2024-11-29T09:35:13.782Z"
   },
   {
    "duration": 7,
    "start_time": "2024-11-29T09:35:13.793Z"
   },
   {
    "duration": 11,
    "start_time": "2024-11-29T09:35:13.802Z"
   },
   {
    "duration": 11,
    "start_time": "2024-11-29T09:35:13.814Z"
   },
   {
    "duration": 249,
    "start_time": "2024-11-29T09:35:13.827Z"
   },
   {
    "duration": 5,
    "start_time": "2024-11-29T09:35:14.077Z"
   },
   {
    "duration": 60,
    "start_time": "2024-11-29T09:35:14.084Z"
   },
   {
    "duration": 4,
    "start_time": "2024-11-29T09:35:14.146Z"
   },
   {
    "duration": 12,
    "start_time": "2024-11-29T09:35:14.152Z"
   },
   {
    "duration": 5,
    "start_time": "2024-11-29T09:35:14.166Z"
   },
   {
    "duration": 5,
    "start_time": "2024-11-29T09:35:14.173Z"
   },
   {
    "duration": 1357,
    "start_time": "2024-11-29T09:35:14.180Z"
   },
   {
    "duration": 6,
    "start_time": "2024-11-29T09:35:15.539Z"
   },
   {
    "duration": 25,
    "start_time": "2024-11-29T09:35:15.547Z"
   },
   {
    "duration": 279,
    "start_time": "2024-11-29T09:35:15.577Z"
   },
   {
    "duration": 6,
    "start_time": "2024-11-29T09:35:15.858Z"
   },
   {
    "duration": 8,
    "start_time": "2024-11-29T09:35:15.866Z"
   },
   {
    "duration": 234,
    "start_time": "2024-11-29T09:35:15.875Z"
   },
   {
    "duration": 3,
    "start_time": "2024-11-29T09:35:16.110Z"
   },
   {
    "duration": 337,
    "start_time": "2024-11-29T09:35:16.114Z"
   },
   {
    "duration": 10,
    "start_time": "2024-11-29T09:35:16.454Z"
   },
   {
    "duration": 239,
    "start_time": "2024-11-29T09:35:16.465Z"
   },
   {
    "duration": 3,
    "start_time": "2024-11-29T09:35:16.706Z"
   },
   {
    "duration": 269,
    "start_time": "2024-11-29T09:35:16.711Z"
   },
   {
    "duration": 7,
    "start_time": "2024-11-29T09:35:16.982Z"
   },
   {
    "duration": 372,
    "start_time": "2024-11-29T09:35:16.991Z"
   },
   {
    "duration": 4,
    "start_time": "2024-11-29T09:35:17.365Z"
   },
   {
    "duration": 3428,
    "start_time": "2024-11-29T09:35:17.370Z"
   },
   {
    "duration": 9,
    "start_time": "2024-11-29T09:35:20.800Z"
   },
   {
    "duration": 24,
    "start_time": "2024-11-29T09:35:20.810Z"
   },
   {
    "duration": 5193,
    "start_time": "2024-11-29T09:35:20.836Z"
   },
   {
    "duration": 12,
    "start_time": "2024-11-29T09:35:26.031Z"
   },
   {
    "duration": 518,
    "start_time": "2024-11-29T09:35:26.044Z"
   },
   {
    "duration": 3,
    "start_time": "2024-11-29T09:35:26.564Z"
   },
   {
    "duration": 497,
    "start_time": "2024-11-29T09:35:26.568Z"
   },
   {
    "duration": 7,
    "start_time": "2024-11-29T09:35:27.067Z"
   },
   {
    "duration": 131,
    "start_time": "2024-11-29T09:35:27.076Z"
   },
   {
    "duration": 4,
    "start_time": "2024-11-29T09:35:27.209Z"
   },
   {
    "duration": 1158,
    "start_time": "2024-11-29T09:35:27.215Z"
   },
   {
    "duration": 44,
    "start_time": "2024-11-29T09:35:28.375Z"
   },
   {
    "duration": 40,
    "start_time": "2024-11-29T09:35:28.420Z"
   },
   {
    "duration": 3,
    "start_time": "2024-11-29T09:35:28.462Z"
   },
   {
    "duration": 16,
    "start_time": "2024-11-29T09:35:28.466Z"
   },
   {
    "duration": 24,
    "start_time": "2024-11-29T09:35:28.484Z"
   },
   {
    "duration": 29,
    "start_time": "2024-11-29T09:35:28.510Z"
   },
   {
    "duration": 32,
    "start_time": "2024-11-29T09:35:28.541Z"
   },
   {
    "duration": 33,
    "start_time": "2024-11-29T09:35:28.575Z"
   },
   {
    "duration": 21,
    "start_time": "2024-11-29T09:35:28.610Z"
   },
   {
    "duration": 15,
    "start_time": "2024-11-29T09:35:28.633Z"
   },
   {
    "duration": 9,
    "start_time": "2024-11-29T09:35:28.650Z"
   },
   {
    "duration": 30,
    "start_time": "2024-11-29T09:35:28.661Z"
   },
   {
    "duration": 8,
    "start_time": "2024-11-29T09:35:28.693Z"
   },
   {
    "duration": 26,
    "start_time": "2024-11-29T09:35:28.703Z"
   },
   {
    "duration": 36,
    "start_time": "2024-11-29T09:35:28.731Z"
   },
   {
    "duration": 16,
    "start_time": "2024-11-29T09:35:28.769Z"
   },
   {
    "duration": 29,
    "start_time": "2024-11-29T09:35:28.787Z"
   },
   {
    "duration": 18,
    "start_time": "2024-11-29T09:35:28.818Z"
   },
   {
    "duration": 7,
    "start_time": "2024-11-29T09:35:28.838Z"
   },
   {
    "duration": 6,
    "start_time": "2024-11-29T09:35:28.847Z"
   },
   {
    "duration": 52,
    "start_time": "2024-11-29T09:35:28.854Z"
   },
   {
    "duration": 27,
    "start_time": "2024-11-29T09:35:28.907Z"
   },
   {
    "duration": 3,
    "start_time": "2024-11-29T09:38:32.708Z"
   },
   {
    "duration": 161,
    "start_time": "2024-11-29T09:38:41.263Z"
   },
   {
    "duration": 365,
    "start_time": "2024-11-29T09:38:42.643Z"
   },
   {
    "duration": 426,
    "start_time": "2024-11-29T09:40:45.217Z"
   },
   {
    "duration": 18,
    "start_time": "2024-11-29T09:41:41.183Z"
   },
   {
    "duration": 11,
    "start_time": "2024-11-29T09:41:46.617Z"
   },
   {
    "duration": 11,
    "start_time": "2024-11-29T09:42:01.035Z"
   },
   {
    "duration": 10,
    "start_time": "2024-11-29T09:42:41.547Z"
   },
   {
    "duration": 448,
    "start_time": "2024-11-29T09:43:09.025Z"
   },
   {
    "duration": 17,
    "start_time": "2024-11-29T09:43:41.375Z"
   },
   {
    "duration": 11,
    "start_time": "2024-11-29T09:43:49.762Z"
   },
   {
    "duration": 401,
    "start_time": "2024-11-29T09:43:50.873Z"
   },
   {
    "duration": 10,
    "start_time": "2024-11-29T09:45:03.053Z"
   },
   {
    "duration": 12,
    "start_time": "2024-11-29T09:45:04.350Z"
   },
   {
    "duration": 413,
    "start_time": "2024-11-29T09:45:05.392Z"
   },
   {
    "duration": 215,
    "start_time": "2024-11-29T09:45:40.030Z"
   },
   {
    "duration": 233,
    "start_time": "2024-11-29T09:45:57.285Z"
   },
   {
    "duration": 209,
    "start_time": "2024-11-29T09:46:24.559Z"
   },
   {
    "duration": 200,
    "start_time": "2024-11-29T09:47:09.780Z"
   },
   {
    "duration": 197,
    "start_time": "2024-11-29T09:47:52.217Z"
   },
   {
    "duration": 383,
    "start_time": "2024-11-29T09:48:44.399Z"
   },
   {
    "duration": 181,
    "start_time": "2024-11-29T10:00:36.195Z"
   },
   {
    "duration": 181,
    "start_time": "2024-11-29T10:02:14.144Z"
   },
   {
    "duration": 190,
    "start_time": "2024-11-29T10:03:31.914Z"
   },
   {
    "duration": 1620,
    "start_time": "2024-11-29T10:04:41.885Z"
   },
   {
    "duration": 3,
    "start_time": "2024-11-29T10:05:28.117Z"
   },
   {
    "duration": 64,
    "start_time": "2024-11-29T10:05:29.720Z"
   },
   {
    "duration": 34,
    "start_time": "2024-11-29T10:05:31.505Z"
   },
   {
    "duration": 4,
    "start_time": "2024-11-29T10:05:43.758Z"
   },
   {
    "duration": 4,
    "start_time": "2024-11-29T10:05:49.132Z"
   },
   {
    "duration": 1170383,
    "start_time": "2024-11-29T10:05:55.918Z"
   },
   {
    "duration": 33,
    "start_time": "2024-11-29T10:26:08.496Z"
   },
   {
    "duration": 175,
    "start_time": "2024-11-29T10:27:13.434Z"
   },
   {
    "duration": 4,
    "start_time": "2024-11-29T10:27:20.519Z"
   },
   {
    "duration": 4,
    "start_time": "2024-11-29T10:27:21.074Z"
   },
   {
    "duration": 326,
    "start_time": "2024-11-29T10:27:21.847Z"
   },
   {
    "duration": 1773,
    "start_time": "2024-11-29T10:27:24.995Z"
   },
   {
    "duration": 495,
    "start_time": "2024-11-29T10:27:40.234Z"
   },
   {
    "duration": 185,
    "start_time": "2024-11-29T10:30:33.619Z"
   }
  ],
  "kernelspec": {
   "display_name": "Python 3 (ipykernel)",
   "language": "python",
   "name": "python3"
  },
  "language_info": {
   "codemirror_mode": {
    "name": "ipython",
    "version": 3
   },
   "file_extension": ".py",
   "mimetype": "text/x-python",
   "name": "python",
   "nbconvert_exporter": "python",
   "pygments_lexer": "ipython3",
   "version": "3.9.7"
  },
  "toc": {
   "base_numbering": 1,
   "nav_menu": {},
   "number_sections": false,
   "sideBar": true,
   "skip_h1_title": false,
   "title_cell": "Table of Contents",
   "title_sidebar": "Contents",
   "toc_cell": false,
   "toc_position": {},
   "toc_section_display": true,
   "toc_window_display": false
  },
  "varInspector": {
   "cols": {
    "lenName": 16,
    "lenType": 16,
    "lenVar": 40
   },
   "kernels_config": {
    "python": {
     "delete_cmd_postfix": "",
     "delete_cmd_prefix": "del ",
     "library": "var_list.py",
     "varRefreshCmd": "print(var_dic_list())"
    },
    "r": {
     "delete_cmd_postfix": ") ",
     "delete_cmd_prefix": "rm(",
     "library": "var_list.r",
     "varRefreshCmd": "cat(var_dic_list()) "
    }
   },
   "types_to_exclude": [
    "module",
    "function",
    "builtin_function_or_method",
    "instance",
    "_Feature"
   ],
   "window_display": false
  }
 },
 "nbformat": 4,
 "nbformat_minor": 5
}
