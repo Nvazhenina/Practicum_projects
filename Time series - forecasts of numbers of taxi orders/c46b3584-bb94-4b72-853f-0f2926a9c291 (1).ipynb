{
 "cells": [
  {
   "cell_type": "markdown",
   "metadata": {
    "toc": true
   },
   "source": [
    "<h1>Содержание<span class=\"tocSkip\"></span></h1>\n",
    "<div class=\"toc\"><ul class=\"toc-item\"><li><span><a href=\"#Подготовка\" data-toc-modified-id=\"Подготовка-1\"><span class=\"toc-item-num\">1&nbsp;&nbsp;</span>Подготовка</a></span></li><li><span><a href=\"#Анализ\" data-toc-modified-id=\"Анализ-2\"><span class=\"toc-item-num\">2&nbsp;&nbsp;</span>Анализ</a></span></li><li><span><a href=\"#Обучение\" data-toc-modified-id=\"Обучение-3\"><span class=\"toc-item-num\">3&nbsp;&nbsp;</span>Обучение</a></span></li><li><span><a href=\"#Тестирование\" data-toc-modified-id=\"Тестирование-4\"><span class=\"toc-item-num\">4&nbsp;&nbsp;</span>Тестирование</a></span><ul class=\"toc-item\"><li><span><a href=\"#Выводы\" data-toc-modified-id=\"Выводы-4.1\"><span class=\"toc-item-num\">4.1&nbsp;&nbsp;</span>Выводы</a></span></li></ul></li><li><span><a href=\"#Чек-лист-проверки\" data-toc-modified-id=\"Чек-лист-проверки-5\"><span class=\"toc-item-num\">5&nbsp;&nbsp;</span>Чек-лист проверки</a></span></li></ul></div>"
   ]
  },
  {
   "cell_type": "markdown",
   "metadata": {},
   "source": [
    "#  Прогнозирование заказов такси"
   ]
  },
  {
   "cell_type": "markdown",
   "metadata": {},
   "source": [
    "Компания «Чётенькое такси» собрала исторические данные о заказах такси в аэропортах. Чтобы привлекать больше водителей в период пиковой нагрузки, нужно спрогнозировать количество заказов такси на следующий час. Постройте модель для такого предсказания.\n",
    "\n",
    "Значение метрики *RMSE* на тестовой выборке должно быть не больше 48.\n",
    "\n",
    "Вам нужно:\n",
    "\n",
    "1. Загрузить данные и выполнить их ресемплирование по одному часу.\n",
    "2. Проанализировать данные.\n",
    "3. Обучить разные модели с различными гиперпараметрами. Сделать тестовую выборку размером 10% от исходных данных.\n",
    "4. Проверить данные на тестовой выборке и сделать выводы.\n",
    "\n",
    "\n",
    "Данные лежат в файле `taxi.csv`. Количество заказов находится в столбце `num_orders` (от англ. *number of orders*, «число заказов»)."
   ]
  },
  {
   "cell_type": "markdown",
   "metadata": {},
   "source": [
    "## Подготовка"
   ]
  },
  {
   "cell_type": "code",
   "execution_count": 1,
   "metadata": {},
   "outputs": [],
   "source": [
    "import pandas as pd\n",
    "import numpy as np\n",
    "import matplotlib.pyplot as plt\n",
    "from statsmodels.tsa.seasonal import seasonal_decompose\n",
    "from sklearn.model_selection import train_test_split\n",
    "from sklearn.linear_model import LinearRegression\n",
    "from sklearn.metrics import mean_squared_error\n",
    "from sklearn.compose import ColumnTransformer\n",
    "\n",
    "from sklearn.tree import DecisionTreeRegressor\n",
    "from sklearn.ensemble import RandomForestRegressor, GradientBoostingRegressor\n",
    "import lightgbm as lgb\n",
    "import catboost as cb\n",
    "# загружаем класс pipeline\n",
    "from sklearn.pipeline import Pipeline\n",
    "\n",
    "# загружаем класс для работы с пропусками\n",
    "from sklearn.impute import SimpleImputer\n",
    "\n",
    "# импортируем класс RandomizedSearchCV\n",
    "from sklearn.model_selection import RandomizedSearchCV, TimeSeriesSplit\n",
    "\n",
    "from warnings import simplefilter\n",
    "\n",
    "from sklearn.feature_selection import SelectKBest, f_classif"
   ]
  },
  {
   "cell_type": "code",
   "execution_count": 2,
   "metadata": {},
   "outputs": [],
   "source": [
    "pd.set_option('chained_assignment', None)\n",
    "\n",
    "# ignore all future warnings\n",
    "simplefilter(action='ignore', category=FutureWarning)"
   ]
  },
  {
   "cell_type": "markdown",
   "metadata": {},
   "source": [
    "Загрузим данные. В качестве индекса возьмем дату и отсортируем по дате. Получим временной ряд."
   ]
  },
  {
   "cell_type": "code",
   "execution_count": 3,
   "metadata": {},
   "outputs": [],
   "source": [
    "data = pd.read_csv('/datasets/taxi.csv', index_col=[0], parse_dates=[0])\n",
    "data.sort_index(inplace=True)"
   ]
  },
  {
   "cell_type": "code",
   "execution_count": 4,
   "metadata": {},
   "outputs": [
    {
     "data": {
      "text/html": [
       "<div>\n",
       "<style scoped>\n",
       "    .dataframe tbody tr th:only-of-type {\n",
       "        vertical-align: middle;\n",
       "    }\n",
       "\n",
       "    .dataframe tbody tr th {\n",
       "        vertical-align: top;\n",
       "    }\n",
       "\n",
       "    .dataframe thead th {\n",
       "        text-align: right;\n",
       "    }\n",
       "</style>\n",
       "<table border=\"1\" class=\"dataframe\">\n",
       "  <thead>\n",
       "    <tr style=\"text-align: right;\">\n",
       "      <th></th>\n",
       "      <th>num_orders</th>\n",
       "    </tr>\n",
       "    <tr>\n",
       "      <th>datetime</th>\n",
       "      <th></th>\n",
       "    </tr>\n",
       "  </thead>\n",
       "  <tbody>\n",
       "    <tr>\n",
       "      <th>2018-03-01 00:00:00</th>\n",
       "      <td>9</td>\n",
       "    </tr>\n",
       "    <tr>\n",
       "      <th>2018-03-01 00:10:00</th>\n",
       "      <td>14</td>\n",
       "    </tr>\n",
       "    <tr>\n",
       "      <th>2018-03-01 00:20:00</th>\n",
       "      <td>28</td>\n",
       "    </tr>\n",
       "    <tr>\n",
       "      <th>2018-03-01 00:30:00</th>\n",
       "      <td>20</td>\n",
       "    </tr>\n",
       "    <tr>\n",
       "      <th>2018-03-01 00:40:00</th>\n",
       "      <td>32</td>\n",
       "    </tr>\n",
       "  </tbody>\n",
       "</table>\n",
       "</div>"
      ],
      "text/plain": [
       "                     num_orders\n",
       "datetime                       \n",
       "2018-03-01 00:00:00           9\n",
       "2018-03-01 00:10:00          14\n",
       "2018-03-01 00:20:00          28\n",
       "2018-03-01 00:30:00          20\n",
       "2018-03-01 00:40:00          32"
      ]
     },
     "execution_count": 4,
     "metadata": {},
     "output_type": "execute_result"
    }
   ],
   "source": [
    "data.head()"
   ]
  },
  {
   "cell_type": "markdown",
   "metadata": {},
   "source": [
    "Сейчас данные по количеству заказов за каждые десять минут. Сделаем ресемплирование данных по одному часу."
   ]
  },
  {
   "cell_type": "code",
   "execution_count": 5,
   "metadata": {},
   "outputs": [],
   "source": [
    "data = data.resample('1H').sum()"
   ]
  },
  {
   "cell_type": "code",
   "execution_count": 6,
   "metadata": {},
   "outputs": [
    {
     "data": {
      "text/html": [
       "<div>\n",
       "<style scoped>\n",
       "    .dataframe tbody tr th:only-of-type {\n",
       "        vertical-align: middle;\n",
       "    }\n",
       "\n",
       "    .dataframe tbody tr th {\n",
       "        vertical-align: top;\n",
       "    }\n",
       "\n",
       "    .dataframe thead th {\n",
       "        text-align: right;\n",
       "    }\n",
       "</style>\n",
       "<table border=\"1\" class=\"dataframe\">\n",
       "  <thead>\n",
       "    <tr style=\"text-align: right;\">\n",
       "      <th></th>\n",
       "      <th>num_orders</th>\n",
       "    </tr>\n",
       "    <tr>\n",
       "      <th>datetime</th>\n",
       "      <th></th>\n",
       "    </tr>\n",
       "  </thead>\n",
       "  <tbody>\n",
       "    <tr>\n",
       "      <th>2018-03-01 00:00:00</th>\n",
       "      <td>124</td>\n",
       "    </tr>\n",
       "    <tr>\n",
       "      <th>2018-03-01 01:00:00</th>\n",
       "      <td>85</td>\n",
       "    </tr>\n",
       "    <tr>\n",
       "      <th>2018-03-01 02:00:00</th>\n",
       "      <td>71</td>\n",
       "    </tr>\n",
       "    <tr>\n",
       "      <th>2018-03-01 03:00:00</th>\n",
       "      <td>66</td>\n",
       "    </tr>\n",
       "    <tr>\n",
       "      <th>2018-03-01 04:00:00</th>\n",
       "      <td>43</td>\n",
       "    </tr>\n",
       "  </tbody>\n",
       "</table>\n",
       "</div>"
      ],
      "text/plain": [
       "                     num_orders\n",
       "datetime                       \n",
       "2018-03-01 00:00:00         124\n",
       "2018-03-01 01:00:00          85\n",
       "2018-03-01 02:00:00          71\n",
       "2018-03-01 03:00:00          66\n",
       "2018-03-01 04:00:00          43"
      ]
     },
     "execution_count": 6,
     "metadata": {},
     "output_type": "execute_result"
    }
   ],
   "source": [
    "data.head()"
   ]
  },
  {
   "cell_type": "markdown",
   "metadata": {},
   "source": [
    "## Анализ"
   ]
  },
  {
   "cell_type": "code",
   "execution_count": 7,
   "metadata": {},
   "outputs": [
    {
     "name": "stdout",
     "output_type": "stream",
     "text": [
      "<class 'pandas.core.frame.DataFrame'>\n",
      "DatetimeIndex: 4416 entries, 2018-03-01 00:00:00 to 2018-08-31 23:00:00\n",
      "Freq: H\n",
      "Data columns (total 1 columns):\n",
      " #   Column      Non-Null Count  Dtype\n",
      "---  ------      --------------  -----\n",
      " 0   num_orders  4416 non-null   int64\n",
      "dtypes: int64(1)\n",
      "memory usage: 69.0 KB\n"
     ]
    }
   ],
   "source": [
    "data.info()"
   ]
  },
  {
   "cell_type": "markdown",
   "metadata": {},
   "source": [
    "Всего получили 4416 строк после ресемплирования."
   ]
  },
  {
   "cell_type": "code",
   "execution_count": 8,
   "metadata": {},
   "outputs": [
    {
     "data": {
      "text/plain": [
       "num_orders    0\n",
       "dtype: int64"
      ]
     },
     "execution_count": 8,
     "metadata": {},
     "output_type": "execute_result"
    }
   ],
   "source": [
    "#Проверка на пропуски в данных\n",
    "data.isna().sum()"
   ]
  },
  {
   "cell_type": "markdown",
   "metadata": {},
   "source": [
    "Пропусков в данных не наблюдаем."
   ]
  },
  {
   "cell_type": "code",
   "execution_count": 9,
   "metadata": {},
   "outputs": [
    {
     "data": {
      "text/html": [
       "<div>\n",
       "<style scoped>\n",
       "    .dataframe tbody tr th:only-of-type {\n",
       "        vertical-align: middle;\n",
       "    }\n",
       "\n",
       "    .dataframe tbody tr th {\n",
       "        vertical-align: top;\n",
       "    }\n",
       "\n",
       "    .dataframe thead th {\n",
       "        text-align: right;\n",
       "    }\n",
       "</style>\n",
       "<table border=\"1\" class=\"dataframe\">\n",
       "  <thead>\n",
       "    <tr style=\"text-align: right;\">\n",
       "      <th></th>\n",
       "      <th>num_orders</th>\n",
       "    </tr>\n",
       "  </thead>\n",
       "  <tbody>\n",
       "    <tr>\n",
       "      <th>count</th>\n",
       "      <td>4416.000000</td>\n",
       "    </tr>\n",
       "    <tr>\n",
       "      <th>mean</th>\n",
       "      <td>84.422781</td>\n",
       "    </tr>\n",
       "    <tr>\n",
       "      <th>std</th>\n",
       "      <td>45.023853</td>\n",
       "    </tr>\n",
       "    <tr>\n",
       "      <th>min</th>\n",
       "      <td>0.000000</td>\n",
       "    </tr>\n",
       "    <tr>\n",
       "      <th>25%</th>\n",
       "      <td>54.000000</td>\n",
       "    </tr>\n",
       "    <tr>\n",
       "      <th>50%</th>\n",
       "      <td>78.000000</td>\n",
       "    </tr>\n",
       "    <tr>\n",
       "      <th>75%</th>\n",
       "      <td>107.000000</td>\n",
       "    </tr>\n",
       "    <tr>\n",
       "      <th>max</th>\n",
       "      <td>462.000000</td>\n",
       "    </tr>\n",
       "  </tbody>\n",
       "</table>\n",
       "</div>"
      ],
      "text/plain": [
       "        num_orders\n",
       "count  4416.000000\n",
       "mean     84.422781\n",
       "std      45.023853\n",
       "min       0.000000\n",
       "25%      54.000000\n",
       "50%      78.000000\n",
       "75%     107.000000\n",
       "max     462.000000"
      ]
     },
     "execution_count": 9,
     "metadata": {},
     "output_type": "execute_result"
    }
   ],
   "source": [
    "data.describe()"
   ]
  },
  {
   "cell_type": "markdown",
   "metadata": {},
   "source": [
    "Среднее количество заказов в час составляет 84, медиана 78. Разброс заказов довольно большой. Максимальное число заказов составило 462."
   ]
  },
  {
   "cell_type": "markdown",
   "metadata": {},
   "source": [
    "Построим динамику количества заказов и добавим скользящее среднее - среднее количество заказов за сутки."
   ]
  },
  {
   "cell_type": "code",
   "execution_count": 10,
   "metadata": {},
   "outputs": [
    {
     "data": {
      "image/png": "[encoded data removed]",
      "text/plain": [
       "<Figure size 1080x720 with 1 Axes>"
      ]
     },
     "metadata": {
      "needs_background": "light"
     },
     "output_type": "display_data"
    }
   ],
   "source": [
    "data['rolling_mean'] = data. rolling(24).mean()\n",
    "\n",
    "data.plot(figsize = (15,10), title = 'Динамика заказов такси')\n",
    "plt.xlabel(\"Дата\");\n",
    "plt.ylabel(\"Количество заказов\")\n",
    "plt.legend(['Заказы за час', 'Скользящее среднее заказов за сутки']);"
   ]
  },
  {
   "cell_type": "markdown",
   "metadata": {},
   "source": [
    "В целом видим тенденцию к увеличению количества заказов и выраженнуб суточную сезонность."
   ]
  },
  {
   "cell_type": "code",
   "execution_count": 11,
   "metadata": {},
   "outputs": [
    {
     "data": {
      "text/html": [
       "<div>\n",
       "<style scoped>\n",
       "    .dataframe tbody tr th:only-of-type {\n",
       "        vertical-align: middle;\n",
       "    }\n",
       "\n",
       "    .dataframe tbody tr th {\n",
       "        vertical-align: top;\n",
       "    }\n",
       "\n",
       "    .dataframe thead th {\n",
       "        text-align: right;\n",
       "    }\n",
       "</style>\n",
       "<table border=\"1\" class=\"dataframe\">\n",
       "  <thead>\n",
       "    <tr style=\"text-align: right;\">\n",
       "      <th></th>\n",
       "      <th>num_orders</th>\n",
       "      <th>rolling_mean</th>\n",
       "    </tr>\n",
       "    <tr>\n",
       "      <th>datetime</th>\n",
       "      <th></th>\n",
       "      <th></th>\n",
       "    </tr>\n",
       "  </thead>\n",
       "  <tbody>\n",
       "    <tr>\n",
       "      <th>2018-03-01 00:00:00</th>\n",
       "      <td>124</td>\n",
       "      <td>NaN</td>\n",
       "    </tr>\n",
       "    <tr>\n",
       "      <th>2018-03-01 01:00:00</th>\n",
       "      <td>85</td>\n",
       "      <td>NaN</td>\n",
       "    </tr>\n",
       "    <tr>\n",
       "      <th>2018-03-01 02:00:00</th>\n",
       "      <td>71</td>\n",
       "      <td>NaN</td>\n",
       "    </tr>\n",
       "    <tr>\n",
       "      <th>2018-03-01 03:00:00</th>\n",
       "      <td>66</td>\n",
       "      <td>NaN</td>\n",
       "    </tr>\n",
       "    <tr>\n",
       "      <th>2018-03-01 04:00:00</th>\n",
       "      <td>43</td>\n",
       "      <td>NaN</td>\n",
       "    </tr>\n",
       "    <tr>\n",
       "      <th>...</th>\n",
       "      <td>...</td>\n",
       "      <td>...</td>\n",
       "    </tr>\n",
       "    <tr>\n",
       "      <th>2018-08-31 19:00:00</th>\n",
       "      <td>136</td>\n",
       "      <td>167.541667</td>\n",
       "    </tr>\n",
       "    <tr>\n",
       "      <th>2018-08-31 20:00:00</th>\n",
       "      <td>154</td>\n",
       "      <td>168.041667</td>\n",
       "    </tr>\n",
       "    <tr>\n",
       "      <th>2018-08-31 21:00:00</th>\n",
       "      <td>159</td>\n",
       "      <td>166.416667</td>\n",
       "    </tr>\n",
       "    <tr>\n",
       "      <th>2018-08-31 22:00:00</th>\n",
       "      <td>223</td>\n",
       "      <td>169.125000</td>\n",
       "    </tr>\n",
       "    <tr>\n",
       "      <th>2018-08-31 23:00:00</th>\n",
       "      <td>205</td>\n",
       "      <td>167.416667</td>\n",
       "    </tr>\n",
       "  </tbody>\n",
       "</table>\n",
       "<p>4416 rows × 2 columns</p>\n",
       "</div>"
      ],
      "text/plain": [
       "                     num_orders  rolling_mean\n",
       "datetime                                     \n",
       "2018-03-01 00:00:00         124           NaN\n",
       "2018-03-01 01:00:00          85           NaN\n",
       "2018-03-01 02:00:00          71           NaN\n",
       "2018-03-01 03:00:00          66           NaN\n",
       "2018-03-01 04:00:00          43           NaN\n",
       "...                         ...           ...\n",
       "2018-08-31 19:00:00         136    167.541667\n",
       "2018-08-31 20:00:00         154    168.041667\n",
       "2018-08-31 21:00:00         159    166.416667\n",
       "2018-08-31 22:00:00         223    169.125000\n",
       "2018-08-31 23:00:00         205    167.416667\n",
       "\n",
       "[4416 rows x 2 columns]"
      ]
     },
     "execution_count": 11,
     "metadata": {},
     "output_type": "execute_result"
    }
   ],
   "source": [
    "data"
   ]
  },
  {
   "cell_type": "markdown",
   "metadata": {},
   "source": [
    "Выделим тренд, сезонную составляющую и остатки."
   ]
  },
  {
   "cell_type": "code",
   "execution_count": 12,
   "metadata": {
    "scrolled": true
   },
   "outputs": [
    {
     "data": {
      "image/png": "[encoded data removed]",
      "text/plain": [
       "<Figure size 1080x720 with 3 Axes>"
      ]
     },
     "metadata": {
      "needs_background": "light"
     },
     "output_type": "display_data"
    }
   ],
   "source": [
    "data = data.dropna()\n",
    "decomposed = seasonal_decompose(data['num_orders'])\n",
    "\n",
    "plt.figure(figsize=(15, 10))\n",
    "\n",
    "plt.subplot(311)\n",
    "# Чтобы график корректно отобразился, указываем его\n",
    "# оси ax, равными plt.gca() (англ. get current axis,\n",
    "# получить текущие оси)\n",
    "decomposed.trend.plot(ax=plt.gca())\n",
    "plt.title('Тренд')\n",
    "plt.xlabel('Дата')\n",
    "plt.subplot(312)\n",
    "decomposed. seasonal. plot(ax=plt.gca())\n",
    "# < напишите код здесь >\n",
    "plt.title('Сезонность')\n",
    "plt.xlabel('Дата')\n",
    "plt.subplot(313)\n",
    "# < напишите код здесь >\n",
    "decomposed. resid.plot(ax = plt.gca())\n",
    "plt.title('Остатки')\n",
    "plt.xlabel('Дата')\n",
    "plt.tight_layout()"
   ]
  },
  {
   "cell_type": "markdown",
   "metadata": {},
   "source": [
    "Тренд на увеличение числа заказов есть. Сезонность лучше посмотреть на более коротком отрезке времени. Закономерностей в остатках не выявлено."
   ]
  },
  {
   "cell_type": "code",
   "execution_count": 13,
   "metadata": {},
   "outputs": [
    {
     "data": {
      "image/png": "[encoded data removed]",
      "text/plain": [
       "<Figure size 1080x720 with 2 Axes>"
      ]
     },
     "metadata": {
      "needs_background": "light"
     },
     "output_type": "display_data"
    }
   ],
   "source": [
    "plt.figure(figsize=(15, 10))\n",
    "plt.subplot(311)\n",
    "decomposed.seasonal['2018-08-15':'2018-08-31'].plot(ax=plt.gca())\n",
    "plt.title('Сезонность за последние две недели')\n",
    "plt.xlabel('Дата')\n",
    "plt.subplot(312)\n",
    "decomposed.seasonal['2018-08-30':'2018-08-31'].plot(ax=plt.gca())\n",
    "plt.title('Сезонность: двое суток')\n",
    "plt.xlabel('Дата')\n",
    "plt.tight_layout()"
   ]
  },
  {
   "cell_type": "markdown",
   "metadata": {},
   "source": [
    "Период сезонности  - сутки. Наибольший пик достигается в полночь. Затем количество заказов плавно снижается до 6 утра, где достигает минимума. А затем снова начинает расти."
   ]
  },
  {
   "cell_type": "markdown",
   "metadata": {},
   "source": [
    "## Обучение"
   ]
  },
  {
   "cell_type": "code",
   "execution_count": 14,
   "metadata": {},
   "outputs": [],
   "source": [
    "# функция для создания допольнительных признаков:\n",
    "# год, месяц, день, день недели\n",
    "# lag_1,..,lag_max_lag - смещения значений, значения за предыдущий час, ..за час max_lag\n",
    "def make_features(data, max_lag, rolling_mean_size):\n",
    "    data_features = data.copy()\n",
    "    data_features['year'] = data_features.index.year\n",
    "    data_features['month'] = data_features.index.month\n",
    "    data_features['day'] = data_features.index.day\n",
    "    data_features['dayofweek'] = data_features.index.dayofweek\n",
    "    \n",
    "    for lag in range(1, max_lag + 1):\n",
    "        data_features['lag_{}'.format(lag)] = data_features['num_orders'].shift(lag)\n",
    "\n",
    "    data_features['rolling_mean'] = data_features['num_orders'].shift().rolling(rolling_mean_size).mean()\n",
    "    return data_features\n"
   ]
  },
  {
   "cell_type": "markdown",
   "metadata": {},
   "source": [
    "Добавим в наши данные признаки:<br>\n",
    "- год<br>\n",
    "- месяц<br>\n",
    "- день<br>\n",
    "- день недели<br>\n",
    "- данные за предыдущие часы (lag_1,..,lag_24)"
   ]
  },
  {
   "cell_type": "code",
   "execution_count": 15,
   "metadata": {},
   "outputs": [],
   "source": [
    "data_features = make_features(data, 24, 24)"
   ]
  },
  {
   "cell_type": "code",
   "execution_count": 16,
   "metadata": {},
   "outputs": [
    {
     "data": {
      "text/html": [
       "<div>\n",
       "<style scoped>\n",
       "    .dataframe tbody tr th:only-of-type {\n",
       "        vertical-align: middle;\n",
       "    }\n",
       "\n",
       "    .dataframe tbody tr th {\n",
       "        vertical-align: top;\n",
       "    }\n",
       "\n",
       "    .dataframe thead th {\n",
       "        text-align: right;\n",
       "    }\n",
       "</style>\n",
       "<table border=\"1\" class=\"dataframe\">\n",
       "  <thead>\n",
       "    <tr style=\"text-align: right;\">\n",
       "      <th></th>\n",
       "      <th>num_orders</th>\n",
       "      <th>rolling_mean</th>\n",
       "      <th>year</th>\n",
       "      <th>month</th>\n",
       "      <th>day</th>\n",
       "      <th>dayofweek</th>\n",
       "      <th>lag_1</th>\n",
       "      <th>lag_2</th>\n",
       "      <th>lag_3</th>\n",
       "      <th>lag_4</th>\n",
       "      <th>...</th>\n",
       "      <th>lag_15</th>\n",
       "      <th>lag_16</th>\n",
       "      <th>lag_17</th>\n",
       "      <th>lag_18</th>\n",
       "      <th>lag_19</th>\n",
       "      <th>lag_20</th>\n",
       "      <th>lag_21</th>\n",
       "      <th>lag_22</th>\n",
       "      <th>lag_23</th>\n",
       "      <th>lag_24</th>\n",
       "    </tr>\n",
       "    <tr>\n",
       "      <th>datetime</th>\n",
       "      <th></th>\n",
       "      <th></th>\n",
       "      <th></th>\n",
       "      <th></th>\n",
       "      <th></th>\n",
       "      <th></th>\n",
       "      <th></th>\n",
       "      <th></th>\n",
       "      <th></th>\n",
       "      <th></th>\n",
       "      <th></th>\n",
       "      <th></th>\n",
       "      <th></th>\n",
       "      <th></th>\n",
       "      <th></th>\n",
       "      <th></th>\n",
       "      <th></th>\n",
       "      <th></th>\n",
       "      <th></th>\n",
       "      <th></th>\n",
       "      <th></th>\n",
       "    </tr>\n",
       "  </thead>\n",
       "  <tbody>\n",
       "    <tr>\n",
       "      <th>2018-03-01 23:00:00</th>\n",
       "      <td>58</td>\n",
       "      <td>NaN</td>\n",
       "      <td>2018</td>\n",
       "      <td>3</td>\n",
       "      <td>1</td>\n",
       "      <td>3</td>\n",
       "      <td>NaN</td>\n",
       "      <td>NaN</td>\n",
       "      <td>NaN</td>\n",
       "      <td>NaN</td>\n",
       "      <td>...</td>\n",
       "      <td>NaN</td>\n",
       "      <td>NaN</td>\n",
       "      <td>NaN</td>\n",
       "      <td>NaN</td>\n",
       "      <td>NaN</td>\n",
       "      <td>NaN</td>\n",
       "      <td>NaN</td>\n",
       "      <td>NaN</td>\n",
       "      <td>NaN</td>\n",
       "      <td>NaN</td>\n",
       "    </tr>\n",
       "    <tr>\n",
       "      <th>2018-03-02 00:00:00</th>\n",
       "      <td>90</td>\n",
       "      <td>NaN</td>\n",
       "      <td>2018</td>\n",
       "      <td>3</td>\n",
       "      <td>2</td>\n",
       "      <td>4</td>\n",
       "      <td>58.0</td>\n",
       "      <td>NaN</td>\n",
       "      <td>NaN</td>\n",
       "      <td>NaN</td>\n",
       "      <td>...</td>\n",
       "      <td>NaN</td>\n",
       "      <td>NaN</td>\n",
       "      <td>NaN</td>\n",
       "      <td>NaN</td>\n",
       "      <td>NaN</td>\n",
       "      <td>NaN</td>\n",
       "      <td>NaN</td>\n",
       "      <td>NaN</td>\n",
       "      <td>NaN</td>\n",
       "      <td>NaN</td>\n",
       "    </tr>\n",
       "    <tr>\n",
       "      <th>2018-03-02 01:00:00</th>\n",
       "      <td>120</td>\n",
       "      <td>NaN</td>\n",
       "      <td>2018</td>\n",
       "      <td>3</td>\n",
       "      <td>2</td>\n",
       "      <td>4</td>\n",
       "      <td>90.0</td>\n",
       "      <td>58.0</td>\n",
       "      <td>NaN</td>\n",
       "      <td>NaN</td>\n",
       "      <td>...</td>\n",
       "      <td>NaN</td>\n",
       "      <td>NaN</td>\n",
       "      <td>NaN</td>\n",
       "      <td>NaN</td>\n",
       "      <td>NaN</td>\n",
       "      <td>NaN</td>\n",
       "      <td>NaN</td>\n",
       "      <td>NaN</td>\n",
       "      <td>NaN</td>\n",
       "      <td>NaN</td>\n",
       "    </tr>\n",
       "    <tr>\n",
       "      <th>2018-03-02 02:00:00</th>\n",
       "      <td>75</td>\n",
       "      <td>NaN</td>\n",
       "      <td>2018</td>\n",
       "      <td>3</td>\n",
       "      <td>2</td>\n",
       "      <td>4</td>\n",
       "      <td>120.0</td>\n",
       "      <td>90.0</td>\n",
       "      <td>58.0</td>\n",
       "      <td>NaN</td>\n",
       "      <td>...</td>\n",
       "      <td>NaN</td>\n",
       "      <td>NaN</td>\n",
       "      <td>NaN</td>\n",
       "      <td>NaN</td>\n",
       "      <td>NaN</td>\n",
       "      <td>NaN</td>\n",
       "      <td>NaN</td>\n",
       "      <td>NaN</td>\n",
       "      <td>NaN</td>\n",
       "      <td>NaN</td>\n",
       "    </tr>\n",
       "    <tr>\n",
       "      <th>2018-03-02 03:00:00</th>\n",
       "      <td>64</td>\n",
       "      <td>NaN</td>\n",
       "      <td>2018</td>\n",
       "      <td>3</td>\n",
       "      <td>2</td>\n",
       "      <td>4</td>\n",
       "      <td>75.0</td>\n",
       "      <td>120.0</td>\n",
       "      <td>90.0</td>\n",
       "      <td>58.0</td>\n",
       "      <td>...</td>\n",
       "      <td>NaN</td>\n",
       "      <td>NaN</td>\n",
       "      <td>NaN</td>\n",
       "      <td>NaN</td>\n",
       "      <td>NaN</td>\n",
       "      <td>NaN</td>\n",
       "      <td>NaN</td>\n",
       "      <td>NaN</td>\n",
       "      <td>NaN</td>\n",
       "      <td>NaN</td>\n",
       "    </tr>\n",
       "    <tr>\n",
       "      <th>2018-03-02 04:00:00</th>\n",
       "      <td>20</td>\n",
       "      <td>NaN</td>\n",
       "      <td>2018</td>\n",
       "      <td>3</td>\n",
       "      <td>2</td>\n",
       "      <td>4</td>\n",
       "      <td>64.0</td>\n",
       "      <td>75.0</td>\n",
       "      <td>120.0</td>\n",
       "      <td>90.0</td>\n",
       "      <td>...</td>\n",
       "      <td>NaN</td>\n",
       "      <td>NaN</td>\n",
       "      <td>NaN</td>\n",
       "      <td>NaN</td>\n",
       "      <td>NaN</td>\n",
       "      <td>NaN</td>\n",
       "      <td>NaN</td>\n",
       "      <td>NaN</td>\n",
       "      <td>NaN</td>\n",
       "      <td>NaN</td>\n",
       "    </tr>\n",
       "    <tr>\n",
       "      <th>2018-03-02 05:00:00</th>\n",
       "      <td>11</td>\n",
       "      <td>NaN</td>\n",
       "      <td>2018</td>\n",
       "      <td>3</td>\n",
       "      <td>2</td>\n",
       "      <td>4</td>\n",
       "      <td>20.0</td>\n",
       "      <td>64.0</td>\n",
       "      <td>75.0</td>\n",
       "      <td>120.0</td>\n",
       "      <td>...</td>\n",
       "      <td>NaN</td>\n",
       "      <td>NaN</td>\n",
       "      <td>NaN</td>\n",
       "      <td>NaN</td>\n",
       "      <td>NaN</td>\n",
       "      <td>NaN</td>\n",
       "      <td>NaN</td>\n",
       "      <td>NaN</td>\n",
       "      <td>NaN</td>\n",
       "      <td>NaN</td>\n",
       "    </tr>\n",
       "    <tr>\n",
       "      <th>2018-03-02 06:00:00</th>\n",
       "      <td>11</td>\n",
       "      <td>NaN</td>\n",
       "      <td>2018</td>\n",
       "      <td>3</td>\n",
       "      <td>2</td>\n",
       "      <td>4</td>\n",
       "      <td>11.0</td>\n",
       "      <td>20.0</td>\n",
       "      <td>64.0</td>\n",
       "      <td>75.0</td>\n",
       "      <td>...</td>\n",
       "      <td>NaN</td>\n",
       "      <td>NaN</td>\n",
       "      <td>NaN</td>\n",
       "      <td>NaN</td>\n",
       "      <td>NaN</td>\n",
       "      <td>NaN</td>\n",
       "      <td>NaN</td>\n",
       "      <td>NaN</td>\n",
       "      <td>NaN</td>\n",
       "      <td>NaN</td>\n",
       "    </tr>\n",
       "    <tr>\n",
       "      <th>2018-03-02 07:00:00</th>\n",
       "      <td>7</td>\n",
       "      <td>NaN</td>\n",
       "      <td>2018</td>\n",
       "      <td>3</td>\n",
       "      <td>2</td>\n",
       "      <td>4</td>\n",
       "      <td>11.0</td>\n",
       "      <td>11.0</td>\n",
       "      <td>20.0</td>\n",
       "      <td>64.0</td>\n",
       "      <td>...</td>\n",
       "      <td>NaN</td>\n",
       "      <td>NaN</td>\n",
       "      <td>NaN</td>\n",
       "      <td>NaN</td>\n",
       "      <td>NaN</td>\n",
       "      <td>NaN</td>\n",
       "      <td>NaN</td>\n",
       "      <td>NaN</td>\n",
       "      <td>NaN</td>\n",
       "      <td>NaN</td>\n",
       "    </tr>\n",
       "    <tr>\n",
       "      <th>2018-03-02 08:00:00</th>\n",
       "      <td>46</td>\n",
       "      <td>NaN</td>\n",
       "      <td>2018</td>\n",
       "      <td>3</td>\n",
       "      <td>2</td>\n",
       "      <td>4</td>\n",
       "      <td>7.0</td>\n",
       "      <td>11.0</td>\n",
       "      <td>11.0</td>\n",
       "      <td>20.0</td>\n",
       "      <td>...</td>\n",
       "      <td>NaN</td>\n",
       "      <td>NaN</td>\n",
       "      <td>NaN</td>\n",
       "      <td>NaN</td>\n",
       "      <td>NaN</td>\n",
       "      <td>NaN</td>\n",
       "      <td>NaN</td>\n",
       "      <td>NaN</td>\n",
       "      <td>NaN</td>\n",
       "      <td>NaN</td>\n",
       "    </tr>\n",
       "    <tr>\n",
       "      <th>2018-03-02 09:00:00</th>\n",
       "      <td>45</td>\n",
       "      <td>NaN</td>\n",
       "      <td>2018</td>\n",
       "      <td>3</td>\n",
       "      <td>2</td>\n",
       "      <td>4</td>\n",
       "      <td>46.0</td>\n",
       "      <td>7.0</td>\n",
       "      <td>11.0</td>\n",
       "      <td>11.0</td>\n",
       "      <td>...</td>\n",
       "      <td>NaN</td>\n",
       "      <td>NaN</td>\n",
       "      <td>NaN</td>\n",
       "      <td>NaN</td>\n",
       "      <td>NaN</td>\n",
       "      <td>NaN</td>\n",
       "      <td>NaN</td>\n",
       "      <td>NaN</td>\n",
       "      <td>NaN</td>\n",
       "      <td>NaN</td>\n",
       "    </tr>\n",
       "    <tr>\n",
       "      <th>2018-03-02 10:00:00</th>\n",
       "      <td>54</td>\n",
       "      <td>NaN</td>\n",
       "      <td>2018</td>\n",
       "      <td>3</td>\n",
       "      <td>2</td>\n",
       "      <td>4</td>\n",
       "      <td>45.0</td>\n",
       "      <td>46.0</td>\n",
       "      <td>7.0</td>\n",
       "      <td>11.0</td>\n",
       "      <td>...</td>\n",
       "      <td>NaN</td>\n",
       "      <td>NaN</td>\n",
       "      <td>NaN</td>\n",
       "      <td>NaN</td>\n",
       "      <td>NaN</td>\n",
       "      <td>NaN</td>\n",
       "      <td>NaN</td>\n",
       "      <td>NaN</td>\n",
       "      <td>NaN</td>\n",
       "      <td>NaN</td>\n",
       "    </tr>\n",
       "    <tr>\n",
       "      <th>2018-03-02 11:00:00</th>\n",
       "      <td>91</td>\n",
       "      <td>NaN</td>\n",
       "      <td>2018</td>\n",
       "      <td>3</td>\n",
       "      <td>2</td>\n",
       "      <td>4</td>\n",
       "      <td>54.0</td>\n",
       "      <td>45.0</td>\n",
       "      <td>46.0</td>\n",
       "      <td>7.0</td>\n",
       "      <td>...</td>\n",
       "      <td>NaN</td>\n",
       "      <td>NaN</td>\n",
       "      <td>NaN</td>\n",
       "      <td>NaN</td>\n",
       "      <td>NaN</td>\n",
       "      <td>NaN</td>\n",
       "      <td>NaN</td>\n",
       "      <td>NaN</td>\n",
       "      <td>NaN</td>\n",
       "      <td>NaN</td>\n",
       "    </tr>\n",
       "    <tr>\n",
       "      <th>2018-03-02 12:00:00</th>\n",
       "      <td>36</td>\n",
       "      <td>NaN</td>\n",
       "      <td>2018</td>\n",
       "      <td>3</td>\n",
       "      <td>2</td>\n",
       "      <td>4</td>\n",
       "      <td>91.0</td>\n",
       "      <td>54.0</td>\n",
       "      <td>45.0</td>\n",
       "      <td>46.0</td>\n",
       "      <td>...</td>\n",
       "      <td>NaN</td>\n",
       "      <td>NaN</td>\n",
       "      <td>NaN</td>\n",
       "      <td>NaN</td>\n",
       "      <td>NaN</td>\n",
       "      <td>NaN</td>\n",
       "      <td>NaN</td>\n",
       "      <td>NaN</td>\n",
       "      <td>NaN</td>\n",
       "      <td>NaN</td>\n",
       "    </tr>\n",
       "    <tr>\n",
       "      <th>2018-03-02 13:00:00</th>\n",
       "      <td>45</td>\n",
       "      <td>NaN</td>\n",
       "      <td>2018</td>\n",
       "      <td>3</td>\n",
       "      <td>2</td>\n",
       "      <td>4</td>\n",
       "      <td>36.0</td>\n",
       "      <td>91.0</td>\n",
       "      <td>54.0</td>\n",
       "      <td>45.0</td>\n",
       "      <td>...</td>\n",
       "      <td>NaN</td>\n",
       "      <td>NaN</td>\n",
       "      <td>NaN</td>\n",
       "      <td>NaN</td>\n",
       "      <td>NaN</td>\n",
       "      <td>NaN</td>\n",
       "      <td>NaN</td>\n",
       "      <td>NaN</td>\n",
       "      <td>NaN</td>\n",
       "      <td>NaN</td>\n",
       "    </tr>\n",
       "    <tr>\n",
       "      <th>2018-03-02 14:00:00</th>\n",
       "      <td>44</td>\n",
       "      <td>NaN</td>\n",
       "      <td>2018</td>\n",
       "      <td>3</td>\n",
       "      <td>2</td>\n",
       "      <td>4</td>\n",
       "      <td>45.0</td>\n",
       "      <td>36.0</td>\n",
       "      <td>91.0</td>\n",
       "      <td>54.0</td>\n",
       "      <td>...</td>\n",
       "      <td>58.0</td>\n",
       "      <td>NaN</td>\n",
       "      <td>NaN</td>\n",
       "      <td>NaN</td>\n",
       "      <td>NaN</td>\n",
       "      <td>NaN</td>\n",
       "      <td>NaN</td>\n",
       "      <td>NaN</td>\n",
       "      <td>NaN</td>\n",
       "      <td>NaN</td>\n",
       "    </tr>\n",
       "    <tr>\n",
       "      <th>2018-03-02 15:00:00</th>\n",
       "      <td>59</td>\n",
       "      <td>NaN</td>\n",
       "      <td>2018</td>\n",
       "      <td>3</td>\n",
       "      <td>2</td>\n",
       "      <td>4</td>\n",
       "      <td>44.0</td>\n",
       "      <td>45.0</td>\n",
       "      <td>36.0</td>\n",
       "      <td>91.0</td>\n",
       "      <td>...</td>\n",
       "      <td>90.0</td>\n",
       "      <td>58.0</td>\n",
       "      <td>NaN</td>\n",
       "      <td>NaN</td>\n",
       "      <td>NaN</td>\n",
       "      <td>NaN</td>\n",
       "      <td>NaN</td>\n",
       "      <td>NaN</td>\n",
       "      <td>NaN</td>\n",
       "      <td>NaN</td>\n",
       "    </tr>\n",
       "    <tr>\n",
       "      <th>2018-03-02 16:00:00</th>\n",
       "      <td>82</td>\n",
       "      <td>NaN</td>\n",
       "      <td>2018</td>\n",
       "      <td>3</td>\n",
       "      <td>2</td>\n",
       "      <td>4</td>\n",
       "      <td>59.0</td>\n",
       "      <td>44.0</td>\n",
       "      <td>45.0</td>\n",
       "      <td>36.0</td>\n",
       "      <td>...</td>\n",
       "      <td>120.0</td>\n",
       "      <td>90.0</td>\n",
       "      <td>58.0</td>\n",
       "      <td>NaN</td>\n",
       "      <td>NaN</td>\n",
       "      <td>NaN</td>\n",
       "      <td>NaN</td>\n",
       "      <td>NaN</td>\n",
       "      <td>NaN</td>\n",
       "      <td>NaN</td>\n",
       "    </tr>\n",
       "    <tr>\n",
       "      <th>2018-03-02 17:00:00</th>\n",
       "      <td>83</td>\n",
       "      <td>NaN</td>\n",
       "      <td>2018</td>\n",
       "      <td>3</td>\n",
       "      <td>2</td>\n",
       "      <td>4</td>\n",
       "      <td>82.0</td>\n",
       "      <td>59.0</td>\n",
       "      <td>44.0</td>\n",
       "      <td>45.0</td>\n",
       "      <td>...</td>\n",
       "      <td>75.0</td>\n",
       "      <td>120.0</td>\n",
       "      <td>90.0</td>\n",
       "      <td>58.0</td>\n",
       "      <td>NaN</td>\n",
       "      <td>NaN</td>\n",
       "      <td>NaN</td>\n",
       "      <td>NaN</td>\n",
       "      <td>NaN</td>\n",
       "      <td>NaN</td>\n",
       "    </tr>\n",
       "    <tr>\n",
       "      <th>2018-03-02 18:00:00</th>\n",
       "      <td>89</td>\n",
       "      <td>NaN</td>\n",
       "      <td>2018</td>\n",
       "      <td>3</td>\n",
       "      <td>2</td>\n",
       "      <td>4</td>\n",
       "      <td>83.0</td>\n",
       "      <td>82.0</td>\n",
       "      <td>59.0</td>\n",
       "      <td>44.0</td>\n",
       "      <td>...</td>\n",
       "      <td>64.0</td>\n",
       "      <td>75.0</td>\n",
       "      <td>120.0</td>\n",
       "      <td>90.0</td>\n",
       "      <td>58.0</td>\n",
       "      <td>NaN</td>\n",
       "      <td>NaN</td>\n",
       "      <td>NaN</td>\n",
       "      <td>NaN</td>\n",
       "      <td>NaN</td>\n",
       "    </tr>\n",
       "    <tr>\n",
       "      <th>2018-03-02 19:00:00</th>\n",
       "      <td>49</td>\n",
       "      <td>NaN</td>\n",
       "      <td>2018</td>\n",
       "      <td>3</td>\n",
       "      <td>2</td>\n",
       "      <td>4</td>\n",
       "      <td>89.0</td>\n",
       "      <td>83.0</td>\n",
       "      <td>82.0</td>\n",
       "      <td>59.0</td>\n",
       "      <td>...</td>\n",
       "      <td>20.0</td>\n",
       "      <td>64.0</td>\n",
       "      <td>75.0</td>\n",
       "      <td>120.0</td>\n",
       "      <td>90.0</td>\n",
       "      <td>58.0</td>\n",
       "      <td>NaN</td>\n",
       "      <td>NaN</td>\n",
       "      <td>NaN</td>\n",
       "      <td>NaN</td>\n",
       "    </tr>\n",
       "    <tr>\n",
       "      <th>2018-03-02 20:00:00</th>\n",
       "      <td>93</td>\n",
       "      <td>NaN</td>\n",
       "      <td>2018</td>\n",
       "      <td>3</td>\n",
       "      <td>2</td>\n",
       "      <td>4</td>\n",
       "      <td>49.0</td>\n",
       "      <td>89.0</td>\n",
       "      <td>83.0</td>\n",
       "      <td>82.0</td>\n",
       "      <td>...</td>\n",
       "      <td>11.0</td>\n",
       "      <td>20.0</td>\n",
       "      <td>64.0</td>\n",
       "      <td>75.0</td>\n",
       "      <td>120.0</td>\n",
       "      <td>90.0</td>\n",
       "      <td>58.0</td>\n",
       "      <td>NaN</td>\n",
       "      <td>NaN</td>\n",
       "      <td>NaN</td>\n",
       "    </tr>\n",
       "    <tr>\n",
       "      <th>2018-03-02 21:00:00</th>\n",
       "      <td>101</td>\n",
       "      <td>NaN</td>\n",
       "      <td>2018</td>\n",
       "      <td>3</td>\n",
       "      <td>2</td>\n",
       "      <td>4</td>\n",
       "      <td>93.0</td>\n",
       "      <td>49.0</td>\n",
       "      <td>89.0</td>\n",
       "      <td>83.0</td>\n",
       "      <td>...</td>\n",
       "      <td>11.0</td>\n",
       "      <td>11.0</td>\n",
       "      <td>20.0</td>\n",
       "      <td>64.0</td>\n",
       "      <td>75.0</td>\n",
       "      <td>120.0</td>\n",
       "      <td>90.0</td>\n",
       "      <td>58.0</td>\n",
       "      <td>NaN</td>\n",
       "      <td>NaN</td>\n",
       "    </tr>\n",
       "    <tr>\n",
       "      <th>2018-03-02 22:00:00</th>\n",
       "      <td>119</td>\n",
       "      <td>NaN</td>\n",
       "      <td>2018</td>\n",
       "      <td>3</td>\n",
       "      <td>2</td>\n",
       "      <td>4</td>\n",
       "      <td>101.0</td>\n",
       "      <td>93.0</td>\n",
       "      <td>49.0</td>\n",
       "      <td>89.0</td>\n",
       "      <td>...</td>\n",
       "      <td>7.0</td>\n",
       "      <td>11.0</td>\n",
       "      <td>11.0</td>\n",
       "      <td>20.0</td>\n",
       "      <td>64.0</td>\n",
       "      <td>75.0</td>\n",
       "      <td>120.0</td>\n",
       "      <td>90.0</td>\n",
       "      <td>58.0</td>\n",
       "      <td>NaN</td>\n",
       "    </tr>\n",
       "    <tr>\n",
       "      <th>2018-03-02 23:00:00</th>\n",
       "      <td>72</td>\n",
       "      <td>62.166667</td>\n",
       "      <td>2018</td>\n",
       "      <td>3</td>\n",
       "      <td>2</td>\n",
       "      <td>4</td>\n",
       "      <td>119.0</td>\n",
       "      <td>101.0</td>\n",
       "      <td>93.0</td>\n",
       "      <td>49.0</td>\n",
       "      <td>...</td>\n",
       "      <td>46.0</td>\n",
       "      <td>7.0</td>\n",
       "      <td>11.0</td>\n",
       "      <td>11.0</td>\n",
       "      <td>20.0</td>\n",
       "      <td>64.0</td>\n",
       "      <td>75.0</td>\n",
       "      <td>120.0</td>\n",
       "      <td>90.0</td>\n",
       "      <td>58.0</td>\n",
       "    </tr>\n",
       "  </tbody>\n",
       "</table>\n",
       "<p>25 rows × 30 columns</p>\n",
       "</div>"
      ],
      "text/plain": [
       "                     num_orders  rolling_mean  year  month  day  dayofweek  \\\n",
       "datetime                                                                     \n",
       "2018-03-01 23:00:00          58           NaN  2018      3    1          3   \n",
       "2018-03-02 00:00:00          90           NaN  2018      3    2          4   \n",
       "2018-03-02 01:00:00         120           NaN  2018      3    2          4   \n",
       "2018-03-02 02:00:00          75           NaN  2018      3    2          4   \n",
       "2018-03-02 03:00:00          64           NaN  2018      3    2          4   \n",
       "2018-03-02 04:00:00          20           NaN  2018      3    2          4   \n",
       "2018-03-02 05:00:00          11           NaN  2018      3    2          4   \n",
       "2018-03-02 06:00:00          11           NaN  2018      3    2          4   \n",
       "2018-03-02 07:00:00           7           NaN  2018      3    2          4   \n",
       "2018-03-02 08:00:00          46           NaN  2018      3    2          4   \n",
       "2018-03-02 09:00:00          45           NaN  2018      3    2          4   \n",
       "2018-03-02 10:00:00          54           NaN  2018      3    2          4   \n",
       "2018-03-02 11:00:00          91           NaN  2018      3    2          4   \n",
       "2018-03-02 12:00:00          36           NaN  2018      3    2          4   \n",
       "2018-03-02 13:00:00          45           NaN  2018      3    2          4   \n",
       "2018-03-02 14:00:00          44           NaN  2018      3    2          4   \n",
       "2018-03-02 15:00:00          59           NaN  2018      3    2          4   \n",
       "2018-03-02 16:00:00          82           NaN  2018      3    2          4   \n",
       "2018-03-02 17:00:00          83           NaN  2018      3    2          4   \n",
       "2018-03-02 18:00:00          89           NaN  2018      3    2          4   \n",
       "2018-03-02 19:00:00          49           NaN  2018      3    2          4   \n",
       "2018-03-02 20:00:00          93           NaN  2018      3    2          4   \n",
       "2018-03-02 21:00:00         101           NaN  2018      3    2          4   \n",
       "2018-03-02 22:00:00         119           NaN  2018      3    2          4   \n",
       "2018-03-02 23:00:00          72     62.166667  2018      3    2          4   \n",
       "\n",
       "                     lag_1  lag_2  lag_3  lag_4  ...  lag_15  lag_16  lag_17  \\\n",
       "datetime                                         ...                           \n",
       "2018-03-01 23:00:00    NaN    NaN    NaN    NaN  ...     NaN     NaN     NaN   \n",
       "2018-03-02 00:00:00   58.0    NaN    NaN    NaN  ...     NaN     NaN     NaN   \n",
       "2018-03-02 01:00:00   90.0   58.0    NaN    NaN  ...     NaN     NaN     NaN   \n",
       "2018-03-02 02:00:00  120.0   90.0   58.0    NaN  ...     NaN     NaN     NaN   \n",
       "2018-03-02 03:00:00   75.0  120.0   90.0   58.0  ...     NaN     NaN     NaN   \n",
       "2018-03-02 04:00:00   64.0   75.0  120.0   90.0  ...     NaN     NaN     NaN   \n",
       "2018-03-02 05:00:00   20.0   64.0   75.0  120.0  ...     NaN     NaN     NaN   \n",
       "2018-03-02 06:00:00   11.0   20.0   64.0   75.0  ...     NaN     NaN     NaN   \n",
       "2018-03-02 07:00:00   11.0   11.0   20.0   64.0  ...     NaN     NaN     NaN   \n",
       "2018-03-02 08:00:00    7.0   11.0   11.0   20.0  ...     NaN     NaN     NaN   \n",
       "2018-03-02 09:00:00   46.0    7.0   11.0   11.0  ...     NaN     NaN     NaN   \n",
       "2018-03-02 10:00:00   45.0   46.0    7.0   11.0  ...     NaN     NaN     NaN   \n",
       "2018-03-02 11:00:00   54.0   45.0   46.0    7.0  ...     NaN     NaN     NaN   \n",
       "2018-03-02 12:00:00   91.0   54.0   45.0   46.0  ...     NaN     NaN     NaN   \n",
       "2018-03-02 13:00:00   36.0   91.0   54.0   45.0  ...     NaN     NaN     NaN   \n",
       "2018-03-02 14:00:00   45.0   36.0   91.0   54.0  ...    58.0     NaN     NaN   \n",
       "2018-03-02 15:00:00   44.0   45.0   36.0   91.0  ...    90.0    58.0     NaN   \n",
       "2018-03-02 16:00:00   59.0   44.0   45.0   36.0  ...   120.0    90.0    58.0   \n",
       "2018-03-02 17:00:00   82.0   59.0   44.0   45.0  ...    75.0   120.0    90.0   \n",
       "2018-03-02 18:00:00   83.0   82.0   59.0   44.0  ...    64.0    75.0   120.0   \n",
       "2018-03-02 19:00:00   89.0   83.0   82.0   59.0  ...    20.0    64.0    75.0   \n",
       "2018-03-02 20:00:00   49.0   89.0   83.0   82.0  ...    11.0    20.0    64.0   \n",
       "2018-03-02 21:00:00   93.0   49.0   89.0   83.0  ...    11.0    11.0    20.0   \n",
       "2018-03-02 22:00:00  101.0   93.0   49.0   89.0  ...     7.0    11.0    11.0   \n",
       "2018-03-02 23:00:00  119.0  101.0   93.0   49.0  ...    46.0     7.0    11.0   \n",
       "\n",
       "                     lag_18  lag_19  lag_20  lag_21  lag_22  lag_23  lag_24  \n",
       "datetime                                                                     \n",
       "2018-03-01 23:00:00     NaN     NaN     NaN     NaN     NaN     NaN     NaN  \n",
       "2018-03-02 00:00:00     NaN     NaN     NaN     NaN     NaN     NaN     NaN  \n",
       "2018-03-02 01:00:00     NaN     NaN     NaN     NaN     NaN     NaN     NaN  \n",
       "2018-03-02 02:00:00     NaN     NaN     NaN     NaN     NaN     NaN     NaN  \n",
       "2018-03-02 03:00:00     NaN     NaN     NaN     NaN     NaN     NaN     NaN  \n",
       "2018-03-02 04:00:00     NaN     NaN     NaN     NaN     NaN     NaN     NaN  \n",
       "2018-03-02 05:00:00     NaN     NaN     NaN     NaN     NaN     NaN     NaN  \n",
       "2018-03-02 06:00:00     NaN     NaN     NaN     NaN     NaN     NaN     NaN  \n",
       "2018-03-02 07:00:00     NaN     NaN     NaN     NaN     NaN     NaN     NaN  \n",
       "2018-03-02 08:00:00     NaN     NaN     NaN     NaN     NaN     NaN     NaN  \n",
       "2018-03-02 09:00:00     NaN     NaN     NaN     NaN     NaN     NaN     NaN  \n",
       "2018-03-02 10:00:00     NaN     NaN     NaN     NaN     NaN     NaN     NaN  \n",
       "2018-03-02 11:00:00     NaN     NaN     NaN     NaN     NaN     NaN     NaN  \n",
       "2018-03-02 12:00:00     NaN     NaN     NaN     NaN     NaN     NaN     NaN  \n",
       "2018-03-02 13:00:00     NaN     NaN     NaN     NaN     NaN     NaN     NaN  \n",
       "2018-03-02 14:00:00     NaN     NaN     NaN     NaN     NaN     NaN     NaN  \n",
       "2018-03-02 15:00:00     NaN     NaN     NaN     NaN     NaN     NaN     NaN  \n",
       "2018-03-02 16:00:00     NaN     NaN     NaN     NaN     NaN     NaN     NaN  \n",
       "2018-03-02 17:00:00    58.0     NaN     NaN     NaN     NaN     NaN     NaN  \n",
       "2018-03-02 18:00:00    90.0    58.0     NaN     NaN     NaN     NaN     NaN  \n",
       "2018-03-02 19:00:00   120.0    90.0    58.0     NaN     NaN     NaN     NaN  \n",
       "2018-03-02 20:00:00    75.0   120.0    90.0    58.0     NaN     NaN     NaN  \n",
       "2018-03-02 21:00:00    64.0    75.0   120.0    90.0    58.0     NaN     NaN  \n",
       "2018-03-02 22:00:00    20.0    64.0    75.0   120.0    90.0    58.0     NaN  \n",
       "2018-03-02 23:00:00    11.0    20.0    64.0    75.0   120.0    90.0    58.0  \n",
       "\n",
       "[25 rows x 30 columns]"
      ]
     },
     "execution_count": 16,
     "metadata": {},
     "output_type": "execute_result"
    }
   ],
   "source": [
    "data_features.head(25)"
   ]
  },
  {
   "cell_type": "markdown",
   "metadata": {},
   "source": [
    "Добавим в качестве признака скользящее среднее заказов за неделю."
   ]
  },
  {
   "cell_type": "code",
   "execution_count": 17,
   "metadata": {},
   "outputs": [],
   "source": [
    "data_features['rolling_mean_week'] = data_features['num_orders'].shift().rolling(168).mean()"
   ]
  },
  {
   "cell_type": "markdown",
   "metadata": {},
   "source": [
    "Разделим данные на тренировочные и тестовые. Размер тестовой выборки 10%."
   ]
  },
  {
   "cell_type": "code",
   "execution_count": 18,
   "metadata": {},
   "outputs": [
    {
     "name": "stdout",
     "output_type": "stream",
     "text": [
      "2018-03-08 23:00:00 2018-08-13 15:00:00\n",
      "2018-08-13 16:00:00 2018-08-31 23:00:00\n"
     ]
    }
   ],
   "source": [
    "train, test = train_test_split(data_features, shuffle=False, test_size=0.1)\n",
    "train = train.dropna()\n",
    "RANDOM_STATE = 42\n",
    "print(train.index.min(), train.index.max())\n",
    "print(test.index.min(), test.index.max())"
   ]
  },
  {
   "cell_type": "code",
   "execution_count": 19,
   "metadata": {},
   "outputs": [],
   "source": [
    "X_train = train. drop(columns =['num_orders'] , axis =1)\n",
    "y_train = train ['num_orders']\n",
    "X_test = test. drop(columns = ['num_orders'], axis =1)\n",
    "y_test = test['num_orders']"
   ]
  },
  {
   "cell_type": "code",
   "execution_count": 20,
   "metadata": {},
   "outputs": [],
   "source": [
    "columns = X_train.columns"
   ]
  },
  {
   "cell_type": "code",
   "execution_count": 21,
   "metadata": {},
   "outputs": [
    {
     "data": {
      "text/plain": [
       "Index(['rolling_mean', 'year', 'month', 'day', 'dayofweek', 'lag_1', 'lag_2',\n",
       "       'lag_3', 'lag_4', 'lag_5', 'lag_6', 'lag_7', 'lag_8', 'lag_9', 'lag_10',\n",
       "       'lag_11', 'lag_12', 'lag_13', 'lag_14', 'lag_15', 'lag_16', 'lag_17',\n",
       "       'lag_18', 'lag_19', 'lag_20', 'lag_21', 'lag_22', 'lag_23', 'lag_24',\n",
       "       'rolling_mean_week'],\n",
       "      dtype='object')"
      ]
     },
     "execution_count": 21,
     "metadata": {},
     "output_type": "execute_result"
    }
   ],
   "source": [
    "columns"
   ]
  },
  {
   "cell_type": "code",
   "execution_count": 22,
   "metadata": {},
   "outputs": [
    {
     "name": "stdout",
     "output_type": "stream",
     "text": [
      "Лучшая модель и её параметры:\n",
      "\n",
      " Pipeline(steps=[('preprocessor',\n",
      "                 ColumnTransformer(remainder='passthrough',\n",
      "                                   transformers=[('pipe',\n",
      "                                                  Pipeline(steps=[('simpleImputer',\n",
      "                                                                   SimpleImputer(strategy='most_frequent'))]),\n",
      "                                                  Index(['rolling_mean', 'year', 'month', 'day', 'dayofweek', 'lag_1', 'lag_2',\n",
      "       'lag_3', 'lag_4', 'lag_5', 'lag_6', 'lag_7', 'lag_8', 'lag_9', 'lag_10',\n",
      "       'lag_11', 'lag_12', 'lag_13', 'lag_14', 'lag_15', 'lag_16', 'lag_17',\n",
      "       'lag_18', 'lag_19', 'lag_20', 'lag_21', 'lag_22', 'lag_23', 'lag_24',\n",
      "       'rolling_mean_week'],\n",
      "      dtype='object'))])),\n",
      "                ('models',\n",
      "                 <catboost.core.CatBoostRegressor object at 0x7fc944e14100>)])\n",
      "Метрика лучшей модели на тренировочной выборке: 26.52204790798111\n"
     ]
    }
   ],
   "source": [
    "# создаём итоговый пайплайн: подготовка данных и модель\n",
    "pipe = Pipeline(\n",
    "    [('simpleImputer', SimpleImputer(missing_values=np.nan, strategy='most_frequent'))\n",
    "    ]\n",
    "    )\n",
    "\n",
    "data_preprocessor = ColumnTransformer(\n",
    "     [('pipe', pipe, columns)\n",
    "     ], \n",
    "    remainder='passthrough'\n",
    ")\n",
    "\n",
    "\n",
    "pipe_final = Pipeline([\n",
    "    ('preprocessor', data_preprocessor),\n",
    "    #('select_k_best', SelectKBest(score_func=f_classif, k='all')),\n",
    "    ('models', LinearRegression())\n",
    "])\n",
    "tscv = TimeSeriesSplit(n_splits=5)\n",
    "\n",
    "param_grid = [\n",
    "    # словарь для модели DecisionTreeClassifier()\n",
    "    {\n",
    "        'models': [LinearRegression(\n",
    "                   \n",
    "                  )] \n",
    "    },\n",
    "    # словарь для модели DecisionTreeRegressor\n",
    "    {\n",
    "        'models': [DecisionTreeRegressor(random_state=RANDOM_STATE)],\n",
    "        'models__max_depth': [None, 10, 20, 30],\n",
    "        'models__min_samples_split': [2, 10, 20],\n",
    "        'models__min_samples_leaf': [1, 5, 10]\n",
    "    },\n",
    "    # словарь для модели LGBMRegressor()\n",
    "    {\n",
    "        'models': [lgb.LGBMRegressor(random_state=RANDOM_STATE)],\n",
    "        'models__num_leaves': [31, 50],\n",
    "        'models__learning_rate': [0.05, 0.1],\n",
    "        'models__n_estimators': [100, 200]\n",
    "    },\n",
    "    # словарь для модели CatBoostRegressor\n",
    "    {\n",
    "        'models': [cb.CatBoostRegressor(random_state=RANDOM_STATE, silent=True)],\n",
    "        'models__depth': [3, 5, 7],\n",
    "        'models__learning_rate': [0.05, 0.1],\n",
    "        'models__iterations': [100, 200]\n",
    "    },\n",
    "    # словарь для модели GradientBoostingRegressor\n",
    "    {\n",
    "        'models': [GradientBoostingRegressor(random_state=RANDOM_STATE)],\n",
    "        'models__n_estimators': [100, 200],\n",
    "        'models__learning_rate': [0.05, 0.1],\n",
    "        'models__max_depth': [3, 5]\n",
    "    }\n",
    "]\n",
    "\n",
    "randomized_search = RandomizedSearchCV(\n",
    "    pipe_final, \n",
    "    param_grid, \n",
    "    cv = tscv,#для временных рядов используем TimeSeriesSplit\n",
    "    scoring='neg_root_mean_squared_error',\n",
    "    random_state=RANDOM_STATE,\n",
    "    n_jobs=-1\n",
    ")\n",
    "randomized_search.fit(X_train, y_train)\n",
    "\n",
    "print('Лучшая модель и её параметры:\\n\\n', randomized_search.best_estimator_)\n",
    "print ('Метрика лучшей модели на тренировочной выборке:', -randomized_search.best_score_)"
   ]
  },
  {
   "cell_type": "code",
   "execution_count": 23,
   "metadata": {
    "scrolled": true
   },
   "outputs": [
    {
     "data": {
      "text/html": [
       "<div>\n",
       "<style scoped>\n",
       "    .dataframe tbody tr th:only-of-type {\n",
       "        vertical-align: middle;\n",
       "    }\n",
       "\n",
       "    .dataframe tbody tr th {\n",
       "        vertical-align: top;\n",
       "    }\n",
       "\n",
       "    .dataframe thead th {\n",
       "        text-align: right;\n",
       "    }\n",
       "</style>\n",
       "<table border=\"1\" class=\"dataframe\">\n",
       "  <thead>\n",
       "    <tr style=\"text-align: right;\">\n",
       "      <th></th>\n",
       "      <th>rank_test_score</th>\n",
       "      <th>param_models</th>\n",
       "      <th>mean_test_score</th>\n",
       "      <th>mean_fit_time</th>\n",
       "      <th>mean_score_time</th>\n",
       "      <th>params</th>\n",
       "    </tr>\n",
       "  </thead>\n",
       "  <tbody>\n",
       "    <tr>\n",
       "      <th>0</th>\n",
       "      <td>1</td>\n",
       "      <td>&lt;catboost.core.CatBoostRegressor object at 0x7fc944d969a0&gt;</td>\n",
       "      <td>-26.522048</td>\n",
       "      <td>1.554079</td>\n",
       "      <td>0.005650</td>\n",
       "      <td>{'models__learning_rate': 0.05, 'models__iterations': 100, 'models__depth': 7, 'models': &lt;catboost.core.CatBoostRegressor object at 0x7fc944d969a0&gt;}</td>\n",
       "    </tr>\n",
       "    <tr>\n",
       "      <th>1</th>\n",
       "      <td>2</td>\n",
       "      <td>GradientBoostingRegressor(random_state=42)</td>\n",
       "      <td>-26.572280</td>\n",
       "      <td>3.004223</td>\n",
       "      <td>0.008243</td>\n",
       "      <td>{'models__n_estimators': 200, 'models__max_depth': 5, 'models__learning_rate': 0.05, 'models': GradientBoostingRegressor(random_state=42)}</td>\n",
       "    </tr>\n",
       "    <tr>\n",
       "      <th>8</th>\n",
       "      <td>3</td>\n",
       "      <td>GradientBoostingRegressor(random_state=42)</td>\n",
       "      <td>-26.809660</td>\n",
       "      <td>3.054994</td>\n",
       "      <td>0.007160</td>\n",
       "      <td>{'models__n_estimators': 200, 'models__max_depth': 5, 'models__learning_rate': 0.1, 'models': GradientBoostingRegressor(random_state=42)}</td>\n",
       "    </tr>\n",
       "    <tr>\n",
       "      <th>5</th>\n",
       "      <td>4</td>\n",
       "      <td>GradientBoostingRegressor(random_state=42)</td>\n",
       "      <td>-26.873537</td>\n",
       "      <td>0.940663</td>\n",
       "      <td>0.005747</td>\n",
       "      <td>{'models__n_estimators': 100, 'models__max_depth': 3, 'models__learning_rate': 0.1, 'models': GradientBoostingRegressor(random_state=42)}</td>\n",
       "    </tr>\n",
       "    <tr>\n",
       "      <th>2</th>\n",
       "      <td>5</td>\n",
       "      <td>LinearRegression()</td>\n",
       "      <td>-27.290052</td>\n",
       "      <td>0.182176</td>\n",
       "      <td>0.091712</td>\n",
       "      <td>{'models': LinearRegression()}</td>\n",
       "    </tr>\n",
       "    <tr>\n",
       "      <th>3</th>\n",
       "      <td>6</td>\n",
       "      <td>&lt;catboost.core.CatBoostRegressor object at 0x7fc944d969a0&gt;</td>\n",
       "      <td>-27.463815</td>\n",
       "      <td>1.321949</td>\n",
       "      <td>0.005223</td>\n",
       "      <td>{'models__learning_rate': 0.05, 'models__iterations': 100, 'models__depth': 3, 'models': &lt;catboost.core.CatBoostRegressor object at 0x7fc944d969a0&gt;}</td>\n",
       "    </tr>\n",
       "    <tr>\n",
       "      <th>6</th>\n",
       "      <td>7</td>\n",
       "      <td>DecisionTreeRegressor(random_state=42)</td>\n",
       "      <td>-30.765013</td>\n",
       "      <td>0.042304</td>\n",
       "      <td>0.004674</td>\n",
       "      <td>{'models__min_samples_split': 2, 'models__min_samples_leaf': 10, 'models__max_depth': 10, 'models': DecisionTreeRegressor(random_state=42)}</td>\n",
       "    </tr>\n",
       "    <tr>\n",
       "      <th>7</th>\n",
       "      <td>8</td>\n",
       "      <td>DecisionTreeRegressor(random_state=42)</td>\n",
       "      <td>-32.050026</td>\n",
       "      <td>0.044334</td>\n",
       "      <td>0.004820</td>\n",
       "      <td>{'models__min_samples_split': 20, 'models__min_samples_leaf': 1, 'models__max_depth': 10, 'models': DecisionTreeRegressor(random_state=42)}</td>\n",
       "    </tr>\n",
       "    <tr>\n",
       "      <th>9</th>\n",
       "      <td>9</td>\n",
       "      <td>DecisionTreeRegressor(random_state=42)</td>\n",
       "      <td>-32.954139</td>\n",
       "      <td>0.049497</td>\n",
       "      <td>0.004346</td>\n",
       "      <td>{'models__min_samples_split': 20, 'models__min_samples_leaf': 1, 'models__max_depth': 30, 'models': DecisionTreeRegressor(random_state=42)}</td>\n",
       "    </tr>\n",
       "    <tr>\n",
       "      <th>4</th>\n",
       "      <td>10</td>\n",
       "      <td>DecisionTreeRegressor(random_state=42)</td>\n",
       "      <td>-33.259061</td>\n",
       "      <td>0.049314</td>\n",
       "      <td>0.004333</td>\n",
       "      <td>{'models__min_samples_split': 10, 'models__min_samples_leaf': 5, 'models__max_depth': None, 'models': DecisionTreeRegressor(random_state=42)}</td>\n",
       "    </tr>\n",
       "  </tbody>\n",
       "</table>\n",
       "</div>"
      ],
      "text/plain": [
       "   rank_test_score  \\\n",
       "0                1   \n",
       "1                2   \n",
       "8                3   \n",
       "5                4   \n",
       "2                5   \n",
       "3                6   \n",
       "6                7   \n",
       "7                8   \n",
       "9                9   \n",
       "4               10   \n",
       "\n",
       "                                                 param_models  \\\n",
       "0  <catboost.core.CatBoostRegressor object at 0x7fc944d969a0>   \n",
       "1                  GradientBoostingRegressor(random_state=42)   \n",
       "8                  GradientBoostingRegressor(random_state=42)   \n",
       "5                  GradientBoostingRegressor(random_state=42)   \n",
       "2                                          LinearRegression()   \n",
       "3  <catboost.core.CatBoostRegressor object at 0x7fc944d969a0>   \n",
       "6                      DecisionTreeRegressor(random_state=42)   \n",
       "7                      DecisionTreeRegressor(random_state=42)   \n",
       "9                      DecisionTreeRegressor(random_state=42)   \n",
       "4                      DecisionTreeRegressor(random_state=42)   \n",
       "\n",
       "   mean_test_score  mean_fit_time  mean_score_time  \\\n",
       "0       -26.522048       1.554079         0.005650   \n",
       "1       -26.572280       3.004223         0.008243   \n",
       "8       -26.809660       3.054994         0.007160   \n",
       "5       -26.873537       0.940663         0.005747   \n",
       "2       -27.290052       0.182176         0.091712   \n",
       "3       -27.463815       1.321949         0.005223   \n",
       "6       -30.765013       0.042304         0.004674   \n",
       "7       -32.050026       0.044334         0.004820   \n",
       "9       -32.954139       0.049497         0.004346   \n",
       "4       -33.259061       0.049314         0.004333   \n",
       "\n",
       "                                                                                                                                                 params  \n",
       "0  {'models__learning_rate': 0.05, 'models__iterations': 100, 'models__depth': 7, 'models': <catboost.core.CatBoostRegressor object at 0x7fc944d969a0>}  \n",
       "1            {'models__n_estimators': 200, 'models__max_depth': 5, 'models__learning_rate': 0.05, 'models': GradientBoostingRegressor(random_state=42)}  \n",
       "8             {'models__n_estimators': 200, 'models__max_depth': 5, 'models__learning_rate': 0.1, 'models': GradientBoostingRegressor(random_state=42)}  \n",
       "5             {'models__n_estimators': 100, 'models__max_depth': 3, 'models__learning_rate': 0.1, 'models': GradientBoostingRegressor(random_state=42)}  \n",
       "2                                                                                                                        {'models': LinearRegression()}  \n",
       "3  {'models__learning_rate': 0.05, 'models__iterations': 100, 'models__depth': 3, 'models': <catboost.core.CatBoostRegressor object at 0x7fc944d969a0>}  \n",
       "6           {'models__min_samples_split': 2, 'models__min_samples_leaf': 10, 'models__max_depth': 10, 'models': DecisionTreeRegressor(random_state=42)}  \n",
       "7           {'models__min_samples_split': 20, 'models__min_samples_leaf': 1, 'models__max_depth': 10, 'models': DecisionTreeRegressor(random_state=42)}  \n",
       "9           {'models__min_samples_split': 20, 'models__min_samples_leaf': 1, 'models__max_depth': 30, 'models': DecisionTreeRegressor(random_state=42)}  \n",
       "4         {'models__min_samples_split': 10, 'models__min_samples_leaf': 5, 'models__max_depth': None, 'models': DecisionTreeRegressor(random_state=42)}  "
      ]
     },
     "metadata": {},
     "output_type": "display_data"
    }
   ],
   "source": [
    "result = pd.DataFrame(randomized_search.cv_results_)\n",
    "pd.set_option('display.max_colwidth', None)\n",
    "display(result[\n",
    "   ['rank_test_score', 'param_models', 'mean_test_score', 'mean_fit_time', 'mean_score_time', 'params']\n",
    "].sort_values('rank_test_score'))"
   ]
  },
  {
   "cell_type": "markdown",
   "metadata": {},
   "source": [
    "Для построения прогноза были применены несколько моделей:<br>\n",
    "    - LinearRegression<br>\n",
    "    - DecisionTreeRegressor<br>\n",
    "    - LGBMRegressor<br>\n",
    "    - CatBoostRegressor<br>\n",
    "    - GradientBoostingRegressor<br>\n",
    "Они оценивались метрикой качества RMSE.<br>\n",
    "Лучше всего метрику дала модель градиентного бустинга **CatBoostRegressor** со следующими параметрами:<br>\n",
    "    - max_depth: 7<br>\n",
    "    - iterations: 100<br>\n",
    "    - learning_rate: 0.05<br>\n",
    "Значение метрики RMSE на тренировочной выборке составило 26,52.<br>\n",
    "\n",
    "В таблице сравнения моделей также рассмотрели два столбца:<br>\n",
    "    - mean_fit_time: время обучения<br>\n",
    "    - mean_score_time: время предсказания<br>\n",
    "Модель градиентного бустинга **CatBoostRegressor** дает следующие результаты по времени обучения 1.43 и времени предсказания 0.005."
   ]
  },
  {
   "cell_type": "markdown",
   "metadata": {},
   "source": [
    "## Тестирование"
   ]
  },
  {
   "cell_type": "code",
   "execution_count": 24,
   "metadata": {},
   "outputs": [
    {
     "name": "stdout",
     "output_type": "stream",
     "text": [
      "Метрика на тестовой выборке: 45.992804462784854\n"
     ]
    }
   ],
   "source": [
    "pred = randomized_search.predict(X_test)\n",
    "print(f'Метрика на тестовой выборке: {mean_squared_error(pred, y_test, squared=False)}')"
   ]
  },
  {
   "cell_type": "code",
   "execution_count": 25,
   "metadata": {},
   "outputs": [
    {
     "data": {
      "text/plain": [
       "datetime\n",
       "2018-08-13 16:00:00    144\n",
       "2018-08-13 17:00:00    152\n",
       "2018-08-13 18:00:00    104\n",
       "2018-08-13 19:00:00     91\n",
       "2018-08-13 20:00:00     82\n",
       "                      ... \n",
       "2018-08-31 19:00:00    136\n",
       "2018-08-31 20:00:00    154\n",
       "2018-08-31 21:00:00    159\n",
       "2018-08-31 22:00:00    223\n",
       "2018-08-31 23:00:00    205\n",
       "Freq: H, Name: num_orders, Length: 440, dtype: int64"
      ]
     },
     "execution_count": 25,
     "metadata": {},
     "output_type": "execute_result"
    }
   ],
   "source": [
    "y_test"
   ]
  },
  {
   "cell_type": "code",
   "execution_count": 26,
   "metadata": {},
   "outputs": [],
   "source": [
    "test_preds = pd.Series(pred.tolist(), index = y_test.index)"
   ]
  },
  {
   "cell_type": "code",
   "execution_count": 27,
   "metadata": {},
   "outputs": [],
   "source": [
    "data_pred = pd.DataFrame(y_test)\n",
    "data_pred['pred'] = test_preds\n"
   ]
  },
  {
   "cell_type": "code",
   "execution_count": 28,
   "metadata": {},
   "outputs": [],
   "source": [
    "data_pred = data_pred.tail(168)"
   ]
  },
  {
   "cell_type": "code",
   "execution_count": 29,
   "metadata": {},
   "outputs": [
    {
     "data": {
      "image/png": "[encoded data removed]",
      "text/plain": [
       "<Figure size 1080x504 with 1 Axes>"
      ]
     },
     "metadata": {
      "needs_background": "light"
     },
     "output_type": "display_data"
    }
   ],
   "source": [
    "plt.figure(figsize=(15, 7))\n",
    "data_pred.plot(ax=plt.gca())\n",
    "plt.title('Сравнение факта и прогноза количества заказов такси за последнюю неделю')\n",
    "plt.xlabel('Дата')\n",
    "plt.legend(['Факт', 'Прогноз']);\n",
    "plt.tight_layout()"
   ]
  },
  {
   "cell_type": "markdown",
   "metadata": {},
   "source": [
    "### Выводы\n",
    "Целью задачи было спрогнозировать количество заказов такси на следующий час, чтобы привлекать больше водителей в период пиковой нагрузки. Заказчиком выступила компания «Чётенькое такси».<br>\n",
    "\n",
    "**Данные** были загружены, преобразованы во временной ряд и ресемплированы.<br>\n",
    "Получили 4416 строк - данные о количестве заказов за каждый час.<br>\n",
    "\n",
    "Разделили ряд на составляющие:<br>\n",
    "- тренд<br>\n",
    "- сезонная компонента<br>\n",
    "- остатки<br>\n",
    "\n",
    "**Тренд** на увеличение числа заказов есть. Закономерностей в остатках не выявлено.<br>\n",
    "**Сезонность** посмотрели на более коротком отрезке времени. <br>\n",
    "Период сезонности - сутки. Наибольший пик достигается в полночь. Затем количество заказов плавно снижается до 6 утра, где достигает минимума. А затем снова начинает расти.<br>\n",
    "\n",
    "Добавим в наши данные **признаки**:<br>\n",
    "- год<br>\n",
    "- месяц<br>\n",
    "- день<br>\n",
    "- день недели<br>\n",
    "- данные за предыдущие часы (lag_1,..,lag_24)<br>\n",
    "- скользящее среднее за сутки и за неделю<br>\n",
    "\n",
    "**Для построения прогноза** были применены несколько моделей:<br>\n",
    "    - LinearRegression<br>\n",
    "    - DecisionTreeRegressor<br>\n",
    "    - LGBMRegressor<br>\n",
    "    - CatBoostRegressor<br>\n",
    "    - GradientBoostingRegressor<br>\n",
    "Они оценивались метрикой качества RMSE.<br>\n",
    "Лучше всего метрику дала модель градиентного бустинга **CatBoostRegressor** со следующими параметрами:<br>\n",
    "    - max_depth: 7<br>\n",
    "    - iterations: 100<br>\n",
    "    - learning_rate: 0.05<br>\n",
    "Значение метрики RMSE на тренировочной выборке составило 26,52.<br>\n",
    "\n",
    "На **тестовой выборке** получили значение метрики 45.99. Построили график сравнения факт/прогноз.<br>\n",
    "\n",
    "В целом дополнительное привлечение такистов целесообразно в пиковые дневные часы и в полночь. Можно ориентироваться на предсказанное число заказов такси.<br>\n",
    "В модель также можно добавить признак - праздничные дни.\n"
   ]
  },
  {
   "cell_type": "code",
   "execution_count": null,
   "metadata": {},
   "outputs": [],
   "source": []
  }
 ],
 "metadata": {
  "ExecuteTimeLog": [
   {
    "duration": 1060,
    "start_time": "2025-01-05T11:53:06.014Z"
   },
   {
    "duration": 166,
    "start_time": "2025-01-05T11:53:44.726Z"
   },
   {
    "duration": 13,
    "start_time": "2025-01-05T11:53:53.602Z"
   },
   {
    "duration": 7,
    "start_time": "2025-01-05T11:59:56.795Z"
   },
   {
    "duration": 7,
    "start_time": "2025-01-05T12:00:09.780Z"
   },
   {
    "duration": 10,
    "start_time": "2025-01-05T12:01:08.421Z"
   },
   {
    "duration": 671,
    "start_time": "2025-01-05T12:05:09.047Z"
   },
   {
    "duration": 214,
    "start_time": "2025-01-05T12:05:53.291Z"
   },
   {
    "duration": 117,
    "start_time": "2025-01-05T12:11:35.452Z"
   },
   {
    "duration": 2,
    "start_time": "2025-01-05T12:12:29.159Z"
   },
   {
    "duration": 10,
    "start_time": "2025-01-05T12:12:37.182Z"
   },
   {
    "duration": 3,
    "start_time": "2025-01-05T12:13:09.599Z"
   },
   {
    "duration": 301,
    "start_time": "2025-01-05T12:13:15.674Z"
   },
   {
    "duration": 217,
    "start_time": "2025-01-05T12:13:24.625Z"
   },
   {
    "duration": 230,
    "start_time": "2025-01-05T12:13:56.126Z"
   },
   {
    "duration": 416,
    "start_time": "2025-01-05T12:14:07.176Z"
   },
   {
    "duration": 299,
    "start_time": "2025-01-05T12:15:31.124Z"
   },
   {
    "duration": 364,
    "start_time": "2025-01-05T12:16:28.276Z"
   },
   {
    "duration": 301,
    "start_time": "2025-01-05T12:17:06.803Z"
   },
   {
    "duration": 255,
    "start_time": "2025-01-05T12:17:30.253Z"
   },
   {
    "duration": 315,
    "start_time": "2025-01-05T12:18:10.934Z"
   },
   {
    "duration": 320,
    "start_time": "2025-01-05T12:18:57.720Z"
   },
   {
    "duration": 395,
    "start_time": "2025-01-05T12:19:21.479Z"
   },
   {
    "duration": 309,
    "start_time": "2025-01-05T12:19:33.689Z"
   },
   {
    "duration": 325,
    "start_time": "2025-01-05T12:19:56.211Z"
   },
   {
    "duration": 310,
    "start_time": "2025-01-05T12:20:38.482Z"
   },
   {
    "duration": 315,
    "start_time": "2025-01-05T12:22:18.886Z"
   },
   {
    "duration": 320,
    "start_time": "2025-01-05T12:23:14.815Z"
   },
   {
    "duration": 9,
    "start_time": "2025-01-05T12:24:54.771Z"
   },
   {
    "duration": 14,
    "start_time": "2025-01-05T12:25:49.082Z"
   },
   {
    "duration": 1735,
    "start_time": "2025-01-05T20:10:49.625Z"
   },
   {
    "duration": 187,
    "start_time": "2025-01-05T20:10:51.362Z"
   },
   {
    "duration": 18,
    "start_time": "2025-01-05T20:10:51.551Z"
   },
   {
    "duration": 14,
    "start_time": "2025-01-05T20:10:51.571Z"
   },
   {
    "duration": 10,
    "start_time": "2025-01-05T20:10:51.588Z"
   },
   {
    "duration": 15,
    "start_time": "2025-01-05T20:10:51.599Z"
   },
   {
    "duration": 10,
    "start_time": "2025-01-05T20:10:51.616Z"
   },
   {
    "duration": 23,
    "start_time": "2025-01-05T20:10:51.661Z"
   },
   {
    "duration": 27,
    "start_time": "2025-01-05T20:11:10.243Z"
   },
   {
    "duration": 466,
    "start_time": "2025-01-05T20:11:17.654Z"
   },
   {
    "duration": 119,
    "start_time": "2025-01-05T20:11:43.305Z"
   },
   {
    "duration": 17,
    "start_time": "2025-01-05T20:12:35.059Z"
   },
   {
    "duration": 29,
    "start_time": "2025-01-05T20:13:09.301Z"
   },
   {
    "duration": 25,
    "start_time": "2025-01-05T20:13:41.404Z"
   },
   {
    "duration": 8,
    "start_time": "2025-01-05T20:13:58.146Z"
   },
   {
    "duration": 24,
    "start_time": "2025-01-05T20:14:37.504Z"
   },
   {
    "duration": 25,
    "start_time": "2025-01-05T20:16:15.023Z"
   },
   {
    "duration": 13,
    "start_time": "2025-01-05T20:16:34.924Z"
   },
   {
    "duration": 11,
    "start_time": "2025-01-05T20:16:59.078Z"
   },
   {
    "duration": 1128,
    "start_time": "2025-01-05T20:17:09.731Z"
   },
   {
    "duration": 775,
    "start_time": "2025-01-05T20:20:00.730Z"
   },
   {
    "duration": 813,
    "start_time": "2025-01-05T20:20:40.441Z"
   },
   {
    "duration": 32,
    "start_time": "2025-01-05T20:23:07.089Z"
   },
   {
    "duration": 966,
    "start_time": "2025-01-05T20:23:30.585Z"
   },
   {
    "duration": 1533,
    "start_time": "2025-01-09T12:53:06.965Z"
   },
   {
    "duration": 98,
    "start_time": "2025-01-09T12:53:08.500Z"
   },
   {
    "duration": 9,
    "start_time": "2025-01-09T12:53:08.600Z"
   },
   {
    "duration": 28,
    "start_time": "2025-01-09T12:53:08.611Z"
   },
   {
    "duration": 28,
    "start_time": "2025-01-09T12:53:08.641Z"
   },
   {
    "duration": 9,
    "start_time": "2025-01-09T12:53:08.671Z"
   },
   {
    "duration": 5,
    "start_time": "2025-01-09T12:53:08.682Z"
   },
   {
    "duration": 18,
    "start_time": "2025-01-09T12:53:08.688Z"
   },
   {
    "duration": 367,
    "start_time": "2025-01-09T12:53:08.708Z"
   },
   {
    "duration": 12,
    "start_time": "2025-01-09T12:53:09.077Z"
   },
   {
    "duration": 919,
    "start_time": "2025-01-09T12:53:33.103Z"
   },
   {
    "duration": 771,
    "start_time": "2025-01-09T12:57:18.622Z"
   },
   {
    "duration": 322,
    "start_time": "2025-01-09T12:58:57.592Z"
   },
   {
    "duration": 452,
    "start_time": "2025-01-09T13:00:10.293Z"
   },
   {
    "duration": 488,
    "start_time": "2025-01-09T13:03:59.012Z"
   },
   {
    "duration": 895,
    "start_time": "2025-01-09T13:05:37.286Z"
   },
   {
    "duration": 804,
    "start_time": "2025-01-09T13:06:04.532Z"
   },
   {
    "duration": 809,
    "start_time": "2025-01-09T13:06:29.330Z"
   },
   {
    "duration": 610,
    "start_time": "2025-01-09T13:06:42.826Z"
   },
   {
    "duration": 4,
    "start_time": "2025-01-09T13:12:49.606Z"
   },
   {
    "duration": 12,
    "start_time": "2025-01-09T13:13:42.916Z"
   },
   {
    "duration": 22,
    "start_time": "2025-01-09T13:13:56.429Z"
   },
   {
    "duration": 8,
    "start_time": "2025-01-09T13:15:06.246Z"
   },
   {
    "duration": 21,
    "start_time": "2025-01-09T13:15:07.707Z"
   },
   {
    "duration": 11,
    "start_time": "2025-01-09T13:15:41.704Z"
   },
   {
    "duration": 23,
    "start_time": "2025-01-09T13:16:01.341Z"
   },
   {
    "duration": 5,
    "start_time": "2025-01-09T13:16:41.636Z"
   },
   {
    "duration": 110,
    "start_time": "2025-01-09T13:17:26.773Z"
   },
   {
    "duration": 9,
    "start_time": "2025-01-09T13:18:57.908Z"
   },
   {
    "duration": 11,
    "start_time": "2025-01-09T13:19:03.567Z"
   },
   {
    "duration": 10,
    "start_time": "2025-01-09T13:19:28.639Z"
   },
   {
    "duration": 3,
    "start_time": "2025-01-09T13:21:23.721Z"
   },
   {
    "duration": 88,
    "start_time": "2025-01-09T13:22:52.242Z"
   },
   {
    "duration": 4,
    "start_time": "2025-01-09T13:24:50.356Z"
   },
   {
    "duration": 19,
    "start_time": "2025-01-09T13:24:51.003Z"
   },
   {
    "duration": 34,
    "start_time": "2025-01-09T13:24:54.403Z"
   },
   {
    "duration": 10,
    "start_time": "2025-01-09T13:25:00.300Z"
   },
   {
    "duration": 5,
    "start_time": "2025-01-09T13:25:02.714Z"
   },
   {
    "duration": 104,
    "start_time": "2025-01-09T13:25:04.634Z"
   },
   {
    "duration": 4,
    "start_time": "2025-01-09T13:49:07.920Z"
   },
   {
    "duration": 11,
    "start_time": "2025-01-09T13:49:15.679Z"
   },
   {
    "duration": 5,
    "start_time": "2025-01-09T13:49:31.778Z"
   },
   {
    "duration": 4,
    "start_time": "2025-01-09T13:49:48.007Z"
   },
   {
    "duration": 4,
    "start_time": "2025-01-09T13:49:55.264Z"
   },
   {
    "duration": 14,
    "start_time": "2025-01-09T13:50:07.129Z"
   },
   {
    "duration": 1554,
    "start_time": "2025-01-10T09:30:44.469Z"
   },
   {
    "duration": 99,
    "start_time": "2025-01-10T09:30:46.025Z"
   },
   {
    "duration": 10,
    "start_time": "2025-01-10T09:30:46.126Z"
   },
   {
    "duration": 35,
    "start_time": "2025-01-10T09:30:46.137Z"
   },
   {
    "duration": 10,
    "start_time": "2025-01-10T09:30:46.174Z"
   },
   {
    "duration": 14,
    "start_time": "2025-01-10T09:30:46.185Z"
   },
   {
    "duration": 6,
    "start_time": "2025-01-10T09:30:46.201Z"
   },
   {
    "duration": 12,
    "start_time": "2025-01-10T09:30:46.208Z"
   },
   {
    "duration": 398,
    "start_time": "2025-01-10T09:30:46.221Z"
   },
   {
    "duration": 11,
    "start_time": "2025-01-10T09:30:46.620Z"
   },
   {
    "duration": 937,
    "start_time": "2025-01-10T09:30:46.632Z"
   },
   {
    "duration": 497,
    "start_time": "2025-01-10T09:30:47.570Z"
   },
   {
    "duration": 4,
    "start_time": "2025-01-10T09:30:48.070Z"
   },
   {
    "duration": 52,
    "start_time": "2025-01-10T09:30:48.076Z"
   },
   {
    "duration": 42,
    "start_time": "2025-01-10T09:30:48.129Z"
   },
   {
    "duration": 9,
    "start_time": "2025-01-10T09:30:48.172Z"
   },
   {
    "duration": 6,
    "start_time": "2025-01-10T09:30:48.183Z"
   },
   {
    "duration": 115,
    "start_time": "2025-01-10T09:30:54.829Z"
   },
   {
    "duration": 22,
    "start_time": "2025-01-10T09:40:45.045Z"
   },
   {
    "duration": 6,
    "start_time": "2025-01-10T09:41:09.691Z"
   },
   {
    "duration": 13,
    "start_time": "2025-01-10T09:41:17.209Z"
   },
   {
    "duration": 8,
    "start_time": "2025-01-10T09:44:21.020Z"
   },
   {
    "duration": 13,
    "start_time": "2025-01-10T09:44:30.077Z"
   },
   {
    "duration": 2,
    "start_time": "2025-01-10T09:45:14.800Z"
   },
   {
    "duration": 4,
    "start_time": "2025-01-10T09:45:26.582Z"
   },
   {
    "duration": 12,
    "start_time": "2025-01-10T09:45:33.030Z"
   },
   {
    "duration": 30,
    "start_time": "2025-01-10T09:45:58.763Z"
   },
   {
    "duration": 31,
    "start_time": "2025-01-10T09:46:05.235Z"
   },
   {
    "duration": 12,
    "start_time": "2025-01-10T09:46:55.678Z"
   },
   {
    "duration": 11,
    "start_time": "2025-01-10T09:47:29.665Z"
   },
   {
    "duration": 6,
    "start_time": "2025-01-10T09:47:32.368Z"
   },
   {
    "duration": 170,
    "start_time": "2025-01-10T09:47:33.214Z"
   },
   {
    "duration": 3,
    "start_time": "2025-01-10T09:47:34.319Z"
   },
   {
    "duration": 5,
    "start_time": "2025-01-10T09:47:34.999Z"
   },
   {
    "duration": 1393,
    "start_time": "2025-01-10T09:47:36.587Z"
   },
   {
    "duration": 24,
    "start_time": "2025-01-10T09:48:19.967Z"
   },
   {
    "duration": 1366,
    "start_time": "2025-01-10T09:49:33.714Z"
   },
   {
    "duration": 11,
    "start_time": "2025-01-10T09:50:46.389Z"
   },
   {
    "duration": 1085,
    "start_time": "2025-01-10T09:51:05.796Z"
   },
   {
    "duration": 1577,
    "start_time": "2025-01-10T19:08:57.947Z"
   },
   {
    "duration": 106,
    "start_time": "2025-01-10T19:08:59.526Z"
   },
   {
    "duration": 11,
    "start_time": "2025-01-10T19:08:59.633Z"
   },
   {
    "duration": 15,
    "start_time": "2025-01-10T19:08:59.645Z"
   },
   {
    "duration": 7,
    "start_time": "2025-01-10T19:08:59.662Z"
   },
   {
    "duration": 19,
    "start_time": "2025-01-10T19:08:59.671Z"
   },
   {
    "duration": 11,
    "start_time": "2025-01-10T19:08:59.692Z"
   },
   {
    "duration": 29,
    "start_time": "2025-01-10T19:08:59.704Z"
   },
   {
    "duration": 420,
    "start_time": "2025-01-10T19:08:59.735Z"
   },
   {
    "duration": 12,
    "start_time": "2025-01-10T19:09:00.157Z"
   },
   {
    "duration": 1009,
    "start_time": "2025-01-10T19:09:00.171Z"
   },
   {
    "duration": 496,
    "start_time": "2025-01-10T19:09:01.182Z"
   },
   {
    "duration": 4,
    "start_time": "2025-01-10T19:09:01.679Z"
   },
   {
    "duration": 65,
    "start_time": "2025-01-10T19:09:01.686Z"
   },
   {
    "duration": 42,
    "start_time": "2025-01-10T19:09:01.752Z"
   },
   {
    "duration": 9,
    "start_time": "2025-01-10T19:09:01.796Z"
   },
   {
    "duration": 17,
    "start_time": "2025-01-10T19:09:01.806Z"
   },
   {
    "duration": 108,
    "start_time": "2025-01-10T19:09:01.825Z"
   },
   {
    "duration": 94,
    "start_time": "2025-01-10T19:09:01.936Z"
   },
   {
    "duration": 18,
    "start_time": "2025-01-10T19:09:02.032Z"
   },
   {
    "duration": 1286,
    "start_time": "2025-01-10T19:09:30.844Z"
   },
   {
    "duration": 9,
    "start_time": "2025-01-10T19:09:43.763Z"
   },
   {
    "duration": 116,
    "start_time": "2025-01-10T19:22:14.307Z"
   },
   {
    "duration": 17,
    "start_time": "2025-01-10T19:22:58.901Z"
   },
   {
    "duration": 3469,
    "start_time": "2025-01-10T19:23:05.513Z"
   },
   {
    "duration": 8,
    "start_time": "2025-01-10T19:23:38.676Z"
   },
   {
    "duration": 14,
    "start_time": "2025-01-10T19:27:13.457Z"
   },
   {
    "duration": 12,
    "start_time": "2025-01-10T19:28:44.452Z"
   },
   {
    "duration": 25,
    "start_time": "2025-01-10T19:29:26.985Z"
   },
   {
    "duration": 32210,
    "start_time": "2025-01-10T19:29:33.735Z"
   },
   {
    "duration": 10,
    "start_time": "2025-01-10T19:30:21.340Z"
   },
   {
    "duration": 17,
    "start_time": "2025-01-10T20:04:11.943Z"
   },
   {
    "duration": 55,
    "start_time": "2025-01-10T20:05:06.861Z"
   },
   {
    "duration": 23378,
    "start_time": "2025-01-10T20:05:14.346Z"
   },
   {
    "duration": 14,
    "start_time": "2025-01-10T20:05:42.001Z"
   },
   {
    "duration": 4,
    "start_time": "2025-01-10T20:06:15.601Z"
   },
   {
    "duration": 3,
    "start_time": "2025-01-10T20:06:16.635Z"
   },
   {
    "duration": 22997,
    "start_time": "2025-01-10T20:06:23.115Z"
   },
   {
    "duration": 9,
    "start_time": "2025-01-10T20:07:00.884Z"
   },
   {
    "duration": 69651,
    "start_time": "2025-01-10T20:07:50.386Z"
   },
   {
    "duration": 10,
    "start_time": "2025-01-10T20:10:07.072Z"
   },
   {
    "duration": 7,
    "start_time": "2025-01-10T20:10:29.681Z"
   },
   {
    "duration": 70534,
    "start_time": "2025-01-10T20:10:35.196Z"
   },
   {
    "duration": 11,
    "start_time": "2025-01-10T20:12:00.209Z"
   },
   {
    "duration": 4,
    "start_time": "2025-01-10T20:12:07.729Z"
   },
   {
    "duration": 54333,
    "start_time": "2025-01-10T20:12:19.639Z"
   },
   {
    "duration": 11,
    "start_time": "2025-01-10T20:13:34.414Z"
   },
   {
    "duration": 1742,
    "start_time": "2025-01-11T20:35:52.388Z"
   },
   {
    "duration": 4,
    "start_time": "2025-01-11T20:35:54.132Z"
   },
   {
    "duration": 117,
    "start_time": "2025-01-11T20:35:54.139Z"
   },
   {
    "duration": 10,
    "start_time": "2025-01-11T20:35:54.258Z"
   },
   {
    "duration": 17,
    "start_time": "2025-01-11T20:35:54.270Z"
   },
   {
    "duration": 7,
    "start_time": "2025-01-11T20:35:54.288Z"
   },
   {
    "duration": 13,
    "start_time": "2025-01-11T20:35:54.297Z"
   },
   {
    "duration": 18,
    "start_time": "2025-01-11T20:35:54.323Z"
   },
   {
    "duration": 31,
    "start_time": "2025-01-11T20:35:54.343Z"
   },
   {
    "duration": 454,
    "start_time": "2025-01-11T20:35:54.376Z"
   },
   {
    "duration": 12,
    "start_time": "2025-01-11T20:35:54.832Z"
   },
   {
    "duration": 996,
    "start_time": "2025-01-11T20:35:54.846Z"
   },
   {
    "duration": 508,
    "start_time": "2025-01-11T20:35:55.844Z"
   },
   {
    "duration": 3,
    "start_time": "2025-01-11T20:36:08.585Z"
   },
   {
    "duration": 23,
    "start_time": "2025-01-11T20:38:38.952Z"
   },
   {
    "duration": 42,
    "start_time": "2025-01-11T20:38:48.435Z"
   },
   {
    "duration": 129,
    "start_time": "2025-01-11T20:42:49.477Z"
   },
   {
    "duration": 12,
    "start_time": "2025-01-11T20:43:03.228Z"
   },
   {
    "duration": 6,
    "start_time": "2025-01-11T20:43:09.067Z"
   },
   {
    "duration": 28,
    "start_time": "2025-01-11T20:43:15.509Z"
   },
   {
    "duration": 3,
    "start_time": "2025-01-11T20:43:20.150Z"
   },
   {
    "duration": 4,
    "start_time": "2025-01-11T20:43:23.461Z"
   },
   {
    "duration": 513,
    "start_time": "2025-01-11T20:43:25.507Z"
   },
   {
    "duration": 18298,
    "start_time": "2025-01-11T20:43:53.447Z"
   },
   {
    "duration": 10,
    "start_time": "2025-01-11T20:45:15.883Z"
   },
   {
    "duration": 5,
    "start_time": "2025-01-11T20:46:16.382Z"
   },
   {
    "duration": 11,
    "start_time": "2025-01-11T20:46:24.376Z"
   },
   {
    "duration": 10,
    "start_time": "2025-01-11T20:46:25.713Z"
   },
   {
    "duration": 146,
    "start_time": "2025-01-11T20:46:27.277Z"
   },
   {
    "duration": 6,
    "start_time": "2025-01-11T20:46:32.415Z"
   },
   {
    "duration": 18,
    "start_time": "2025-01-11T20:46:34.418Z"
   },
   {
    "duration": 21764,
    "start_time": "2025-01-11T20:46:37.188Z"
   },
   {
    "duration": 11,
    "start_time": "2025-01-11T20:47:07.076Z"
   },
   {
    "duration": 5,
    "start_time": "2025-01-11T20:48:15.609Z"
   },
   {
    "duration": 11,
    "start_time": "2025-01-11T20:48:21.086Z"
   },
   {
    "duration": 14,
    "start_time": "2025-01-11T20:48:31.595Z"
   },
   {
    "duration": 5,
    "start_time": "2025-01-11T20:48:49.799Z"
   },
   {
    "duration": 5,
    "start_time": "2025-01-11T20:48:49.806Z"
   },
   {
    "duration": 56,
    "start_time": "2025-01-11T20:48:49.813Z"
   },
   {
    "duration": 6,
    "start_time": "2025-01-11T20:48:49.871Z"
   },
   {
    "duration": 10,
    "start_time": "2025-01-11T20:48:49.879Z"
   },
   {
    "duration": 12,
    "start_time": "2025-01-11T20:48:49.891Z"
   },
   {
    "duration": 18,
    "start_time": "2025-01-11T20:48:49.905Z"
   },
   {
    "duration": 10,
    "start_time": "2025-01-11T20:48:49.927Z"
   },
   {
    "duration": 21,
    "start_time": "2025-01-11T20:48:49.938Z"
   },
   {
    "duration": 349,
    "start_time": "2025-01-11T20:48:49.961Z"
   },
   {
    "duration": 16,
    "start_time": "2025-01-11T20:48:50.312Z"
   },
   {
    "duration": 928,
    "start_time": "2025-01-11T20:48:50.329Z"
   },
   {
    "duration": 490,
    "start_time": "2025-01-11T20:48:51.259Z"
   },
   {
    "duration": 4,
    "start_time": "2025-01-11T20:48:51.753Z"
   },
   {
    "duration": 22,
    "start_time": "2025-01-11T20:48:51.760Z"
   },
   {
    "duration": 70,
    "start_time": "2025-01-11T20:48:51.784Z"
   },
   {
    "duration": 5,
    "start_time": "2025-01-11T20:49:00.685Z"
   },
   {
    "duration": 4,
    "start_time": "2025-01-11T20:49:03.435Z"
   },
   {
    "duration": 11,
    "start_time": "2025-01-11T20:49:08.279Z"
   },
   {
    "duration": 8,
    "start_time": "2025-01-11T20:49:10.321Z"
   },
   {
    "duration": 91,
    "start_time": "2025-01-11T20:49:12.228Z"
   },
   {
    "duration": 3,
    "start_time": "2025-01-11T20:49:27.038Z"
   },
   {
    "duration": 5,
    "start_time": "2025-01-11T20:49:28.902Z"
   },
   {
    "duration": 22308,
    "start_time": "2025-01-11T20:49:31.136Z"
   },
   {
    "duration": 1286,
    "start_time": "2025-01-11T20:50:13.338Z"
   },
   {
    "duration": 5,
    "start_time": "2025-01-11T20:50:31.295Z"
   },
   {
    "duration": 9,
    "start_time": "2025-01-11T20:50:31.302Z"
   },
   {
    "duration": 63,
    "start_time": "2025-01-11T20:50:31.312Z"
   },
   {
    "duration": 6,
    "start_time": "2025-01-11T20:50:31.377Z"
   },
   {
    "duration": 7,
    "start_time": "2025-01-11T20:50:31.386Z"
   },
   {
    "duration": 7,
    "start_time": "2025-01-11T20:50:31.394Z"
   },
   {
    "duration": 13,
    "start_time": "2025-01-11T20:50:31.402Z"
   },
   {
    "duration": 6,
    "start_time": "2025-01-11T20:50:31.418Z"
   },
   {
    "duration": 21,
    "start_time": "2025-01-11T20:50:31.428Z"
   },
   {
    "duration": 368,
    "start_time": "2025-01-11T20:50:31.451Z"
   },
   {
    "duration": 18,
    "start_time": "2025-01-11T20:50:31.822Z"
   },
   {
    "duration": 1002,
    "start_time": "2025-01-11T20:50:31.842Z"
   },
   {
    "duration": 501,
    "start_time": "2025-01-11T20:50:32.846Z"
   },
   {
    "duration": 4,
    "start_time": "2025-01-11T20:50:33.350Z"
   },
   {
    "duration": 35,
    "start_time": "2025-01-11T20:50:33.356Z"
   },
   {
    "duration": 57,
    "start_time": "2025-01-11T20:50:33.392Z"
   },
   {
    "duration": 5,
    "start_time": "2025-01-11T20:50:33.451Z"
   },
   {
    "duration": 4,
    "start_time": "2025-01-11T20:50:38.947Z"
   },
   {
    "duration": 5,
    "start_time": "2025-01-11T20:50:39.873Z"
   },
   {
    "duration": 12,
    "start_time": "2025-01-11T20:50:43.429Z"
   },
   {
    "duration": 5,
    "start_time": "2025-01-11T20:50:44.441Z"
   },
   {
    "duration": 105,
    "start_time": "2025-01-11T20:50:45.118Z"
   },
   {
    "duration": 3,
    "start_time": "2025-01-11T20:50:48.380Z"
   },
   {
    "duration": 4,
    "start_time": "2025-01-11T20:50:50.892Z"
   },
   {
    "duration": 22334,
    "start_time": "2025-01-11T20:50:51.890Z"
   },
   {
    "duration": 8,
    "start_time": "2025-01-11T20:51:22.965Z"
   },
   {
    "duration": 5,
    "start_time": "2025-01-11T20:52:16.165Z"
   },
   {
    "duration": 20,
    "start_time": "2025-01-11T20:52:16.172Z"
   },
   {
    "duration": 55,
    "start_time": "2025-01-11T20:52:16.194Z"
   },
   {
    "duration": 7,
    "start_time": "2025-01-11T20:52:16.251Z"
   },
   {
    "duration": 100,
    "start_time": "2025-01-11T20:52:16.260Z"
   },
   {
    "duration": 7,
    "start_time": "2025-01-11T20:52:16.361Z"
   },
   {
    "duration": 31,
    "start_time": "2025-01-11T20:52:16.369Z"
   },
   {
    "duration": 6,
    "start_time": "2025-01-11T20:52:16.401Z"
   },
   {
    "duration": 34,
    "start_time": "2025-01-11T20:52:16.408Z"
   },
   {
    "duration": 383,
    "start_time": "2025-01-11T20:52:16.444Z"
   },
   {
    "duration": 11,
    "start_time": "2025-01-11T20:52:16.833Z"
   },
   {
    "duration": 818,
    "start_time": "2025-01-11T20:52:16.846Z"
   },
   {
    "duration": 672,
    "start_time": "2025-01-11T20:52:17.666Z"
   },
   {
    "duration": 4,
    "start_time": "2025-01-11T20:52:18.341Z"
   },
   {
    "duration": 29,
    "start_time": "2025-01-11T20:52:18.347Z"
   },
   {
    "duration": 60,
    "start_time": "2025-01-11T20:52:18.377Z"
   },
   {
    "duration": 5,
    "start_time": "2025-01-11T20:52:18.439Z"
   },
   {
    "duration": 4,
    "start_time": "2025-01-11T20:52:29.994Z"
   },
   {
    "duration": 4,
    "start_time": "2025-01-11T20:52:30.648Z"
   },
   {
    "duration": 11,
    "start_time": "2025-01-11T20:52:33.695Z"
   },
   {
    "duration": 6,
    "start_time": "2025-01-11T20:52:34.656Z"
   },
   {
    "duration": 91,
    "start_time": "2025-01-11T20:52:35.429Z"
   },
   {
    "duration": 3,
    "start_time": "2025-01-11T20:52:38.170Z"
   },
   {
    "duration": 5,
    "start_time": "2025-01-11T20:52:39.542Z"
   },
   {
    "duration": 24007,
    "start_time": "2025-01-11T20:52:40.564Z"
   },
   {
    "duration": 19,
    "start_time": "2025-01-11T20:53:44.811Z"
   },
   {
    "duration": 6,
    "start_time": "2025-01-11T20:54:12.169Z"
   },
   {
    "duration": 6,
    "start_time": "2025-01-11T20:54:12.176Z"
   },
   {
    "duration": 56,
    "start_time": "2025-01-11T20:54:12.184Z"
   },
   {
    "duration": 7,
    "start_time": "2025-01-11T20:54:12.241Z"
   },
   {
    "duration": 10,
    "start_time": "2025-01-11T20:54:12.250Z"
   },
   {
    "duration": 6,
    "start_time": "2025-01-11T20:54:12.261Z"
   },
   {
    "duration": 9,
    "start_time": "2025-01-11T20:54:12.269Z"
   },
   {
    "duration": 6,
    "start_time": "2025-01-11T20:54:12.279Z"
   },
   {
    "duration": 42,
    "start_time": "2025-01-11T20:54:12.286Z"
   },
   {
    "duration": 340,
    "start_time": "2025-01-11T20:54:12.329Z"
   },
   {
    "duration": 11,
    "start_time": "2025-01-11T20:54:12.671Z"
   },
   {
    "duration": 874,
    "start_time": "2025-01-11T20:54:12.684Z"
   },
   {
    "duration": 541,
    "start_time": "2025-01-11T20:54:13.560Z"
   },
   {
    "duration": 14,
    "start_time": "2025-01-11T20:54:14.104Z"
   },
   {
    "duration": 28,
    "start_time": "2025-01-11T20:54:14.121Z"
   },
   {
    "duration": 40,
    "start_time": "2025-01-11T20:54:14.152Z"
   },
   {
    "duration": 5,
    "start_time": "2025-01-11T20:54:14.194Z"
   },
   {
    "duration": 5,
    "start_time": "2025-01-11T20:54:26.699Z"
   },
   {
    "duration": 11,
    "start_time": "2025-01-11T20:54:27.651Z"
   },
   {
    "duration": 7,
    "start_time": "2025-01-11T20:54:28.314Z"
   },
   {
    "duration": 184,
    "start_time": "2025-01-11T20:54:29.232Z"
   },
   {
    "duration": 3,
    "start_time": "2025-01-11T20:54:32.348Z"
   },
   {
    "duration": 5,
    "start_time": "2025-01-11T20:54:33.650Z"
   },
   {
    "duration": 73946,
    "start_time": "2025-01-11T20:54:34.680Z"
   },
   {
    "duration": 14,
    "start_time": "2025-01-11T20:56:03.409Z"
   },
   {
    "duration": 5,
    "start_time": "2025-01-11T20:56:18.757Z"
   },
   {
    "duration": 5,
    "start_time": "2025-01-11T20:56:18.763Z"
   },
   {
    "duration": 59,
    "start_time": "2025-01-11T20:56:18.770Z"
   },
   {
    "duration": 9,
    "start_time": "2025-01-11T20:56:18.831Z"
   },
   {
    "duration": 65,
    "start_time": "2025-01-11T20:56:18.843Z"
   },
   {
    "duration": 19,
    "start_time": "2025-01-11T20:56:18.910Z"
   },
   {
    "duration": 11,
    "start_time": "2025-01-11T20:56:18.931Z"
   },
   {
    "duration": 7,
    "start_time": "2025-01-11T20:56:18.944Z"
   },
   {
    "duration": 12,
    "start_time": "2025-01-11T20:56:18.952Z"
   },
   {
    "duration": 465,
    "start_time": "2025-01-11T20:56:18.965Z"
   },
   {
    "duration": 11,
    "start_time": "2025-01-11T20:56:19.432Z"
   },
   {
    "duration": 822,
    "start_time": "2025-01-11T20:56:19.445Z"
   },
   {
    "duration": 498,
    "start_time": "2025-01-11T20:56:20.269Z"
   },
   {
    "duration": 52,
    "start_time": "2025-01-11T20:56:39.485Z"
   },
   {
    "duration": 48,
    "start_time": "2025-01-11T20:56:40.826Z"
   },
   {
    "duration": 5,
    "start_time": "2025-01-11T20:56:42.004Z"
   },
   {
    "duration": 33,
    "start_time": "2025-01-11T20:56:45.005Z"
   },
   {
    "duration": 6,
    "start_time": "2025-01-11T20:56:46.668Z"
   },
   {
    "duration": 228,
    "start_time": "2025-01-11T20:56:49.716Z"
   },
   {
    "duration": 3,
    "start_time": "2025-01-11T20:56:55.381Z"
   },
   {
    "duration": 5,
    "start_time": "2025-01-11T20:56:56.468Z"
   },
   {
    "duration": 52724,
    "start_time": "2025-01-11T20:57:06.905Z"
   },
   {
    "duration": 8,
    "start_time": "2025-01-11T21:01:50.891Z"
   },
   {
    "duration": 5,
    "start_time": "2025-01-11T21:02:26.927Z"
   },
   {
    "duration": 33,
    "start_time": "2025-01-11T21:02:26.934Z"
   },
   {
    "duration": 71,
    "start_time": "2025-01-11T21:02:26.968Z"
   },
   {
    "duration": 7,
    "start_time": "2025-01-11T21:02:27.040Z"
   },
   {
    "duration": 8,
    "start_time": "2025-01-11T21:02:27.049Z"
   },
   {
    "duration": 8,
    "start_time": "2025-01-11T21:02:27.059Z"
   },
   {
    "duration": 11,
    "start_time": "2025-01-11T21:02:27.069Z"
   },
   {
    "duration": 39,
    "start_time": "2025-01-11T21:02:27.081Z"
   },
   {
    "duration": 17,
    "start_time": "2025-01-11T21:02:27.122Z"
   },
   {
    "duration": 363,
    "start_time": "2025-01-11T21:02:27.141Z"
   },
   {
    "duration": 28,
    "start_time": "2025-01-11T21:02:27.505Z"
   },
   {
    "duration": 967,
    "start_time": "2025-01-11T21:02:27.535Z"
   },
   {
    "duration": 538,
    "start_time": "2025-01-11T21:02:28.503Z"
   },
   {
    "duration": 5,
    "start_time": "2025-01-11T21:02:29.045Z"
   },
   {
    "duration": 28,
    "start_time": "2025-01-11T21:02:29.052Z"
   },
   {
    "duration": 68,
    "start_time": "2025-01-11T21:02:29.082Z"
   },
   {
    "duration": 4,
    "start_time": "2025-01-11T21:02:29.152Z"
   },
   {
    "duration": 11,
    "start_time": "2025-01-11T21:02:29.158Z"
   },
   {
    "duration": 5,
    "start_time": "2025-01-11T21:02:29.171Z"
   },
   {
    "duration": 144,
    "start_time": "2025-01-11T21:02:29.178Z"
   },
   {
    "duration": 94,
    "start_time": "2025-01-11T21:02:29.324Z"
   },
   {
    "duration": 5,
    "start_time": "2025-01-11T21:02:29.427Z"
   },
   {
    "duration": 74516,
    "start_time": "2025-01-11T21:02:29.434Z"
   },
   {
    "duration": 11,
    "start_time": "2025-01-11T21:03:51.099Z"
   },
   {
    "duration": 12,
    "start_time": "2025-01-11T21:04:35.318Z"
   },
   {
    "duration": 7,
    "start_time": "2025-01-11T21:05:28.793Z"
   },
   {
    "duration": 8,
    "start_time": "2025-01-11T21:05:54.141Z"
   },
   {
    "duration": 8,
    "start_time": "2025-01-11T21:06:00.525Z"
   },
   {
    "duration": 22,
    "start_time": "2025-01-11T21:06:33.880Z"
   },
   {
    "duration": 15,
    "start_time": "2025-01-11T21:12:34.883Z"
   },
   {
    "duration": 5,
    "start_time": "2025-01-11T21:12:46.969Z"
   },
   {
    "duration": 23,
    "start_time": "2025-01-11T21:12:46.976Z"
   },
   {
    "duration": 52,
    "start_time": "2025-01-11T21:12:47.001Z"
   },
   {
    "duration": 7,
    "start_time": "2025-01-11T21:12:47.055Z"
   },
   {
    "duration": 12,
    "start_time": "2025-01-11T21:12:47.064Z"
   },
   {
    "duration": 6,
    "start_time": "2025-01-11T21:12:47.078Z"
   },
   {
    "duration": 9,
    "start_time": "2025-01-11T21:12:47.086Z"
   },
   {
    "duration": 23,
    "start_time": "2025-01-11T21:12:47.097Z"
   },
   {
    "duration": 20,
    "start_time": "2025-01-11T21:12:47.121Z"
   },
   {
    "duration": 341,
    "start_time": "2025-01-11T21:12:47.143Z"
   },
   {
    "duration": 11,
    "start_time": "2025-01-11T21:12:47.486Z"
   },
   {
    "duration": 963,
    "start_time": "2025-01-11T21:12:47.499Z"
   },
   {
    "duration": 509,
    "start_time": "2025-01-11T21:12:48.463Z"
   },
   {
    "duration": 3,
    "start_time": "2025-01-11T21:12:48.975Z"
   },
   {
    "duration": 40,
    "start_time": "2025-01-11T21:12:48.980Z"
   },
   {
    "duration": 43,
    "start_time": "2025-01-11T21:12:49.027Z"
   },
   {
    "duration": 5,
    "start_time": "2025-01-11T21:12:49.072Z"
   },
   {
    "duration": 11,
    "start_time": "2025-01-11T21:12:49.078Z"
   },
   {
    "duration": 24,
    "start_time": "2025-01-11T21:12:49.091Z"
   },
   {
    "duration": 212,
    "start_time": "2025-01-11T21:12:49.117Z"
   },
   {
    "duration": 87,
    "start_time": "2025-01-11T21:12:49.331Z"
   },
   {
    "duration": 5,
    "start_time": "2025-01-11T21:12:49.427Z"
   },
   {
    "duration": 74407,
    "start_time": "2025-01-11T21:12:49.434Z"
   },
   {
    "duration": 24,
    "start_time": "2025-01-11T21:14:03.843Z"
   },
   {
    "duration": 30,
    "start_time": "2025-01-11T21:14:03.869Z"
   },
   {
    "duration": 6,
    "start_time": "2025-01-11T21:14:20.339Z"
   },
   {
    "duration": 4,
    "start_time": "2025-01-11T21:14:24.299Z"
   },
   {
    "duration": 6,
    "start_time": "2025-01-11T21:14:27.526Z"
   },
   {
    "duration": 11,
    "start_time": "2025-01-11T21:14:35.900Z"
   },
   {
    "duration": 8934,
    "start_time": "2025-01-11T21:15:57.569Z"
   },
   {
    "duration": 3,
    "start_time": "2025-01-11T21:17:26.437Z"
   },
   {
    "duration": 3517,
    "start_time": "2025-01-11T21:17:30.475Z"
   },
   {
    "duration": 488,
    "start_time": "2025-01-11T21:19:27.588Z"
   },
   {
    "duration": 338,
    "start_time": "2025-01-11T21:20:07.389Z"
   },
   {
    "duration": 511,
    "start_time": "2025-01-11T21:20:44.193Z"
   },
   {
    "duration": 331,
    "start_time": "2025-01-11T21:20:58.801Z"
   },
   {
    "duration": 404,
    "start_time": "2025-01-11T21:21:54.074Z"
   },
   {
    "duration": 400,
    "start_time": "2025-01-11T21:22:53.836Z"
   },
   {
    "duration": 359,
    "start_time": "2025-01-11T21:23:07.023Z"
   },
   {
    "duration": 1699,
    "start_time": "2025-01-13T08:23:43.499Z"
   },
   {
    "duration": 3,
    "start_time": "2025-01-13T08:23:45.200Z"
   },
   {
    "duration": 182,
    "start_time": "2025-01-13T08:23:45.204Z"
   },
   {
    "duration": 12,
    "start_time": "2025-01-13T08:23:45.388Z"
   },
   {
    "duration": 50,
    "start_time": "2025-01-13T08:23:45.402Z"
   },
   {
    "duration": 6,
    "start_time": "2025-01-13T08:23:45.454Z"
   },
   {
    "duration": 19,
    "start_time": "2025-01-13T08:23:45.462Z"
   },
   {
    "duration": 6,
    "start_time": "2025-01-13T08:23:45.483Z"
   },
   {
    "duration": 16,
    "start_time": "2025-01-13T08:23:45.491Z"
   },
   {
    "duration": 410,
    "start_time": "2025-01-13T08:23:45.508Z"
   },
   {
    "duration": 12,
    "start_time": "2025-01-13T08:23:45.919Z"
   },
   {
    "duration": 986,
    "start_time": "2025-01-13T08:23:45.933Z"
   },
   {
    "duration": 524,
    "start_time": "2025-01-13T08:23:46.921Z"
   },
   {
    "duration": 4,
    "start_time": "2025-01-13T08:23:47.449Z"
   },
   {
    "duration": 23,
    "start_time": "2025-01-13T08:23:47.454Z"
   },
   {
    "duration": 65,
    "start_time": "2025-01-13T08:23:47.479Z"
   },
   {
    "duration": 5,
    "start_time": "2025-01-13T08:23:47.546Z"
   },
   {
    "duration": 15,
    "start_time": "2025-01-13T08:23:47.553Z"
   },
   {
    "duration": 6,
    "start_time": "2025-01-13T08:23:47.570Z"
   },
   {
    "duration": 166,
    "start_time": "2025-01-13T08:23:47.578Z"
   },
   {
    "duration": 3,
    "start_time": "2025-01-13T08:23:47.746Z"
   },
   {
    "duration": 93,
    "start_time": "2025-01-13T08:23:47.751Z"
   },
   {
    "duration": 74971,
    "start_time": "2025-01-13T08:23:47.847Z"
   },
   {
    "duration": 34,
    "start_time": "2025-01-13T08:25:02.820Z"
   },
   {
    "duration": 35,
    "start_time": "2025-01-13T08:25:02.856Z"
   },
   {
    "duration": 16,
    "start_time": "2025-01-13T08:25:02.892Z"
   },
   {
    "duration": 15,
    "start_time": "2025-01-13T08:25:02.910Z"
   },
   {
    "duration": 33,
    "start_time": "2025-01-13T08:25:02.927Z"
   },
   {
    "duration": 19,
    "start_time": "2025-01-13T08:25:02.962Z"
   },
   {
    "duration": 7,
    "start_time": "2025-01-13T08:26:48.344Z"
   },
   {
    "duration": 85,
    "start_time": "2025-01-13T08:28:49.209Z"
   },
   {
    "duration": 5,
    "start_time": "2025-01-13T08:59:47.946Z"
   },
   {
    "duration": 8,
    "start_time": "2025-01-13T08:59:47.953Z"
   },
   {
    "duration": 51,
    "start_time": "2025-01-13T08:59:47.962Z"
   },
   {
    "duration": 6,
    "start_time": "2025-01-13T08:59:48.015Z"
   },
   {
    "duration": 7,
    "start_time": "2025-01-13T08:59:48.023Z"
   },
   {
    "duration": 7,
    "start_time": "2025-01-13T08:59:48.031Z"
   },
   {
    "duration": 18,
    "start_time": "2025-01-13T08:59:48.039Z"
   },
   {
    "duration": 9,
    "start_time": "2025-01-13T08:59:48.058Z"
   },
   {
    "duration": 12,
    "start_time": "2025-01-13T08:59:48.069Z"
   },
   {
    "duration": 373,
    "start_time": "2025-01-13T08:59:48.082Z"
   },
   {
    "duration": 11,
    "start_time": "2025-01-13T08:59:48.457Z"
   },
   {
    "duration": 882,
    "start_time": "2025-01-13T08:59:48.469Z"
   },
   {
    "duration": 493,
    "start_time": "2025-01-13T08:59:49.353Z"
   },
   {
    "duration": 4,
    "start_time": "2025-01-13T08:59:49.848Z"
   },
   {
    "duration": 27,
    "start_time": "2025-01-13T08:59:49.854Z"
   },
   {
    "duration": 60,
    "start_time": "2025-01-13T08:59:49.883Z"
   },
   {
    "duration": 6,
    "start_time": "2025-01-13T08:59:49.945Z"
   },
   {
    "duration": 22,
    "start_time": "2025-01-13T08:59:49.952Z"
   },
   {
    "duration": 4,
    "start_time": "2025-01-13T08:59:49.976Z"
   },
   {
    "duration": 3,
    "start_time": "2025-01-13T08:59:49.982Z"
   },
   {
    "duration": 5,
    "start_time": "2025-01-13T08:59:49.986Z"
   },
   {
    "duration": 74774,
    "start_time": "2025-01-13T08:59:49.993Z"
   },
   {
    "duration": 73393,
    "start_time": "2025-01-13T09:02:27.624Z"
   },
   {
    "duration": 22,
    "start_time": "2025-01-13T09:04:25.346Z"
   },
   {
    "duration": 354,
    "start_time": "2025-01-13T09:07:10.315Z"
   },
   {
    "duration": 344,
    "start_time": "2025-01-13T09:07:32.323Z"
   },
   {
    "duration": 354,
    "start_time": "2025-01-13T09:07:46.110Z"
   },
   {
    "duration": 359,
    "start_time": "2025-01-13T09:08:00.350Z"
   },
   {
    "duration": 381,
    "start_time": "2025-01-13T09:09:49.761Z"
   },
   {
    "duration": 1565,
    "start_time": "2025-01-13T11:42:20.997Z"
   },
   {
    "duration": 3,
    "start_time": "2025-01-13T11:42:22.563Z"
   },
   {
    "duration": 167,
    "start_time": "2025-01-13T11:42:22.567Z"
   },
   {
    "duration": 11,
    "start_time": "2025-01-13T11:42:22.735Z"
   },
   {
    "duration": 12,
    "start_time": "2025-01-13T11:42:22.748Z"
   },
   {
    "duration": 9,
    "start_time": "2025-01-13T11:42:22.761Z"
   },
   {
    "duration": 21,
    "start_time": "2025-01-13T11:42:22.771Z"
   },
   {
    "duration": 35,
    "start_time": "2025-01-13T11:42:22.794Z"
   },
   {
    "duration": 44,
    "start_time": "2025-01-13T11:42:22.832Z"
   },
   {
    "duration": 419,
    "start_time": "2025-01-13T11:42:22.878Z"
   },
   {
    "duration": 10,
    "start_time": "2025-01-13T11:42:23.299Z"
   },
   {
    "duration": 904,
    "start_time": "2025-01-13T11:42:23.310Z"
   },
   {
    "duration": 446,
    "start_time": "2025-01-13T11:42:24.215Z"
   },
   {
    "duration": 3,
    "start_time": "2025-01-13T11:42:24.664Z"
   },
   {
    "duration": 31,
    "start_time": "2025-01-13T11:42:24.669Z"
   },
   {
    "duration": 36,
    "start_time": "2025-01-13T11:42:24.701Z"
   },
   {
    "duration": 4,
    "start_time": "2025-01-13T11:42:24.738Z"
   },
   {
    "duration": 9,
    "start_time": "2025-01-13T11:42:24.752Z"
   },
   {
    "duration": 5,
    "start_time": "2025-01-13T11:42:24.762Z"
   },
   {
    "duration": 37,
    "start_time": "2025-01-13T11:42:24.768Z"
   },
   {
    "duration": 8,
    "start_time": "2025-01-13T11:42:24.806Z"
   },
   {
    "duration": 75527,
    "start_time": "2025-01-13T11:42:24.816Z"
   },
   {
    "duration": 25,
    "start_time": "2025-01-13T11:43:40.345Z"
   },
   {
    "duration": 16,
    "start_time": "2025-01-13T11:43:40.371Z"
   },
   {
    "duration": 47,
    "start_time": "2025-01-13T11:43:40.389Z"
   },
   {
    "duration": 40,
    "start_time": "2025-01-13T11:43:40.437Z"
   },
   {
    "duration": 28,
    "start_time": "2025-01-13T11:43:40.478Z"
   },
   {
    "duration": 42,
    "start_time": "2025-01-13T11:43:40.507Z"
   },
   {
    "duration": 378,
    "start_time": "2025-01-13T11:43:40.551Z"
   },
   {
    "duration": 1571,
    "start_time": "2025-01-13T20:19:58.807Z"
   },
   {
    "duration": 3,
    "start_time": "2025-01-13T20:20:00.380Z"
   },
   {
    "duration": 142,
    "start_time": "2025-01-13T20:20:00.384Z"
   },
   {
    "duration": 10,
    "start_time": "2025-01-13T20:20:00.528Z"
   },
   {
    "duration": 28,
    "start_time": "2025-01-13T20:20:00.540Z"
   },
   {
    "duration": 25,
    "start_time": "2025-01-13T20:20:00.569Z"
   },
   {
    "duration": 11,
    "start_time": "2025-01-13T20:20:00.596Z"
   },
   {
    "duration": 6,
    "start_time": "2025-01-13T20:20:00.609Z"
   },
   {
    "duration": 10,
    "start_time": "2025-01-13T20:20:00.616Z"
   },
   {
    "duration": 415,
    "start_time": "2025-01-13T20:20:00.627Z"
   },
   {
    "duration": 22,
    "start_time": "2025-01-13T20:20:01.045Z"
   },
   {
    "duration": 812,
    "start_time": "2025-01-13T20:20:01.069Z"
   },
   {
    "duration": 493,
    "start_time": "2025-01-13T20:20:01.883Z"
   },
   {
    "duration": 5,
    "start_time": "2025-01-13T20:20:02.379Z"
   },
   {
    "duration": 21,
    "start_time": "2025-01-13T20:20:02.386Z"
   },
   {
    "duration": 61,
    "start_time": "2025-01-13T20:20:02.408Z"
   },
   {
    "duration": 27,
    "start_time": "2025-01-13T20:20:02.471Z"
   },
   {
    "duration": 42,
    "start_time": "2025-01-13T20:20:02.499Z"
   },
   {
    "duration": 39,
    "start_time": "2025-01-13T20:20:02.542Z"
   },
   {
    "duration": 42,
    "start_time": "2025-01-13T20:20:02.583Z"
   },
   {
    "duration": 20,
    "start_time": "2025-01-13T20:20:02.626Z"
   },
   {
    "duration": 126,
    "start_time": "2025-01-13T20:20:58.211Z"
   },
   {
    "duration": 17,
    "start_time": "2025-01-13T20:25:53.441Z"
   },
   {
    "duration": 4,
    "start_time": "2025-01-13T20:26:13.216Z"
   },
   {
    "duration": 45607,
    "start_time": "2025-01-13T20:26:21.317Z"
   },
   {
    "duration": 20,
    "start_time": "2025-01-13T20:27:24.002Z"
   },
   {
    "duration": 10,
    "start_time": "2025-01-13T20:27:45.973Z"
   },
   {
    "duration": 4,
    "start_time": "2025-01-13T20:31:51.211Z"
   },
   {
    "duration": 36,
    "start_time": "2025-01-13T20:31:59.203Z"
   },
   {
    "duration": 10,
    "start_time": "2025-01-13T20:32:17.165Z"
   },
   {
    "duration": 4,
    "start_time": "2025-01-13T20:33:20.144Z"
   },
   {
    "duration": 31,
    "start_time": "2025-01-13T20:33:29.518Z"
   },
   {
    "duration": 5,
    "start_time": "2025-01-13T20:33:45.914Z"
   },
   {
    "duration": 4,
    "start_time": "2025-01-13T20:33:45.921Z"
   },
   {
    "duration": 54,
    "start_time": "2025-01-13T20:33:45.926Z"
   },
   {
    "duration": 6,
    "start_time": "2025-01-13T20:33:45.981Z"
   },
   {
    "duration": 6,
    "start_time": "2025-01-13T20:33:45.989Z"
   },
   {
    "duration": 13,
    "start_time": "2025-01-13T20:33:45.996Z"
   },
   {
    "duration": 10,
    "start_time": "2025-01-13T20:33:46.010Z"
   },
   {
    "duration": 8,
    "start_time": "2025-01-13T20:33:46.022Z"
   },
   {
    "duration": 10,
    "start_time": "2025-01-13T20:33:46.031Z"
   },
   {
    "duration": 324,
    "start_time": "2025-01-13T20:33:46.054Z"
   },
   {
    "duration": 9,
    "start_time": "2025-01-13T20:33:46.380Z"
   },
   {
    "duration": 867,
    "start_time": "2025-01-13T20:33:46.391Z"
   },
   {
    "duration": 474,
    "start_time": "2025-01-13T20:33:47.266Z"
   },
   {
    "duration": 14,
    "start_time": "2025-01-13T20:33:56.951Z"
   },
   {
    "duration": 48,
    "start_time": "2025-01-13T20:34:04.775Z"
   },
   {
    "duration": 37,
    "start_time": "2025-01-13T20:34:07.172Z"
   },
   {
    "duration": 10,
    "start_time": "2025-01-13T20:34:34.503Z"
   },
   {
    "duration": 5,
    "start_time": "2025-01-13T20:34:39.440Z"
   },
   {
    "duration": 5,
    "start_time": "2025-01-13T20:34:49.465Z"
   },
   {
    "duration": 2,
    "start_time": "2025-01-13T20:34:50.067Z"
   },
   {
    "duration": 5,
    "start_time": "2025-01-13T20:34:50.862Z"
   },
   {
    "duration": 45781,
    "start_time": "2025-01-13T20:35:48.368Z"
   },
   {
    "duration": 26,
    "start_time": "2025-01-13T20:37:20.650Z"
   },
   {
    "duration": 8,
    "start_time": "2025-01-13T20:41:59.543Z"
   },
   {
    "duration": 6,
    "start_time": "2025-01-13T20:42:01.196Z"
   },
   {
    "duration": 3,
    "start_time": "2025-01-13T20:42:02.010Z"
   },
   {
    "duration": 5,
    "start_time": "2025-01-13T20:42:19.746Z"
   },
   {
    "duration": 3,
    "start_time": "2025-01-13T20:42:22.185Z"
   },
   {
    "duration": 342,
    "start_time": "2025-01-13T20:42:23.077Z"
   },
   {
    "duration": 4,
    "start_time": "2025-01-13T20:46:22.799Z"
   },
   {
    "duration": 9,
    "start_time": "2025-01-13T20:46:22.805Z"
   },
   {
    "duration": 51,
    "start_time": "2025-01-13T20:46:22.816Z"
   },
   {
    "duration": 8,
    "start_time": "2025-01-13T20:46:22.868Z"
   },
   {
    "duration": 6,
    "start_time": "2025-01-13T20:46:22.878Z"
   },
   {
    "duration": 6,
    "start_time": "2025-01-13T20:46:22.885Z"
   },
   {
    "duration": 8,
    "start_time": "2025-01-13T20:46:22.892Z"
   },
   {
    "duration": 5,
    "start_time": "2025-01-13T20:46:22.902Z"
   },
   {
    "duration": 9,
    "start_time": "2025-01-13T20:46:22.908Z"
   },
   {
    "duration": 362,
    "start_time": "2025-01-13T20:46:22.918Z"
   },
   {
    "duration": 10,
    "start_time": "2025-01-13T20:46:23.282Z"
   },
   {
    "duration": 870,
    "start_time": "2025-01-13T20:46:23.293Z"
   },
   {
    "duration": 480,
    "start_time": "2025-01-13T20:46:24.168Z"
   },
   {
    "duration": 6,
    "start_time": "2025-01-13T20:46:24.655Z"
   },
   {
    "duration": 54,
    "start_time": "2025-01-13T20:46:24.663Z"
   },
   {
    "duration": 51,
    "start_time": "2025-01-13T20:46:24.718Z"
   },
   {
    "duration": 4,
    "start_time": "2025-01-13T20:46:24.770Z"
   },
   {
    "duration": 7,
    "start_time": "2025-01-13T20:46:24.776Z"
   },
   {
    "duration": 4,
    "start_time": "2025-01-13T20:46:24.784Z"
   },
   {
    "duration": 3,
    "start_time": "2025-01-13T20:46:24.790Z"
   },
   {
    "duration": 18,
    "start_time": "2025-01-13T20:46:24.794Z"
   },
   {
    "duration": 45374,
    "start_time": "2025-01-13T20:46:24.813Z"
   },
   {
    "duration": 20,
    "start_time": "2025-01-13T20:47:10.189Z"
   },
   {
    "duration": 9,
    "start_time": "2025-01-13T20:47:10.210Z"
   },
   {
    "duration": 4,
    "start_time": "2025-01-13T20:47:10.220Z"
   },
   {
    "duration": 12,
    "start_time": "2025-01-13T20:47:10.226Z"
   },
   {
    "duration": 5,
    "start_time": "2025-01-13T20:47:10.239Z"
   },
   {
    "duration": 2,
    "start_time": "2025-01-13T20:47:10.245Z"
   },
   {
    "duration": 341,
    "start_time": "2025-01-13T20:47:10.248Z"
   },
   {
    "duration": 1991,
    "start_time": "2025-01-14T20:17:53.294Z"
   },
   {
    "duration": 3,
    "start_time": "2025-01-14T20:17:55.286Z"
   },
   {
    "duration": 52,
    "start_time": "2025-01-14T20:17:55.291Z"
   },
   {
    "duration": 11,
    "start_time": "2025-01-14T20:17:55.345Z"
   },
   {
    "duration": 10,
    "start_time": "2025-01-14T20:17:55.358Z"
   },
   {
    "duration": 6,
    "start_time": "2025-01-14T20:17:55.370Z"
   },
   {
    "duration": 13,
    "start_time": "2025-01-14T20:17:55.378Z"
   },
   {
    "duration": 39,
    "start_time": "2025-01-14T20:17:55.393Z"
   },
   {
    "duration": 18,
    "start_time": "2025-01-14T20:17:55.434Z"
   },
   {
    "duration": 413,
    "start_time": "2025-01-14T20:17:55.454Z"
   },
   {
    "duration": 14,
    "start_time": "2025-01-14T20:17:55.869Z"
   },
   {
    "duration": 914,
    "start_time": "2025-01-14T20:17:55.885Z"
   },
   {
    "duration": 533,
    "start_time": "2025-01-14T20:17:56.800Z"
   },
   {
    "duration": 5,
    "start_time": "2025-01-14T20:17:57.336Z"
   },
   {
    "duration": 57,
    "start_time": "2025-01-14T20:17:57.342Z"
   },
   {
    "duration": 147,
    "start_time": "2025-01-14T20:17:57.400Z"
   },
   {
    "duration": 0,
    "start_time": "2025-01-14T20:17:57.549Z"
   },
   {
    "duration": 0,
    "start_time": "2025-01-14T20:17:57.550Z"
   },
   {
    "duration": 0,
    "start_time": "2025-01-14T20:17:57.552Z"
   },
   {
    "duration": 0,
    "start_time": "2025-01-14T20:17:57.553Z"
   },
   {
    "duration": 0,
    "start_time": "2025-01-14T20:17:57.554Z"
   },
   {
    "duration": 0,
    "start_time": "2025-01-14T20:17:57.555Z"
   },
   {
    "duration": 0,
    "start_time": "2025-01-14T20:17:57.556Z"
   },
   {
    "duration": 0,
    "start_time": "2025-01-14T20:17:57.557Z"
   },
   {
    "duration": 0,
    "start_time": "2025-01-14T20:17:57.558Z"
   },
   {
    "duration": 0,
    "start_time": "2025-01-14T20:17:57.559Z"
   },
   {
    "duration": 0,
    "start_time": "2025-01-14T20:17:57.560Z"
   },
   {
    "duration": 0,
    "start_time": "2025-01-14T20:17:57.561Z"
   },
   {
    "duration": 0,
    "start_time": "2025-01-14T20:17:57.562Z"
   },
   {
    "duration": 1809,
    "start_time": "2025-01-14T21:49:20.721Z"
   },
   {
    "duration": 3,
    "start_time": "2025-01-14T21:49:22.532Z"
   },
   {
    "duration": 171,
    "start_time": "2025-01-14T21:49:22.537Z"
   },
   {
    "duration": 11,
    "start_time": "2025-01-14T21:49:22.709Z"
   },
   {
    "duration": 9,
    "start_time": "2025-01-14T21:49:22.722Z"
   },
   {
    "duration": 19,
    "start_time": "2025-01-14T21:49:22.733Z"
   },
   {
    "duration": 12,
    "start_time": "2025-01-14T21:49:22.754Z"
   },
   {
    "duration": 7,
    "start_time": "2025-01-14T21:49:22.768Z"
   },
   {
    "duration": 13,
    "start_time": "2025-01-14T21:49:22.777Z"
   },
   {
    "duration": 417,
    "start_time": "2025-01-14T21:49:22.791Z"
   },
   {
    "duration": 12,
    "start_time": "2025-01-14T21:49:23.210Z"
   },
   {
    "duration": 985,
    "start_time": "2025-01-14T21:49:23.223Z"
   },
   {
    "duration": 498,
    "start_time": "2025-01-14T21:49:24.210Z"
   },
   {
    "duration": 4,
    "start_time": "2025-01-14T21:49:24.711Z"
   },
   {
    "duration": 75,
    "start_time": "2025-01-14T21:49:24.717Z"
   },
   {
    "duration": 131,
    "start_time": "2025-01-14T21:49:24.794Z"
   },
   {
    "duration": 0,
    "start_time": "2025-01-14T21:49:24.926Z"
   },
   {
    "duration": 0,
    "start_time": "2025-01-14T21:49:24.927Z"
   },
   {
    "duration": 0,
    "start_time": "2025-01-14T21:49:24.929Z"
   },
   {
    "duration": 0,
    "start_time": "2025-01-14T21:49:24.930Z"
   },
   {
    "duration": 0,
    "start_time": "2025-01-14T21:49:24.931Z"
   },
   {
    "duration": 0,
    "start_time": "2025-01-14T21:49:24.932Z"
   },
   {
    "duration": 0,
    "start_time": "2025-01-14T21:49:24.934Z"
   },
   {
    "duration": 0,
    "start_time": "2025-01-14T21:49:24.935Z"
   },
   {
    "duration": 0,
    "start_time": "2025-01-14T21:49:24.936Z"
   },
   {
    "duration": 0,
    "start_time": "2025-01-14T21:49:24.937Z"
   },
   {
    "duration": 0,
    "start_time": "2025-01-14T21:49:24.938Z"
   },
   {
    "duration": 0,
    "start_time": "2025-01-14T21:49:24.939Z"
   },
   {
    "duration": 0,
    "start_time": "2025-01-14T21:49:24.960Z"
   },
   {
    "duration": 60,
    "start_time": "2025-01-15T08:42:15.937Z"
   },
   {
    "duration": 2069,
    "start_time": "2025-01-15T08:42:21.339Z"
   },
   {
    "duration": 5,
    "start_time": "2025-01-15T08:42:23.412Z"
   },
   {
    "duration": 192,
    "start_time": "2025-01-15T08:42:23.419Z"
   },
   {
    "duration": 12,
    "start_time": "2025-01-15T08:42:23.613Z"
   },
   {
    "duration": 53,
    "start_time": "2025-01-15T08:42:23.628Z"
   },
   {
    "duration": 26,
    "start_time": "2025-01-15T08:42:23.683Z"
   },
   {
    "duration": 37,
    "start_time": "2025-01-15T08:42:23.711Z"
   },
   {
    "duration": 24,
    "start_time": "2025-01-15T08:42:23.751Z"
   },
   {
    "duration": 15,
    "start_time": "2025-01-15T08:42:23.777Z"
   },
   {
    "duration": 482,
    "start_time": "2025-01-15T08:42:23.794Z"
   },
   {
    "duration": 14,
    "start_time": "2025-01-15T08:42:24.278Z"
   },
   {
    "duration": 1136,
    "start_time": "2025-01-15T08:42:24.294Z"
   },
   {
    "duration": 620,
    "start_time": "2025-01-15T08:42:25.432Z"
   },
   {
    "duration": 14,
    "start_time": "2025-01-15T08:42:26.055Z"
   },
   {
    "duration": 23,
    "start_time": "2025-01-15T08:43:00.483Z"
   },
   {
    "duration": 59,
    "start_time": "2025-01-15T08:43:02.520Z"
   },
   {
    "duration": 1698,
    "start_time": "2025-01-15T08:44:42.178Z"
   },
   {
    "duration": 4,
    "start_time": "2025-01-15T08:44:43.878Z"
   },
   {
    "duration": 57,
    "start_time": "2025-01-15T08:44:43.883Z"
   },
   {
    "duration": 12,
    "start_time": "2025-01-15T08:44:43.942Z"
   },
   {
    "duration": 16,
    "start_time": "2025-01-15T08:44:43.956Z"
   },
   {
    "duration": 8,
    "start_time": "2025-01-15T08:44:43.976Z"
   },
   {
    "duration": 19,
    "start_time": "2025-01-15T08:44:43.985Z"
   },
   {
    "duration": 19,
    "start_time": "2025-01-15T08:44:44.006Z"
   },
   {
    "duration": 17,
    "start_time": "2025-01-15T08:44:44.027Z"
   },
   {
    "duration": 450,
    "start_time": "2025-01-15T08:44:44.046Z"
   },
   {
    "duration": 13,
    "start_time": "2025-01-15T08:44:44.498Z"
   },
   {
    "duration": 1026,
    "start_time": "2025-01-15T08:44:44.512Z"
   },
   {
    "duration": 561,
    "start_time": "2025-01-15T08:44:45.540Z"
   },
   {
    "duration": 5,
    "start_time": "2025-01-15T08:44:46.104Z"
   },
   {
    "duration": 31,
    "start_time": "2025-01-15T08:44:46.110Z"
   },
   {
    "duration": 74,
    "start_time": "2025-01-15T08:44:46.142Z"
   },
   {
    "duration": 6,
    "start_time": "2025-01-15T08:44:46.217Z"
   },
   {
    "duration": 11,
    "start_time": "2025-01-15T08:44:46.224Z"
   },
   {
    "duration": 26,
    "start_time": "2025-01-15T08:44:46.237Z"
   },
   {
    "duration": 3,
    "start_time": "2025-01-15T08:44:46.273Z"
   },
   {
    "duration": 12,
    "start_time": "2025-01-15T08:44:46.280Z"
   },
   {
    "duration": 51283,
    "start_time": "2025-01-15T08:44:46.294Z"
   },
   {
    "duration": 24,
    "start_time": "2025-01-15T08:45:37.579Z"
   },
   {
    "duration": 9,
    "start_time": "2025-01-15T08:45:37.605Z"
   },
   {
    "duration": 7,
    "start_time": "2025-01-15T08:45:37.616Z"
   },
   {
    "duration": 37,
    "start_time": "2025-01-15T08:45:37.624Z"
   },
   {
    "duration": 6,
    "start_time": "2025-01-15T08:45:37.672Z"
   },
   {
    "duration": 7,
    "start_time": "2025-01-15T08:45:37.680Z"
   },
   {
    "duration": 422,
    "start_time": "2025-01-15T08:45:37.689Z"
   },
   {
    "duration": 1656,
    "start_time": "2025-01-15T08:47:23.520Z"
   },
   {
    "duration": 5,
    "start_time": "2025-01-15T08:47:25.179Z"
   },
   {
    "duration": 81,
    "start_time": "2025-01-15T08:47:25.186Z"
   },
   {
    "duration": 12,
    "start_time": "2025-01-15T08:47:25.272Z"
   },
   {
    "duration": 9,
    "start_time": "2025-01-15T08:47:25.287Z"
   },
   {
    "duration": 9,
    "start_time": "2025-01-15T08:47:25.298Z"
   },
   {
    "duration": 33,
    "start_time": "2025-01-15T08:47:25.308Z"
   },
   {
    "duration": 23,
    "start_time": "2025-01-15T08:47:25.343Z"
   },
   {
    "duration": 29,
    "start_time": "2025-01-15T08:47:25.368Z"
   },
   {
    "duration": 429,
    "start_time": "2025-01-15T08:47:25.399Z"
   },
   {
    "duration": 12,
    "start_time": "2025-01-15T08:47:25.830Z"
   },
   {
    "duration": 979,
    "start_time": "2025-01-15T08:47:25.843Z"
   },
   {
    "duration": 579,
    "start_time": "2025-01-15T08:47:26.824Z"
   },
   {
    "duration": 5,
    "start_time": "2025-01-15T08:47:27.406Z"
   },
   {
    "duration": 38,
    "start_time": "2025-01-15T08:47:27.413Z"
   },
   {
    "duration": 54,
    "start_time": "2025-01-15T08:47:27.453Z"
   },
   {
    "duration": 6,
    "start_time": "2025-01-15T08:47:27.509Z"
   },
   {
    "duration": 31,
    "start_time": "2025-01-15T08:47:27.516Z"
   },
   {
    "duration": 18,
    "start_time": "2025-01-15T08:47:27.549Z"
   },
   {
    "duration": 17,
    "start_time": "2025-01-15T08:47:27.568Z"
   },
   {
    "duration": 30,
    "start_time": "2025-01-15T08:47:27.587Z"
   },
   {
    "duration": 53761,
    "start_time": "2025-01-15T08:47:27.618Z"
   },
   {
    "duration": 26,
    "start_time": "2025-01-15T08:48:21.381Z"
   },
   {
    "duration": 11,
    "start_time": "2025-01-15T08:48:21.409Z"
   },
   {
    "duration": 6,
    "start_time": "2025-01-15T08:48:21.422Z"
   },
   {
    "duration": 36,
    "start_time": "2025-01-15T08:48:21.430Z"
   },
   {
    "duration": 8,
    "start_time": "2025-01-15T08:48:21.475Z"
   },
   {
    "duration": 9,
    "start_time": "2025-01-15T08:48:21.485Z"
   },
   {
    "duration": 446,
    "start_time": "2025-01-15T08:48:21.496Z"
   }
  ],
  "kernelspec": {
   "display_name": "Python 3 (ipykernel)",
   "language": "python",
   "name": "python3"
  },
  "language_info": {
   "codemirror_mode": {
    "name": "ipython",
    "version": 3
   },
   "file_extension": ".py",
   "mimetype": "text/x-python",
   "name": "python",
   "nbconvert_exporter": "python",
   "pygments_lexer": "ipython3",
   "version": "3.9.7"
  },
  "toc": {
   "base_numbering": 1,
   "nav_menu": {},
   "number_sections": true,
   "sideBar": true,
   "skip_h1_title": true,
   "title_cell": "Содержание",
   "title_sidebar": "Contents",
   "toc_cell": true,
   "toc_position": {},
   "toc_section_display": true,
   "toc_window_display": true
  }
 },
 "nbformat": 4,
 "nbformat_minor": 2
}
